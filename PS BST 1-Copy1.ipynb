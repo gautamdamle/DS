{
 "cells": [
  {
   "cell_type": "code",
   "execution_count": 5,
   "metadata": {},
   "outputs": [],
   "source": [
    "# 1.Validate BST....T=O(n)..S=O(d)..d=depth"
   ]
  },
  {
   "cell_type": "code",
   "execution_count": 1,
   "metadata": {},
   "outputs": [
    {
     "data": {
      "text/plain": [
       "False"
      ]
     },
     "execution_count": 1,
     "metadata": {},
     "output_type": "execute_result"
    }
   ],
   "source": [
    "class Node:\n",
    "    def __init__(self,k):\n",
    "        self.val=k\n",
    "        self.left=None\n",
    "        self.right=None\n",
    "        \n",
    "    def IsValidBST(self,root):\n",
    "        return self.helper(root,float('-inf'),float('inf'))\n",
    "    \n",
    "    def helper(self,root,minv,maxv):\n",
    "#         if not root:\n",
    "#             return True\n",
    "        if root is None:\n",
    "            return True\n",
    "        if root.val <minv or root.val>=maxv:\n",
    "            return False\n",
    "        validleft = self.helper(root.left,minv,root.val)\n",
    "        validright = self.helper(root.right,root.val,maxv)\n",
    "        return validright and validleft\n",
    "\n",
    "# root= Node(10)\n",
    "# root.left = Node(5)\n",
    "# root.right= Node(30)\n",
    "\n",
    "# root.IsValidBST(root) # prints True, since this tree is valid\n",
    "\n",
    "root = Node(10)\n",
    "root.right = Node(20)\n",
    "root.left = Node(5)\n",
    "root.left.right = Node(15)\n",
    "root.IsValidBST(root) "
   ]
  },
  {
   "cell_type": "code",
   "execution_count": 11,
   "metadata": {},
   "outputs": [],
   "source": [
    "# 2. Vertical order print"
   ]
  },
  {
   "cell_type": "code",
   "execution_count": 17,
   "metadata": {},
   "outputs": [],
   "source": [
    "def vert(root,hd,m):\n",
    "    if not root:\n",
    "        return\n",
    "    try:\n",
    "        m[hd].append(root.val)\n",
    "    except:\n",
    "        m[hd]=[root.val]\n",
    "    \n",
    "    vert(root.left,hd-1,m)\n",
    "    vert(root.right,hd+1,m)\n",
    "def printOrder(root):\n",
    "    hd=0\n",
    "    m={}\n",
    "    vert(root,hd,m)\n",
    "#     print(m)\n",
    "    for k,v in (sorted(m.items())):\n",
    "#         print('k,v is',(k,v))\n",
    "        for i in v:\n",
    "#             print('v is',v)\n",
    "#             print('m[v] is',m[v])\n",
    "            print(i,end=\" \")\n",
    "        print('\\n')"
   ]
  },
  {
   "cell_type": "code",
   "execution_count": 18,
   "metadata": {},
   "outputs": [],
   "source": [
    "a=Node(1)\n",
    "a.left=Node(2)\n",
    "a.right=Node(3)\n",
    "a.left.left=Node(4)\n",
    "a.left.right=Node(5)\n",
    "a.right.left=Node(6)\n",
    "a.right.right=Node(7)"
   ]
  },
  {
   "cell_type": "code",
   "execution_count": 19,
   "metadata": {},
   "outputs": [
    {
     "name": "stdout",
     "output_type": "stream",
     "text": [
      "4 \n",
      "\n",
      "2 \n",
      "\n",
      "1 5 6 \n",
      "\n",
      "3 \n",
      "\n",
      "7 \n",
      "\n"
     ]
    }
   ],
   "source": [
    "printOrder(a)"
   ]
  },
  {
   "cell_type": "code",
   "execution_count": 1,
   "metadata": {},
   "outputs": [],
   "source": [
    "# 3. Build a balanced Tree from sorted array"
   ]
  },
  {
   "cell_type": "code",
   "execution_count": 15,
   "metadata": {},
   "outputs": [
    {
     "name": "stdout",
     "output_type": "stream",
     "text": [
      "PreOrder Traversal of constructed BST \n",
      "4 2 1 3 6 5 7 "
     ]
    }
   ],
   "source": [
    "class Node:\n",
    "    def __init__(self,k):\n",
    "        self.val=k\n",
    "        self.left=None\n",
    "        self.right=None\n",
    "\n",
    "def SortedToBBST(arr):\n",
    "    if not arr:\n",
    "        return None\n",
    "    mid=len(arr)//2\n",
    "    root=Node(arr[mid])\n",
    "    root.left=SortedToBBST(arr[:mid])\n",
    "    root.right=SortedToBBST(arr[mid+1:])\n",
    "    return root\n",
    "def preOrder(root):\n",
    "    if not root:\n",
    "        return\n",
    "    print(root.val,end=\" \")\n",
    "    preOrder(root.left)\n",
    "    preOrder(root.right)\n",
    "    \n",
    "arr = [1, 2, 3, 4, 5, 6, 7] \n",
    "root = SortedToBBST(arr) \n",
    "print(\"PreOrder Traversal of constructed BST \") \n",
    "preOrder(root) "
   ]
  },
  {
   "cell_type": "code",
   "execution_count": 25,
   "metadata": {},
   "outputs": [],
   "source": [
    "# 4. Convert a normal BST tree into Balanced BST"
   ]
  },
  {
   "cell_type": "code",
   "execution_count": 4,
   "metadata": {},
   "outputs": [
    {
     "name": "stdout",
     "output_type": "stream",
     "text": [
      "Preorder traversal of balanced BST is :\n",
      "7 5 6 8 10 "
     ]
    }
   ],
   "source": [
    "# Python3 program to convert a left \n",
    "# unbalanced BST to a balanced BST \n",
    "import sys \n",
    "import math \n",
    "\n",
    "# A binary tree node has data, pointer to left child \n",
    "# and a pointer to right child \n",
    "class Node: \n",
    "\tdef __init__(self,data): \n",
    "\t\tself.data=data \n",
    "\t\tself.left=None\n",
    "\t\tself.right=None\n",
    "\n",
    "# This function traverse the skewed binary tree and \n",
    "# stores its nodes pointers in vector nodes[] \n",
    "def storeBSTNodes(root,nodes): \n",
    "    if not root:\n",
    "        return\n",
    "    storeBSTNodes(root.left,nodes)\n",
    "    nodes.append(root)\n",
    "    storeBSTNodes(root.right,nodes)\n",
    "\n",
    "# Recursive function to construct binary tree \n",
    "def buildTreeUtil(nodes,start,end): \n",
    "    if start>end:\n",
    "        return None\n",
    "    mid=(start+end)//2\n",
    "    node=nodes[mid]\n",
    "#     print('node is ',node)\n",
    "    node.left=buildTreeUtil(nodes,start,mid-1)\n",
    "    node.right=buildTreeUtil(nodes,mid+1,end)\n",
    "    return node\n",
    "\n",
    "# This functions converts an unbalanced BST to \n",
    "# a balanced BST \n",
    "def buildTree(root): \n",
    "    nodes=[]\n",
    "    storeBSTNodes(root,nodes)\n",
    "    n=len(nodes)\n",
    "    return buildTreeUtil(nodes,0,n-1)\n",
    "\n",
    "# Function to do preorder traversal of tree \n",
    "def preOrder(root): \n",
    "    if not root:\n",
    "        return\n",
    "    print(root.data,end=\" \")\n",
    "    preOrder(root.left)\n",
    "    \n",
    "    preOrder(root.right)\n",
    "\n",
    "# Driver code \n",
    "if __name__=='__main__': \n",
    "\t# Constructed skewed binary tree is \n",
    "\t#\t\t 10 \n",
    "\t#\t\t / \n",
    "\t#\t\t 8 \n",
    "\t#\t\t / \n",
    "\t#\t 7 \n",
    "\t#\t / \n",
    "\t#\t 6 \n",
    "\t#\t / \n",
    "\t# 5 \n",
    "    root = Node(10) \n",
    "    root.left = Node(8) \n",
    "    root.left.left = Node(7) \n",
    "    root.left.left.left = Node(6) \n",
    "    root.left.left.left.left = Node(5) \n",
    "    root = buildTree(root) \n",
    "    print(\"Preorder traversal of balanced BST is :\") \n",
    "    preOrder(root) "
   ]
  },
  {
   "cell_type": "code",
   "execution_count": 26,
   "metadata": {},
   "outputs": [],
   "source": [
    "# 5. BT to BST"
   ]
  },
  {
   "cell_type": "code",
   "execution_count": 2,
   "metadata": {},
   "outputs": [
    {
     "name": "stdout",
     "output_type": "stream",
     "text": [
      "Following is the inorder traversal of the converted BST\n",
      "5 10 15 20 30 "
     ]
    }
   ],
   "source": [
    "class Node: \n",
    "\tdef __init__(self,data): \n",
    "\t\tself.data=data \n",
    "\t\tself.left=None\n",
    "\t\tself.right=None\n",
    "\n",
    "def inorderarr(root,ino):\n",
    "    if not root:\n",
    "        return\n",
    "    inorderarr(root.left,ino)\n",
    "    ino.append(root.data)\n",
    "    inorderarr(root.right,ino)\n",
    "#     print('INO is',ino)\n",
    "\n",
    "def buildT(arr):\n",
    "    if not arr:\n",
    "        return None\n",
    "    mid=len(arr)//2\n",
    "    node=Node(arr[mid])\n",
    "    node.left=buildT(arr[:mid])\n",
    "    node.right=buildT(arr[mid+1:])\n",
    "#     print('Node is ',node.data)\n",
    "    return node\n",
    "def BtToBst(root):\n",
    "    if not root:\n",
    "        return \n",
    "    arr=[]\n",
    "    inorderarr(root,arr)\n",
    "    arr.sort()\n",
    "#     print('arr is ',arr)\n",
    "#     n=len(arr)\n",
    "    return buildT(arr)\n",
    "def inorder(root):\n",
    "    if not root:\n",
    "        return\n",
    "    inorder(root.left)\n",
    "    print(root.data,end=\" \")\n",
    "    inorder(root.right)\n",
    "\n",
    "root = Node(10) \n",
    "root.left = Node(30) \n",
    "root.right = Node(15) \n",
    "root.left.left = Node(20) \n",
    "root.right.right = Node(5) \n",
    "  \n",
    "# Convert binary tree to BST  \n",
    "n=BtToBst(root) \n",
    "  \n",
    "print(\"Following is the inorder traversal of the converted BST\")\n",
    "inorder(n) "
   ]
  },
  {
   "cell_type": "code",
   "execution_count": 1,
   "metadata": {},
   "outputs": [],
   "source": [
    "# 6 . Branch sums in a BT ******Time = O(n),Space = O(n/2)~=O(n)********"
   ]
  },
  {
   "cell_type": "code",
   "execution_count": 2,
   "metadata": {},
   "outputs": [
    {
     "data": {
      "text/plain": [
       "[15, 16, 18, 10, 11]"
      ]
     },
     "execution_count": 2,
     "metadata": {},
     "output_type": "execute_result"
    }
   ],
   "source": [
    "class Node: \n",
    "    def __init__(self,val): \n",
    "        self.val=val \n",
    "        self.left=None\n",
    "        self.right=None\n",
    "        \n",
    "def branchsums(root):\n",
    "    sums=[]\n",
    "    calculatesum(root,0,sums)\n",
    "    return sums\n",
    "\n",
    "def calculatesum(node,runsum,sums):\n",
    "    if node is None:\n",
    "        return\n",
    "    newrunsum = runsum+node.val\n",
    "    if node.left is None and node.right is None:\n",
    "        sums.append(newrunsum)\n",
    "        return\n",
    "    calculatesum(node.left,newrunsum,sums)\n",
    "    calculatesum(node.right,newrunsum,sums)\n",
    "    \n",
    "root = Node(1) \n",
    "root.left = Node(2) \n",
    "root.right = Node(3) \n",
    "root.left.left = Node(4) \n",
    "root.right.right = Node(7)\n",
    "root.left.right=Node(5)\n",
    "root.right.left=Node(6)\n",
    "root.left.left.left=Node(8)\n",
    "root.left.left.right=Node(9)\n",
    "root.left.right.left=Node(10)\n",
    "branchsums(root)"
   ]
  },
  {
   "cell_type": "code",
   "execution_count": 2,
   "metadata": {},
   "outputs": [],
   "source": [
    "# 7.DFS ********Time=O(v+e) and Space=O(v)"
   ]
  },
  {
   "cell_type": "code",
   "execution_count": 10,
   "metadata": {},
   "outputs": [
    {
     "data": {
      "text/plain": [
       "['A', 'B', 'C']"
      ]
     },
     "execution_count": 10,
     "metadata": {},
     "output_type": "execute_result"
    }
   ],
   "source": [
    "class Node:\n",
    "    def __init__(self,name):\n",
    "        self.name=name\n",
    "        self.children=[]\n",
    "    \n",
    "    def addChild(self,name):\n",
    "        self.children.append(Node(name))\n",
    "    \n",
    "    def DFS(self,array):\n",
    "        array.append(self.name)\n",
    "        for c in self.children:\n",
    "            c.DFS(array)\n",
    "        return array\n",
    "a=Node('A')\n",
    "a.addChild('B')\n",
    "a.addChild('C')\n",
    "a.DFS([])"
   ]
  },
  {
   "cell_type": "code",
   "execution_count": 1,
   "metadata": {},
   "outputs": [],
   "source": [
    "# 8 . Closest Value in BST "
   ]
  },
  {
   "cell_type": "code",
   "execution_count": 2,
   "metadata": {},
   "outputs": [],
   "source": [
    "#recursive Time=AVG=O(log(n))..Worst=O(n)....Space=O(logn)..O(n)"
   ]
  },
  {
   "cell_type": "code",
   "execution_count": 21,
   "metadata": {},
   "outputs": [
    {
     "data": {
      "text/plain": [
       "10"
      ]
     },
     "execution_count": 21,
     "metadata": {},
     "output_type": "execute_result"
    }
   ],
   "source": [
    "class Node: \n",
    "    def __init__(self,val): \n",
    "        self.val=val \n",
    "        self.left=None\n",
    "        self.right=None\n",
    "        \n",
    "def cvBST(tree,target):\n",
    "    return cvhelper(tree,target,float('inf'))\n",
    "def cvhelper(tree,target,closest):\n",
    "    if tree is None:\n",
    "        return closest\n",
    "    if abs(target-closest)>abs(tree.val-target):\n",
    "        closest=tree.val\n",
    "    if target<tree.val:\n",
    "        return cvhelper(tree.left,target,closest)\n",
    "    elif target>tree.val:\n",
    "        return cvhelper(tree.right,target,closest)\n",
    "    else:\n",
    "        return closest\n",
    "root = Node(10) \n",
    "root.left = Node(5) \n",
    "root.right = Node(15) \n",
    "root.left.left = Node(2) \n",
    "root.right.right = Node(22)\n",
    "root.left.right=Node(5)\n",
    "root.right.left=Node(13)\n",
    "root.left.left.left=Node(1)\n",
    "# root.left.left.right=Node(9)\n",
    "root.right.left.right=Node(14)\n",
    "cvBST(root,11)"
   ]
  },
  {
   "cell_type": "code",
   "execution_count": 4,
   "metadata": {},
   "outputs": [],
   "source": [
    "#Iterative Time=Avg=O(logn)..W=O(n)..Space=O(1)..O(1)"
   ]
  },
  {
   "cell_type": "code",
   "execution_count": 10,
   "metadata": {},
   "outputs": [
    {
     "data": {
      "text/plain": [
       "1"
      ]
     },
     "execution_count": 10,
     "metadata": {},
     "output_type": "execute_result"
    }
   ],
   "source": [
    "def cviBST(tree,target):\n",
    "    return cvhelper(tree,target,float('inf'))\n",
    "def cvhelper(tree,target,closest):\n",
    "    node=tree\n",
    "    while node is not None:\n",
    "        if abs(target-closest)>abs(node.val-target):\n",
    "            closest=node.val\n",
    "        if target<node.val:\n",
    "            node=node.left\n",
    "        elif target>node.val:\n",
    "            node=node.right\n",
    "        else:\n",
    "            break\n",
    "    return closest\n",
    "root = Node(10) \n",
    "root.left = Node(5) \n",
    "root.right = Node(15) \n",
    "root.left.left = Node(2) \n",
    "root.right.right = Node(22)\n",
    "root.left.right=Node(5)\n",
    "root.right.left=Node(13)\n",
    "root.left.left.left=Node(1)\n",
    "# root.left.left.right=Node(9)\n",
    "root.left.right.right=Node(14)\n",
    "cviBST(root,-1)"
   ]
  },
  {
   "cell_type": "code",
   "execution_count": 1,
   "metadata": {},
   "outputs": [],
   "source": [
    "# 9. Invert BT.\n",
    "#Iterative..T=O(n)..S=O(n)\n",
    "#Recursive..T=O(n)..S=O(d)..d = depth"
   ]
  },
  {
   "cell_type": "code",
   "execution_count": 1,
   "metadata": {},
   "outputs": [],
   "source": [
    "def ibt(tree):\n",
    "    q=[tree]  #q=queue\n",
    "    while len(q):\n",
    "        c=q.pop(0)\n",
    "        if c is None:\n",
    "            continue\n",
    "        swap(c)\n",
    "        q.append(c.left)\n",
    "        q.append(c.right)\n",
    "def swap(t):\n",
    "    t.left,t.right=t.right,t.left"
   ]
  },
  {
   "cell_type": "code",
   "execution_count": 3,
   "metadata": {},
   "outputs": [],
   "source": [
    "def ribt(tree):\n",
    "    if tree is None:\n",
    "        return\n",
    "    swap(tree)\n",
    "    ribt(tree.left)\n",
    "    ribt(tree.right)\n",
    "def swap(tree):\n",
    "    tree.left,tree.right=tree.right,tree.left"
   ]
  },
  {
   "cell_type": "code",
   "execution_count": 2,
   "metadata": {},
   "outputs": [],
   "source": [
    "class Node: \n",
    "    def __init__(self,val): \n",
    "        self.val=val \n",
    "        self.left=None\n",
    "        self.right=None\n",
    "root = Node(10) \n",
    "root.left = Node(5) \n",
    "root.right = Node(15) \n",
    "root.left.left = Node(2) \n",
    "root.right.right = Node(22)\n",
    "root.left.right=Node(5)\n",
    "root.right.left=Node(13)\n",
    "root.left.left.left=Node(1)\n",
    "root.left.left.right=Node(9)\n",
    "root.left.right.right=Node(14)\n",
    "# ribt(root)\n",
    "ibt(root)"
   ]
  },
  {
   "cell_type": "code",
   "execution_count": 6,
   "metadata": {},
   "outputs": [
    {
     "data": {
      "text/plain": [
       "22"
      ]
     },
     "execution_count": 6,
     "metadata": {},
     "output_type": "execute_result"
    }
   ],
   "source": [
    "root.left.left.val"
   ]
  },
  {
   "cell_type": "code",
   "execution_count": 1,
   "metadata": {},
   "outputs": [],
   "source": [
    "# 10. Same BSTs"
   ]
  },
  {
   "cell_type": "code",
   "execution_count": 7,
   "metadata": {},
   "outputs": [],
   "source": [
    "#1st ap...T=O(n^2)..s=O(n^2)..Recursion"
   ]
  },
  {
   "cell_type": "code",
   "execution_count": 6,
   "metadata": {},
   "outputs": [
    {
     "data": {
      "text/plain": [
       "True"
      ]
     },
     "execution_count": 6,
     "metadata": {},
     "output_type": "execute_result"
    }
   ],
   "source": [
    "def sameBst(arrayone,arraytwo):\n",
    "    if len(arrayone)!=len(arraytwo):\n",
    "        return False\n",
    "    if len(arrayone)==0 and len(arraytwo)==0:\n",
    "        return True\n",
    "    if arrayone[0]!=arraytwo[0]:\n",
    "        return False\n",
    "    left1=getsmaller(arrayone)\n",
    "    left2=getsmaller(arraytwo)\n",
    "    right1=getBigOrEqual(arrayone)\n",
    "    right2=getBigOrEqual(arraytwo)\n",
    "    return sameBst(left1,left2) and sameBst(right1,right2)\n",
    "\n",
    "def getsmaller(a):\n",
    "    s=[]\n",
    "    for i in range(1,len(a)):\n",
    "        if a[i]<a[0]:\n",
    "            s.append(a[i])\n",
    "    return s\n",
    "\n",
    "def getBigOrEqual(a):\n",
    "    b=[]\n",
    "    for i in range(1,len(a)):\n",
    "        if a[i]>=a[0]:\n",
    "            b.append(a[i])\n",
    "    return b\n",
    "a=[10,15,8,12,94,81,5,2,11]\n",
    "b=[10,8,5,15,2,12,11,94,81]\n",
    "sameBst(a,b)"
   ]
  },
  {
   "cell_type": "code",
   "execution_count": 9,
   "metadata": {},
   "outputs": [],
   "source": [
    "#2. soln..S=O(d)..d=depth"
   ]
  },
  {
   "cell_type": "code",
   "execution_count": null,
   "metadata": {},
   "outputs": [],
   "source": []
  },
  {
   "cell_type": "code",
   "execution_count": 14,
   "metadata": {},
   "outputs": [],
   "source": [
    "#11. Level Order Print...Both=O(n)"
   ]
  },
  {
   "cell_type": "code",
   "execution_count": 24,
   "metadata": {},
   "outputs": [],
   "source": [
    "class Node: \n",
    "    def __init__(self,val): \n",
    "        self.val=val \n",
    "        self.left=None\n",
    "        self.right=None\n",
    "\n",
    "def lop(root):\n",
    "    if root is None:\n",
    "        return 0\n",
    "    q=[]\n",
    "    q.append(root)\n",
    "    while len(q)>0:\n",
    "        n=q.pop(0)\n",
    "        print(n.val,end=\" \")\n",
    "        \n",
    "        if n.left:\n",
    "            q.append(n.left)\n",
    "        if n.right:\n",
    "            q.append(n.right)"
   ]
  },
  {
   "cell_type": "code",
   "execution_count": 25,
   "metadata": {},
   "outputs": [
    {
     "name": "stdout",
     "output_type": "stream",
     "text": [
      "10 5 15 2 5 13 22 1 9 14 "
     ]
    }
   ],
   "source": [
    "root = Node(10) \n",
    "root.left = Node(5) \n",
    "root.right = Node(15) \n",
    "root.left.left = Node(2) \n",
    "root.right.right = Node(22)\n",
    "root.left.right=Node(5)\n",
    "root.right.left=Node(13)\n",
    "root.left.left.left=Node(1)\n",
    "root.left.left.right=Node(9)\n",
    "root.left.right.right=Node(14)\n",
    "lop(root)"
   ]
  },
  {
   "cell_type": "code",
   "execution_count": 16,
   "metadata": {},
   "outputs": [],
   "source": [
    "# 12. Height of a BT......"
   ]
  },
  {
   "cell_type": "code",
   "execution_count": 26,
   "metadata": {},
   "outputs": [],
   "source": [
    "def heightOfBt(root):\n",
    "    q=[]\n",
    "    q.append(root)\n",
    "    h=0\n",
    "    while q:\n",
    "        l=len(q)\n",
    "        while l>0:\n",
    "            n=q.pop(0)\n",
    "            if n.left:\n",
    "                q.append(n.left)\n",
    "            if n.right:\n",
    "                q.append(n.right)\n",
    "            l=l-1\n",
    "        h=h+1\n",
    "    return h"
   ]
  },
  {
   "cell_type": "code",
   "execution_count": 14,
   "metadata": {},
   "outputs": [],
   "source": [
    "def h(root):\n",
    "    if root is None:\n",
    "        return 0\n",
    "#     l=h(root.left)\n",
    "#     r=h(root.right)\n",
    "#     return 1+max(l,r)\n",
    "    return 1+max(h(root.left),h(root.right))"
   ]
  },
  {
   "cell_type": "code",
   "execution_count": 15,
   "metadata": {},
   "outputs": [
    {
     "data": {
      "text/plain": [
       "4"
      ]
     },
     "execution_count": 15,
     "metadata": {},
     "output_type": "execute_result"
    }
   ],
   "source": [
    "class Node: \n",
    "    def __init__(self,val): \n",
    "        self.val=val \n",
    "        self.left=None\n",
    "        self.right=None\n",
    "\n",
    "root = Node(10) \n",
    "root.left = Node(5) \n",
    "root.right = Node(15) \n",
    "root.left.left = Node(10) \n",
    "root.right.right = Node(22)\n",
    "root.left.right=Node(5)\n",
    "root.right.left=Node(13)\n",
    "root.left.left.left=Node(1)\n",
    "root.left.left.right=Node(9)\n",
    "root.left.right.right=Node(14)\n",
    "# heightOfBt(root)\n",
    "h(root)"
   ]
  },
  {
   "cell_type": "code",
   "execution_count": 10,
   "metadata": {},
   "outputs": [],
   "source": [
    "# 13. maximum path sum from any node to to any node"
   ]
  },
  {
   "cell_type": "code",
   "execution_count": 11,
   "metadata": {},
   "outputs": [
    {
     "data": {
      "text/plain": [
       "71"
      ]
     },
     "execution_count": 11,
     "metadata": {},
     "output_type": "execute_result"
    }
   ],
   "source": [
    "def solve(root):\n",
    "    if root is None:\n",
    "        return 0\n",
    "    l=solve(root.left)\n",
    "    r=solve(root.right)\n",
    "    temp=max(max(l,r)+root.val,root.val)\n",
    "    ans=max(temp,l+r+root.val)\n",
    "    solve.res=max(solve.res,ans)\n",
    "    return temp\n",
    "def mps(root):\n",
    "    # Static Variable dec\n",
    "    solve.res=float('-inf')\n",
    "    solve(root)\n",
    "    return solve.res\n",
    "\n",
    "mps(root)"
   ]
  },
  {
   "cell_type": "code",
   "execution_count": 45,
   "metadata": {},
   "outputs": [
    {
     "name": "stdout",
     "output_type": "stream",
     "text": [
      "1 5 15 10 5 13 22 1 9 14 "
     ]
    }
   ],
   "source": [
    "def lop(root):\n",
    "    if root is None:\n",
    "        return\n",
    "    q=[]\n",
    "    q.append(root)\n",
    "    while q:\n",
    "        e=q.pop(0)\n",
    "        print(e.val,end=\" \")\n",
    "        if e.left is not None:\n",
    "            q.append(e.left)\n",
    "        if e.right is not None:\n",
    "            q.append(e.right)\n",
    "            \n",
    "lop(root)"
   ]
  },
  {
   "cell_type": "code",
   "execution_count": 1,
   "metadata": {},
   "outputs": [],
   "source": [
    "def ins(root,node):\n",
    "    if node is None:\n",
    "        return \n",
    "    if root is None:\n",
    "        root=node\n",
    "        return\n",
    "    q=[]\n",
    "    q.append(root)\n",
    "    while q:\n",
    "        e=q.pop(0)\n",
    "        if e.left is None:\n",
    "            e.left=node\n",
    "            break\n",
    "        else:\n",
    "            q.append(e.left)\n",
    "        if e.right is None:\n",
    "            e.right=node\n",
    "            break\n",
    "        else:\n",
    "            q.append(e.right)"
   ]
  },
  {
   "cell_type": "code",
   "execution_count": 6,
   "metadata": {},
   "outputs": [
    {
     "data": {
      "text/plain": [
       "6"
      ]
     },
     "execution_count": 6,
     "metadata": {},
     "output_type": "execute_result"
    }
   ],
   "source": [
    "class Node: \n",
    "    def __init__(self,val): \n",
    "        self.val=val \n",
    "        self.left=None\n",
    "        self.right=None\n",
    "\n",
    "root = Node(1) \n",
    "root.left = Node(5) \n",
    "root.right = Node(15) \n",
    "node=Node(3)\n",
    "node2=Node(6)\n",
    "ins(root,node)\n",
    "ins(root,node2)\n",
    "root.left.left.val\n",
    "root.left.right.val"
   ]
  },
  {
   "cell_type": "code",
   "execution_count": 7,
   "metadata": {},
   "outputs": [],
   "source": [
    "# size of BT"
   ]
  },
  {
   "cell_type": "code",
   "execution_count": 24,
   "metadata": {},
   "outputs": [],
   "source": [
    "def size(root):\n",
    "    if root is None:\n",
    "        return 0\n",
    "    return 1+size(root.left)+size(root.right)"
   ]
  },
  {
   "cell_type": "code",
   "execution_count": 25,
   "metadata": {},
   "outputs": [
    {
     "data": {
      "text/plain": [
       "10"
      ]
     },
     "execution_count": 25,
     "metadata": {},
     "output_type": "execute_result"
    }
   ],
   "source": [
    "root = Node(1) \n",
    "root.left = Node(5) \n",
    "root.right = Node(15) \n",
    "root.left.left = Node(10) \n",
    "root.right.right = Node(22)\n",
    "root.left.right=Node(5)\n",
    "root.right.left=Node(13)\n",
    "root.left.left.left=Node(1)\n",
    "root.left.left.right=Node(9)\n",
    "root.left.right.right=Node(14)\n",
    "size(root)\n",
    "# h(root)"
   ]
  },
  {
   "cell_type": "code",
   "execution_count": 26,
   "metadata": {},
   "outputs": [
    {
     "data": {
      "text/plain": [
       "3"
      ]
     },
     "execution_count": 26,
     "metadata": {},
     "output_type": "execute_result"
    }
   ],
   "source": [
    "root = Node(1) \n",
    "root.left = Node(5) \n",
    "root.right = Node(15) \n",
    "size(root)"
   ]
  },
  {
   "cell_type": "code",
   "execution_count": 11,
   "metadata": {},
   "outputs": [],
   "source": [
    "# reverse order Level Order Print"
   ]
  },
  {
   "cell_type": "code",
   "execution_count": 15,
   "metadata": {},
   "outputs": [
    {
     "name": "stdout",
     "output_type": "stream",
     "text": [
      "[14, 9, 1, 22, 13, 5, 10, 15, 5, 1]\n"
     ]
    }
   ],
   "source": [
    "def rev(root):\n",
    "    if root is None:\n",
    "        return\n",
    "    q=[]\n",
    "    s=[]\n",
    "    q.append(root)\n",
    "    while q:\n",
    "        e=q.pop(0)\n",
    "        if e.left is not None:\n",
    "            q.append(e.left)\n",
    "        if e.right is not None:\n",
    "            q.append(e.right)\n",
    "        s.append(e.val)\n",
    "    print(s[::-1])\n",
    "root = Node(1) \n",
    "root.left = Node(5) \n",
    "root.right = Node(15) \n",
    "root.left.left = Node(10) \n",
    "root.right.right = Node(22)\n",
    "root.left.right=Node(5)\n",
    "root.right.left=Node(13)\n",
    "root.left.left.left=Node(1)\n",
    "root.left.left.right=Node(9)\n",
    "root.left.right.right=Node(14)\n",
    "rev(root)"
   ]
  },
  {
   "cell_type": "code",
   "execution_count": 16,
   "metadata": {},
   "outputs": [],
   "source": [
    "# delete BT"
   ]
  },
  {
   "cell_type": "code",
   "execution_count": 22,
   "metadata": {},
   "outputs": [],
   "source": [
    "def delBT(root):\n",
    "    if root is None:\n",
    "        return\n",
    "    delBT(root.left)\n",
    "    delBT(root.right)\n",
    "    root.val=None\n",
    "root = Node(1) \n",
    "root.left = Node(5) \n",
    "root.right = Node(15) \n",
    "root.left.left = Node(10) \n",
    "root.right.right = Node(22)\n",
    "root.left.right=Node(5)\n",
    "root.right.left=Node(13)\n",
    "root.left.left.left=Node(1)\n",
    "root.left.left.right=Node(9)\n",
    "root.left.right.right=Node(14)\n",
    "delBT(root)\n",
    "root.left.val"
   ]
  },
  {
   "cell_type": "code",
   "execution_count": 25,
   "metadata": {},
   "outputs": [
    {
     "data": {
      "text/plain": [
       "4"
      ]
     },
     "execution_count": 25,
     "metadata": {},
     "output_type": "execute_result"
    }
   ],
   "source": [
    "def h1(root):\n",
    "    if root is None:\n",
    "        return 0\n",
    "    l=h1(root.left)\n",
    "    r=h1(root.right)\n",
    "    return 1+max(l,r)\n",
    "root = Node(1) \n",
    "root.left = Node(5) \n",
    "root.right = Node(15) \n",
    "root.left.left = Node(10) \n",
    "root.right.right = Node(22)\n",
    "root.left.right=Node(5)\n",
    "root.right.left=Node(13)\n",
    "root.left.left.left=Node(1)\n",
    "root.left.left.right=Node(9)\n",
    "root.left.right.right=Node(14)\n",
    "h1(root)"
   ]
  },
  {
   "cell_type": "code",
   "execution_count": 22,
   "metadata": {},
   "outputs": [
    {
     "name": "stdout",
     "output_type": "stream",
     "text": [
      "10 15 5 2 5 13 22 14 9 1 "
     ]
    }
   ],
   "source": [
    "def spiralOrderTrav(root):\n",
    "    if root is None:\n",
    "        return\n",
    "    s1=[]\n",
    "    s2=[]\n",
    "    s1.append(root)\n",
    "    while len(s1)>0 or len(s2)>0:\n",
    "        while s1:\n",
    "            node=s1.pop()\n",
    "            print(node.val,end=\" \")\n",
    "            if node.left:\n",
    "                s2.append(node.left)\n",
    "            if node.right:\n",
    "                s2.append(node.right)\n",
    "#         print('\\n')\n",
    "        while s2:\n",
    "            node=s2.pop()\n",
    "            print(node.val,end=\" \")\n",
    "            if node.right:\n",
    "                s1.append(node.right)\n",
    "            if node.left:\n",
    "                s1.append(node.left)\n",
    "#         print('\\n')\n",
    "        \n",
    "spiralOrderTrav(root)"
   ]
  },
  {
   "cell_type": "code",
   "execution_count": null,
   "metadata": {},
   "outputs": [],
   "source": []
  }
 ],
 "metadata": {
  "kernelspec": {
   "display_name": "Python 3",
   "language": "python",
   "name": "python3"
  },
  "language_info": {
   "codemirror_mode": {
    "name": "ipython",
    "version": 3
   },
   "file_extension": ".py",
   "mimetype": "text/x-python",
   "name": "python",
   "nbconvert_exporter": "python",
   "pygments_lexer": "ipython3",
   "version": "3.7.6"
  }
 },
 "nbformat": 4,
 "nbformat_minor": 4
}
