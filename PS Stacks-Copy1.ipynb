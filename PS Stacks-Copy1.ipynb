{
 "cells": [
  {
   "cell_type": "code",
   "execution_count": 1,
   "metadata": {},
   "outputs": [],
   "source": [
    "# 1 . Balanced Parenthesis Check"
   ]
  },
  {
   "cell_type": "code",
   "execution_count": 9,
   "metadata": {},
   "outputs": [
    {
     "data": {
      "text/plain": [
       "False"
      ]
     },
     "execution_count": 9,
     "metadata": {},
     "output_type": "execute_result"
    }
   ],
   "source": [
    "def bpc(st):\n",
    "    if len(st)%2!=0:\n",
    "        return False\n",
    "    openp=set('({[')\n",
    "    match=set([('(',')'),('{','}'),('[',']')])\n",
    "    s=[]\n",
    "    for p in st:\n",
    "        if p in openp:\n",
    "            s.append(p)\n",
    "        else:\n",
    "            if len(s)==0:\n",
    "                return False\n",
    "            else:\n",
    "                l=s.pop()\n",
    "                if (l,p) not in match:\n",
    "                    return False\n",
    "    return len(s)==0\n",
    "bpc(']{}')"
   ]
  },
  {
   "cell_type": "code",
   "execution_count": 10,
   "metadata": {},
   "outputs": [],
   "source": [
    "# 2. Queue using 2 stacks"
   ]
  },
  {
   "cell_type": "code",
   "execution_count": 15,
   "metadata": {},
   "outputs": [
    {
     "data": {
      "text/plain": [
       "3"
      ]
     },
     "execution_count": 15,
     "metadata": {},
     "output_type": "execute_result"
    }
   ],
   "source": [
    "class Queue:\n",
    "    def __init__(self):\n",
    "        self.instack=[]\n",
    "        self.outstack=[]\n",
    "    def enqueue(self,e):\n",
    "        self.instack.append(e)\n",
    "    def dequeue(self):\n",
    "        if not self.outstack:\n",
    "            while self.instack:\n",
    "                self.outstack.append(self.instack.pop())\n",
    "        return self.outstack.pop()\n",
    "\n",
    "q=Queue()\n",
    "q.enqueue(1)\n",
    "q.enqueue(2)\n",
    "q.enqueue(3)\n",
    "q.dequeue()\n",
    "q.dequeue()\n",
    "q.dequeue()"
   ]
  },
  {
   "cell_type": "code",
   "execution_count": 17,
   "metadata": {},
   "outputs": [],
   "source": [
    "# 3. Next greatest element"
   ]
  },
  {
   "cell_type": "code",
   "execution_count": 7,
   "metadata": {},
   "outputs": [
    {
     "name": "stdout",
     "output_type": "stream",
     "text": [
      "23 55 55 66 -1 "
     ]
    }
   ],
   "source": [
    "def nge(a):\n",
    "    s=[]\n",
    "    s.append(a[0])\n",
    "    for i in range(1,len(a)):\n",
    "        n=a[i]\n",
    "        if len(s)!=0:\n",
    "            e=s.pop()\n",
    "            while e<n:\n",
    "                print(str(n),end=\" \")\n",
    "                if len(s)==0:\n",
    "                    break\n",
    "                e=s.pop()\n",
    "            if e>n:\n",
    "                s.append(e)\n",
    "        s.append(n)\n",
    "    for k in s:\n",
    "        print(-1,end=\" \")\n",
    "nge([22,23,22,55,66])"
   ]
  },
  {
   "cell_type": "code",
   "execution_count": 1,
   "metadata": {},
   "outputs": [],
   "source": [
    "# 4. print previous smallest element"
   ]
  },
  {
   "cell_type": "code",
   "execution_count": 4,
   "metadata": {},
   "outputs": [
    {
     "name": "stdout",
     "output_type": "stream",
     "text": [
      "-1 4 -1 2 2 "
     ]
    }
   ],
   "source": [
    "def ppse(a):\n",
    "    s=[]\n",
    "    i=0\n",
    "    for i in range(len(a)):\n",
    "        while len(s)>0 and s[-1]>a[i]:\n",
    "            s.pop()\n",
    "        if len(s)==0:\n",
    "            print(-1,end=\" \")\n",
    "        else:\n",
    "            print(s[-1],end=\" \")\n",
    "        s.append(a[i])\n",
    "ppse([4,5,2,10,8])"
   ]
  },
  {
   "cell_type": "code",
   "execution_count": 1,
   "metadata": {},
   "outputs": [],
   "source": [
    "# 5. MIN MAX Stack Construction...T=O(1)..S=O(N)"
   ]
  },
  {
   "cell_type": "code",
   "execution_count": 25,
   "metadata": {},
   "outputs": [
    {
     "data": {
      "text/plain": [
       "5"
      ]
     },
     "execution_count": 25,
     "metadata": {},
     "output_type": "execute_result"
    }
   ],
   "source": [
    "class minMaxStack:\n",
    "    \"\"\"\n",
    "    mMS=minMaxStack\n",
    "    lmM=lastMinMax value\n",
    "    \"\"\"\n",
    "    def __init__(self):\n",
    "        self.stack=[]\n",
    "        self.mMS=[]\n",
    "    \n",
    "    def peek(self):\n",
    "        return self.stack[-1]\n",
    "    \n",
    "    def pop(self):\n",
    "        self.mMS.pop()\n",
    "        return self.stack.pop()\n",
    "    \n",
    "    def push(self,num):\n",
    "        new_min={'min':num,'max':num}\n",
    "#         print('new_min is ',new_min)\n",
    "        if len(self.mMS):\n",
    "            lmM=self.mMS[-1]\n",
    "            new_min['min']=min(num,lmM['min'])\n",
    "            new_min['max']=max(num,lmM['max'])\n",
    "#         print('alter min is {} max is {}'.format(new_min['min'],new_min['max']))\n",
    "        self.mMS.append(new_min)\n",
    "        self.stack.append(num)\n",
    "    \n",
    "    def getMin(self):\n",
    "        return self.mMS[-1]['min']\n",
    "    \n",
    "    def getMax(self):\n",
    "        return self.mMS[-1]['max']\n",
    "\n",
    "s=minMaxStack()\n",
    "s.push(5)\n",
    "# s.getMax()\n",
    "# s.getMin()\n",
    "s.push(7)\n",
    "s.getMax()\n",
    "# s.getMin()\n",
    "s.push(2)\n",
    "s.peek()\n",
    "s.getMax()\n",
    "s.getMin()\n",
    "s.pop()\n",
    "s.getMin()"
   ]
  },
  {
   "cell_type": "code",
   "execution_count": 1,
   "metadata": {},
   "outputs": [],
   "source": [
    "# 6. greater to right or next largest ele "
   ]
  },
  {
   "cell_type": "code",
   "execution_count": 2,
   "metadata": {},
   "outputs": [
    {
     "data": {
      "text/plain": [
       "[2, 3, 4, -1]"
      ]
     },
     "execution_count": 2,
     "metadata": {},
     "output_type": "execute_result"
    }
   ],
   "source": [
    "def nle(a):\n",
    "    s=[]\n",
    "    out=[]\n",
    "    for i in reversed(range(len(a))):\n",
    "        if len(s)==0:\n",
    "            out.append(-1)\n",
    "        elif len(s)>0 and s[-1]>a[i]:\n",
    "            out.append(s[-1])\n",
    "        elif len(s)>0 and s[-1]<=a[i]:\n",
    "            while len(s)>0 and s[-1]<=a[i]:\n",
    "                s.pop()\n",
    "            if len(s)==0:\n",
    "                out.append(-1)\n",
    "            else:\n",
    "                out.appned(s[-1])\n",
    "        s.append(a[i])\n",
    "    return out[::-1]\n",
    "            \n",
    "a=[1,2,3,4]\n",
    "nle(a)"
   ]
  },
  {
   "cell_type": "code",
   "execution_count": 3,
   "metadata": {},
   "outputs": [],
   "source": [
    "# Nearest greater to left"
   ]
  },
  {
   "cell_type": "code",
   "execution_count": 5,
   "metadata": {},
   "outputs": [
    {
     "data": {
      "text/plain": [
       "[-1, 4, -1, 7]"
      ]
     },
     "execution_count": 5,
     "metadata": {},
     "output_type": "execute_result"
    }
   ],
   "source": [
    "def ngl(a):\n",
    "    o=[]\n",
    "    s=[]\n",
    "    for i in range(len(a)):\n",
    "        if len(s)==0:\n",
    "            o.append(-1)\n",
    "        elif len(s)>0 and s[-1]>a[i]:\n",
    "            o.append(s[-1])\n",
    "        elif len(s)>0 and s[-1]<=a[i]:\n",
    "            while len(s)>0 and s[-1]<=a[i]:\n",
    "                s.pop()\n",
    "            if len(s)==0:\n",
    "                o.append(-1)\n",
    "            else:\n",
    "                o.append(s[-1])\n",
    "        s.append(a[i])\n",
    "    return o\n",
    "a=[4,3,7,5]\n",
    "ngl(a)"
   ]
  },
  {
   "cell_type": "code",
   "execution_count": 6,
   "metadata": {},
   "outputs": [],
   "source": [
    "# Nearest smaller to left"
   ]
  },
  {
   "cell_type": "code",
   "execution_count": 9,
   "metadata": {},
   "outputs": [
    {
     "data": {
      "text/plain": [
       "[-1, 4, -1, 2, 2]"
      ]
     },
     "execution_count": 9,
     "metadata": {},
     "output_type": "execute_result"
    }
   ],
   "source": [
    "def nsl(a):\n",
    "    o=[]\n",
    "    s=[]\n",
    "    for i in range(len(a)):\n",
    "        if len(s)==0:\n",
    "            o.append(-1)\n",
    "        elif len(s)>0 and s[-1]<a[i]:\n",
    "            o.append(s[-1])\n",
    "        elif len(s)>0 and s[-1]>=a[i]:\n",
    "            while len(s)>0 and s[-1]>=a[i]:\n",
    "                s.pop()\n",
    "            if len(s)==0:\n",
    "                o.append(-1)\n",
    "            else:\n",
    "                o.append(s[-1])\n",
    "        s.append(a[i])\n",
    "    return o\n",
    "a=[4,5,2,10,8]\n",
    "nsl(a)"
   ]
  },
  {
   "cell_type": "code",
   "execution_count": 10,
   "metadata": {},
   "outputs": [],
   "source": [
    "# Nearest smaller to right"
   ]
  },
  {
   "cell_type": "code",
   "execution_count": 12,
   "metadata": {},
   "outputs": [
    {
     "data": {
      "text/plain": [
       "[2, 2, -1, 8, -1]"
      ]
     },
     "execution_count": 12,
     "metadata": {},
     "output_type": "execute_result"
    }
   ],
   "source": [
    "def nsr(a):\n",
    "    s=[]\n",
    "    out=[]\n",
    "    for i in reversed(range(len(a))):\n",
    "        if len(s)==0:\n",
    "            out.append(-1)\n",
    "        elif len(s)>0 and s[-1]<a[i]:\n",
    "            out.append(s[-1])\n",
    "        elif len(s)>0 and s[-1]>=a[i]:\n",
    "            while len(s)>0 and s[-1]>=a[i]:\n",
    "                s.pop()\n",
    "            if len(s)==0:\n",
    "                out.append(-1)\n",
    "            else:\n",
    "                out.append(s[-1])\n",
    "        s.append(a[i])\n",
    "    return out[::-1]\n",
    "a=[4,5,2,10,8]\n",
    "nsr(a)"
   ]
  },
  {
   "cell_type": "code",
   "execution_count": 13,
   "metadata": {},
   "outputs": [],
   "source": [
    "# Stock Span Problem"
   ]
  },
  {
   "cell_type": "code",
   "execution_count": 6,
   "metadata": {},
   "outputs": [
    {
     "name": "stdout",
     "output_type": "stream",
     "text": [
      "[-1, 0, 1, 1, 3, 1, 0]\n"
     ]
    },
    {
     "data": {
      "text/plain": [
       "[1, 1, 1, 2, 1, 4, 6]"
      ]
     },
     "execution_count": 6,
     "metadata": {},
     "output_type": "execute_result"
    }
   ],
   "source": [
    "def ssp(a):\n",
    "    o=[]\n",
    "    s=[]\n",
    "    for i in range(len(a)):\n",
    "        if len(s)==0:\n",
    "            o.append(-1)\n",
    "        elif len(s)>0 and s[-1][0]>a[i]:\n",
    "            o.append(s[-1][1])\n",
    "        elif len(s)>0 and s[-1][0]<=a[i]:\n",
    "            while len(s)>0 and s[-1][0]<=a[i]:\n",
    "                s.pop()\n",
    "            if len(s)==0:\n",
    "                o.append(-1)\n",
    "            else:\n",
    "                o.append(s[-1][1])\n",
    "        s.append([a[i],i])\n",
    "    print(o)\n",
    "    for i in range(len(o)):\n",
    "        o[i]=i-o[i]\n",
    "    return o\n",
    "a=[100,80,60,70,60,75,80]\n",
    "ssp(a)"
   ]
  },
  {
   "cell_type": "code",
   "execution_count": 1,
   "metadata": {},
   "outputs": [],
   "source": [
    "# Max Area Hist "
   ]
  },
  {
   "cell_type": "code",
   "execution_count": 2,
   "metadata": {},
   "outputs": [
    {
     "data": {
      "text/plain": [
       "12"
      ]
     },
     "execution_count": 2,
     "metadata": {},
     "output_type": "execute_result"
    }
   ],
   "source": [
    "def mah(a):\n",
    "    width=[]\n",
    "    area=[]\n",
    "    r=nsr(a)\n",
    "    l=nsl(a)\n",
    "#     print('r is ',r)\n",
    "#     print('l is ',l)\n",
    "    for i in range(len(r)):\n",
    "        width.append(r[i]-l[i]-1)\n",
    "#     print(width)\n",
    "    for i in range(len(a)):\n",
    "        area.append(width[i]*a[i])\n",
    "#     print(area)\n",
    "    return max(area)\n",
    "\n",
    "def nsr(a):\n",
    "    o=[]\n",
    "    s=[]\n",
    "    for i in reversed(range(len(a))):\n",
    "        if len(s)==0:\n",
    "            o.append(len(a))\n",
    "        elif len(s)>0 and s[-1][0]<a[i]:\n",
    "            o.append(s[-1][1])\n",
    "        elif len(s)>0 and s[-1][0]>=a[i]:\n",
    "            while len(s)>0 and s[-1][0]>=a[i]:\n",
    "                s.pop()\n",
    "            if len(s)==0:\n",
    "                o.append(len(a))\n",
    "            else:\n",
    "                o.append(s[-1][1])\n",
    "        s.append([a[i],i])\n",
    "    return o[::-1]\n",
    "\n",
    "def nsl(a):\n",
    "    o=[]\n",
    "    s=[]\n",
    "    for i in range(len(a)):\n",
    "        if len(s)==0:\n",
    "            o.append(-1)\n",
    "        elif len(s)>0 and s[-1][0]<a[i]:\n",
    "            o.append(s[-1][1])\n",
    "        elif len(s)>0 and s[-1][0]>=a[i]:\n",
    "            while len(s)>0 and s[-1][0]>=a[i]:\n",
    "                s.pop()\n",
    "            if len(s)==0:\n",
    "                o.append(-1)\n",
    "            else:\n",
    "                o.append(s[-1][1])\n",
    "        s.append([a[i],i])\n",
    "    return o\n",
    "a=[6,2,5,4,5,1,6]\n",
    "mah(a)"
   ]
  },
  {
   "cell_type": "code",
   "execution_count": 3,
   "metadata": {},
   "outputs": [],
   "source": [
    "#  Max area rectangle in binary matrix"
   ]
  },
  {
   "cell_type": "code",
   "execution_count": 4,
   "metadata": {},
   "outputs": [
    {
     "name": "stdout",
     "output_type": "stream",
     "text": [
      "h1 is  [1, 2, 2, 1]\n",
      "h1 is  [2, 3, 3, 2]\n",
      "h1 is  [3, 4, 0, 0]\n"
     ]
    },
    {
     "data": {
      "text/plain": [
       "8"
      ]
     },
     "execution_count": 4,
     "metadata": {},
     "output_type": "execute_result"
    }
   ],
   "source": [
    "def mar(a):\n",
    "    h1=[]\n",
    "    m=len(a[0])\n",
    "    n=len(a)\n",
    "    for j in range(m):\n",
    "        h1.append(a[0][j])\n",
    "#     print('h11 is ',h1)\n",
    "    ans=mah(h1)\n",
    "#     print('ans is ',ans)\n",
    "    for i in range(1,n):\n",
    "        for j in range(m):\n",
    "            if a[i][j]==0:\n",
    "                h1[j]=0\n",
    "            else:\n",
    "                h1[j]+=a[i][j]\n",
    "        print('h1 is ',h1)\n",
    "        ans=max(ans,mah(h1))\n",
    "#         print('ans is ',ans)\n",
    "    return ans\n",
    "a=[[0,1,1,0],[1,1,1,1],[1,1,1,1],[1,1,0,0]]\n",
    "mar(a)"
   ]
  },
  {
   "cell_type": "code",
   "execution_count": 56,
   "metadata": {},
   "outputs": [],
   "source": [
    "# Rain drop trapping problem"
   ]
  },
  {
   "cell_type": "code",
   "execution_count": 6,
   "metadata": {},
   "outputs": [
    {
     "data": {
      "text/plain": [
       "6"
      ]
     },
     "execution_count": 6,
     "metadata": {},
     "output_type": "execute_result"
    }
   ],
   "source": [
    "def rdt(a):\n",
    "    maxr=[-1]*len(a)\n",
    "    maxl=[-1]*len(a)\n",
    "    water=[-1]*len(a)\n",
    "    maxl[0]=a[0]\n",
    "    for i in range(1,len(a)):\n",
    "        maxl[i]=max(maxl[i-1],a[i])\n",
    "    maxr[-1]=a[-1]\n",
    "    i=len(a)-2\n",
    "    while i>=0:\n",
    "        maxr[i]=max(maxr[i+1],a[i])\n",
    "        i-=1\n",
    "#     print(maxl)\n",
    "#     print(maxr)\n",
    "    for i in range(len(a)):\n",
    "        water[i]=(min(maxl[i],maxr[i])-a[i])\n",
    "#     print(water)\n",
    "    return sum(water)\n",
    "# a=[3,0,0,2,0,4]\n",
    "a=[0,1,0,2,1,0,1,3,2,1,2,1]\n",
    "rdt(a)"
   ]
  },
  {
   "cell_type": "code",
   "execution_count": 17,
   "metadata": {},
   "outputs": [],
   "source": [
    "# min ele in stack......O(n)"
   ]
  },
  {
   "cell_type": "code",
   "execution_count": 20,
   "metadata": {},
   "outputs": [
    {
     "data": {
      "text/plain": [
       "1"
      ]
     },
     "execution_count": 20,
     "metadata": {},
     "output_type": "execute_result"
    }
   ],
   "source": [
    "s=[]\n",
    "ss=[]\n",
    "def push(a):\n",
    "    s.append(a)\n",
    "    if len(ss)==0 or a<=ss[-1]:\n",
    "        ss.append(a)\n",
    "def pop():\n",
    "    if len(s)==0:\n",
    "        return -1\n",
    "    top=s.pop()\n",
    "    if top==ss[-1]:\n",
    "        ss.pop()\n",
    "    return top\n",
    "def getMin():\n",
    "    if len(ss)==0:\n",
    "        return -1\n",
    "    else:\n",
    "        return ss[-1]\n",
    "push(1)\n",
    "push(2)\n",
    "push(1)\n",
    "pop()\n",
    "# getMin()\n",
    "push(0)\n",
    "# getMin()\n",
    "pop()\n",
    "getMin()"
   ]
  },
  {
   "cell_type": "code",
   "execution_count": 18,
   "metadata": {},
   "outputs": [],
   "source": [
    "# O(1)"
   ]
  },
  {
   "cell_type": "code",
   "execution_count": 23,
   "metadata": {},
   "outputs": [],
   "source": [
    "global m\n",
    "m=float('inf')\n",
    "s=[]\n",
    "\n",
    "def push(a):\n",
    "    if len(s)==0:\n",
    "        s.append(a)\n",
    "        m=a\n",
    "    else:\n",
    "        if a<m:\n",
    "            m=a\n",
    "            s.append(2*a-m)\n",
    "        else:\n",
    "            s.append(a)\n",
    "def getMin():\n",
    "    if len(s)==0:\n",
    "        return -1\n",
    "    else:\n",
    "        return m\n",
    "def pop():\n",
    "    if len(s)==0:\n",
    "        return -1\n",
    "    else:\n",
    "        if s[-1]>=m:\n",
    "            s.pop()\n",
    "        elif s[-1]<m:\n",
    "            m=2*m-s[-1]\n",
    "            s.pop()\n",
    "def top():\n",
    "    if len(s)==0:\n",
    "        return -1\n",
    "    else:\n",
    "        if s[-1]>m:\n",
    "            return s[-1]\n",
    "        else:\n",
    "            return m\n",
    "\n"
   ]
  },
  {
   "cell_type": "code",
   "execution_count": 19,
   "metadata": {},
   "outputs": [],
   "source": [
    "# def minBribes(a):\n",
    "#     n=len(a)\n",
    "#     l=[i+1 for i in range(n)]\n",
    "#     res=tsum=0\n",
    "#     d={}\n",
    "#     for i in range(n):\n",
    "#         res=a[i]-l[i]\n",
    "#         print('res is ',res)\n",
    "#         if res>0:\n",
    "#             tsum+=res\n",
    "#             print('tsum is ',tsum)\n",
    "# #             if a[i] in d:\n",
    "# #                 print('a[i] is ',a[i])\n",
    "# #                 if d[a[i]]>2:\n",
    "# #                     return 'Chaotic'\n",
    "# #                 else: d[a[i]]+=res\n",
    "# #             else:\n",
    "# #                 d[a[i]]=res\n",
    "                \n",
    "#             print(d)\n",
    "#         res=0\n",
    "#     return tsum\n",
    "# # a=[2,1,5,3,4]\n",
    "# b=[2,5,1,3,4]\n",
    "# minBribes(b)"
   ]
  },
  {
   "cell_type": "code",
   "execution_count": 2,
   "metadata": {},
   "outputs": [
    {
     "data": {
      "text/plain": [
       "[1, 2, 3, 4, 5]"
      ]
     },
     "execution_count": 2,
     "metadata": {},
     "output_type": "execute_result"
    }
   ],
   "source": [
    "a=[2,3,4,1,5]\n",
    "n=len(a)\n",
    "l=[i+1 for i in range(n)]\n",
    "l"
   ]
  },
  {
   "cell_type": "code",
   "execution_count": 32,
   "metadata": {},
   "outputs": [
    {
     "data": {
      "text/plain": [
       "6"
      ]
     },
     "execution_count": 32,
     "metadata": {},
     "output_type": "execute_result"
    }
   ],
   "source": [
    "def minBribes(q):\n",
    "    l=[i+1 for i in range(len(q))]\n",
    "    res=tsum=0\n",
    "    for i in range(len(q)):\n",
    "        res=q[i]-l[i]\n",
    "        if res>2:\n",
    "            return 'Too chaotic'\n",
    "        if res>0:\n",
    "            tsum+=res\n",
    "            res=0\n",
    "    return tsum\n",
    "a=[2,1,5,3,4]\n",
    "b=[2,5,1,3,4]\n",
    "c=[1,2,5,3,7,8,6,4]\n",
    "minBribes(c)"
   ]
  },
  {
   "cell_type": "code",
   "execution_count": 7,
   "metadata": {},
   "outputs": [
    {
     "data": {
      "text/plain": [
       "False"
      ]
     },
     "execution_count": 7,
     "metadata": {},
     "output_type": "execute_result"
    }
   ],
   "source": [
    "def palin(s):\n",
    "    i=0\n",
    "    j=len(s)-1\n",
    "    while(i<j and s[i]!='X' and s[j]!='X'):\n",
    "        if s[i]!=s[j]:\n",
    "            return False\n",
    "        else:\n",
    "            i+=1\n",
    "            j-=1\n",
    "    return True\n",
    "s='ababXbab'\n",
    "palin(s)"
   ]
  },
  {
   "cell_type": "code",
   "execution_count": 3,
   "metadata": {},
   "outputs": [
    {
     "name": "stdout",
     "output_type": "stream",
     "text": [
      "4 3 2 1 "
     ]
    }
   ],
   "source": [
    "def rev(l):\n",
    "    s=[]\n",
    "    for i in l:\n",
    "        s.append(i)\n",
    "    while s:\n",
    "        print(s.pop(),end=\" \")\n",
    "l=[1,2,3,4]\n",
    "rev(l)    "
   ]
  },
  {
   "cell_type": "code",
   "execution_count": 7,
   "metadata": {},
   "outputs": [],
   "source": [
    "# remove adjacent duplicates "
   ]
  },
  {
   "cell_type": "code",
   "execution_count": 14,
   "metadata": {},
   "outputs": [
    {
     "data": {
      "text/plain": [
       "'m'"
      ]
     },
     "execution_count": 14,
     "metadata": {},
     "output_type": "execute_result"
    }
   ],
   "source": [
    "def adjDup(s):\n",
    "    st=[]\n",
    "    for i in s:\n",
    "        if len(st)==0:\n",
    "            st.append(i)\n",
    "        elif i!=st[-1]:\n",
    "            st.append(i)\n",
    "        else:\n",
    "            st.pop()\n",
    "    return ''.join(st)\n",
    "# s='careermonk'\n",
    "s='mississippi'\n",
    "adjDup(s)"
   ]
  },
  {
   "cell_type": "code",
   "execution_count": null,
   "metadata": {},
   "outputs": [],
   "source": []
  }
 ],
 "metadata": {
  "kernelspec": {
   "display_name": "Python 3",
   "language": "python",
   "name": "python3"
  },
  "language_info": {
   "codemirror_mode": {
    "name": "ipython",
    "version": 3
   },
   "file_extension": ".py",
   "mimetype": "text/x-python",
   "name": "python",
   "nbconvert_exporter": "python",
   "pygments_lexer": "ipython3",
   "version": "3.7.6"
  }
 },
 "nbformat": 4,
 "nbformat_minor": 4
}
