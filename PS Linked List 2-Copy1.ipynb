{
 "cells": [
  {
   "cell_type": "code",
   "execution_count": 2,
   "metadata": {},
   "outputs": [],
   "source": [
    "class Node:\n",
    "    def __init__(self,key=0):\n",
    "        self.key=key\n",
    "        self.next=None\n",
    "a=Node(1)\n",
    "b=Node(2)\n",
    "c=Node(3)\n",
    "d=Node(4)\n",
    "e=Node(5)\n",
    "f=Node(2)\n",
    "g=Node(2)\n",
    "a.next=b\n",
    "b.next=c\n",
    "c.next=d\n",
    "d.next=e\n",
    "e.next=f\n",
    "f.next=g"
   ]
  },
  {
   "cell_type": "code",
   "execution_count": 4,
   "metadata": {},
   "outputs": [],
   "source": [
    "#loop\n",
    "a=Node(1)\n",
    "b=Node(2)\n",
    "c=Node(3)\n",
    "d=Node(4)\n",
    "e=Node(5)\n",
    "f=Node(2)\n",
    "g=Node(2)\n",
    "a.next=b\n",
    "b.next=c\n",
    "c.next=d\n",
    "d.next=e\n",
    "e.next=b"
   ]
  },
  {
   "cell_type": "code",
   "execution_count": 3,
   "metadata": {},
   "outputs": [
    {
     "data": {
      "text/plain": [
       "1"
      ]
     },
     "execution_count": 3,
     "metadata": {},
     "output_type": "execute_result"
    }
   ],
   "source": [
    "def freq(head,k):\n",
    "    node=head\n",
    "    if node is None:\n",
    "        return\n",
    "    d={}\n",
    "    while node:\n",
    "        if node.key==k:\n",
    "            if k in d:\n",
    "                d[k]+=1\n",
    "            else:\n",
    "                d[k]=1\n",
    "        node=node.next\n",
    "    return d[k]\n",
    "freq(a,3)"
   ]
  },
  {
   "cell_type": "code",
   "execution_count": 7,
   "metadata": {},
   "outputs": [],
   "source": [
    "# length of LL..O(n) | O(1)"
   ]
  },
  {
   "cell_type": "code",
   "execution_count": 20,
   "metadata": {},
   "outputs": [
    {
     "data": {
      "text/plain": [
       "7"
      ]
     },
     "execution_count": 20,
     "metadata": {},
     "output_type": "execute_result"
    }
   ],
   "source": [
    "def length(head):\n",
    "    node=head\n",
    "    s=node\n",
    "    f=node\n",
    "    c=0\n",
    "#     while f and f.next:\n",
    "    while s:\n",
    "        s=s.next\n",
    "        c+=1\n",
    "#         f=f.next.next\n",
    "#         if s==f:\n",
    "#             break\n",
    "#     f=f.next\n",
    "#     c=1\n",
    "#     while s!=f:\n",
    "#         f=f.next\n",
    "#         c+=1\n",
    "    return c\n",
    "\n",
    "\n",
    "# f.next=g\n",
    "# g.next=a\n",
    "length(a)"
   ]
  },
  {
   "cell_type": "code",
   "execution_count": 16,
   "metadata": {},
   "outputs": [],
   "source": [
    "# detect and remove  ...O(n) | O(1) "
   ]
  },
  {
   "cell_type": "code",
   "execution_count": 5,
   "metadata": {
    "collapsed": true
   },
   "outputs": [
    {
     "ename": "KeyboardInterrupt",
     "evalue": "",
     "output_type": "error",
     "traceback": [
      "\u001b[1;31m---------------------------------------------------------------------------\u001b[0m",
      "\u001b[1;31mKeyboardInterrupt\u001b[0m                         Traceback (most recent call last)",
      "\u001b[1;32m<ipython-input-5-4c86ec0fa41e>\u001b[0m in \u001b[0;36m<module>\u001b[1;34m\u001b[0m\n\u001b[0;32m     25\u001b[0m         \u001b[0mprint\u001b[0m\u001b[1;33m(\u001b[0m\u001b[0mtemp\u001b[0m\u001b[1;33m.\u001b[0m\u001b[0mkey\u001b[0m\u001b[1;33m,\u001b[0m\u001b[0mend\u001b[0m\u001b[1;33m=\u001b[0m\u001b[1;34m\"->\"\u001b[0m\u001b[1;33m)\u001b[0m\u001b[1;33m\u001b[0m\u001b[1;33m\u001b[0m\u001b[0m\n\u001b[0;32m     26\u001b[0m         \u001b[0mtemp\u001b[0m\u001b[1;33m=\u001b[0m\u001b[0mtemp\u001b[0m\u001b[1;33m.\u001b[0m\u001b[0mnext\u001b[0m\u001b[1;33m\u001b[0m\u001b[1;33m\u001b[0m\u001b[0m\n\u001b[1;32m---> 27\u001b[1;33m \u001b[0mdetectAndRemove\u001b[0m\u001b[1;33m(\u001b[0m\u001b[0ma\u001b[0m\u001b[1;33m)\u001b[0m\u001b[1;33m\u001b[0m\u001b[1;33m\u001b[0m\u001b[0m\n\u001b[0m",
      "\u001b[1;32m<ipython-input-5-4c86ec0fa41e>\u001b[0m in \u001b[0;36mdetectAndRemove\u001b[1;34m(head)\u001b[0m\n\u001b[0;32m     13\u001b[0m         \u001b[1;32mwhile\u001b[0m \u001b[0mf\u001b[0m\u001b[1;33m!=\u001b[0m\u001b[0mhead\u001b[0m\u001b[1;33m:\u001b[0m\u001b[1;33m\u001b[0m\u001b[1;33m\u001b[0m\u001b[0m\n\u001b[0;32m     14\u001b[0m             \u001b[0mf\u001b[0m\u001b[1;33m=\u001b[0m\u001b[0mf\u001b[0m\u001b[1;33m.\u001b[0m\u001b[0mnext\u001b[0m\u001b[1;33m\u001b[0m\u001b[1;33m\u001b[0m\u001b[0m\n\u001b[1;32m---> 15\u001b[1;33m             \u001b[0ms\u001b[0m\u001b[1;33m=\u001b[0m\u001b[0ms\u001b[0m\u001b[1;33m.\u001b[0m\u001b[0mnext\u001b[0m\u001b[1;33m\u001b[0m\u001b[1;33m\u001b[0m\u001b[0m\n\u001b[0m\u001b[0;32m     16\u001b[0m         \u001b[0ms\u001b[0m\u001b[1;33m.\u001b[0m\u001b[0mnext\u001b[0m\u001b[1;33m=\u001b[0m\u001b[1;32mNone\u001b[0m\u001b[1;33m\u001b[0m\u001b[1;33m\u001b[0m\u001b[0m\n\u001b[0;32m     17\u001b[0m     \u001b[1;32mreturn\u001b[0m \u001b[0mprintLL\u001b[0m\u001b[1;33m(\u001b[0m\u001b[0mf\u001b[0m\u001b[1;33m)\u001b[0m\u001b[1;33m\u001b[0m\u001b[1;33m\u001b[0m\u001b[0m\n",
      "\u001b[1;31mKeyboardInterrupt\u001b[0m: "
     ]
    }
   ],
   "source": [
    "def detectAndRemove(head):\n",
    "    node=head\n",
    "    s=node\n",
    "    f=node\n",
    "    while f and f.next:\n",
    "        s=s.next\n",
    "        f=f.next.next\n",
    "        if s==f:\n",
    "            break\n",
    "    if s==f:\n",
    "        s=head\n",
    "        f=f.next\n",
    "        while f!=head:\n",
    "            f=f.next\n",
    "            s=s.next\n",
    "        s.next=None\n",
    "    return printLL(f)\n",
    "    \n",
    "#     if s==f:\n",
    "#         return 'Removed'\n",
    "#     return 'No loop'\n",
    "def printLL(node):\n",
    "    temp=node\n",
    "    while temp:\n",
    "        print(temp.key,end=\"->\")\n",
    "        temp=temp.next\n",
    "detectAndRemove(a)"
   ]
  },
  {
   "cell_type": "code",
   "execution_count": 7,
   "metadata": {},
   "outputs": [
    {
     "name": "stdout",
     "output_type": "stream",
     "text": [
      "1->2->3->4->5->"
     ]
    }
   ],
   "source": [
    "def detectAndRemove2(head):\n",
    "    node=head\n",
    "    s=node\n",
    "    f=node\n",
    "    while f and f.next:\n",
    "        s=s.next\n",
    "        f=f.next.next\n",
    "        if s==f:\n",
    "            break\n",
    "    if s==f:\n",
    "        s=head\n",
    "        while s.next!=f.next:\n",
    "            s=s.next\n",
    "            f=f.next\n",
    "    f.next=None\n",
    "    return printLL(head)\n",
    "def printLL(node):\n",
    "    temp=node\n",
    "    while temp:\n",
    "        print(temp.key,end=\"->\")\n",
    "        temp=temp.next\n",
    "detectAndRemove2(a)"
   ]
  },
  {
   "cell_type": "code",
   "execution_count": 40,
   "metadata": {},
   "outputs": [],
   "source": [
    "# Soln 2 hashing..Doubt"
   ]
  },
  {
   "cell_type": "code",
   "execution_count": 41,
   "metadata": {},
   "outputs": [
    {
     "name": "stdout",
     "output_type": "stream",
     "text": [
      "{1: <__main__.Node object at 0x0000029891C164C8>, 2: <__main__.Node object at 0x0000029891C16188>, 3: <__main__.Node object at 0x0000029891C16B08>, 4: <__main__.Node object at 0x0000029891AB0648>, 5: <__main__.Node object at 0x0000029891C51F48>}\n",
      "None\n"
     ]
    }
   ],
   "source": [
    "def removeLoopWithHash(head):\n",
    "    last=None\n",
    "    d={}\n",
    "    while head:\n",
    "        if head in d:\n",
    "#             head=head.next\n",
    "            last.next=None\n",
    "            break\n",
    "        else:\n",
    "            d[head.key]=head\n",
    "            last=head\n",
    "            head=head.next\n",
    "    print(d)\n",
    "    print(head)\n",
    "    return printLL(head)\n",
    "def printLL(node):\n",
    "#     print(node)\n",
    "    temp=node\n",
    "    while temp:\n",
    "        print(temp.key,end=\"->\")\n",
    "        temp=temp.next\n",
    "removeLoopWithHash(a)   "
   ]
  },
  {
   "cell_type": "code",
   "execution_count": 2,
   "metadata": {},
   "outputs": [],
   "source": [
    "# delete duplicate in sorted LL"
   ]
  },
  {
   "cell_type": "code",
   "execution_count": 37,
   "metadata": {},
   "outputs": [
    {
     "name": "stdout",
     "output_type": "stream",
     "text": [
      "1->1->2->3->3->4->5->"
     ]
    }
   ],
   "source": [
    "def delSortedLL(head):\n",
    "    prev=node=head\n",
    "    node=node.next\n",
    "    d={}\n",
    "    d[prev.key]=prev\n",
    "    while node:\n",
    "        if node in d:\n",
    "            prev.next=node.next\n",
    "            node=node.next\n",
    "        else:\n",
    "            prev=node\n",
    "            node=node.next\n",
    "            d[prev.key]=prev\n",
    "    return printLL(head) \n",
    "a=Node(1)\n",
    "b=Node(1)\n",
    "c=Node(2)\n",
    "d=Node(3)\n",
    "e=Node(3)\n",
    "f=Node(4)\n",
    "g=Node(5)\n",
    "a.next=b\n",
    "b.next=c\n",
    "c.next=d\n",
    "d.next=e\n",
    "e.next=f\n",
    "f.next=g\n",
    "delSortedLL(a)"
   ]
  },
  {
   "cell_type": "code",
   "execution_count": 16,
   "metadata": {},
   "outputs": [
    {
     "name": "stdout",
     "output_type": "stream",
     "text": [
      "1->2->3->4->5->"
     ]
    }
   ],
   "source": [
    "class Node:\n",
    "    def __init__(self,data):\n",
    "        self.data=data\n",
    "        self.next=None\n",
    "\n",
    "class LL:\n",
    "    def __init__(self):\n",
    "        self.head=None\n",
    "    \n",
    "    def push(self,val):\n",
    "        node=Node(val)\n",
    "        node.next=self.head\n",
    "        self.head=node\n",
    "    \n",
    "    def delSortedLL(self):\n",
    "        temp=self.head\n",
    "        while temp.next:\n",
    "            if temp.data==temp.next.data:\n",
    "                new=temp.next.next\n",
    "#                 temp.next=None\n",
    "                temp.next=new\n",
    "            else:\n",
    "                temp=temp.next\n",
    "             \n",
    "    def printLL(self):\n",
    "        node=self.head\n",
    "        while node:\n",
    "            print(node.data,end=\"->\")\n",
    "            node=node.next\n",
    "llist=LL()\n",
    "llist.push(5)\n",
    "llist.push(4)\n",
    "llist.push(3)\n",
    "llist.push(3)\n",
    "llist.push(2)\n",
    "llist.push(1)\n",
    "llist.push(1)\n",
    "# llist.push()\n",
    "llist.delSortedLL()\n",
    "llist.printLL()"
   ]
  },
  {
   "cell_type": "code",
   "execution_count": 17,
   "metadata": {},
   "outputs": [
    {
     "name": "stdout",
     "output_type": "stream",
     "text": [
      "Created linked list is:\n",
      "23 28 28 35 49 49 53 53 \n",
      "Linked list after deletion of duplicates:\n",
      "23 35 "
     ]
    }
   ],
   "source": [
    "# Python3 implementation for the above approach \n",
    "\n",
    "# Creating node \n",
    "class Node: \n",
    "\tdef __init__(self, val): \n",
    "\t\tself.val = val \n",
    "\t\tself.next = None\n",
    "class LinkedList: \n",
    "\tdef __init__(self): \n",
    "\t\tself.head = None\n",
    "\t\t\n",
    "\t# add node into beganing of linked list \n",
    "\tdef push(self, new_data): \n",
    "\t\tnew_node = Node(new_data) \n",
    "\t\tnew_node.next = self.head \n",
    "\t\tself.head = new_node \n",
    "\t\treturn new_node \n",
    "\t\t\n",
    "\t# Function to remove all occurrences \n",
    "\t# of duplicate elements \n",
    "\tdef removeAllDuplicates(self, temp): \n",
    "\t\t\n",
    "\t\t# temp is head node of linkedlist \n",
    "\t\tcurr = temp \n",
    "\t\t# print(' print something') \n",
    "\t\thead = prev = Node(None) \n",
    "\t\thead.next = curr \n",
    "\n",
    "\t\t# Here we use same as we do in removing \n",
    "\t\t# duplicates and only extra thing is that \n",
    "\t\t# we need to remove all elements \n",
    "\t\t# having duplicates that we did in 30-31 \n",
    "\t\twhile curr and curr.next: \n",
    "\t\t\t\n",
    "\t\t\t# until the current value and next \n",
    "\t\t\t# value are same keep updating the current value \n",
    "\t\t\tif curr.val == curr.next.val: \n",
    "\t\t\t\twhile(curr and curr.next and\n",
    "\t\t\t\t\tcurr.val == curr.next.val): \n",
    "\t\t\t\t\tcurr = curr.next\n",
    "\t\t\t\t\t\n",
    "\t\t\t\t\t# still one of duplicate values left \n",
    "\t\t\t\t\t# so point prec to curr \n",
    "\t\t\t\tcurr = curr.next\n",
    "\t\t\t\tprev.next = curr \n",
    "\t\t\telse: \n",
    "\t\t\t\tprev = prev.next\n",
    "\t\t\t\tcurr = curr.next\n",
    "\t\treturn head.next\n",
    "\t\t\n",
    "\t# for print the linkedlist \n",
    "\tdef printList(self): \n",
    "\t\ttemp1 = self.head \n",
    "\t\twhile temp1 is not None: \n",
    "\t\t\tprint(temp1.val, end = \" \") \n",
    "\t\t\ttemp1 = temp1.next\n",
    "\t\t\t\n",
    "\t# For getting head of linkedlist \n",
    "\tdef get_head(self): \n",
    "\t\treturn self.head \n",
    "\n",
    "# Driver Code \n",
    "if __name__=='__main__': \n",
    "\tllist = LinkedList() \n",
    "\tllist.push(53) \n",
    "\tllist.push(53) \n",
    "\tllist.push(49) \n",
    "\tllist.push(49) \n",
    "\tllist.push(35) \n",
    "\tllist.push(28) \n",
    "\tllist.push(28) \n",
    "\tllist.push(23) \n",
    "\t\n",
    "\tprint('Created linked list is:') \n",
    "\tllist.printList() \n",
    "\tprint('\\nLinked list after deletion of duplicates:') \n",
    "\thead1 = llist.get_head() \n",
    "\t#print(head1) \n",
    "\tllist.removeAllDuplicates(head1) \n",
    "\tllist.printList() \n",
    "\t\t\n",
    "# This code is contributed \n",
    "# by PRAVEEN KUMAR(IIIT KALYANI) \n"
   ]
  },
  {
   "cell_type": "code",
   "execution_count": 14,
   "metadata": {},
   "outputs": [],
   "source": [
    "# CLL"
   ]
  },
  {
   "cell_type": "code",
   "execution_count": 4,
   "metadata": {},
   "outputs": [
    {
     "name": "stdout",
     "output_type": "stream",
     "text": [
      "1->2->3->4->5->"
     ]
    }
   ],
   "source": [
    "def printCLL(head):\n",
    "    node=head\n",
    "    while True:\n",
    "        print(node.key,end=\"->\")\n",
    "        node=node.next\n",
    "        if node==head:\n",
    "            break\n",
    "printCLL(a)"
   ]
  },
  {
   "cell_type": "code",
   "execution_count": 1,
   "metadata": {},
   "outputs": [],
   "source": [
    "# compare strings"
   ]
  },
  {
   "cell_type": "code",
   "execution_count": 5,
   "metadata": {},
   "outputs": [
    {
     "name": "stdout",
     "output_type": "stream",
     "text": [
      "1\n"
     ]
    }
   ],
   "source": [
    "class Node:\n",
    "    def __init__(self,data):\n",
    "        self.c=data\n",
    "        self.next=None\n",
    "\n",
    "def compare(l1,l2):\n",
    "    while l1 and l2 and l1.c==l2.c:\n",
    "        l1=l1.next\n",
    "        l2=l2.next\n",
    "    if l1 and l2:\n",
    "        return 1 if l1.c>l2.c else -1\n",
    "    if l1 and not l2:\n",
    "        return 1\n",
    "    if not l1 and l2:\n",
    "        return -1\n",
    "    return 0\n",
    "list1 = Node('g') \n",
    "list1.next = Node('e') \n",
    "list1.next.next = Node('e') \n",
    "list1.next.next.next = Node('k') \n",
    "list1.next.next.next.next = Node('s') \n",
    "list1.next.next.next.next.next = Node('b') \n",
    "  \n",
    "list2 = Node('g') \n",
    "list2.next = Node('e') \n",
    "list2.next.next = Node('e') \n",
    "list2.next.next.next = Node('k') \n",
    "list2.next.next.next.next = Node('s') \n",
    "# list2.next.next.next.next.next = Node('a') \n",
    "  \n",
    "print(compare(list1, list2))"
   ]
  },
  {
   "cell_type": "code",
   "execution_count": 19,
   "metadata": {},
   "outputs": [
    {
     "data": {
      "text/plain": [
       "False"
      ]
     },
     "execution_count": 19,
     "metadata": {},
     "output_type": "execute_result"
    }
   ],
   "source": [
    "'b'<'a'"
   ]
  },
  {
   "cell_type": "code",
   "execution_count": 14,
   "metadata": {},
   "outputs": [
    {
     "name": "stdout",
     "output_type": "stream",
     "text": [
      "First List is ->7->5->9->4->6->\n",
      "\n",
      "\n",
      "Second List is ->8->4->\n",
      "\n",
      "5->0->0->5->6->\n",
      "\n"
     ]
    }
   ],
   "source": [
    "class Node:\n",
    "    def __init__(self,data):\n",
    "        self.data=data\n",
    "        self.next=None\n",
    "\n",
    "class LL:\n",
    "    def __init__(self):\n",
    "        self.head=None\n",
    "    \n",
    "    def push(self,val):\n",
    "        node=Node(val)\n",
    "        node.next=self.head\n",
    "        self.head=node\n",
    "    \n",
    "    def adding(self,first,second):\n",
    "        c=0\n",
    "        prev=temp=None\n",
    "        nsum=0\n",
    "        while first or second:\n",
    "            fd=0 if first is None else first.data\n",
    "            sd=0 if second is None else second.data\n",
    "            nsum=c+fd+sd\n",
    "            c=1 if nsum>=10 else 0\n",
    "            nsum=nsum if nsum<10 else nsum%10\n",
    "            temp=Node(nsum)\n",
    "            if self.head is None:\n",
    "                self.head=temp\n",
    "            else:\n",
    "                prev.next=temp\n",
    "            prev=temp\n",
    "            if first:\n",
    "                first=first.next\n",
    "            if second:\n",
    "                second=second.next\n",
    "            if c>0:\n",
    "                temp.next=Node(c)\n",
    "    \n",
    "    def printL(self):\n",
    "        temp=self.head\n",
    "        while temp:\n",
    "            print(temp.data,end=\"->\")\n",
    "            temp=temp.next\n",
    "        print('\\n')\n",
    "first=LL()\n",
    "first.push(6) \n",
    "first.push(4) \n",
    "first.push(9) \n",
    "first.push(5) \n",
    "first.push(7) \n",
    "print (\"First List is \",end=\"->\") \n",
    "first.printL() \n",
    "\n",
    "second=LL()\n",
    "second.push(4) \n",
    "second.push(8) \n",
    "print(\"\\nSecond List is \",end=\"->\") \n",
    "second.printL()\n",
    "\n",
    "res=LL()\n",
    "res.adding(first.head,second.head)\n",
    "res.printL()"
   ]
  },
  {
   "cell_type": "code",
   "execution_count": 42,
   "metadata": {},
   "outputs": [
    {
     "name": "stdout",
     "output_type": "stream",
     "text": [
      "\n",
      "\n"
     ]
    }
   ],
   "source": [
    "\n",
    "class Node:\n",
    "    def __init__(self,data):\n",
    "        self.data=data\n",
    "        self.next=None\n",
    "\n",
    "class LL:\n",
    "    def __init__(self):\n",
    "        self.head=None\n",
    "    \n",
    "    def push(self,val):\n",
    "        node=Node(val)\n",
    "        node.next=self.head\n",
    "        self.head=node\n",
    "        \n",
    "    def printL(self):\n",
    "        temp=self.head\n",
    "        while temp:\n",
    "            print(temp.data,end=\"->\")\n",
    "            temp=temp.next\n",
    "        print('\\n')\n",
    "    \n",
    "    def inte(self,l1,l2):\n",
    "        res=h=None\n",
    "        if not l1 or not l2:\n",
    "            return None\n",
    "        while l1:\n",
    "            d1[l1.data]=1\n",
    "            l1=l1.next\n",
    "        \n",
    "        while l2:\n",
    "#             print('hi')\n",
    "#             print(d1)\n",
    "#             print(l2.data)\n",
    "            if l2.data in d1:\n",
    "#                 print(l2.data)\n",
    "                if res is None:\n",
    "                    res=Node(l2.data)\n",
    "#                     print(l2.data)\n",
    "                    h=res\n",
    "                else:\n",
    "                    new=Node(l2.data)\n",
    "                    res.next=new\n",
    "                    res=new\n",
    "#                     print(l2.data)\n",
    "            l2=l2.next\n",
    "#             print(d1)\n",
    "#             print(res)\n",
    "#         print(h)\n",
    "        return h\n",
    "    \n",
    "\n",
    "llist1=LL()\n",
    "llist1.push(20); \n",
    "llist1.push(4); \n",
    "llist1.push(15); \n",
    "llist1.push(10);\n",
    "llist2=LL()\n",
    "llist2.push(10); \n",
    "llist2.push(2); \n",
    "llist2.push(4); \n",
    "llist2.push(8);\n",
    "d1={}\n",
    "res=LL()\n",
    "res.inte(llist1.head,llist2.head)\n",
    "res.printL()"
   ]
  },
  {
   "cell_type": "code",
   "execution_count": 6,
   "metadata": {},
   "outputs": [
    {
     "name": "stdout",
     "output_type": "stream",
     "text": [
      "Linked List after removing loop\n",
      "50->20->15->4->\n",
      "\n"
     ]
    }
   ],
   "source": [
    "\n",
    "class Node:\n",
    "    def __init__(self,data):\n",
    "        self.data=data\n",
    "        self.next=None\n",
    "\n",
    "class LL:\n",
    "    def __init__(self):\n",
    "        self.head=None\n",
    "    \n",
    "    def push(self,val):\n",
    "        node=Node(val)\n",
    "        node.next=self.head\n",
    "        self.head=node\n",
    "        \n",
    "    def printL(self):\n",
    "        temp=self.head\n",
    "        while temp:\n",
    "            print(temp.data,end=\"->\")\n",
    "            temp=temp.next\n",
    "        print('\\n')\n",
    "        \n",
    "    def detectAndRemove(self):\n",
    "        s=f=self.head\n",
    "        if self.head is None:\n",
    "            return\n",
    "        if self.head.next is None:\n",
    "            return\n",
    "        s=s.next\n",
    "        f=f.next.next\n",
    "        while f and f.next:\n",
    "            if s==f:\n",
    "                break\n",
    "            s=s.next\n",
    "            f=f.next.next\n",
    "        \n",
    "        if s==f:\n",
    "            s=self.head\n",
    "            while s.next!=f.next:\n",
    "                s=s.next            \n",
    "                f=f.next\n",
    "        f.next=None   \n",
    "            \n",
    "llist = LL() \n",
    "llist.push(10) \n",
    "llist.push(4) \n",
    "llist.push(15) \n",
    "llist.push(20) \n",
    "llist.push(50) \n",
    "  \n",
    "# Create a loop for testing \n",
    "llist.head.next.next.next.next = llist.head.next.next\n",
    "  \n",
    "llist.detectAndRemove() \n",
    "  \n",
    "print('Linked List after removing loop')\n",
    "llist.printL() "
   ]
  },
  {
   "cell_type": "markdown",
   "metadata": {},
   "source": [
    "## Insertion and Deletion in a SLL (Code should not break in any case"
   ]
  },
  {
   "cell_type": "code",
   "execution_count": 111,
   "metadata": {},
   "outputs": [],
   "source": [
    "class Node:\n",
    "    \n",
    "    def __init__(self,data):\n",
    "        self.data=data\n",
    "        self.next=None\n",
    "    \n",
    "class LinkedList:\n",
    "    \n",
    "    def __init__(self):\n",
    "        self.head=None\n",
    "        \n",
    "    def insertBegin(self,new):\n",
    "        node=Node(new)\n",
    "        if self.head is None:\n",
    "            self.head=node\n",
    "        else:\n",
    "            node.next=self.head\n",
    "            self.head=node\n",
    "            \n",
    "    def insertEnd(self,new):\n",
    "        node=Node(new)\n",
    "        if self.head is None:\n",
    "            self.head=node\n",
    "            return\n",
    "        else:\n",
    "            temp=self.head\n",
    "            while temp.next:\n",
    "                temp=temp.next\n",
    "            temp.next=node\n",
    "            \n",
    "    def insertAt(self,new,position):\n",
    "        node=Node(new)\n",
    "        if self.head is None:\n",
    "            self.head=node\n",
    "            self.head=node\n",
    "        temp=self.head\n",
    "        for _ in range(position-1):\n",
    "            temp=temp.next\n",
    "        if not temp.next:\n",
    "            temp.next=node\n",
    "        else:\n",
    "            node.next=temp.next\n",
    "            temp.next=node\n",
    "            \n",
    "    def deleteBegin(self):\n",
    "        if self.head is None:\n",
    "            return\n",
    "        else:\n",
    "            self.head=self.head.next\n",
    "    \n",
    "    def deleteEnd(self):\n",
    "        if self.head is None:\n",
    "            return\n",
    "        temp=self.head\n",
    "        while temp.next.next:\n",
    "            temp=temp.next\n",
    "        temp.next=None\n",
    "        \n",
    "    def deleteAt(self,position):\n",
    "        if self.head.next is None:\n",
    "            self.head=None\n",
    "            return\n",
    "        if position==0:\n",
    "            self.head=self.head.next\n",
    "            return\n",
    "        temp=self.head\n",
    "        for _ in range(position-1):\n",
    "            temp=temp.next\n",
    "        temp.next=temp.next.next\n",
    "    \n",
    "    def printll(self):\n",
    "        temp=self.head\n",
    "        while temp:\n",
    "            print(temp.data,end=\"->\")\n",
    "            temp=temp.next\n",
    "        print('None')"
   ]
  },
  {
   "cell_type": "code",
   "execution_count": 122,
   "metadata": {},
   "outputs": [
    {
     "name": "stdout",
     "output_type": "stream",
     "text": [
      "2->5->3->6->4->None\n"
     ]
    }
   ],
   "source": [
    "llist=LinkedList()\n",
    "llist.insertBegin(3)\n",
    "llist.insertBegin(2)\n",
    "llist.insertEnd(4)\n",
    "llist.insertAt(5,1)\n",
    "llist.insertAt(6,3)\n",
    "llist.printll()"
   ]
  },
  {
   "cell_type": "code",
   "execution_count": 123,
   "metadata": {},
   "outputs": [
    {
     "name": "stdout",
     "output_type": "stream",
     "text": [
      "5->3->6->4->None\n"
     ]
    }
   ],
   "source": [
    "llist.deleteBegin()\n",
    "llist.printll()"
   ]
  },
  {
   "cell_type": "code",
   "execution_count": 124,
   "metadata": {},
   "outputs": [],
   "source": [
    "llist.insertBegin(2)"
   ]
  },
  {
   "cell_type": "code",
   "execution_count": 125,
   "metadata": {},
   "outputs": [
    {
     "name": "stdout",
     "output_type": "stream",
     "text": [
      "2->5->3->6->4->None\n"
     ]
    }
   ],
   "source": [
    "llist.printll()"
   ]
  },
  {
   "cell_type": "code",
   "execution_count": 126,
   "metadata": {},
   "outputs": [],
   "source": [
    "llist.deleteEnd()"
   ]
  },
  {
   "cell_type": "code",
   "execution_count": 127,
   "metadata": {},
   "outputs": [
    {
     "name": "stdout",
     "output_type": "stream",
     "text": [
      "2->5->3->6->None\n"
     ]
    }
   ],
   "source": [
    "llist.printll()"
   ]
  },
  {
   "cell_type": "code",
   "execution_count": 128,
   "metadata": {},
   "outputs": [
    {
     "name": "stdout",
     "output_type": "stream",
     "text": [
      "5->3->6->None\n"
     ]
    }
   ],
   "source": [
    "llist.deleteAt(0)\n",
    "llist.printll()"
   ]
  },
  {
   "cell_type": "code",
   "execution_count": 1,
   "metadata": {},
   "outputs": [],
   "source": [
    "class Node:\n",
    "    def __init__(self,key=0):\n",
    "        self.key=key\n",
    "        self.next=None\n",
    "a=Node(1)\n",
    "b=Node(2)\n",
    "c=Node(3)\n",
    "d=Node(4)\n",
    "e=Node(5)\n",
    "f=Node(2)\n",
    "g=Node(2)\n",
    "a.next=b\n",
    "b.next=c\n",
    "c.next=d\n",
    "d.next=e\n",
    "e.next=f\n",
    "f.next=g\n",
    "A=Node(10)\n",
    "B=Node(20)\n",
    "C=Node(30)\n",
    "D=Node(40)\n",
    "A.next=B\n",
    "B.next=C\n",
    "C.next=D\n",
    "D.next=e"
   ]
  },
  {
   "cell_type": "code",
   "execution_count": 3,
   "metadata": {},
   "outputs": [
    {
     "data": {
      "text/plain": [
       "5"
      ]
     },
     "execution_count": 3,
     "metadata": {},
     "output_type": "execute_result"
    }
   ],
   "source": [
    "def findIntersection(list1,list2):\n",
    "    d={}\n",
    "    while list1:\n",
    "        if list1.key not in d:\n",
    "            d[list1.key]=list1\n",
    "        else:\n",
    "            pass\n",
    "        list1=list1.next\n",
    "    while list2:\n",
    "        if list2.key not in d:\n",
    "            pass\n",
    "        else:\n",
    "            return list2.key\n",
    "        list2=list2.next\n",
    "findIntersection(a,A)"
   ]
  },
  {
   "cell_type": "code",
   "execution_count": null,
   "metadata": {},
   "outputs": [],
   "source": []
  }
 ],
 "metadata": {
  "kernelspec": {
   "display_name": "Python 3",
   "language": "python",
   "name": "python3"
  },
  "language_info": {
   "codemirror_mode": {
    "name": "ipython",
    "version": 3
   },
   "file_extension": ".py",
   "mimetype": "text/x-python",
   "name": "python",
   "nbconvert_exporter": "python",
   "pygments_lexer": "ipython3",
   "version": "3.7.6"
  }
 },
 "nbformat": 4,
 "nbformat_minor": 4
}
