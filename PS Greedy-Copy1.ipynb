{
 "cells": [
  {
   "cell_type": "code",
   "execution_count": 1,
   "metadata": {},
   "outputs": [],
   "source": [
    "# DFS"
   ]
  },
  {
   "cell_type": "code",
   "execution_count": 13,
   "metadata": {},
   "outputs": [
    {
     "data": {
      "text/plain": [
       "['A', ['B', 'C', 'D']]"
      ]
     },
     "execution_count": 13,
     "metadata": {},
     "output_type": "execute_result"
    }
   ],
   "source": [
    "class Node:\n",
    "    \n",
    "    def __init__(self,name):\n",
    "        self.children=[]\n",
    "        self.name=name\n",
    "    \n",
    "    def addChild(self,name):\n",
    "        self.children.append(Node(name))\n",
    "    \n",
    "    def dfs(self,array):\n",
    "        array.append(self.name)\n",
    "        for child in self.children:\n",
    "            child.dfs(array)\n",
    "        return array\n",
    "A=Node('A')\n",
    "A.addChild(['B','C','D'])\n",
    "# A.addChild('C')\n",
    "# A.addChild('D')\n",
    "# B.addChild('E')\n",
    "# B.addChild('F')\n",
    "# F.addChild('I')\n",
    "# F.addChild('J')\n",
    "# D.addChild('G')\n",
    "# D.addChild('H')\n",
    "# G.addChild('K')\n",
    "A.dfs([])"
   ]
  },
  {
   "cell_type": "code",
   "execution_count": 18,
   "metadata": {},
   "outputs": [
    {
     "name": "stdout",
     "output_type": "stream",
     "text": [
      "A B D E G C F "
     ]
    }
   ],
   "source": [
    "def DFS(graph,visited,node):\n",
    "    if node not in visited:\n",
    "        print(node,end=\" \")\n",
    "        for ch in graph[node]:\n",
    "            DFS(graph,visited,ch)            \n",
    "graph = {\n",
    "    'A' : ['B','C'],\n",
    "    'B' : ['D', 'E'],\n",
    "    'C' : ['F'],\n",
    "    'D' : [],\n",
    "    'E' : ['G'],\n",
    "    'F' : [],\n",
    "    'G':[]\n",
    "}\n",
    "visited=set()\n",
    "DFS(graph,visited,'A')"
   ]
  },
  {
   "cell_type": "code",
   "execution_count": 14,
   "metadata": {},
   "outputs": [
    {
     "name": "stdout",
     "output_type": "stream",
     "text": [
      "A B C D E F "
     ]
    }
   ],
   "source": [
    "def BFS(g,v,n):\n",
    "    v.append(n)\n",
    "    q.append(n)\n",
    "    while q:\n",
    "        e=q.pop(0)\n",
    "        print(e,end=\" \")\n",
    "        for ch in g[e]:\n",
    "            if ch not in v:\n",
    "                v.append(ch)\n",
    "                q.append(ch)\n",
    "g = {\n",
    "    'A' : ['B','C'],\n",
    "    'B' : ['D', 'E'],\n",
    "    'C' : ['F'],\n",
    "    'D' : [],\n",
    "    'E' : ['F'],\n",
    "    'F' : []\n",
    "}\n",
    "v=[]\n",
    "q=[]\n",
    "BFS(g,v,'A')"
   ]
  },
  {
   "cell_type": "code",
   "execution_count": 19,
   "metadata": {},
   "outputs": [],
   "source": [
    "# Activity Selection Problem"
   ]
  },
  {
   "cell_type": "code",
   "execution_count": 20,
   "metadata": {},
   "outputs": [
    {
     "name": "stdout",
     "output_type": "stream",
     "text": [
      "0 1 3 4 "
     ]
    }
   ],
   "source": [
    "def asp(s,f):\n",
    "    i=0\n",
    "    print(i,end=\" \")\n",
    "    for j in range(1,len(f)):\n",
    "        if s[j]>=f[i]:\n",
    "            print(j,end=\" \")\n",
    "            i=j\n",
    "\n",
    "s=[1,3,0,5,8,5]\n",
    "f=[2,4,6,7,9,9]\n",
    "asp(s,f)            "
   ]
  },
  {
   "cell_type": "code",
   "execution_count": 21,
   "metadata": {},
   "outputs": [],
   "source": [
    "# egyptian fraction"
   ]
  },
  {
   "cell_type": "code",
   "execution_count": 27,
   "metadata": {},
   "outputs": [
    {
     "name": "stdout",
     "output_type": "stream",
     "text": [
      "1/3 + 1/11 + 1/231.\n"
     ]
    }
   ],
   "source": [
    "import math as m\n",
    "def egyptianFrac(nr,dr):\n",
    "    ef=[]\n",
    "    while nr!=0:\n",
    "        x=m.ceil(dr/nr)\n",
    "        ef.append(x)\n",
    "        nr=nr*x-dr\n",
    "        dr=dr*x\n",
    "    for i in range(len(ef)):\n",
    "        if i!=len(ef)-1:\n",
    "            print('1/{} +'.format(ef[i]),end=\" \")\n",
    "        else:\n",
    "            print('1/{}.'.format(ef[i]))\n",
    "egyptianFrac(6,14)"
   ]
  },
  {
   "cell_type": "code",
   "execution_count": 49,
   "metadata": {},
   "outputs": [],
   "source": [
    "# Job sequencing..O(n^2)"
   ]
  },
  {
   "cell_type": "code",
   "execution_count": 5,
   "metadata": {},
   "outputs": [
    {
     "data": {
      "text/plain": [
       "['c', 'a', 'e']"
      ]
     },
     "execution_count": 5,
     "metadata": {},
     "output_type": "execute_result"
    }
   ],
   "source": [
    "def js(arr,t):\n",
    "    a = sorted(arr,key=lambda x:x[2],reverse=True)\n",
    "    res=[False]*t\n",
    "    jobs=['-1']*t\n",
    "    for i in range(len(a)):\n",
    "        for j in range(min(t-1,a[i][1]-1),-1,-1):\n",
    "            if res[j]==False:\n",
    "                res[j]=True\n",
    "                jobs[j]=a[i][0]\n",
    "                break\n",
    "    return jobs\n",
    "arr = [['a', 2, 100], # Job Array \n",
    "       ['b', 1, 19], \n",
    "       ['c', 2, 27], \n",
    "       ['d', 1, 25], \n",
    "       ['e', 3, 15]]\n",
    "t=3\n",
    "js(arr,t)"
   ]
  },
  {
   "cell_type": "code",
   "execution_count": 6,
   "metadata": {},
   "outputs": [],
   "source": [
    "# minimise cost"
   ]
  },
  {
   "cell_type": "code",
   "execution_count": 12,
   "metadata": {},
   "outputs": [
    {
     "name": "stdout",
     "output_type": "stream",
     "text": [
      "[3, 3, 1, 0, 0]\n"
     ]
    }
   ],
   "source": [
    "def miniCost(l,t):\n",
    "    new=[]\n",
    "    for i in range(len(l)):\n",
    "        new.append(l[i]//t[i])\n",
    "        new=sorted(new,reverse=True)\n",
    "    print(new)\n",
    "l=[ 1, 2, 3, 5, 6 ]; \n",
    "t=[ 2, 4, 1, 3, 2 ]\n",
    "miniCost(l,t)"
   ]
  },
  {
   "cell_type": "code",
   "execution_count": null,
   "metadata": {},
   "outputs": [],
   "source": []
  }
 ],
 "metadata": {
  "kernelspec": {
   "display_name": "Python 3",
   "language": "python",
   "name": "python3"
  },
  "language_info": {
   "codemirror_mode": {
    "name": "ipython",
    "version": 3
   },
   "file_extension": ".py",
   "mimetype": "text/x-python",
   "name": "python",
   "nbconvert_exporter": "python",
   "pygments_lexer": "ipython3",
   "version": "3.7.6"
  }
 },
 "nbformat": 4,
 "nbformat_minor": 4
}
