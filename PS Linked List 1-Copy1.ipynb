{
 "cells": [
  {
   "cell_type": "code",
   "execution_count": 2,
   "metadata": {},
   "outputs": [],
   "source": [
    "# Creating Node class"
   ]
  },
  {
   "cell_type": "code",
   "execution_count": 11,
   "metadata": {},
   "outputs": [],
   "source": [
    "class Node:\n",
    "    def __init__(self,key=0):\n",
    "        self.key=key\n",
    "        self.next=None\n",
    "a=Node(1)\n",
    "b=Node(2)\n",
    "c=Node(3)\n",
    "d=Node(4)\n",
    "e=Node(5)\n",
    "a.next=b\n",
    "b.next=c\n",
    "c.next=d\n",
    "d.next=e\n",
    "f=Node()"
   ]
  },
  {
   "cell_type": "code",
   "execution_count": 2,
   "metadata": {},
   "outputs": [],
   "source": [
    "class LL:\n",
    "    def __init__(self,head):\n",
    "        self.head=head\n",
    "        self.next=None\n",
    "    def push(self,data):\n",
    "        new=Node(data)\n",
    "        new.next=self.head\n",
    "        self.head=new"
   ]
  },
  {
   "cell_type": "code",
   "execution_count": 17,
   "metadata": {},
   "outputs": [],
   "source": [
    "# 1 . Finding a loop in linked list ..using hashing,..O(N)..O(N)"
   ]
  },
  {
   "cell_type": "code",
   "execution_count": null,
   "metadata": {},
   "outputs": [],
   "source": [
    "def loop(node):\n",
    "    d={}\n",
    "    while node:\n",
    "        if node in d:\n",
    "            return True\n",
    "        else:\n",
    "            d[node]=1\n",
    "        node=node.next\n",
    "    return False"
   ]
  },
  {
   "cell_type": "code",
   "execution_count": 18,
   "metadata": {},
   "outputs": [],
   "source": [
    "# 2 pointer t=O(n)..S=O(1)"
   ]
  },
  {
   "cell_type": "code",
   "execution_count": 5,
   "metadata": {},
   "outputs": [
    {
     "data": {
      "text/plain": [
       "False"
      ]
     },
     "execution_count": 5,
     "metadata": {},
     "output_type": "execute_result"
    }
   ],
   "source": [
    "def l(node):\n",
    "    m1=m2=node\n",
    "    m1=m1.next\n",
    "    m2=m2.next.next\n",
    "    while m2!=None and m2.next!=None:\n",
    "        if m1==m2:\n",
    "            return True\n",
    "        m1=m1.next\n",
    "        m2=m2.next.next\n",
    "    return False\n",
    "\n",
    "# c.next=a\n",
    "l(a)"
   ]
  },
  {
   "cell_type": "code",
   "execution_count": 6,
   "metadata": {},
   "outputs": [],
   "source": [
    "# 2. LL reversal"
   ]
  },
  {
   "cell_type": "code",
   "execution_count": 19,
   "metadata": {},
   "outputs": [
    {
     "name": "stdout",
     "output_type": "stream",
     "text": [
      "5 4 3 2 1 "
     ]
    }
   ],
   "source": [
    "def r(head):\n",
    "    current = head\n",
    "    prev=nextp=None\n",
    "    while current:\n",
    "        nextp=current.next\n",
    "        current.next=prev\n",
    "        prev=current\n",
    "        current=nextp\n",
    "    return p(prev)\n",
    "\n",
    "def p(head):\n",
    "    while head:\n",
    "        print(head.key,end=\" \")\n",
    "        head=head.next\n",
    "# a=Node(1)\n",
    "# b=Node(3)\n",
    "# c=Node(2)\n",
    "# a.next=b\n",
    "# b.next=c\n",
    "r(a)"
   ]
  },
  {
   "cell_type": "code",
   "execution_count": 20,
   "metadata": {},
   "outputs": [],
   "source": [
    "# 3. nth to last node"
   ]
  },
  {
   "cell_type": "code",
   "execution_count": 30,
   "metadata": {},
   "outputs": [
    {
     "data": {
      "text/plain": [
       "4"
      ]
     },
     "execution_count": 30,
     "metadata": {},
     "output_type": "execute_result"
    }
   ],
   "source": [
    "def nth(n,head):\n",
    "    left=right=head\n",
    "    for i in range(n-1):\n",
    "        if not right.next:\n",
    "            raise LookupError('Error!! n value greater than size of linked list')\n",
    "        right=right.next\n",
    "    while right.next:\n",
    "        left=left.next\n",
    "        right=right.next\n",
    "    return left.key\n",
    "nth(2,a)"
   ]
  },
  {
   "cell_type": "code",
   "execution_count": 1,
   "metadata": {},
   "outputs": [],
   "source": [
    "# 4. Print middle element of LL"
   ]
  },
  {
   "cell_type": "code",
   "execution_count": 6,
   "metadata": {},
   "outputs": [
    {
     "name": "stdout",
     "output_type": "stream",
     "text": [
      "Mid element is :  2\n"
     ]
    }
   ],
   "source": [
    "class Node:\n",
    "    def __init__(self,data):\n",
    "        self.data=data\n",
    "        self.next=None\n",
    "class LL:\n",
    "    def __init__(self):\n",
    "        self.head=None\n",
    "    \n",
    "    def push(self,data):\n",
    "        new=Node(data)\n",
    "        new.next=self.head\n",
    "        self.head=new\n",
    "    \n",
    "    def printMid(self):\n",
    "        sp=self.head\n",
    "        fp=self.head\n",
    "        \n",
    "        if self.head is not None:\n",
    "            while fp is not None and fp.next is not None:\n",
    "                fp=fp.next.next\n",
    "                sp=sp.next\n",
    "        print('Mid element is : ',sp.data)\n",
    "list1 = LL() \n",
    "list1.push(5) \n",
    "list1.push(4) \n",
    "list1.push(2) \n",
    "list1.push(3) \n",
    "list1.push(1) \n",
    "list1.printMid() "
   ]
  },
  {
   "cell_type": "code",
   "execution_count": 19,
   "metadata": {},
   "outputs": [],
   "source": [
    "# 5.return head as loops starting point "
   ]
  },
  {
   "cell_type": "code",
   "execution_count": 28,
   "metadata": {},
   "outputs": [
    {
     "name": "stdout",
     "output_type": "stream",
     "text": [
      "2\n",
      "<__main__.Node object at 0x000001B94014F6C8>\n"
     ]
    },
    {
     "data": {
      "text/plain": [
       "True"
      ]
     },
     "execution_count": 28,
     "metadata": {},
     "output_type": "execute_result"
    }
   ],
   "source": [
    "def l(node):\n",
    "    exists=0\n",
    "    m1=m2=node\n",
    "    while m2!=None and m2.next!=None:\n",
    "        m1=m1.next\n",
    "        m2=m2.next.next\n",
    "        if m1==m2:\n",
    "            exists=1\n",
    "            break\n",
    "    if exists==1:\n",
    "        m1=node\n",
    "        while m1!=m2:\n",
    "            m1=m1.next\n",
    "            m2=m2.next\n",
    "        print(m1.key)\n",
    "        print(m1)\n",
    "        return True\n",
    "    return False\n",
    "\n",
    "a=Node(1)\n",
    "b=Node(2)\n",
    "c=Node(3)\n",
    "d=Node(4)\n",
    "e=Node(5)\n",
    "a.next=b\n",
    "b.next=c\n",
    "c.next=d\n",
    "d.next=e\n",
    "e.next=b\n",
    "l(a)"
   ]
  },
  {
   "cell_type": "code",
   "execution_count": 29,
   "metadata": {},
   "outputs": [],
   "source": [
    "# 6. Find intersection point of two linked lists(point at which both intersect)"
   ]
  },
  {
   "cell_type": "code",
   "execution_count": 39,
   "metadata": {},
   "outputs": [
    {
     "name": "stdout",
     "output_type": "stream",
     "text": [
      "{<__main__.Node object at 0x000001B94017BA08>: 1, <__main__.Node object at 0x000001B940173F08>: 1, <__main__.Node object at 0x000001B940178E88>: 1, <__main__.Node object at 0x000001B9401A3D88>: 1, <__main__.Node object at 0x000001B9401A3C08>: 1}\n",
      "4\n"
     ]
    },
    {
     "data": {
      "text/plain": [
       "<__main__.Node at 0x1b9401a3d88>"
      ]
     },
     "execution_count": 39,
     "metadata": {},
     "output_type": "execute_result"
    }
   ],
   "source": [
    "# hashing....O(n)+O(m)...S=O(n)orO(m)\n",
    "def ip(n1,n2):\n",
    "    d={}\n",
    "    i=n1\n",
    "    while i:\n",
    "        if i not in d:\n",
    "            d[i]=1\n",
    "        else:\n",
    "            pass\n",
    "        i=i.next\n",
    "    print(d)\n",
    "    j=n2\n",
    "    while j:\n",
    "        if j in d:\n",
    "            print(j.key)\n",
    "            return j\n",
    "        j=j.next\n",
    "        \n",
    "a=Node(1)\n",
    "b=Node(2)\n",
    "c=Node(3)\n",
    "d=Node(4)\n",
    "e=Node(5)\n",
    "a.next=b\n",
    "b.next=c\n",
    "c.next=d\n",
    "d.next=e\n",
    "A=Node(1)\n",
    "B=Node(2)\n",
    "C=Node(3)\n",
    "A.next=B\n",
    "B.next=C\n",
    "C.next=d\n",
    "ip(a,A)"
   ]
  },
  {
   "cell_type": "code",
   "execution_count": 49,
   "metadata": {},
   "outputs": [],
   "source": [
    "# optimzed..Doubt"
   ]
  },
  {
   "cell_type": "code",
   "execution_count": 50,
   "metadata": {},
   "outputs": [
    {
     "name": "stdout",
     "output_type": "stream",
     "text": [
      "<__main__.Node object at 0x000001B9401CCF08> <__main__.Node object at 0x000001B9401CCF08>\n",
      "n1 is  5\n",
      "n2 is  5\n",
      "d is  0\n"
     ]
    },
    {
     "data": {
      "text/plain": [
       "5"
      ]
     },
     "execution_count": 50,
     "metadata": {},
     "output_type": "execute_result"
    }
   ],
   "source": [
    "def op(n1,n2):\n",
    "    l1=l2=d=0\n",
    "    list1=n1\n",
    "    list2=n2\n",
    "    while list1.next:\n",
    "        l1+=1\n",
    "        list1=list1.next\n",
    "    while list2.next:\n",
    "        l2+=1\n",
    "        list2=list2.next\n",
    "    print(list1,list2)\n",
    "    if l1<l2:\n",
    "        n1=list2;n2=list1;d=l2-l1\n",
    "    else:\n",
    "        n1=list1;n2=list2;d=l1-l2\n",
    "    print('n1 is ',n1.key)\n",
    "    print('n2 is ',n2.key)\n",
    "    print('d is ',d)\n",
    "    for i in range(d):\n",
    "        n1=n1.next\n",
    "#         n2=n2.next\n",
    "    while n1!=None and n2!=None:\n",
    "        if n1==n2:\n",
    "            return n1.key\n",
    "        n1=n1.next\n",
    "        n2=n2.next\n",
    "    return None\n",
    "a=Node(1)\n",
    "b=Node(2)\n",
    "c=Node(3)\n",
    "d=Node(4)\n",
    "e=Node(5)\n",
    "a.next=b\n",
    "b.next=c\n",
    "c.next=d\n",
    "d.next=e\n",
    "A=Node(1)\n",
    "B=Node(2)\n",
    "C=Node(3)\n",
    "A.next=B\n",
    "B.next=C\n",
    "C.next=d\n",
    "op(a,A)"
   ]
  },
  {
   "cell_type": "code",
   "execution_count": 62,
   "metadata": {},
   "outputs": [],
   "source": [
    "# mid ele..O(N)...O(1)"
   ]
  },
  {
   "cell_type": "code",
   "execution_count": 75,
   "metadata": {},
   "outputs": [
    {
     "data": {
      "text/plain": [
       "3"
      ]
     },
     "execution_count": 75,
     "metadata": {},
     "output_type": "execute_result"
    }
   ],
   "source": [
    "def me(node):\n",
    "    s=f=node\n",
    "    while f and f.next:\n",
    "        s=s.next\n",
    "        f=f.next.next\n",
    "    return s.key\n",
    "a=Node(1)\n",
    "b=Node(2)\n",
    "c=Node(3)\n",
    "d=Node(4)\n",
    "e=Node(5)\n",
    "a.next=b\n",
    "b.next=c\n",
    "c.next=d\n",
    "d.next=e\n",
    "me(a)"
   ]
  },
  {
   "cell_type": "code",
   "execution_count": 69,
   "metadata": {},
   "outputs": [],
   "source": [
    "# Reverse ..O(n)..O(n)"
   ]
  },
  {
   "cell_type": "code",
   "execution_count": 77,
   "metadata": {},
   "outputs": [],
   "source": [
    "def rrev(node):\n",
    "    if not node:\n",
    "        return\n",
    "    rrev(node.next)\n",
    "    print(node.key,end=\" \")"
   ]
  },
  {
   "cell_type": "code",
   "execution_count": 78,
   "metadata": {},
   "outputs": [
    {
     "name": "stdout",
     "output_type": "stream",
     "text": [
      "4 3 2 1 "
     ]
    }
   ],
   "source": [
    "rrev(a)"
   ]
  },
  {
   "cell_type": "code",
   "execution_count": 81,
   "metadata": {},
   "outputs": [],
   "source": [
    "# 9..even or odd..O(n)...O(1)"
   ]
  },
  {
   "cell_type": "code",
   "execution_count": 80,
   "metadata": {},
   "outputs": [
    {
     "data": {
      "text/plain": [
       "'Even'"
      ]
     },
     "execution_count": 80,
     "metadata": {},
     "output_type": "execute_result"
    }
   ],
   "source": [
    "def eoo(node):\n",
    "    while node and node.next:\n",
    "        node=node.next.next\n",
    "    if not node:\n",
    "        return 'Even'\n",
    "    else:\n",
    "        return 'Odd'\n",
    "eoo(a)"
   ]
  },
  {
   "cell_type": "code",
   "execution_count": 87,
   "metadata": {},
   "outputs": [],
   "source": [
    "# 10..Merge two sorted linked list ......O(n+m)"
   ]
  },
  {
   "cell_type": "code",
   "execution_count": 4,
   "metadata": {},
   "outputs": [
    {
     "name": "stdout",
     "output_type": "stream",
     "text": [
      "1 2 2 3 4 5 7 8 9 10 "
     ]
    }
   ],
   "source": [
    "def m2ll(n,m):\n",
    "    res=None\n",
    "    if n==None:\n",
    "        return m\n",
    "    if m==None:\n",
    "        return n\n",
    "    if n.key<=m.key:\n",
    "        res=n\n",
    "        res.next=m2ll(n.next,m)\n",
    "    else:\n",
    "        res=m\n",
    "        res.next=m2ll(n,m.next)\n",
    "    return res\n",
    "def printnew(node):\n",
    "    while node:\n",
    "        print(node.key,end=\" \")\n",
    "        node=node.next\n",
    "\n",
    "a=Node(2)\n",
    "b=Node(2)\n",
    "c=Node(3)\n",
    "d=Node(4)\n",
    "e=Node(5)\n",
    "a.next=b\n",
    "b.next=c\n",
    "c.next=d\n",
    "d.next=e\n",
    "q=Node(1)\n",
    "w=Node(7)\n",
    "e=Node(8)\n",
    "r=Node(9)\n",
    "t=Node(10)\n",
    "q.next=w\n",
    "w.next=e\n",
    "e.next=r\n",
    "r.next=t\n",
    "new=m2ll(a,q)\n",
    "printnew(new)"
   ]
  },
  {
   "cell_type": "code",
   "execution_count": 23,
   "metadata": {},
   "outputs": [],
   "source": [
    "# 11. rev pair linked list.........shud do in a class"
   ]
  },
  {
   "cell_type": "code",
   "execution_count": 24,
   "metadata": {},
   "outputs": [
    {
     "name": "stdout",
     "output_type": "stream",
     "text": [
      "5\n"
     ]
    }
   ],
   "source": [
    "def rpll(temp):\n",
    "    node=temp\n",
    "    if node is None:\n",
    "        return \n",
    "    while node is not None and node.next is not None:\n",
    "        node.key,node.next.key=node.next.key,node.key\n",
    "        node=node.next.next\n",
    "    while node:\n",
    "        print(node.key)\n",
    "        node=node.next\n",
    "a=Node(2)\n",
    "b=Node(1)\n",
    "c=Node(3)\n",
    "d=Node(4)\n",
    "e=Node(5)\n",
    "a.next=b\n",
    "b.next=c\n",
    "c.next=d\n",
    "d.next=e\n",
    "# printll(a)\n",
    "q=rpll(a)\n",
    "# printll(q)"
   ]
  },
  {
   "cell_type": "code",
   "execution_count": 1,
   "metadata": {},
   "outputs": [],
   "source": [
    "# 12.Make circular ll"
   ]
  },
  {
   "cell_type": "code",
   "execution_count": 5,
   "metadata": {},
   "outputs": [],
   "source": [
    "def cll(node):\n",
    "    temp=node\n",
    "    m1=m2=node\n",
    "    while m1 and m1.next:\n",
    "        m1=m1.next\n",
    "        m2=m2.next.next\n",
    "    m2.next=m1.next\n",
    "    m1.next=node"
   ]
  },
  {
   "cell_type": "code",
   "execution_count": 21,
   "metadata": {},
   "outputs": [],
   "source": [
    "# palindrome...O(n)"
   ]
  },
  {
   "cell_type": "code",
   "execution_count": 18,
   "metadata": {},
   "outputs": [],
   "source": [
    "def p(node):\n",
    "    t=node\n",
    "    s=[]\n",
    "    while t:\n",
    "        s.append(t.key)\n",
    "        t=t.next\n",
    "    while node:\n",
    "        a=s.pop()\n",
    "        if a!=node.key:\n",
    "            return False\n",
    "        node=node.next\n",
    "    return True"
   ]
  },
  {
   "cell_type": "code",
   "execution_count": 20,
   "metadata": {},
   "outputs": [
    {
     "data": {
      "text/plain": [
       "True"
      ]
     },
     "execution_count": 20,
     "metadata": {},
     "output_type": "execute_result"
    }
   ],
   "source": [
    "a=Node(1)\n",
    "b=Node(2)\n",
    "c=Node(3)\n",
    "d=Node(2)\n",
    "e=Node(1)\n",
    "a.next=b\n",
    "b.next=c\n",
    "c.next=d\n",
    "d.next=e\n",
    "p(a)"
   ]
  },
  {
   "cell_type": "code",
   "execution_count": 30,
   "metadata": {},
   "outputs": [],
   "source": [
    "# O(N)..O(1)"
   ]
  },
  {
   "cell_type": "code",
   "execution_count": 12,
   "metadata": {},
   "outputs": [],
   "source": [
    "def pa(node):\n",
    "    m1=m2=node\n",
    "    while m2 and m2.next:\n",
    "        m1=m1.next\n",
    "        m2=m2.next.next\n",
    "    c=m1.next\n",
    "    n=p=None\n",
    "    while c:\n",
    "        n=c.next\n",
    "        c.next=p\n",
    "        p=c\n",
    "        c=n\n",
    "    #p and m1\n",
    "    m1=m2=node\n",
    "    while m2 and m2.next:\n",
    "        if m1.key!=p.key:\n",
    "            return False\n",
    "        m1=m1.next\n",
    "        m2=m2.next.next\n",
    "        p=p.next\n",
    "    return True"
   ]
  },
  {
   "cell_type": "code",
   "execution_count": 14,
   "metadata": {
    "collapsed": true
   },
   "outputs": [
    {
     "ename": "AttributeError",
     "evalue": "'NoneType' object has no attribute 'key'",
     "output_type": "error",
     "traceback": [
      "\u001b[1;31m---------------------------------------------------------------------------\u001b[0m",
      "\u001b[1;31mAttributeError\u001b[0m                            Traceback (most recent call last)",
      "\u001b[1;32m<ipython-input-14-63f0d9a394b3>\u001b[0m in \u001b[0;36m<module>\u001b[1;34m\u001b[0m\n\u001b[0;32m      8\u001b[0m \u001b[0mc\u001b[0m\u001b[1;33m.\u001b[0m\u001b[0mnext\u001b[0m\u001b[1;33m=\u001b[0m\u001b[0md\u001b[0m\u001b[1;33m\u001b[0m\u001b[1;33m\u001b[0m\u001b[0m\n\u001b[0;32m      9\u001b[0m \u001b[1;31m# d.next=e\u001b[0m\u001b[1;33m\u001b[0m\u001b[1;33m\u001b[0m\u001b[1;33m\u001b[0m\u001b[0m\n\u001b[1;32m---> 10\u001b[1;33m \u001b[0mpa\u001b[0m\u001b[1;33m(\u001b[0m\u001b[0ma\u001b[0m\u001b[1;33m)\u001b[0m\u001b[1;33m\u001b[0m\u001b[1;33m\u001b[0m\u001b[0m\n\u001b[0m",
      "\u001b[1;32m<ipython-input-12-94fe6294c621>\u001b[0m in \u001b[0;36mpa\u001b[1;34m(node)\u001b[0m\n\u001b[0;32m     14\u001b[0m     \u001b[0mm1\u001b[0m\u001b[1;33m=\u001b[0m\u001b[0mm2\u001b[0m\u001b[1;33m=\u001b[0m\u001b[0mnode\u001b[0m\u001b[1;33m\u001b[0m\u001b[1;33m\u001b[0m\u001b[0m\n\u001b[0;32m     15\u001b[0m     \u001b[1;32mwhile\u001b[0m \u001b[0mm2\u001b[0m \u001b[1;32mand\u001b[0m \u001b[0mm2\u001b[0m\u001b[1;33m.\u001b[0m\u001b[0mnext\u001b[0m\u001b[1;33m:\u001b[0m\u001b[1;33m\u001b[0m\u001b[1;33m\u001b[0m\u001b[0m\n\u001b[1;32m---> 16\u001b[1;33m         \u001b[1;32mif\u001b[0m \u001b[0mm1\u001b[0m\u001b[1;33m.\u001b[0m\u001b[0mkey\u001b[0m\u001b[1;33m!=\u001b[0m\u001b[0mp\u001b[0m\u001b[1;33m.\u001b[0m\u001b[0mkey\u001b[0m\u001b[1;33m:\u001b[0m\u001b[1;33m\u001b[0m\u001b[1;33m\u001b[0m\u001b[0m\n\u001b[0m\u001b[0;32m     17\u001b[0m             \u001b[1;32mreturn\u001b[0m \u001b[1;32mFalse\u001b[0m\u001b[1;33m\u001b[0m\u001b[1;33m\u001b[0m\u001b[0m\n\u001b[0;32m     18\u001b[0m         \u001b[0mm1\u001b[0m\u001b[1;33m=\u001b[0m\u001b[0mm1\u001b[0m\u001b[1;33m.\u001b[0m\u001b[0mnext\u001b[0m\u001b[1;33m\u001b[0m\u001b[1;33m\u001b[0m\u001b[0m\n",
      "\u001b[1;31mAttributeError\u001b[0m: 'NoneType' object has no attribute 'key'"
     ]
    }
   ],
   "source": [
    "a=Node(1)\n",
    "b=Node(2)\n",
    "c=Node(2)\n",
    "d=Node(1)\n",
    "# e=Node(1)\n",
    "a.next=b\n",
    "b.next=c\n",
    "c.next=d\n",
    "# d.next=e\n",
    "pa(a)"
   ]
  },
  {
   "cell_type": "code",
   "execution_count": 31,
   "metadata": {},
   "outputs": [],
   "source": [
    "#  reverse in K groups"
   ]
  },
  {
   "cell_type": "code",
   "execution_count": 39,
   "metadata": {},
   "outputs": [
    {
     "name": "stdout",
     "output_type": "stream",
     "text": [
      "Given linked list\n",
      "1 2 3 4 5 6 7 8 9 \n",
      "Reversed Linked list\n",
      "3 2 1 6 5 4 9 8 7 "
     ]
    }
   ],
   "source": [
    "class Node: \n",
    "  \n",
    "    # Constructor to initialize the node object \n",
    "    def __init__(self, data): \n",
    "        self.data = data \n",
    "        self.next = None\n",
    "class LinkedList: \n",
    "  \n",
    "    # Function to initialize head \n",
    "    def __init__(self): \n",
    "        self.head = None\n",
    "  \n",
    "    def r(self, head, k): \n",
    "        current = head  \n",
    "        nextp  = None\n",
    "        prev = None\n",
    "        count = 0\n",
    "        while(current is not None and count < k): \n",
    "            nextp = current.next\n",
    "            current.next = prev \n",
    "            prev = current \n",
    "            current = nextp \n",
    "            count+=1\n",
    "        if nextp is not None:\n",
    "            head.next=self.r(nextp,k)\n",
    "        return prev\n",
    "    def push(self, new_data): \n",
    "        new_node = Node(new_data) \n",
    "        new_node.next = self.head \n",
    "        self.head = new_node \n",
    "  \n",
    "    # Utility function to print the linked LinkedList \n",
    "    def printList(self): \n",
    "        temp = self.head \n",
    "        while(temp): \n",
    "            print(temp.data,end=\" \") \n",
    "            temp = temp.next\n",
    "            \n",
    "llist = LinkedList() \n",
    "llist.push(9) \n",
    "llist.push(8) \n",
    "llist.push(7) \n",
    "llist.push(6) \n",
    "llist.push(5) \n",
    "llist.push(4) \n",
    "llist.push(3) \n",
    "llist.push(2) \n",
    "llist.push(1)\n",
    "print(\"Given linked list\")\n",
    "llist.printList() \n",
    "llist.head = llist.r(llist.head, 3) \n",
    "  \n",
    "print(\"\\nReversed Linked list\")\n",
    "llist.printList()         "
   ]
  },
  {
   "cell_type": "code",
   "execution_count": 20,
   "metadata": {},
   "outputs": [
    {
     "name": "stdout",
     "output_type": "stream",
     "text": [
      "5->10->15->18->20->30->35->40->50->60->"
     ]
    }
   ],
   "source": [
    "class Node:\n",
    "    def __init__(self,key=0):\n",
    "        self.key=key\n",
    "        self.next=None\n",
    "\n",
    "class LL:\n",
    "    def __init__(self):\n",
    "        self.head=None\n",
    "        \n",
    "    def append(self,data):\n",
    "        new=Node(data)\n",
    "        if self.head is None:\n",
    "            self.head=new\n",
    "            return\n",
    "        last=self.head\n",
    "        while last.next:\n",
    "            last=last.next\n",
    "        last.next=new\n",
    "    \n",
    "    def printLL(self):\n",
    "        temp=self.head\n",
    "        while temp:\n",
    "            print(temp.key,end=\"->\")\n",
    "            temp=temp.next\n",
    "    \n",
    "def mergeLL(h1,h2):\n",
    "    temp=None\n",
    "    if h1.key<=h2.key:\n",
    "        temp=h1\n",
    "        h1=h1.next\n",
    "    else:\n",
    "        temp=h2\n",
    "        h2=h2.next\n",
    "    head=temp\n",
    "    while h1 and h2:\n",
    "        if h1.key<=h2.key:\n",
    "            temp.next=h1\n",
    "            h1=h1.next\n",
    "        else:\n",
    "            temp.next=h2\n",
    "            h2=h2.next\n",
    "        temp=temp.next\n",
    "    while h1:\n",
    "        temp.next=h1\n",
    "        h1=h1.next\n",
    "    while h2:\n",
    "        temp.next=h2\n",
    "        h2=h2.next\n",
    "    return head\n",
    "\n",
    "list1 =LL() \n",
    "list1.append(10) \n",
    "list1.append(20) \n",
    "list1.append(30) \n",
    "list1.append(40) \n",
    "list1.append(50) \n",
    "\n",
    "list2 = LL() \n",
    "list2.append(5) \n",
    "list2.append(15) \n",
    "list2.append(18) \n",
    "list2.append(35) \n",
    "list2.append(60) \n",
    "\n",
    "list3 = LL()\n",
    "list3.head=mergeLL(list1.head,list2.head)\n",
    "list3.printLL()"
   ]
  },
  {
   "cell_type": "code",
   "execution_count": 42,
   "metadata": {},
   "outputs": [
    {
     "name": "stdout",
     "output_type": "stream",
     "text": [
      "4->0->"
     ]
    }
   ],
   "source": [
    "def evenOddLL(head):\n",
    "    t=eL=eE=oL=oE=Node()\n",
    "    t=head\n",
    "    if t==None:\n",
    "        return\n",
    "    while t:\n",
    "        if t.key%2==0:\n",
    "#             print(t.key)\n",
    "            if not eL:\n",
    "                eL=eE=t\n",
    "                print(eL,eE)\n",
    "            else:\n",
    "                eE.next=t\n",
    "                \n",
    "                eE=t\n",
    "        else:\n",
    "            if not oL:\n",
    "                oE=oL=t   \n",
    "            else:\n",
    "                oE.next=t\n",
    "                oE=t\n",
    "        t=t.next\n",
    "    oL.next=None\n",
    "    eE.next=oL\n",
    "    return eE\n",
    "list1 =LL() \n",
    "list1.append(1) \n",
    "list1.append(2) \n",
    "list1.append(3) \n",
    "list1.append(4) \n",
    "list1.append(5)\n",
    "l=evenOddLL(list1.head)\n",
    "while l:\n",
    "    print(l.key,end=\"->\")\n",
    "    l=l.next"
   ]
  },
  {
   "cell_type": "code",
   "execution_count": 43,
   "metadata": {},
   "outputs": [
    {
     "name": "stdout",
     "output_type": "stream",
     "text": [
      "Original Linked list\n",
      "0 1 4 6 9 10 11 \n",
      "Modified Linked list\n",
      "0 4 6 10 1 9 11 \n"
     ]
    }
   ],
   "source": [
    "# Python3 program to segregate even and odd nodes in a \n",
    "# Linked List \n",
    "head = None # head of list \n",
    "\n",
    "# Node class \n",
    "class Node: \n",
    "\t\t\n",
    "\t# Function to initialise the node object \n",
    "\tdef __init__(self, data): \n",
    "\t\tself.data = data # Assign data \n",
    "\t\tself.next =None\n",
    "\n",
    "# Function to segregate even and odd nodes. \n",
    "def segregateEvenOdd(): \n",
    "\tglobal head \n",
    "\t\n",
    "\t# Starting node of list having \n",
    "\t# even values. \n",
    "\tevenStart = None\n",
    "\t\n",
    "\t# Ending node of even values list. \n",
    "\tevenEnd = None\n",
    "\t\n",
    "\t# Starting node of odd values list. \n",
    "\toddStart = None\n",
    "\t\n",
    "\t# Ending node of odd values list. \n",
    "\toddEnd = None\n",
    "\t\n",
    "\t# Node to traverse the list. \n",
    "\tcurrNode = head \n",
    "\t\n",
    "\twhile(currNode != None): \n",
    "\t\tval = currNode.data \n",
    "\t\t\n",
    "\t\t# If current value is even, add \n",
    "\t\t# it to even values list. \n",
    "\t\tif(val % 2 == 0): \n",
    "\t\t\tif(evenStart == None): \n",
    "\t\t\t\tevenStart = currNode \n",
    "\t\t\t\tevenEnd = evenStart \n",
    "\t\t\telse: \n",
    "\t\t\t\tevenEnd . next = currNode \n",
    "\t\t\t\tevenEnd = evenEnd . next\n",
    "\t\t\n",
    "\t\t# If current value is odd, add \n",
    "\t\t# it to odd values list. \n",
    "\t\telse: \n",
    "\t\t\tif(oddStart == None): \n",
    "\t\t\t\toddStart = currNode \n",
    "\t\t\t\toddEnd = oddStart \n",
    "\t\t\telse: \n",
    "\t\t\t\toddEnd . next = currNode \n",
    "\t\t\t\toddEnd = oddEnd . next\n",
    "\t\t\t\t\n",
    "\t\t# Move head pointer one step in \n",
    "\t\t# forward direction \n",
    "\t\tcurrNode = currNode . next\n",
    "\t\n",
    "\t# If either odd list or even list is empty, \n",
    "\t# no change is required as all elements \n",
    "\t# are either even or odd. \n",
    "\tif(oddStart == None or evenStart == None): \n",
    "\t\treturn\n",
    "\t\n",
    "\t# Add odd list after even list.\t \n",
    "\tevenEnd . next = oddStart \n",
    "\toddEnd . next = None\n",
    "\t\n",
    "\t# Modify head pointer to \n",
    "\t# starting of even list. \n",
    "\thead = evenStart \n",
    "\n",
    "''' UTILITY FUNCTIONS '''\n",
    "''' Function to insert a node at the beginning '''\n",
    "def push(new_data): \n",
    "\t\n",
    "\tglobal head \n",
    "\t# 1 & 2: Allocate the Node & \n",
    "\t#\t\t Put in the data \n",
    "\tnew_node = Node(new_data) \n",
    "\t\n",
    "\t# 3. Make next of new Node as head \n",
    "\tnew_node.next = head \n",
    "\t\n",
    "\t# 4. Move the head to point to new Node \n",
    "\thead = new_node \n",
    "\n",
    "''' Function to prnodes in a given linked list '''\n",
    "def printList(): \n",
    "\tglobal head \n",
    "\tnode = head \n",
    "\twhile (node != None): \n",
    "\t\tprint(node.data, end = \" \") \n",
    "\t\tnode = node.next\n",
    "\tprint() \n",
    "\t\n",
    "''' Driver program to test above functions'''\n",
    "\n",
    "''' Let us create a sample linked list as following \n",
    "0.1.4.6.9.10.11 '''\n",
    "\n",
    "push(11) \n",
    "push(10) \n",
    "push(9) \n",
    "push(6) \n",
    "push(4) \n",
    "push(1) \n",
    "push(0) \n",
    "\n",
    "print(\"Original Linked list\") \n",
    "printList() \n",
    "\n",
    "segregateEvenOdd() \n",
    "\n",
    "print(\"Modified Linked list\") \n",
    "printList() \n",
    "\n",
    "# This code is contributed by shubhamsingh10. \n"
   ]
  },
  {
   "cell_type": "code",
   "execution_count": 12,
   "metadata": {},
   "outputs": [
    {
     "name": "stdout",
     "output_type": "stream",
     "text": [
      "First List is ->7->5->9->4->6->\n",
      "Second List is ->8->4->\n",
      "Resultant list is ->5->0->0->5->6->"
     ]
    }
   ],
   "source": [
    "# Python program to add two numbers represented by linked list \n",
    "\n",
    "# Node class \n",
    "class Node: \n",
    "\n",
    "    # Constructor to initialize the node object \n",
    "    def __init__(self, data): \n",
    "        self.data = data \n",
    "        self.next = None\n",
    "\n",
    "class LinkedList: \n",
    "\n",
    "    # Function to initialize head \n",
    "    def __init__(self): \n",
    "        self.head = None\n",
    "\n",
    "    # Function to insert a new node at the beginning \n",
    "    def push(self, new_data): \n",
    "        new_node = Node(new_data) \n",
    "        new_node.next = self.head \n",
    "        self.head = new_node \n",
    "\n",
    "    # Add contents of two linked lists and return the head \n",
    "    # node of resultant list \n",
    "    def addTwoLists(self, first, second): \n",
    "        prev=None\n",
    "        temp=None\n",
    "        carry=0\n",
    "        while (first is not None or second is not None):\n",
    "            f=0 if first is None else first.data\n",
    "            s=0 if second is None else second.data\n",
    "            Sum=carry+f+s\n",
    "            carry=1 if Sum>=10 else 0\n",
    "            Sum=Sum if Sum <10 else Sum%10\n",
    "            \n",
    "            \n",
    "            temp=Node(Sum)\n",
    "            if self.head is None:\n",
    "                self.head=temp\n",
    "            else:\n",
    "                prev.next=temp\n",
    "            \n",
    "            prev=temp\n",
    "            \n",
    "            if first is not None: first=first.next\n",
    "            if second is not None: second = second.next\n",
    "            \n",
    "            if carry>0:\n",
    "                temp.next=Node(carry)\n",
    "            \n",
    "\n",
    "    # Utility function to print the linked LinkedList \n",
    "    def printList(self): \n",
    "        temp = self.head \n",
    "        while(temp): \n",
    "            print(temp.data,end=\"->\") \n",
    "            temp = temp.next\n",
    "\n",
    "# Driver program to test above function \n",
    "first = LinkedList() \n",
    "second = LinkedList() \n",
    "\n",
    "# Create first list \n",
    "first.push(6) \n",
    "first.push(4) \n",
    "first.push(9) \n",
    "first.push(5) \n",
    "first.push(7) \n",
    "print (\"First List is \",end=\"->\") \n",
    "first.printList() \n",
    "\n",
    "# Create second list \n",
    "second.push(4) \n",
    "second.push(8) \n",
    "print(\"\\nSecond List is \",end=\"->\") \n",
    "second.printList() \n",
    "\n",
    "# Add the two lists and see result \n",
    "res = LinkedList() \n",
    "res.addTwoLists(first.head, second.head) \n",
    "print(\"\\nResultant list is \",end=\"->\") \n",
    "res.printList() \n",
    "\n",
    "# This code is contributed by Nikhil Kumar Singh(nickzuck_007) \n"
   ]
  },
  {
   "cell_type": "code",
   "execution_count": 3,
   "metadata": {},
   "outputs": [],
   "source": [
    "# nth node "
   ]
  },
  {
   "cell_type": "code",
   "execution_count": 4,
   "metadata": {},
   "outputs": [
    {
     "data": {
      "text/plain": [
       "3"
      ]
     },
     "execution_count": 4,
     "metadata": {},
     "output_type": "execute_result"
    }
   ],
   "source": [
    "def nth(head,ind):\n",
    "    node=head\n",
    "    if node is None:\n",
    "        return\n",
    "    for i in range(ind):\n",
    "        node=node.next\n",
    "    return node.key\n",
    "nth(a,2)"
   ]
  },
  {
   "cell_type": "code",
   "execution_count": null,
   "metadata": {},
   "outputs": [],
   "source": []
  }
 ],
 "metadata": {
  "kernelspec": {
   "display_name": "Python 3",
   "language": "python",
   "name": "python3"
  },
  "language_info": {
   "codemirror_mode": {
    "name": "ipython",
    "version": 3
   },
   "file_extension": ".py",
   "mimetype": "text/x-python",
   "name": "python",
   "nbconvert_exporter": "python",
   "pygments_lexer": "ipython3",
   "version": "3.7.6"
  }
 },
 "nbformat": 4,
 "nbformat_minor": 4
}
