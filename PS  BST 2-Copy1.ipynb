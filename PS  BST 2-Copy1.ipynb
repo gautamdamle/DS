{
 "cells": [
  {
   "cell_type": "code",
   "execution_count": 1,
   "metadata": {},
   "outputs": [],
   "source": [
    "# 26,27,33,34,35 in tree\n"
   ]
  },
  {
   "cell_type": "code",
   "execution_count": 17,
   "metadata": {},
   "outputs": [],
   "source": [
    "class Node: \n",
    "    def __init__(self,val): \n",
    "        self.val=val \n",
    "        self.left=None\n",
    "        self.right=None\n",
    "root = Node(11) \n",
    "root.left = Node(5) \n",
    "root.right = Node(15) \n",
    "root.left.left = Node(2) \n",
    "root.right.right = Node(22)\n",
    "root.left.right=Node(5)\n",
    "root.right.left=Node(13)\n",
    "root.left.left.left=Node(1)\n",
    "root.left.left.right=Node(3)\n",
    "root.right.left.right=Node(14)\n",
    "\n",
    "#              11\n",
    "#            /    \\\n",
    "#           5      15\n",
    "#          / \\    /  \\\n",
    "#         2   5  13   22\n",
    "#        / \\       \\\n",
    "#       1   3     14\n",
    "# 1 2 9 5 11"
   ]
  },
  {
   "cell_type": "code",
   "execution_count": 3,
   "metadata": {},
   "outputs": [],
   "source": [
    "# delete a node in tree  # Didnt do"
   ]
  },
  {
   "cell_type": "code",
   "execution_count": 4,
   "metadata": {},
   "outputs": [
    {
     "name": "stdout",
     "output_type": "stream",
     "text": [
      "The tree before the deletion:\n",
      "7 11 12 10 15 9 8 \n",
      "The tree after the deletion;\n",
      "7 8 12 10 15 9 "
     ]
    }
   ],
   "source": [
    "# Python3 program to illustrate deletion in a Binary Tree \n",
    "\n",
    "# class to create a node with data, left child and right child. \n",
    "class Node: \n",
    "\tdef __init__(self,data): \n",
    "\t\tself.data = data \n",
    "\t\tself.left = None\n",
    "\t\tself.right = None\n",
    "\n",
    "# Inorder traversal of a binary tree \n",
    "def inorder(temp): \n",
    "\tif(not temp): \n",
    "\t\treturn\n",
    "\tinorder(temp.left) \n",
    "\tprint(temp.data, end = \" \") \n",
    "\tinorder(temp.right) \n",
    "\n",
    "# function to delete the given deepest node (d_node) in binary tree \n",
    "def deleteDeepest(root,d_node): \n",
    "\tq = [] \n",
    "\tq.append(root) \n",
    "\twhile(len(q)): \n",
    "\t\ttemp = q.pop(0) \n",
    "\t\tif temp is d_node: \n",
    "\t\t\ttemp = None\n",
    "\t\t\treturn\n",
    "\t\tif temp.right: \n",
    "\t\t\tif temp.right is d_node: \n",
    "\t\t\t\ttemp.right = None\n",
    "\t\t\t\treturn\n",
    "\t\t\telse: \n",
    "\t\t\t\tq.append(temp.right) \n",
    "\t\tif temp.left: \n",
    "\t\t\tif temp.left is d_node: \n",
    "\t\t\t\ttemp.left = None\n",
    "\t\t\t\treturn\n",
    "\t\t\telse: \n",
    "\t\t\t\tq.append(temp.left) \n",
    "\n",
    "# function to delete element in binary tree \n",
    "def deletion(root, key): \n",
    "\tif root == None : \n",
    "\t\treturn None\n",
    "\tif root.left == None and root.right == None: \n",
    "\t\tif root.key == key : \n",
    "\t\t\treturn None\n",
    "\t\telse : \n",
    "\t\t\treturn root \n",
    "\tkey_node = None\n",
    "\tq = [] \n",
    "\tq.append(root) \n",
    "\twhile(len(q)): \n",
    "\t\ttemp = q.pop(0) \n",
    "\t\tif temp.data == key: \n",
    "\t\t\tkey_node = temp \n",
    "\t\tif temp.left: \n",
    "\t\t\tq.append(temp.left) \n",
    "\t\tif temp.right: \n",
    "\t\t\tq.append(temp.right) \n",
    "\tif key_node : \n",
    "\t\tx = temp.data \n",
    "\t\tdeleteDeepest(root,temp) \n",
    "\t\tkey_node.data = x \n",
    "\treturn root \n",
    "\n",
    "# Driver code \n",
    "if __name__=='__main__': \n",
    "\troot = Node(10) \n",
    "\troot.left = Node(11) \n",
    "\troot.left.left = Node(7) \n",
    "\troot.left.right = Node(12) \n",
    "\troot.right = Node(9) \n",
    "\troot.right.left = Node(15) \n",
    "\troot.right.right = Node(8) \n",
    "\tprint(\"The tree before the deletion:\") \n",
    "\tinorder(root) \n",
    "\tkey = 11\n",
    "\troot = deletion(root, key) \n",
    "\tprint() \n",
    "\tprint(\"The tree after the deletion;\") \n",
    "\tinorder(root) \n",
    "\t\n",
    "# This code is contributed by Monika Anandan "
   ]
  },
  {
   "cell_type": "code",
   "execution_count": 5,
   "metadata": {},
   "outputs": [],
   "source": [
    "# num of leaf nodes"
   ]
  },
  {
   "cell_type": "code",
   "execution_count": 6,
   "metadata": {},
   "outputs": [
    {
     "data": {
      "text/plain": [
       "3"
      ]
     },
     "execution_count": 6,
     "metadata": {},
     "output_type": "execute_result"
    }
   ],
   "source": [
    "def num_of_leaves(root):\n",
    "    c=0\n",
    "    if root is None:\n",
    "        return 0\n",
    "    q=[]\n",
    "    q.append(root)\n",
    "    while q:\n",
    "        e=q.pop(0)\n",
    "        if not e.left and not e.right:\n",
    "            c+=1\n",
    "        else:\n",
    "            if e.left:\n",
    "                q.append(e.left)\n",
    "            if e.right:\n",
    "                q.append(e.right)\n",
    "    return c\n",
    "num_of_leaves(root)"
   ]
  },
  {
   "cell_type": "code",
   "execution_count": 7,
   "metadata": {},
   "outputs": [],
   "source": [
    "# full nodes"
   ]
  },
  {
   "cell_type": "code",
   "execution_count": 8,
   "metadata": {},
   "outputs": [
    {
     "data": {
      "text/plain": [
       "2"
      ]
     },
     "execution_count": 8,
     "metadata": {},
     "output_type": "execute_result"
    }
   ],
   "source": [
    "def fullNodes(root):\n",
    "    c=0\n",
    "    if root is None:\n",
    "        return 0\n",
    "    q=[]\n",
    "    q.append(root)\n",
    "    while q:\n",
    "        e=q.pop(0)\n",
    "        if e.left and e.right:\n",
    "            c+=1\n",
    "        if e.left:\n",
    "            q.append(e.left)\n",
    "        if e.right:\n",
    "            q.append(e.right)\n",
    "    return c\n",
    "fullNodes(root)"
   ]
  },
  {
   "cell_type": "code",
   "execution_count": 9,
   "metadata": {},
   "outputs": [
    {
     "data": {
      "text/plain": [
       "1"
      ]
     },
     "execution_count": 9,
     "metadata": {},
     "output_type": "execute_result"
    }
   ],
   "source": [
    "def halfNodes(root):\n",
    "    c=0\n",
    "    if root is None:\n",
    "        return 0\n",
    "    q=[]\n",
    "    q.append(root)\n",
    "    while q:\n",
    "        e=q.pop(0)\n",
    "        if((e.left and not e.right)or(not e.left and e.right)):\n",
    "            c+=1\n",
    "        if e.left:\n",
    "            q.append(e.left)\n",
    "        if e.right:\n",
    "            q.append(e.right)\n",
    "    return c\n",
    "halfNodes(root)"
   ]
  },
  {
   "cell_type": "code",
   "execution_count": 18,
   "metadata": {},
   "outputs": [
    {
     "data": {
      "text/plain": [
       "True"
      ]
     },
     "execution_count": 18,
     "metadata": {},
     "output_type": "execute_result"
    }
   ],
   "source": [
    "def check(root1,root2):\n",
    "    if not root1 and not root2:\n",
    "        return True\n",
    "    if root1.val!=root2.val:\n",
    "        return False\n",
    "    l=check(root1.left,root2.left)\n",
    "    r=check(root1.right,root2.right)\n",
    "    return l and r\n",
    "# check(root,root)\n",
    "root2 = Node(11) \n",
    "root2.left = Node(5) \n",
    "root2.right = Node(15) \n",
    "root2.left.left = Node(2) \n",
    "root2.right.right = Node(22)\n",
    "root2.left.right=Node(5)\n",
    "root2.right.left=Node(13)\n",
    "root2.left.left.left=Node(1)\n",
    "root2.left.left.right=Node(3)\n",
    "root2.right.left.right=Node(14)\n",
    "check(root,root2)"
   ]
  },
  {
   "cell_type": "code",
   "execution_count": 11,
   "metadata": {},
   "outputs": [],
   "source": [
    "# diameter..O(n^2)"
   ]
  },
  {
   "cell_type": "code",
   "execution_count": 12,
   "metadata": {},
   "outputs": [
    {
     "data": {
      "text/plain": [
       "5"
      ]
     },
     "execution_count": 12,
     "metadata": {},
     "output_type": "execute_result"
    }
   ],
   "source": [
    "def h(root):\n",
    "    if root is None:\n",
    "        return 0\n",
    "    return 1+max(h(root.left),h(root.right))\n",
    "def diameter(root):\n",
    "    if root is None:\n",
    "        return 0\n",
    "    lh=h(root.left)\n",
    "    rh=h(root.right)\n",
    "    \n",
    "    ldia=diameter(root.left)\n",
    "    rdia=diameter(root.right)\n",
    "    \n",
    "    return max(lh+rh+1,max(ldia,rdia))\n",
    "diameter(root)"
   ]
  },
  {
   "cell_type": "code",
   "execution_count": 13,
   "metadata": {},
   "outputs": [],
   "source": [
    "#O(n)"
   ]
  },
  {
   "cell_type": "code",
   "execution_count": 14,
   "metadata": {},
   "outputs": [
    {
     "name": "stdout",
     "output_type": "stream",
     "text": [
      "4\n"
     ]
    }
   ],
   "source": [
    "\"\"\" \n",
    "python program to find the diameter of a binary tree \n",
    "\"\"\"\n",
    "\n",
    "# A binary tree Node \n",
    "class Node: \n",
    "\n",
    "\t# Constructor to create a new Node \n",
    "\tdef __init__(self, data): \n",
    "\t\tself.data = data \n",
    "\t\tself.left = self.right = None\n",
    "\n",
    "# utility class to pass height object \n",
    "class Height: \n",
    "\tdef __init(self): \n",
    "\t\tself.h = 0\n",
    "\n",
    "# Optimised recursive function to find diameter \n",
    "# of binary tree \n",
    "def diameterOpt(root, height): \n",
    "\n",
    "\t# to store height of left and right subtree \n",
    "\tlh = Height() \n",
    "\trh = Height() \n",
    "\n",
    "\t# base condition- when binary tree is empty \n",
    "\tif root is None: \n",
    "\t\theight.h = 0\n",
    "\t\treturn 0\n",
    "\n",
    "\t\"\"\" \n",
    "\tldiameter --> diameter of left subtree \n",
    "\trdiamter --> diameter of right subtree \n",
    "\t\n",
    "\theight of left subtree and right subtree is obtained from lh and rh \n",
    "\tand returned value of function is stored in ldiameter and rdiameter \n",
    "\t\"\"\"\n",
    "\tldiameter = diameterOpt(root.left, lh) \n",
    "\trdiameter = diameterOpt(root.right, rh) \n",
    "\n",
    "\t# height of tree will be max of left subtree \n",
    "\t# height and right subtree height plus1 \n",
    "\n",
    "\theight.h = max(lh.h, rh.h) + 1\n",
    "\n",
    "\t# return maximum of the following \n",
    "\t# 1)left diameter \n",
    "\t# 2)right diameter \n",
    "\t# 3)left height + right height + 1 \n",
    "\treturn max(lh.h + rh.h + 1, max(ldiameter, rdiameter)) \n",
    "\n",
    "# function to calculate diameter of binary tree \n",
    "def diameter(root): \n",
    "\theight = Height() \n",
    "\treturn diameterOpt(root, height) \n",
    "\n",
    "\n",
    "# Driver function to test the above function \n",
    "\"\"\" \n",
    "Constructed binary tree is \n",
    "\t\t\t1 \n",
    "\t\t/ \\ \n",
    "\t\t2\t 3 \n",
    "\t/ \\ \n",
    "\t4\t 5 \n",
    "\"\"\"\n",
    "root = Node(1) \n",
    "root.left = Node(2) \n",
    "root.right = Node(3) \n",
    "root.left.left = Node(4) \n",
    "root.left.right = Node(5) \n",
    "\n",
    "print( diameter(root) ) \n",
    "\n",
    "# This code is contributed by Shweta Singh(shweta44) "
   ]
  },
  {
   "cell_type": "code",
   "execution_count": 15,
   "metadata": {},
   "outputs": [],
   "source": [
    "# print root to leaf path.."
   ]
  },
  {
   "cell_type": "code",
   "execution_count": 19,
   "metadata": {},
   "outputs": [
    {
     "name": "stdout",
     "output_type": "stream",
     "text": [
      "11 5 2 1 \n",
      "\n",
      "11 5 2 3 \n",
      "\n",
      "11 5 5 \n",
      "\n",
      "11 15 13 14 \n",
      "\n",
      "11 15 22 \n",
      "\n"
     ]
    }
   ],
   "source": [
    "def rootToLeafPaths(root):\n",
    "    if root is None:\n",
    "        return 0\n",
    "    path=[]\n",
    "    l=0\n",
    "    return h(root,path)\n",
    "\n",
    "def h(node,path):\n",
    "    if node is None:\n",
    "        return\n",
    "    path.append(node.val)\n",
    "    \n",
    "    h(node.left,path)\n",
    "    \n",
    "    h(node.right,path)\n",
    "    \n",
    "    if node.left is None and node.right is None:\n",
    "        printa(path)\n",
    "    path.pop()\n",
    "\n",
    "def printa(path):\n",
    "    for i in path:\n",
    "        print(i,end=\" \")\n",
    "    print('\\n')\n",
    "rootToLeafPaths(root)\n",
    "\n",
    "#              11\n",
    "#            /    \\\n",
    "#           5      15\n",
    "#          / \\    /  \\\n",
    "#         2   5  13   22\n",
    "#        / \\       \\\n",
    "#       1   3     14"
   ]
  },
  {
   "cell_type": "code",
   "execution_count": null,
   "metadata": {},
   "outputs": [],
   "source": [
    "# add all nodes..O(n)"
   ]
  },
  {
   "cell_type": "code",
   "execution_count": 20,
   "metadata": {},
   "outputs": [
    {
     "data": {
      "text/plain": [
       "91"
      ]
     },
     "execution_count": 20,
     "metadata": {},
     "output_type": "execute_result"
    }
   ],
   "source": [
    "def addAllNodes(root):\n",
    "    if root is None:\n",
    "        return 0\n",
    "    return root.val+addAllNodes(root.left)+addAllNodes(root.right)\n",
    "addAllNodes(root)"
   ]
  },
  {
   "cell_type": "code",
   "execution_count": 21,
   "metadata": {},
   "outputs": [
    {
     "data": {
      "text/plain": [
       "13"
      ]
     },
     "execution_count": 21,
     "metadata": {},
     "output_type": "execute_result"
    }
   ],
   "source": [
    "def ribt(tree):\n",
    "    if tree is None:\n",
    "        return\n",
    "    swap(tree)\n",
    "    ribt(tree.left)\n",
    "    ribt(tree.right)\n",
    "def swap(tree):\n",
    "    tree.left,tree.right=tree.right,tree.left\n",
    "ribt(root)\n",
    "root.left.right.val"
   ]
  },
  {
   "cell_type": "code",
   "execution_count": 22,
   "metadata": {},
   "outputs": [],
   "source": [
    "def iibt(tree):\n",
    "    q=[]\n",
    "    q.append(tree)\n",
    "    while q:\n",
    "        ele=q.pop(0)\n",
    "        if ele is None:\n",
    "            continue\n",
    "        swap(ele)\n",
    "        if ele.left:\n",
    "            q.append(ele.left)\n",
    "        if ele.right:\n",
    "            q.append(ele.right)\n",
    "def swap(node):\n",
    "    node.left,node.right=node.right,node.left"
   ]
  },
  {
   "cell_type": "code",
   "execution_count": 23,
   "metadata": {},
   "outputs": [],
   "source": [
    "# Youngest Common Ancestor"
   ]
  },
  {
   "cell_type": "code",
   "execution_count": 24,
   "metadata": {},
   "outputs": [
    {
     "data": {
      "text/plain": [
       "11"
      ]
     },
     "execution_count": 24,
     "metadata": {},
     "output_type": "execute_result"
    }
   ],
   "source": [
    "def yca(root,a,b):\n",
    "    while 1:\n",
    "        if (root.val<=a and root.val>=b)or(root.val>=a and root.val <=b):\n",
    "            return root.val\n",
    "        if a<=root.val:\n",
    "            root=root.left\n",
    "        elif a>=root.val:\n",
    "            root=root.right\n",
    "yca(root,5,22)"
   ]
  },
  {
   "cell_type": "code",
   "execution_count": 25,
   "metadata": {},
   "outputs": [
    {
     "data": {
      "text/plain": [
       "11"
      ]
     },
     "execution_count": 25,
     "metadata": {},
     "output_type": "execute_result"
    }
   ],
   "source": [
    "def ryca(root,a,b):\n",
    "    if (root.val<=a and root.val>=b)or(root.val>=a and root.val <=b):\n",
    "            return root.val\n",
    "    if a<root.val:\n",
    "        ryca(root.left,a,b)\n",
    "    elif a>=root.val:\n",
    "        ryca(root.right,a,b)\n",
    "ryca(root,5,22)"
   ]
  },
  {
   "cell_type": "code",
   "execution_count": 26,
   "metadata": {},
   "outputs": [],
   "source": [
    "# zig zag traversal ..T=O(n)..S=O(n)+O(n)"
   ]
  },
  {
   "cell_type": "code",
   "execution_count": 27,
   "metadata": {},
   "outputs": [
    {
     "name": "stdout",
     "output_type": "stream",
     "text": [
      "11 5 15 22 13 5 2 1 3 14 "
     ]
    }
   ],
   "source": [
    "def zigZagTraversal(root):\n",
    "    if not root:\n",
    "        return\n",
    "    ltr=1\n",
    "    curl=[]\n",
    "    nextl=[]\n",
    "    curl.append(root)\n",
    "    while curl:\n",
    "        t=curl.pop()\n",
    "        if t:\n",
    "            print(t.val,end=\" \")\n",
    "        if ltr:\n",
    "            if t.left:\n",
    "                nextl.append(t.left)\n",
    "            if t.right:\n",
    "                nextl.append(t.right)\n",
    "        else:\n",
    "            if t.right:\n",
    "                nextl.append(t.right)\n",
    "            if t.left:\n",
    "                nextl.append(t.left)\n",
    "        if len(curl)==0:\n",
    "            ltr=1-ltr\n",
    "            curl,nextl=nextl,curl\n",
    "zigZagTraversal(root)   "
   ]
  },
  {
   "cell_type": "code",
   "execution_count": 28,
   "metadata": {},
   "outputs": [],
   "source": [
    "# vertical sum"
   ]
  },
  {
   "cell_type": "code",
   "execution_count": 29,
   "metadata": {},
   "outputs": [
    {
     "data": {
      "text/plain": [
       "{-2: 22, -1: 29, 0: 29, 1: 8, 2: 2, 3: 1}"
      ]
     },
     "execution_count": 29,
     "metadata": {},
     "output_type": "execute_result"
    }
   ],
   "source": [
    "def verticalSum(root,column,h):\n",
    "    if root is None:\n",
    "        return 0\n",
    "    verticalSum(root.left,column-1,h)\n",
    "    if column in h:\n",
    "        h[column]+=root.val\n",
    "    else:\n",
    "        h[column]=root.val\n",
    "    verticalSum(root.right,column+1,h)\n",
    "    return h\n",
    "h={}\n",
    "column=0\n",
    "verticalSum(root,column,h)"
   ]
  },
  {
   "cell_type": "code",
   "execution_count": null,
   "metadata": {},
   "outputs": [],
   "source": [
    "# A program to construct Binary \n",
    "# Tree from preorder traversal \n",
    "\n",
    "# Utility function to create a \n",
    "# new Binary Tree node \n",
    "class newNode:\n",
    "    def __init__(self, data): \n",
    "        self.data = data \n",
    "        self.left = None\n",
    "        self.right = None\n",
    "\n",
    "        # A recursive function to create a \n",
    "        # Binary Tree from given pre[] preLN[] \n",
    "        # arrays. The function returns root of \n",
    "        # tree. index_ptr is used to update \n",
    "        # index values in recursive calls. index \n",
    "        # must be initially passed as 0 \n",
    "def constructTreeUtil(pre, preLN, index_ptr, n): \n",
    "\n",
    "    index = index_ptr[0] # store the current value \n",
    "                        # of index in pre[] \n",
    "\n",
    "        # Base Case: All nodes are constructed \n",
    "    if index == n: \n",
    "        return None\n",
    "\n",
    "        # Allocate memory for this node and \n",
    "        # increment index for subsequent \n",
    "        # recursive calls \n",
    "    temp = newNode(pre[index]) \n",
    "    index_ptr[0] += 1\n",
    "    print('index_ptr is ',index_ptr)\n",
    "    print('preLN[index]',preLN[index])\n",
    "\n",
    "        # If this is an internal node, construct left \n",
    "        # and right subtrees and link the subtrees \n",
    "    if preLN[index] == 'N': \n",
    "        temp.left = constructTreeUtil(pre, preLN, \n",
    "                                    index_ptr, n) \n",
    "        temp.right = constructTreeUtil(pre, preLN, \n",
    "                                    index_ptr, n) \n",
    "\n",
    "    return temp \n",
    "\n",
    "        # A wrapper over constructTreeUtil() \n",
    "def constructTree(pre, preLN, n): \n",
    "\n",
    "        # Initialize index as 0. Value of index is \n",
    "        # used in recursion to maintain the current \n",
    "        # index in pre[] and preLN[] arrays. \n",
    "    index = [0] \n",
    "\n",
    "    return constructTreeUtil(pre, preLN, index, n) \n",
    "\n",
    "        # This function is used only for testing \n",
    "def printInorder (node): \n",
    "    if node == None: \n",
    "        return\n",
    "\n",
    "    # first recur on left child \n",
    "    printInorder(node.left) \n",
    "\n",
    "    # then print the data of node \n",
    "    print(node.data,end=\" \") \n",
    "\n",
    "    # now recur on right child \n",
    "    printInorder (node.right) \n",
    "\n",
    "    # Driver Code \n",
    "if __name__ == '__main__': \n",
    "    root = None\n",
    "\n",
    "    # Constructing tree given in \n",
    "    # the above figure \n",
    "    #\t 10 \n",
    "    #\t / \\ \n",
    "    # 30 15 \n",
    "    # / \\ \n",
    "    # 20 5 \n",
    "    pre = [10, 30, 20, 5, 15] \n",
    "    preLN = ['N', 'N', 'L', 'L', 'L'] \n",
    "    n = len(pre) \n",
    "\n",
    "    # construct the above tree \n",
    "    root = constructTree (pre, preLN, n) \n",
    "\n",
    "    # Test the constructed tree \n",
    "    print(\"Following is Inorder Traversal of\", \n",
    "        \"the Constructed Binary Tree:\") \n",
    "    printInorder (root) \n",
    "\n",
    "    # This code is contributed by PranchalK \n"
   ]
  },
  {
   "cell_type": "code",
   "execution_count": 30,
   "metadata": {},
   "outputs": [],
   "source": [
    "# sum equal...one node from 1 tree..Total 2 trees"
   ]
  },
  {
   "cell_type": "code",
   "execution_count": 31,
   "metadata": {},
   "outputs": [],
   "source": [
    "class Node: \n",
    "    def __init__(self,val): \n",
    "        self.val=val \n",
    "        self.left=None\n",
    "        self.right=None\n",
    "root = Node(10) \n",
    "root.left = Node(5) \n",
    "root.right = Node(15) \n",
    "root.left.left = Node(2) \n",
    "root.right.right = Node(22)\n",
    "root.left.right=Node(6)\n",
    "root.right.left=Node(13)\n",
    "root.left.left.left=Node(1)\n",
    "root.left.left.right=Node(4)\n",
    "root.right.left.right=Node(14)\n",
    "root2 = Node(12) \n",
    "root2.left = Node(5) \n",
    "root2.right = Node(22) \n",
    "root2.left.left = Node(1) \n",
    "root2.left.right = Node(6)\n",
    "root2.right.left=Node(20)\n"
   ]
  },
  {
   "cell_type": "code",
   "execution_count": 32,
   "metadata": {},
   "outputs": [
    {
     "data": {
      "text/plain": [
       "{(4, 6), (5, 5)}"
      ]
     },
     "execution_count": 32,
     "metadata": {},
     "output_type": "execute_result"
    }
   ],
   "source": [
    "def inorder(root,node):\n",
    "    if root is None:\n",
    "        return\n",
    "    inorder(root.left,node)\n",
    "    node.append(root.val)\n",
    "    inorder(root.right,node)\n",
    "def sums(root1,root2,s):\n",
    "    node1=[]\n",
    "    node2=[]\n",
    "    inorder(root1,node1)\n",
    "    inorder(root2,node2)\n",
    "#     print(node1)\n",
    "#     print(node2)\n",
    "    out=set()\n",
    "    seen=set()\n",
    "    for i in node1:\n",
    "        seen.add(i)\n",
    "    for j in node2:\n",
    "        t=s-j\n",
    "        if t in seen:\n",
    "            out.add((t,j))\n",
    "#     print(seen)\n",
    "    return out\n",
    "    \n",
    "sums(root,root2,10)"
   ]
  },
  {
   "cell_type": "code",
   "execution_count": 33,
   "metadata": {},
   "outputs": [],
   "source": [
    "# LCA"
   ]
  },
  {
   "cell_type": "code",
   "execution_count": 34,
   "metadata": {},
   "outputs": [
    {
     "data": {
      "text/plain": [
       "15"
      ]
     },
     "execution_count": 34,
     "metadata": {},
     "output_type": "execute_result"
    }
   ],
   "source": [
    "def LCA(root,a,b):\n",
    "    while 1:\n",
    "        if ((a<=root.val and b>=root.val) or (a>=root.val and b<=root.val)):\n",
    "            return root.val\n",
    "        if b<root.val:\n",
    "            root=root.left\n",
    "        else:\n",
    "            root=root.right\n",
    "LCA(root,22,13)"
   ]
  },
  {
   "cell_type": "code",
   "execution_count": 35,
   "metadata": {},
   "outputs": [],
   "source": [
    "class DLL:\n",
    "    def __init__(self):\n",
    "        self.head=None\n",
    "class Node:\n",
    "    def __init__(self,key=0):\n",
    "        self.key=key\n",
    "        self.next=None\n",
    "        self.prev=None\n",
    "\n",
    "a=Node(1)\n",
    "b=Node(2)\n",
    "c=Node(3)\n",
    "d=Node(4)\n",
    "e=Node(5)\n",
    "a.next=b\n",
    "b.prev=a\n",
    "b.next=c\n",
    "c.prev=b\n",
    "c.next=d\n",
    "d.prev=c\n",
    "d.next=e\n",
    "e.prev=d"
   ]
  },
  {
   "cell_type": "code",
   "execution_count": 36,
   "metadata": {
    "collapsed": true
   },
   "outputs": [
    {
     "ename": "AttributeError",
     "evalue": "'NoneType' object has no attribute 'prev'",
     "output_type": "error",
     "traceback": [
      "\u001b[1;31m---------------------------------------------------------------------------\u001b[0m",
      "\u001b[1;31mAttributeError\u001b[0m                            Traceback (most recent call last)",
      "\u001b[1;32m<ipython-input-36-735dffd6db21>\u001b[0m in \u001b[0;36m<module>\u001b[1;34m\u001b[0m\n\u001b[0;32m     27\u001b[0m     \u001b[0mpreOrder\u001b[0m\u001b[1;33m(\u001b[0m\u001b[0mroot\u001b[0m\u001b[1;33m.\u001b[0m\u001b[0mprev\u001b[0m\u001b[1;33m)\u001b[0m\u001b[1;33m\u001b[0m\u001b[1;33m\u001b[0m\u001b[0m\n\u001b[0;32m     28\u001b[0m     \u001b[0mpreOrder\u001b[0m\u001b[1;33m(\u001b[0m\u001b[0mroot\u001b[0m\u001b[1;33m.\u001b[0m\u001b[0mnext\u001b[0m\u001b[1;33m)\u001b[0m\u001b[1;33m\u001b[0m\u001b[1;33m\u001b[0m\u001b[0m\n\u001b[1;32m---> 29\u001b[1;33m \u001b[0mr\u001b[0m\u001b[1;33m=\u001b[0m\u001b[0mDllToBst\u001b[0m\u001b[1;33m(\u001b[0m\u001b[0ma\u001b[0m\u001b[1;33m)\u001b[0m\u001b[1;33m\u001b[0m\u001b[1;33m\u001b[0m\u001b[0m\n\u001b[0m\u001b[0;32m     30\u001b[0m \u001b[0mpreOrder\u001b[0m\u001b[1;33m(\u001b[0m\u001b[0mr\u001b[0m\u001b[1;33m)\u001b[0m\u001b[1;33m\u001b[0m\u001b[1;33m\u001b[0m\u001b[0m\n",
      "\u001b[1;32m<ipython-input-36-735dffd6db21>\u001b[0m in \u001b[0;36mDllToBst\u001b[1;34m(node)\u001b[0m\n\u001b[0;32m      1\u001b[0m \u001b[1;32mdef\u001b[0m \u001b[0mDllToBst\u001b[0m\u001b[1;33m(\u001b[0m\u001b[0mnode\u001b[0m\u001b[1;33m)\u001b[0m\u001b[1;33m:\u001b[0m\u001b[1;33m\u001b[0m\u001b[1;33m\u001b[0m\u001b[0m\n\u001b[0;32m      2\u001b[0m     \u001b[0mn\u001b[0m\u001b[1;33m=\u001b[0m\u001b[0mcountNodesOfDLL\u001b[0m\u001b[1;33m(\u001b[0m\u001b[0mnode\u001b[0m\u001b[1;33m)\u001b[0m\u001b[1;33m\u001b[0m\u001b[1;33m\u001b[0m\u001b[0m\n\u001b[1;32m----> 3\u001b[1;33m     \u001b[1;32mreturn\u001b[0m \u001b[0mhelper\u001b[0m\u001b[1;33m(\u001b[0m\u001b[0mnode\u001b[0m\u001b[1;33m,\u001b[0m\u001b[0mn\u001b[0m\u001b[1;33m)\u001b[0m\u001b[1;33m\u001b[0m\u001b[1;33m\u001b[0m\u001b[0m\n\u001b[0m\u001b[0;32m      4\u001b[0m \u001b[1;33m\u001b[0m\u001b[0m\n\u001b[0;32m      5\u001b[0m \u001b[1;32mdef\u001b[0m \u001b[0mcountNodesOfDLL\u001b[0m\u001b[1;33m(\u001b[0m\u001b[0mnode\u001b[0m\u001b[1;33m)\u001b[0m\u001b[1;33m:\u001b[0m\u001b[1;33m\u001b[0m\u001b[1;33m\u001b[0m\u001b[0m\n",
      "\u001b[1;32m<ipython-input-36-735dffd6db21>\u001b[0m in \u001b[0;36mhelper\u001b[1;34m(node, n)\u001b[0m\n\u001b[0;32m     18\u001b[0m     \u001b[0mroot\u001b[0m\u001b[1;33m.\u001b[0m\u001b[0mprev\u001b[0m\u001b[1;33m=\u001b[0m\u001b[0mleft\u001b[0m\u001b[1;33m\u001b[0m\u001b[1;33m\u001b[0m\u001b[0m\n\u001b[0;32m     19\u001b[0m     \u001b[0mnode\u001b[0m\u001b[1;33m=\u001b[0m\u001b[0mnode\u001b[0m\u001b[1;33m.\u001b[0m\u001b[0mnext\u001b[0m\u001b[1;33m\u001b[0m\u001b[1;33m\u001b[0m\u001b[0m\n\u001b[1;32m---> 20\u001b[1;33m     \u001b[0mroot\u001b[0m\u001b[1;33m.\u001b[0m\u001b[0mnext\u001b[0m\u001b[1;33m=\u001b[0m\u001b[0mhelper\u001b[0m\u001b[1;33m(\u001b[0m\u001b[0mnode\u001b[0m\u001b[1;33m,\u001b[0m\u001b[0mn\u001b[0m\u001b[1;33m-\u001b[0m\u001b[0mn\u001b[0m\u001b[1;33m//\u001b[0m\u001b[1;36m2\u001b[0m\u001b[1;33m-\u001b[0m\u001b[1;36m1\u001b[0m\u001b[1;33m)\u001b[0m\u001b[1;33m\u001b[0m\u001b[1;33m\u001b[0m\u001b[0m\n\u001b[0m\u001b[0;32m     21\u001b[0m     \u001b[1;32mreturn\u001b[0m \u001b[0mroot\u001b[0m\u001b[1;33m\u001b[0m\u001b[1;33m\u001b[0m\u001b[0m\n\u001b[0;32m     22\u001b[0m \u001b[1;33m\u001b[0m\u001b[0m\n",
      "\u001b[1;32m<ipython-input-36-735dffd6db21>\u001b[0m in \u001b[0;36mhelper\u001b[1;34m(node, n)\u001b[0m\n\u001b[0;32m     14\u001b[0m     \u001b[1;32mif\u001b[0m \u001b[0mn\u001b[0m\u001b[1;33m<=\u001b[0m\u001b[1;36m0\u001b[0m\u001b[1;33m:\u001b[0m\u001b[1;33m\u001b[0m\u001b[1;33m\u001b[0m\u001b[0m\n\u001b[0;32m     15\u001b[0m         \u001b[1;32mreturn\u001b[0m \u001b[1;32mNone\u001b[0m\u001b[1;33m\u001b[0m\u001b[1;33m\u001b[0m\u001b[0m\n\u001b[1;32m---> 16\u001b[1;33m     \u001b[0mleft\u001b[0m\u001b[1;33m=\u001b[0m\u001b[0mhelper\u001b[0m\u001b[1;33m(\u001b[0m\u001b[0mnode\u001b[0m\u001b[1;33m,\u001b[0m\u001b[0mn\u001b[0m\u001b[1;33m//\u001b[0m\u001b[1;36m2\u001b[0m\u001b[1;33m)\u001b[0m\u001b[1;33m\u001b[0m\u001b[1;33m\u001b[0m\u001b[0m\n\u001b[0m\u001b[0;32m     17\u001b[0m     \u001b[0mroot\u001b[0m\u001b[1;33m=\u001b[0m\u001b[0mnode\u001b[0m\u001b[1;33m\u001b[0m\u001b[1;33m\u001b[0m\u001b[0m\n\u001b[0;32m     18\u001b[0m     \u001b[0mroot\u001b[0m\u001b[1;33m.\u001b[0m\u001b[0mprev\u001b[0m\u001b[1;33m=\u001b[0m\u001b[0mleft\u001b[0m\u001b[1;33m\u001b[0m\u001b[1;33m\u001b[0m\u001b[0m\n",
      "\u001b[1;32m<ipython-input-36-735dffd6db21>\u001b[0m in \u001b[0;36mhelper\u001b[1;34m(node, n)\u001b[0m\n\u001b[0;32m     16\u001b[0m     \u001b[0mleft\u001b[0m\u001b[1;33m=\u001b[0m\u001b[0mhelper\u001b[0m\u001b[1;33m(\u001b[0m\u001b[0mnode\u001b[0m\u001b[1;33m,\u001b[0m\u001b[0mn\u001b[0m\u001b[1;33m//\u001b[0m\u001b[1;36m2\u001b[0m\u001b[1;33m)\u001b[0m\u001b[1;33m\u001b[0m\u001b[1;33m\u001b[0m\u001b[0m\n\u001b[0;32m     17\u001b[0m     \u001b[0mroot\u001b[0m\u001b[1;33m=\u001b[0m\u001b[0mnode\u001b[0m\u001b[1;33m\u001b[0m\u001b[1;33m\u001b[0m\u001b[0m\n\u001b[1;32m---> 18\u001b[1;33m     \u001b[0mroot\u001b[0m\u001b[1;33m.\u001b[0m\u001b[0mprev\u001b[0m\u001b[1;33m=\u001b[0m\u001b[0mleft\u001b[0m\u001b[1;33m\u001b[0m\u001b[1;33m\u001b[0m\u001b[0m\n\u001b[0m\u001b[0;32m     19\u001b[0m     \u001b[0mnode\u001b[0m\u001b[1;33m=\u001b[0m\u001b[0mnode\u001b[0m\u001b[1;33m.\u001b[0m\u001b[0mnext\u001b[0m\u001b[1;33m\u001b[0m\u001b[1;33m\u001b[0m\u001b[0m\n\u001b[0;32m     20\u001b[0m     \u001b[0mroot\u001b[0m\u001b[1;33m.\u001b[0m\u001b[0mnext\u001b[0m\u001b[1;33m=\u001b[0m\u001b[0mhelper\u001b[0m\u001b[1;33m(\u001b[0m\u001b[0mnode\u001b[0m\u001b[1;33m,\u001b[0m\u001b[0mn\u001b[0m\u001b[1;33m-\u001b[0m\u001b[0mn\u001b[0m\u001b[1;33m//\u001b[0m\u001b[1;36m2\u001b[0m\u001b[1;33m-\u001b[0m\u001b[1;36m1\u001b[0m\u001b[1;33m)\u001b[0m\u001b[1;33m\u001b[0m\u001b[1;33m\u001b[0m\u001b[0m\n",
      "\u001b[1;31mAttributeError\u001b[0m: 'NoneType' object has no attribute 'prev'"
     ]
    }
   ],
   "source": [
    "def DllToBst(node):\n",
    "    n=countNodesOfDLL(node)\n",
    "    return helper(node,n)\n",
    "\n",
    "def countNodesOfDLL(node):\n",
    "    temp=node\n",
    "    c=0\n",
    "    while temp!=None:\n",
    "        c+=1\n",
    "        temp=temp.next\n",
    "    return c\n",
    "\n",
    "def helper(node,n):\n",
    "    if n<=0:\n",
    "        return None\n",
    "    left=helper(node,n//2)\n",
    "    root=node\n",
    "    root.prev=left\n",
    "    node=node.next\n",
    "    root.next=helper(node,n-n//2-1)\n",
    "    return root\n",
    "\n",
    "def preOrder(root):\n",
    "    if root is None:\n",
    "        return\n",
    "    print(root.key)\n",
    "    preOrder(root.prev)\n",
    "    preOrder(root.next)\n",
    "r=DllToBst(a)\n",
    "preOrder(r)"
   ]
  },
  {
   "cell_type": "code",
   "execution_count": 37,
   "metadata": {},
   "outputs": [],
   "source": [
    "# Root to leaf path sum equal to a given number"
   ]
  },
  {
   "cell_type": "code",
   "execution_count": 38,
   "metadata": {},
   "outputs": [
    {
     "data": {
      "text/plain": [
       "True"
      ]
     },
     "execution_count": 38,
     "metadata": {},
     "output_type": "execute_result"
    }
   ],
   "source": [
    "def numberPath(node,s):\n",
    "    if not node: return (s==0)\n",
    "    else:\n",
    "        ans=0\n",
    "        ss=s-node.val\n",
    "        if ss==0 and not node.left and not node.right:\n",
    "            return True\n",
    "        if node.left:\n",
    "            ans=ans or numberPath(node.left,ss)\n",
    "        if node.right:\n",
    "            ans=ans or numberPath(node.right,ss)\n",
    "    return ans\n",
    "s=52\n",
    "numberPath(root,s)"
   ]
  },
  {
   "cell_type": "code",
   "execution_count": 39,
   "metadata": {},
   "outputs": [],
   "source": [
    "# LCA for BT...Not Optimal"
   ]
  },
  {
   "cell_type": "code",
   "execution_count": 63,
   "metadata": {},
   "outputs": [
    {
     "data": {
      "text/plain": [
       "2"
      ]
     },
     "execution_count": 63,
     "metadata": {},
     "output_type": "execute_result"
    }
   ],
   "source": [
    "def LcaBt(root,a,b):\n",
    "    if root is None:\n",
    "        return None\n",
    "    \n",
    "    if root.val==a or root.val==b:\n",
    "        return root.val\n",
    "    \n",
    "    left=LcaBt(root.left,a,b)\n",
    "    right=LcaBt(root.right,a,b)\n",
    "    if left and right:\n",
    "        return root.val\n",
    "    return left if left else right\n",
    "root=Node(10)\n",
    "root.left=Node(8)\n",
    "root.right=Node(2)\n",
    "root.left.left=Node(3)\n",
    "root.left.right=Node(5)\n",
    "root.right=Node(2)\n",
    "root.right.right=Node(4)\n",
    "root.right.left=Node(2)\n",
    "a=2\n",
    "b=6\n",
    "LcaBt(root,a,b)"
   ]
  },
  {
   "cell_type": "code",
   "execution_count": 41,
   "metadata": {},
   "outputs": [],
   "source": [
    "# Construct Tree from given Inorder and Preorder traversals"
   ]
  },
  {
   "cell_type": "code",
   "execution_count": null,
   "metadata": {},
   "outputs": [],
   "source": [
    "# Python program to construct tree using inorder and \n",
    "# preorder traversals \n",
    "\n",
    "# A binary tree node \n",
    "class Node: \n",
    "\t\n",
    "\t# Constructor to create a new node \n",
    "\tdef __init__(self, data): \n",
    "\t\tself.data = data \n",
    "\t\tself.left = None\n",
    "\t\tself.right = None\n",
    "\n",
    "\"\"\"Recursive function to construct binary of size len from \n",
    "Inorder traversal in[] and Preorder traversal pre[]. Initial values \n",
    "of inStrt and inEnd should be 0 and len -1. The function doesn't \n",
    "do any error checking for cases where inorder and preorder \n",
    "do not form a tree \"\"\"\n",
    "def buildTree(inOrder, preOrder, inStrt, inEnd): \n",
    "\t\n",
    "\tif (inStrt > inEnd): \n",
    "\t\treturn None\n",
    "\n",
    "\t# Pich current node from Preorder traversal using \n",
    "\t# preIndex and increment preIndex \n",
    "\ttNode = Node(preOrder[buildTree.preIndex]) \n",
    "\tbuildTree.preIndex += 1\n",
    "\n",
    "\t# If this node has no children then return \n",
    "\tif inStrt == inEnd : \n",
    "\t\treturn tNode \n",
    "\n",
    "\t# Else find the index of this node in Inorder traversal \n",
    "\tinIndex = search(inOrder, inStrt, inEnd, tNode.data) \n",
    "\t\n",
    "\t# Using index in Inorder Traversal, construct left \n",
    "\t# and right subtrees \n",
    "\ttNode.left = buildTree(inOrder, preOrder, inStrt, inIndex-1) \n",
    "\ttNode.right = buildTree(inOrder, preOrder, inIndex + 1, inEnd) \n",
    "\n",
    "\treturn tNode \n",
    "\n",
    "# UTILITY FUNCTIONS \n",
    "# Function to find index of vaue in arr[start...end] \n",
    "# The function assumes that value is rpesent in inOrder[] \n",
    "\n",
    "def search(arr, start, end, value): \n",
    "\tfor i in range(start, end + 1): \n",
    "\t\tif arr[i] == value: \n",
    "\t\t\treturn i \n",
    "\n",
    "def printInorder(node): \n",
    "\tif node is None: \n",
    "\t\treturn\n",
    "\t\n",
    "\t# first recur on left child \n",
    "\tprintInorder(node.left) \n",
    "\t\n",
    "\t# then print the data of node \n",
    "\tprint(node.data,end=\"\") \n",
    "\n",
    "\t# now recur on right child \n",
    "\tprintInorder(node.right) \n",
    "\t\n",
    "# Driver program to test above function \n",
    "inOrder = ['D', 'B', 'E', 'A', 'F', 'C'] \n",
    "preOrder = ['A', 'B', 'D', 'E', 'C', 'F'] \n",
    "# Static variable preIndex \n",
    "buildTree.preIndex = 0\n",
    "root = buildTree(inOrder, preOrder, 0, len(inOrder)-1) \n",
    "\n",
    "# Let us test the build tree by priting Inorder traversal \n",
    "print(\"Inorder traversal of the constructed tree is\")\n",
    "printInorder(root) \n",
    "\n",
    "# This code is contributed by Nikhil Kumar Singh(nickzuck_007) \n"
   ]
  },
  {
   "cell_type": "code",
   "execution_count": null,
   "metadata": {},
   "outputs": [],
   "source": [
    "#  minimum depth of a tree"
   ]
  },
  {
   "cell_type": "code",
   "execution_count": 44,
   "metadata": {},
   "outputs": [
    {
     "data": {
      "text/plain": [
       "2"
      ]
     },
     "execution_count": 44,
     "metadata": {},
     "output_type": "execute_result"
    }
   ],
   "source": [
    "def mini(root):\n",
    "    if root is None:\n",
    "        return 0\n",
    "    l=mini(root.left)\n",
    "    r=mini(root.right)\n",
    "    return 1+min(l,r)\n",
    "\n",
    "class Node: \n",
    "    def __init__(self,val): \n",
    "        self.val=val \n",
    "        self.left=None\n",
    "        self.right=None\n",
    "root = Node(10) \n",
    "root.left=Node(1)\n",
    "root.left.left=Node(2)\n",
    "root.right=Node(3)\n",
    "# root.right.right=Node(4)\n",
    "mini(root)"
   ]
  },
  {
   "cell_type": "code",
   "execution_count": 45,
   "metadata": {},
   "outputs": [],
   "source": [
    "# eff app "
   ]
  },
  {
   "cell_type": "code",
   "execution_count": 46,
   "metadata": {},
   "outputs": [
    {
     "data": {
      "text/plain": [
       "2"
      ]
     },
     "execution_count": 46,
     "metadata": {},
     "output_type": "execute_result"
    }
   ],
   "source": [
    "def miniDepth(root):\n",
    "    if root is None:\n",
    "        return 0\n",
    "    q=[]\n",
    "    q.append({'node':root,'depth':1})\n",
    "    while len(q):\n",
    "        e=q.pop(0)\n",
    "        node=e['node']\n",
    "        depth=e['depth']\n",
    "#         print('before append  ',q)\n",
    "        if not node.left and not node.right:\n",
    "            return depth\n",
    "        if node.left:\n",
    "            q.append({'node':node.left,'depth':depth+1})\n",
    "        if node.right:\n",
    "            q.append({'node':node.right,'depth':depth+1})\n",
    "#         print('after append  ', q)\n",
    "root = Node(10) \n",
    "root.left=Node(1)\n",
    "root.left.left=Node(2)\n",
    "root.right=Node(3)\n",
    "# root.right.right=Node(4)\n",
    "miniDepth(root)"
   ]
  },
  {
   "cell_type": "code",
   "execution_count": 47,
   "metadata": {},
   "outputs": [
    {
     "data": {
      "text/plain": [
       "False"
      ]
     },
     "execution_count": 47,
     "metadata": {},
     "output_type": "execute_result"
    }
   ],
   "source": [
    "def has2Childs(node):\n",
    "    if node is None:\n",
    "        return True\n",
    "    if not node.left and not node.right:\n",
    "        return True\n",
    "    if (not node.left and node.right)or(node.left and not node.right):\n",
    "        return False\n",
    "    l=has2Childs(node.left)\n",
    "    r=has2Childs(node.right)\n",
    "    return l and r\n",
    "\n",
    "root = Node(10) \n",
    "root.left=Node(1)\n",
    "root.left.left=Node(2)\n",
    "root.right=Node(3)\n",
    "root.right.right=Node(4)\n",
    "root.left.right=Node(1)\n",
    "# root.right.left=Node(5)\n",
    "has2Childs(root)"
   ]
  },
  {
   "cell_type": "code",
   "execution_count": 48,
   "metadata": {},
   "outputs": [],
   "source": [
    "# top view "
   ]
  },
  {
   "cell_type": "code",
   "execution_count": 49,
   "metadata": {},
   "outputs": [
    {
     "name": "stdout",
     "output_type": "stream",
     "text": [
      "[(-2, [2]), (-1, [1]), (0, [10]), (1, [3]), (2, [4])]\n",
      "2 1 10 3 4 "
     ]
    }
   ],
   "source": [
    "def helper(node,hdist,root_dict):\n",
    "    if node is None:\n",
    "        return\n",
    "    if hdist not in root_dict:\n",
    "        try:\n",
    "            root_dict[hdist].append(node.val)\n",
    "        except:\n",
    "            root_dict[hdist]=[node.val]\n",
    "    helper(node.left,hdist-1,root_dict)\n",
    "    helper(node.right,hdist+1,root_dict)\n",
    "def topView(root):\n",
    "    hdist=0\n",
    "    root_dict={}\n",
    "    helper(root,hdist,root_dict)\n",
    "#     print(root_dict)\n",
    "    sortDict=sorted(root_dict.items())\n",
    "    print(sortDict)\n",
    "    for k,v in sortDict:\n",
    "        print(v[0],end=\" \")\n",
    "topView(root)"
   ]
  },
  {
   "cell_type": "code",
   "execution_count": 50,
   "metadata": {},
   "outputs": [],
   "source": [
    "# bottom view"
   ]
  },
  {
   "cell_type": "code",
   "execution_count": 51,
   "metadata": {},
   "outputs": [
    {
     "name": "stdout",
     "output_type": "stream",
     "text": [
      "[(-2, [2]), (-1, [1]), (0, [10, 1]), (1, [3]), (2, [4])]\n",
      "2 1 1 3 4 "
     ]
    }
   ],
   "source": [
    "def helper(node,hdist,root_dict):\n",
    "    if node is None:\n",
    "        return\n",
    "    try:\n",
    "        root_dict[hdist].append(node.val)\n",
    "    except:\n",
    "        root_dict[hdist]=[node.val]\n",
    "    helper(node.left,hdist-1,root_dict)\n",
    "    helper(node.right,hdist+1,root_dict)\n",
    "def btmView(root):\n",
    "    hdist=0\n",
    "    root_dict={}\n",
    "    helper(root,hdist,root_dict)\n",
    "#     print(root_dict)\n",
    "    sortDict=sorted(root_dict.items())\n",
    "    print(sortDict)\n",
    "    for k,v in sortDict:\n",
    "        print(v[-1],end=\" \")\n",
    "btmView(root)"
   ]
  },
  {
   "cell_type": "code",
   "execution_count": null,
   "metadata": {},
   "outputs": [],
   "source": [
    "# calculate leaf"
   ]
  },
  {
   "cell_type": "code",
   "execution_count": null,
   "metadata": {},
   "outputs": [],
   "source": [
    "# def calLeaf(root):\n",
    "#     if not root:\n",
    "#         return\n",
    "#     if not root.left and not root.right:\n",
    "#         calLeaf.c+=1\n",
    "#     calLeaf(root.left)\n",
    "#     calLeaf(root.right)\n",
    "#     return c\n",
    "# calLeaf.c=0\n",
    "# calLeaf(root)"
   ]
  },
  {
   "cell_type": "code",
   "execution_count": 52,
   "metadata": {},
   "outputs": [],
   "source": [
    "# leaf"
   ]
  },
  {
   "cell_type": "code",
   "execution_count": 53,
   "metadata": {},
   "outputs": [
    {
     "data": {
      "text/plain": [
       "3"
      ]
     },
     "execution_count": 53,
     "metadata": {},
     "output_type": "execute_result"
    }
   ],
   "source": [
    "def itCalLeaf(root):\n",
    "    q=[]\n",
    "    q.append(root)\n",
    "    c=0\n",
    "    while q:\n",
    "        node=q.pop(0)\n",
    "        if not node.left and not node.right:\n",
    "            c+=1\n",
    "        if node.left:\n",
    "            q.append(node.left)\n",
    "        if node.right:\n",
    "            q.append(node.right)\n",
    "    return c\n",
    "itCalLeaf(root)"
   ]
  },
  {
   "cell_type": "code",
   "execution_count": 54,
   "metadata": {},
   "outputs": [],
   "source": [
    "# calculate nodes"
   ]
  },
  {
   "cell_type": "code",
   "execution_count": 55,
   "metadata": {},
   "outputs": [
    {
     "data": {
      "text/plain": [
       "6"
      ]
     },
     "execution_count": 55,
     "metadata": {},
     "output_type": "execute_result"
    }
   ],
   "source": [
    "def numCalLeaf(root):\n",
    "    q=[]\n",
    "    q.append(root)\n",
    "    c=1\n",
    "    while q:\n",
    "        node=q.pop(0)\n",
    "        if node.left:\n",
    "            q.append(node.left)\n",
    "            c+=1\n",
    "        if node.right:\n",
    "            q.append(node.right)\n",
    "            c+=1\n",
    "    return c\n",
    "numCalLeaf(root)"
   ]
  },
  {
   "cell_type": "code",
   "execution_count": 56,
   "metadata": {},
   "outputs": [
    {
     "data": {
      "text/plain": [
       "6"
      ]
     },
     "execution_count": 56,
     "metadata": {},
     "output_type": "execute_result"
    }
   ],
   "source": [
    "def calNodesRec(root):\n",
    "    if root is None:\n",
    "        return 0\n",
    "    l=calNodesRec(root.left)\n",
    "    r=calNodesRec(root.right)\n",
    "    return 1+l+r\n",
    "calNodesRec(root)"
   ]
  },
  {
   "cell_type": "code",
   "execution_count": 57,
   "metadata": {},
   "outputs": [],
   "source": [
    "# Spiral Order traversal"
   ]
  },
  {
   "cell_type": "code",
   "execution_count": 58,
   "metadata": {},
   "outputs": [
    {
     "name": "stdout",
     "output_type": "stream",
     "text": [
      "10 \n",
      "\n",
      "3 1 \n",
      "\n",
      "2 1 4 \n",
      "\n",
      "\n",
      "\n"
     ]
    }
   ],
   "source": [
    "def spiralOrderTrav(root):\n",
    "    if root is None:\n",
    "        return\n",
    "    s1=[]\n",
    "    s2=[]\n",
    "    s1.append(root)\n",
    "    while len(s1)>0 or len(s2)>0:\n",
    "        while s1:\n",
    "            node=s1.pop()\n",
    "            print(node.val,end=\" \")\n",
    "            if node.left:\n",
    "                s2.append(node.left)\n",
    "            if node.right:\n",
    "                s2.append(node.right)\n",
    "        print('\\n')\n",
    "        while s2:\n",
    "            node=s2.pop()\n",
    "            print(node.val,end=\" \")\n",
    "            if node.right:\n",
    "                s1.append(node.right)\n",
    "            if node.left:\n",
    "                s1.append(node.left)\n",
    "        print('\\n')\n",
    "        \n",
    "spiralOrderTrav(root)"
   ]
  },
  {
   "cell_type": "code",
   "execution_count": 59,
   "metadata": {},
   "outputs": [],
   "source": [
    "# remove k nodes"
   ]
  },
  {
   "cell_type": "code",
   "execution_count": 60,
   "metadata": {},
   "outputs": [],
   "source": [
    "def removeKNodes(root,level,target):\n",
    "    if root is None:\n",
    "        return None\n",
    "    root.left=removeKNodes(root.left,level+1,target)\n",
    "    root.right=removeKNodes(root.right,level+1,target)\n",
    "    if not root.left and not root.right and level<target:\n",
    "        return None\n",
    "    return root\n",
    "def inorder(root):\n",
    "    if root is None:\n",
    "        return\n",
    "    inorder(root.left)\n",
    "    print(root.val,end=\" \")\n",
    "    inorder(root.right)\n",
    "    \n",
    "r=removeKNodes(root,1,4)\n",
    "inorder(r)"
   ]
  },
  {
   "cell_type": "code",
   "execution_count": 61,
   "metadata": {},
   "outputs": [],
   "source": [
    "class Node:\n",
    "    def __init__(self,val):\n",
    "        self.left=None\n",
    "        self.val=val\n",
    "        self.right=None\n",
    "        \n",
    "def findsubtree(tree,subtree):\n",
    "    if tree is None :\n",
    "        return False\n",
    "    elif (helper(tree,subtree)):\n",
    "        return True\n",
    "    else:\n",
    "        return findsubtree(tree.left,subtree) or findsubtree(tree.right,subtree)\n",
    "\n",
    "def helper(tree,subtree):\n",
    "    if tree is None or subtree is None:\n",
    "        return tree==None and subtree==None\n",
    "    elif tree.val==subtree.val:\n",
    "        return helper(tree.left,subtree.left) and helper(tree.right,subtree.right)"
   ]
  },
  {
   "cell_type": "code",
   "execution_count": 62,
   "metadata": {},
   "outputs": [
    {
     "data": {
      "text/plain": [
       "False"
      ]
     },
     "execution_count": 62,
     "metadata": {},
     "output_type": "execute_result"
    }
   ],
   "source": [
    "tree=Node(30)\n",
    "tree.left=Node(10)\n",
    "tree.right=Node(50)\n",
    "tree.left.left=Node(20)\n",
    "subtree=Node(10)\n",
    "subtree.left=Node(20)\n",
    "subtree.right=Node(12)\n",
    "findsubtree(tree,subtree)"
   ]
  },
  {
   "cell_type": "code",
   "execution_count": null,
   "metadata": {},
   "outputs": [],
   "source": []
  }
 ],
 "metadata": {
  "kernelspec": {
   "display_name": "Python 3",
   "language": "python",
   "name": "python3"
  },
  "language_info": {
   "codemirror_mode": {
    "name": "ipython",
    "version": 3
   },
   "file_extension": ".py",
   "mimetype": "text/x-python",
   "name": "python",
   "nbconvert_exporter": "python",
   "pygments_lexer": "ipython3",
   "version": "3.7.6"
  }
 },
 "nbformat": 4,
 "nbformat_minor": 4
}
