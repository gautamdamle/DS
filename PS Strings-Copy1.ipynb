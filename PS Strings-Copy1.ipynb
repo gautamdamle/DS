{
 "cells": [
  {
   "cell_type": "code",
   "execution_count": 1,
   "metadata": {},
   "outputs": [],
   "source": [
    "# 1 . Longest Distinct characters in string "
   ]
  },
  {
   "cell_type": "code",
   "execution_count": 12,
   "metadata": {},
   "outputs": [
    {
     "data": {
      "text/plain": [
       "6"
      ]
     },
     "execution_count": 12,
     "metadata": {},
     "output_type": "execute_result"
    }
   ],
   "source": [
    "def ll(s):\n",
    "    i=j=m=0\n",
    "    q=set()\n",
    "    while j<len(s):\n",
    "        if s[j] not in q:\n",
    "            q.add(s[j])\n",
    "            j+=1\n",
    "            m=max(m,j-i)\n",
    "        else:\n",
    "            q.remove(s[i])\n",
    "            i+=1\n",
    "    return m\n",
    "ll('abababcdefababcdab')"
   ]
  },
  {
   "cell_type": "code",
   "execution_count": 13,
   "metadata": {},
   "outputs": [],
   "source": [
    "# 2. Non Repeating Character"
   ]
  },
  {
   "cell_type": "code",
   "execution_count": 17,
   "metadata": {},
   "outputs": [
    {
     "data": {
      "text/plain": [
       "'c'"
      ]
     },
     "execution_count": 17,
     "metadata": {},
     "output_type": "execute_result"
    }
   ],
   "source": [
    "def npc(s):\n",
    "    l=[]\n",
    "    for i in s:\n",
    "        if i not in l:\n",
    "            l.append(i)\n",
    "        else:\n",
    "            l.remove(i)\n",
    "    if len(l)==0:\n",
    "        return -1\n",
    "    else:\n",
    "        return l[0]\n",
    "npc('zxvczbtxyzvy')"
   ]
  },
  {
   "cell_type": "code",
   "execution_count": 1,
   "metadata": {},
   "outputs": [],
   "source": [
    "# 3. Palindrome Check\n",
    "#1st approach - using str concat..T=O(n^2)..S=O(n)\n",
    "#2nd approach -  using list..T=O(n)..S=O(n)\n",
    "#3rd approach - using recursion..T=O(n)..S=O(n) if tail rec used then S=O(1)\n",
    "#4th approach - using 2 pointer technique..T=O(n)..S=O(1)"
   ]
  },
  {
   "cell_type": "code",
   "execution_count": 8,
   "metadata": {},
   "outputs": [
    {
     "data": {
      "text/plain": [
       "False"
      ]
     },
     "execution_count": 8,
     "metadata": {},
     "output_type": "execute_result"
    }
   ],
   "source": [
    "def pal(s):\n",
    "    li=0        #left index\n",
    "    ri=len(s)-1 #right index\n",
    "    while li<ri:\n",
    "        if s[li]!=s[ri]:\n",
    "            return False\n",
    "        li+=1\n",
    "        ri-=1\n",
    "    return True\n",
    "pal('abcdda')"
   ]
  },
  {
   "cell_type": "code",
   "execution_count": 1,
   "metadata": {},
   "outputs": [],
   "source": [
    "# 4.Caeser cipher encryptor......T=O(n)..S=O(n)"
   ]
  },
  {
   "cell_type": "code",
   "execution_count": 7,
   "metadata": {},
   "outputs": [
    {
     "data": {
      "text/plain": [
       "'yza'"
      ]
     },
     "execution_count": 7,
     "metadata": {},
     "output_type": "execute_result"
    }
   ],
   "source": [
    "def cce(s,k):      #string and key\n",
    "    nl=[]\n",
    "    nk=k%26        #so that key is in btw 1-26\n",
    "    for l in s:\n",
    "        nl.append(gnl(l,k))   #getnewletter fn\n",
    "    return ''.join(nl)\n",
    "def gnl(l,k):\n",
    "    nlc=ord(l)+k\n",
    "    return chr(nlc) if nlc<=122 else chr(96+nlc%122)\n",
    "\n",
    "cce('wxy',2)"
   ]
  },
  {
   "cell_type": "code",
   "execution_count": 1,
   "metadata": {},
   "outputs": [],
   "source": [
    "# 5. levenshtein distance"
   ]
  },
  {
   "cell_type": "code",
   "execution_count": 6,
   "metadata": {},
   "outputs": [
    {
     "name": "stdout",
     "output_type": "stream",
     "text": [
      "2\n"
     ]
    }
   ],
   "source": [
    "str1='abc'\n",
    "str2='yabd'\n",
    "edits=[[x for x in range(len(str1)+1)] for y in range(len(str2)+1)]\n",
    "for i in range(1,len(str2)+1):\n",
    "    edits[i][0]=edits[i-1][0]+1\n",
    "for i in range(1,len(str2)+1):\n",
    "    for j in range(1,len(str1)+1):\n",
    "        if str2[i-1]==str1[j-1]:\n",
    "            edits[i][j]=edits[i-1][j-1]\n",
    "        else:\n",
    "            edits[i][j]=1+min(edits[i-1][j-1],edits[i-1][j],edits[i][j-1])\n",
    "print(edits[-1][-1])"
   ]
  },
  {
   "cell_type": "code",
   "execution_count": 22,
   "metadata": {},
   "outputs": [
    {
     "name": "stdout",
     "output_type": "stream",
     "text": [
      "[[0, 1, 2, 3], [0, 1, 2, 3], [0, 1, 2, 3], [0, 1, 2, 3], [0, 1, 2, 3]]\n",
      "1\n",
      "2\n",
      "3\n",
      "4\n"
     ]
    }
   ],
   "source": [
    "str1='abc'\n",
    "str2='yabd'\n",
    "e=[[x for x in range(len(str1)+1)] for y in range(len(str2)+1)]\n",
    "print(e)\n",
    "for i in range(1,len(str2)+1):\n",
    "    e[i][0]=e[i-1][0]+1\n",
    "    print(e[i][0])\n"
   ]
  },
  {
   "cell_type": "code",
   "execution_count": 21,
   "metadata": {},
   "outputs": [
    {
     "data": {
      "text/plain": [
       "3"
      ]
     },
     "execution_count": 21,
     "metadata": {},
     "output_type": "execute_result"
    }
   ],
   "source": [
    "e[0][3]"
   ]
  },
  {
   "cell_type": "code",
   "execution_count": 1,
   "metadata": {},
   "outputs": [],
   "source": [
    "# 6. FizzBuzz"
   ]
  },
  {
   "cell_type": "code",
   "execution_count": 10,
   "metadata": {
    "collapsed": true
   },
   "outputs": [
    {
     "name": "stdout",
     "output_type": "stream",
     "text": [
      "1\n",
      "2\n",
      "Fizz\n",
      "4\n",
      "Buzz\n",
      "Fizz\n",
      "7\n",
      "8\n",
      "Fizz\n",
      "Buzz\n",
      "11\n",
      "Fizz\n",
      "13\n",
      "14\n",
      "FizzBuzz\n",
      "16\n",
      "17\n",
      "Fizz\n",
      "19\n",
      "Buzz\n",
      "Fizz\n",
      "22\n",
      "23\n",
      "Fizz\n",
      "Buzz\n",
      "26\n",
      "Fizz\n",
      "28\n",
      "29\n",
      "FizzBuzz\n",
      "31\n",
      "32\n",
      "Fizz\n",
      "34\n",
      "Buzz\n",
      "Fizz\n",
      "37\n",
      "38\n",
      "Fizz\n",
      "Buzz\n",
      "41\n",
      "Fizz\n",
      "43\n",
      "44\n",
      "FizzBuzz\n",
      "46\n",
      "47\n",
      "Fizz\n",
      "49\n",
      "Buzz\n",
      "Fizz\n",
      "52\n",
      "53\n",
      "Fizz\n",
      "Buzz\n",
      "56\n",
      "Fizz\n",
      "58\n",
      "59\n",
      "FizzBuzz\n",
      "61\n",
      "62\n",
      "Fizz\n",
      "64\n",
      "Buzz\n",
      "Fizz\n",
      "67\n",
      "68\n",
      "Fizz\n",
      "Buzz\n",
      "71\n",
      "Fizz\n",
      "73\n",
      "74\n",
      "FizzBuzz\n",
      "76\n",
      "77\n",
      "Fizz\n",
      "79\n",
      "Buzz\n",
      "Fizz\n",
      "82\n",
      "83\n",
      "Fizz\n",
      "Buzz\n",
      "86\n",
      "Fizz\n",
      "88\n",
      "89\n",
      "FizzBuzz\n",
      "91\n",
      "92\n",
      "Fizz\n",
      "94\n",
      "Buzz\n",
      "Fizz\n",
      "97\n",
      "98\n",
      "Fizz\n",
      "Buzz\n"
     ]
    }
   ],
   "source": [
    "for n in range(1,101):\n",
    "    t=''\n",
    "    if n%3==0 and n%5==0:\n",
    "        t+='FizzBuzz'\n",
    "    elif n%3==0:\n",
    "        t+='Fizz'\n",
    "    elif n%5==0:\n",
    "        t+='Buzz'\n",
    "    else:\n",
    "        t+=str(n)\n",
    "    print(t)"
   ]
  },
  {
   "cell_type": "code",
   "execution_count": 2,
   "metadata": {},
   "outputs": [],
   "source": [
    "# 7. Longest Palindrome Substring......T=O(N**2)..S=O(1)"
   ]
  },
  {
   "cell_type": "code",
   "execution_count": 1,
   "metadata": {},
   "outputs": [
    {
     "data": {
      "text/plain": [
       "'xyzzyx'"
      ]
     },
     "execution_count": 1,
     "metadata": {},
     "output_type": "execute_result"
    }
   ],
   "source": [
    "def lps(s):\n",
    "    \"\"\"\n",
    "    cl=current longest\n",
    "    c_longest = new longest\n",
    "    li=left index\n",
    "    ri=right index\n",
    "    \"\"\"\n",
    "    cl=[0,1]\n",
    "    for i in range(1,len(s)):\n",
    "        odd=getlpf(s,i-1,i+1)\n",
    "        even=getlpf(s,i-1,i)\n",
    "        c_longest=max(odd,even,key=lambda x:x[1]-x[0])\n",
    "        cl=max(cl,c_longest,key=lambda x:x[1]-x[0])\n",
    "    return s[cl[0]:cl[1]]\n",
    "\n",
    "def getlpf(s,li,ri):\n",
    "    while li>=0 and ri<len(s):\n",
    "        if s[li]!=s[ri]:\n",
    "            break\n",
    "        li-=1\n",
    "        ri+=1\n",
    "    return [li+1,ri]\n",
    "lps('abaxyzzyxf')"
   ]
  },
  {
   "cell_type": "code",
   "execution_count": 11,
   "metadata": {},
   "outputs": [],
   "source": [
    "# 8 . Group Anagrams..T=O(w*nlog(n))..S=O(w*n)"
   ]
  },
  {
   "cell_type": "code",
   "execution_count": 9,
   "metadata": {},
   "outputs": [
    {
     "data": {
      "text/plain": [
       "[['act', 'tac', 'tca'], ['flop', 'lofp'], ['oy', 'yo']]"
      ]
     },
     "execution_count": 9,
     "metadata": {},
     "output_type": "execute_result"
    }
   ],
   "source": [
    "def ga(a):\n",
    "    \"\"\"\n",
    "    a=array\n",
    "    ana=anagram(hash table)\n",
    "    i=word\n",
    "    sw=sorted word\n",
    "    \"\"\"\n",
    "    ana={}\n",
    "    for i in a:\n",
    "        sw = ''.join(sorted(i))\n",
    "        if sw in ana:\n",
    "            ana[sw].append(i)\n",
    "        else:\n",
    "            ana[sw]=[i]\n",
    "    return list(ana.values())\n",
    "ga(['act','tac','tca','flop','lofp','oy','yo'])"
   ]
  },
  {
   "cell_type": "code",
   "execution_count": 10,
   "metadata": {},
   "outputs": [],
   "source": [
    "# 9."
   ]
  },
  {
   "cell_type": "code",
   "execution_count": 3,
   "metadata": {},
   "outputs": [
    {
     "name": "stdout",
     "output_type": "stream",
     "text": [
      "1 2 3 4 5 6 7 "
     ]
    }
   ],
   "source": [
    "def p(n):\n",
    "    if n==1:\n",
    "        print(n,end=\" \")\n",
    "        return\n",
    "        \n",
    "    p(n-1)\n",
    "    print(n,end=\" \")\n",
    "p(7)"
   ]
  },
  {
   "cell_type": "code",
   "execution_count": 4,
   "metadata": {},
   "outputs": [
    {
     "name": "stdout",
     "output_type": "stream",
     "text": [
      "7 6 5 4 3 2 1 "
     ]
    }
   ],
   "source": [
    "def p(n):\n",
    "    if n==1:\n",
    "        print(n,end=\" \")\n",
    "        return\n",
    "    print(n,end=\" \")    \n",
    "    p(n-1)\n",
    "    \n",
    "p(7)"
   ]
  },
  {
   "cell_type": "code",
   "execution_count": 1,
   "metadata": {},
   "outputs": [],
   "source": [
    "# pangram check"
   ]
  },
  {
   "cell_type": "code",
   "execution_count": 16,
   "metadata": {},
   "outputs": [
    {
     "data": {
      "text/plain": [
       "False"
      ]
     },
     "execution_count": 16,
     "metadata": {},
     "output_type": "execute_result"
    }
   ],
   "source": [
    "def pangramCheck(s):\n",
    "    l=[False]*26\n",
    "    sp=' '\n",
    "    for c in s:\n",
    "        if c not in sp:\n",
    "            l[ord(c)-ord('a')]=True\n",
    "    for boolean in l:\n",
    "        if boolean==False:\n",
    "            return False\n",
    "    return True\n",
    "# s=\"The quick brown fox jumps over the lazy dog\"\n",
    "s=\"The quick brown fox jumps over the lzy dog\"\n",
    "pangramCheck(s)"
   ]
  },
  {
   "cell_type": "code",
   "execution_count": 17,
   "metadata": {},
   "outputs": [],
   "source": [
    "# missing num of char"
   ]
  },
  {
   "cell_type": "code",
   "execution_count": 18,
   "metadata": {},
   "outputs": [
    {
     "data": {
      "text/plain": [
       "1"
      ]
     },
     "execution_count": 18,
     "metadata": {},
     "output_type": "execute_result"
    }
   ],
   "source": [
    "def missPangramCheck(s):\n",
    "    l=[False]*26\n",
    "    sp=' '\n",
    "    co=26\n",
    "    for c in s:\n",
    "        if c not in sp:\n",
    "            l[ord(c)-ord('a')]=True\n",
    "    for i in l:\n",
    "        if i==True:\n",
    "            co-=1\n",
    "    return co\n",
    "missPangramCheck(s)"
   ]
  },
  {
   "cell_type": "code",
   "execution_count": 19,
   "metadata": {},
   "outputs": [],
   "source": [
    "# Missing characters to make a string Pangram"
   ]
  },
  {
   "cell_type": "code",
   "execution_count": 31,
   "metadata": {},
   "outputs": [
    {
     "data": {
      "text/plain": [
       "'abdhijnpquvxyz'"
      ]
     },
     "execution_count": 31,
     "metadata": {},
     "output_type": "execute_result"
    }
   ],
   "source": [
    "def missChar(s):\n",
    "    st=''\n",
    "    l=[False]*26\n",
    "    sp=' '\n",
    "    for c in s:\n",
    "        if c not in sp:\n",
    "            l[ord(c)-ord('a')]=True\n",
    "    for b in range(len(l)):\n",
    "        if l[b]==False:\n",
    "            st+=chr(ord('a')+b)\n",
    "    return st\n",
    "# s=\"The quick brown fox jumps dog\"\n",
    "s='welcome to geeksforgeeks'\n",
    "missChar(s)"
   ]
  },
  {
   "cell_type": "code",
   "execution_count": 32,
   "metadata": {},
   "outputs": [],
   "source": [
    "#  pangrammatic lipogram check"
   ]
  },
  {
   "cell_type": "code",
   "execution_count": 36,
   "metadata": {},
   "outputs": [
    {
     "data": {
      "text/plain": [
       "'Lipogram'"
      ]
     },
     "execution_count": 36,
     "metadata": {},
     "output_type": "execute_result"
    }
   ],
   "source": [
    "def pangrammaticLipo(s):\n",
    "    l=[False]*26\n",
    "    sp=' '\n",
    "    co=0\n",
    "    for c in s:\n",
    "        if c not in sp:\n",
    "            l[ord(c)-ord('a')]=True\n",
    "    for i in l:\n",
    "        if i==False:\n",
    "            co+=1\n",
    "    if co==0:\n",
    "        return 'Pangram'\n",
    "    elif co==1:\n",
    "        return 'Pangrammatic Lipogram'\n",
    "    else:\n",
    "        return 'Lipogram'\n",
    "s1=\"The quick brown fox jumped over the lazy dog\"\n",
    "s2='The quick brown fox jumps over the lazy dog'\n",
    "s3='The quick brown  jumps over the lazy dog'\n",
    "pangrammaticLipo(s3)"
   ]
  },
  {
   "cell_type": "code",
   "execution_count": 45,
   "metadata": {},
   "outputs": [],
   "source": [
    "# Election Winner"
   ]
  },
  {
   "cell_type": "code",
   "execution_count": 44,
   "metadata": {},
   "outputs": [
    {
     "data": {
      "text/plain": [
       "'john'"
      ]
     },
     "execution_count": 44,
     "metadata": {},
     "output_type": "execute_result"
    }
   ],
   "source": [
    "def election(l):\n",
    "    d={}\n",
    "    for i in l:\n",
    "        if i in d:\n",
    "            d[i]+=1\n",
    "        else:\n",
    "            d[i]=1\n",
    "    win=sorted(d.items(),key=lambda x:x[1],reverse=True)\n",
    "    return win[0][0]\n",
    "election([\"john\", \"johnny\", \"jackie\", \n",
    "                    \"johnny\", \"john\", \"jackie\", \n",
    "                    \"jamie\", \"jamie\", \"john\",\n",
    "                    \"johnny\", \"jamie\", \"johnny\", \n",
    "                    \"john\"])"
   ]
  },
  {
   "cell_type": "code",
   "execution_count": 46,
   "metadata": {},
   "outputs": [],
   "source": [
    "# max length of consecutive 1's in string"
   ]
  },
  {
   "cell_type": "code",
   "execution_count": 48,
   "metadata": {},
   "outputs": [
    {
     "data": {
      "text/plain": [
       "4"
      ]
     },
     "execution_count": 48,
     "metadata": {},
     "output_type": "execute_result"
    }
   ],
   "source": [
    "def maxLengthConsecString(s):\n",
    "    i=0\n",
    "    rmax=cm=0\n",
    "    l=len(s)\n",
    "    while i<l:\n",
    "        while i<l and s[i]!='0':\n",
    "            cm+=1\n",
    "            i+=1\n",
    "        rmax=max(rmax,cm)\n",
    "        cm=0\n",
    "        i+=1\n",
    "    return rmax\n",
    "s='11000111101010111'\n",
    "maxLengthConsecString(s)"
   ]
  },
  {
   "cell_type": "code",
   "execution_count": 58,
   "metadata": {},
   "outputs": [
    {
     "data": {
      "text/plain": [
       "4"
      ]
     },
     "execution_count": 58,
     "metadata": {},
     "output_type": "execute_result"
    }
   ],
   "source": [
    "def usingMap(st):\n",
    "    return max(map(len,st.split('0')))\n",
    "st='11000111101010111'\n",
    "usingMap(st)"
   ]
  },
  {
   "cell_type": "code",
   "execution_count": 54,
   "metadata": {},
   "outputs": [],
   "source": [
    "# replace chars using map and lambdas"
   ]
  },
  {
   "cell_type": "code",
   "execution_count": 56,
   "metadata": {},
   "outputs": [
    {
     "data": {
      "text/plain": [
       "'geeksforgeeks'"
      ]
     },
     "execution_count": 56,
     "metadata": {},
     "output_type": "execute_result"
    }
   ],
   "source": [
    "def replaceChar(s,c1,c2):\n",
    "    nc = map(lambda x:x if (x!=c1 and x!=c2) else c1 if x==c2 else c2,s)\n",
    "    return ''.join(nc)\n",
    "replaceChar('grrksfoegrrks','e','r')"
   ]
  },
  {
   "cell_type": "code",
   "execution_count": 1,
   "metadata": {},
   "outputs": [],
   "source": [
    "# Reverse a string without affecting special characters"
   ]
  },
  {
   "cell_type": "code",
   "execution_count": 13,
   "metadata": {},
   "outputs": [
    {
     "data": {
      "text/plain": [
       "\"i!!!h.g.f,e'd,cba\""
      ]
     },
     "execution_count": 13,
     "metadata": {},
     "output_type": "execute_result"
    }
   ],
   "source": [
    "def revStr(s):\n",
    "    s=[ch for ch in s]\n",
    "    i=0\n",
    "    j=len(s)-1\n",
    "    while i<j:\n",
    "        while not s[i].isalpha():\n",
    "            i+=1\n",
    "        while not s[j].isalpha():\n",
    "            j-=1\n",
    "        s[i],s[j]=s[j],s[i]\n",
    "        i+=1\n",
    "        j-=1\n",
    "    return ''.join(s)\n",
    "# revStr('abc')\n",
    "# revStr('a,b$c')\n",
    "revStr(\"a!!!b.c.d,e'f,ghi\")\n",
    "#  i!!!h.g.f,e'd,cba"
   ]
  },
  {
   "cell_type": "code",
   "execution_count": 1,
   "metadata": {},
   "outputs": [],
   "source": [
    "# duplicate "
   ]
  },
  {
   "cell_type": "code",
   "execution_count": 9,
   "metadata": {},
   "outputs": [],
   "source": [
    "def duplicate(string):\n",
    "    d={}\n",
    "    for ch in string:\n",
    "        if ch in d:\n",
    "            pass\n",
    "        else:\n",
    "            d[ch]=1\n",
    "    return ''.join(d.keys())"
   ]
  },
  {
   "cell_type": "code",
   "execution_count": 15,
   "metadata": {},
   "outputs": [
    {
     "data": {
      "text/plain": [
       "'abcd'"
      ]
     },
     "execution_count": 15,
     "metadata": {},
     "output_type": "execute_result"
    }
   ],
   "source": [
    "duplicate('aaaaaabbaaaaaaaaaacd')"
   ]
  },
  {
   "cell_type": "code",
   "execution_count": 16,
   "metadata": {},
   "outputs": [],
   "source": [
    "def anagram2(s1,s2):\n",
    "    \n",
    "    # Remove spaces and lowercase letters\n",
    "    s1 = s1.replace(' ','').lower()\n",
    "    s2 = s2.replace(' ','').lower()\n",
    "    \n",
    "    # Edge Case to check if same number of letters\n",
    "    if len(s1) != len(s2):\n",
    "        return False\n",
    "    \n",
    "    # Create counting dictionary (Note could use DefaultDict from Collections module)\n",
    "    count = {}\n",
    "    \n",
    "    \n",
    "        \n",
    "    # Fill dictionary for first string (add counts)\n",
    "    for letter in s1:\n",
    "        if letter in count:\n",
    "            count[letter] += 1\n",
    "        else:\n",
    "            count[letter] = 1\n",
    "            \n",
    "    # Fill dictionary for second string (subtract counts)\n",
    "    for letter in s2:\n",
    "        if letter in count:\n",
    "            count[letter] -= 1\n",
    "        else:\n",
    "            return False\n",
    "    \n",
    "    # Check that all counts are 0\n",
    "    for k in count:\n",
    "        if count[k] != 0:\n",
    "            return False\n",
    "\n",
    "    # Otherwise they're anagrams\n",
    "    return True"
   ]
  },
  {
   "cell_type": "code",
   "execution_count": 17,
   "metadata": {},
   "outputs": [
    {
     "data": {
      "text/plain": [
       "True"
      ]
     },
     "execution_count": 17,
     "metadata": {},
     "output_type": "execute_result"
    }
   ],
   "source": [
    "anagram2('dog','god')"
   ]
  },
  {
   "cell_type": "code",
   "execution_count": 23,
   "metadata": {},
   "outputs": [
    {
     "data": {
      "text/plain": [
       "True"
      ]
     },
     "execution_count": 23,
     "metadata": {},
     "output_type": "execute_result"
    }
   ],
   "source": [
    "anagram2('clint eastwood','old west action')"
   ]
  },
  {
   "cell_type": "code",
   "execution_count": 25,
   "metadata": {},
   "outputs": [
    {
     "data": {
      "text/plain": [
       "'a%20b%20c%20%20d'"
      ]
     },
     "execution_count": 25,
     "metadata": {},
     "output_type": "execute_result"
    }
   ],
   "source": [
    "def strspace(s):\n",
    "    space=' '\n",
    "    s1=''\n",
    "    for i in s:\n",
    "        if i==' ':\n",
    "            s1+='%20'\n",
    "        else:\n",
    "            s1+=i\n",
    "    return s1\n",
    "strspace('a b c  d')"
   ]
  },
  {
   "cell_type": "code",
   "execution_count": null,
   "metadata": {},
   "outputs": [],
   "source": []
  }
 ],
 "metadata": {
  "kernelspec": {
   "display_name": "Python 3",
   "language": "python",
   "name": "python3"
  },
  "language_info": {
   "codemirror_mode": {
    "name": "ipython",
    "version": 3
   },
   "file_extension": ".py",
   "mimetype": "text/x-python",
   "name": "python",
   "nbconvert_exporter": "python",
   "pygments_lexer": "ipython3",
   "version": "3.7.6"
  }
 },
 "nbformat": 4,
 "nbformat_minor": 4
}
