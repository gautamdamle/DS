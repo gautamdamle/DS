{
 "cells": [
  {
   "cell_type": "code",
   "execution_count": 1,
   "metadata": {},
   "outputs": [],
   "source": [
    "class Node: \n",
    "    def __init__(self,val): \n",
    "        self.val=val \n",
    "        self.left=None\n",
    "        self.right=None\n",
    "root = Node(11) \n",
    "root.left = Node(5) \n",
    "root.right = Node(15) \n",
    "root.left.left = Node(2) \n",
    "root.right.right = Node(22)\n",
    "root.left.right=Node(5)\n",
    "root.right.left=Node(13)\n",
    "root.left.left.left=Node(1)\n",
    "root.left.left.right=Node(3)\n",
    "root.right.left.right=Node(14)\n",
    "\n",
    "#              11\n",
    "#            /    \\\n",
    "#           5      15\n",
    "#          / \\    /  \\\n",
    "#         2   5  13   22\n",
    "#        / \\       \\\n",
    "#       1   3     14"
   ]
  },
  {
   "cell_type": "code",
   "execution_count": 2,
   "metadata": {},
   "outputs": [],
   "source": [
    "def preOrder(root):\n",
    "    if root is None:\n",
    "        return\n",
    "    print(root.val,end=' ')\n",
    "    preOrder(root.left)\n",
    "    preOrder(root.right)\n",
    "    \n",
    "    \n",
    "def inOrder(root):\n",
    "    if root is None:\n",
    "        return\n",
    "    inOrder(root.left)\n",
    "    print(root.val,end=' ')\n",
    "    inOrder(root.right)\n",
    "    \n",
    "def postOrder(root):\n",
    "    if root is None:\n",
    "        return\n",
    "    postOrder(root.left)\n",
    "    postOrder(root.right)\n",
    "    print(root.val,end=' ')"
   ]
  },
  {
   "cell_type": "code",
   "execution_count": 3,
   "metadata": {},
   "outputs": [
    {
     "name": "stdout",
     "output_type": "stream",
     "text": [
      "11 5 2 1 3 5 15 13 14 22 \n",
      "1 2 3 5 5 11 13 14 15 22 \n",
      "1 3 2 5 5 14 13 22 15 11 "
     ]
    }
   ],
   "source": [
    "preOrder(root)\n",
    "print()\n",
    "inOrder(root)\n",
    "print()\n",
    "postOrder(root)"
   ]
  },
  {
   "cell_type": "code",
   "execution_count": 4,
   "metadata": {},
   "outputs": [
    {
     "name": "stdout",
     "output_type": "stream",
     "text": [
      "<==25<=>12<=>30<=>10<=>36<=>15<=>"
     ]
    }
   ],
   "source": [
    "class TreeeNode:\n",
    "    def __init__(self,val):\n",
    "        self.left=None\n",
    "        self.right=None\n",
    "        self.val=val\n",
    "        \n",
    "class Node:\n",
    "    def __init__(self,val):\n",
    "        self.val=val\n",
    "        self.next=None\n",
    "        self.prev=None\n",
    "        \n",
    "def btToDll(root):\n",
    "    nodes=[]\n",
    "    inorder(root,nodes)\n",
    "    return nodesToDll(nodes)\n",
    "\n",
    "def inorder(root,nodes):\n",
    "    if root is None:\n",
    "        return\n",
    "    inorder(root.left,nodes)\n",
    "    nodes.append(root.val)\n",
    "    inorder(root.right,nodes)\n",
    "\n",
    "def nodesToDll(nodes):\n",
    "    head=nodes.pop(0)\n",
    "    node=temp=Node(head)\n",
    "    while nodes:\n",
    "        el=nodes.pop(0)\n",
    "        ele=Node(el)\n",
    "        temp.next=ele\n",
    "        temp.next.prev=temp\n",
    "        temp=temp.next\n",
    "    return printL(node)\n",
    "\n",
    "def printL(node):\n",
    "    print('<==',end=\"\")\n",
    "    while node:\n",
    "        print(node.val,end=\"<=>\")\n",
    "        node=node.next\n",
    "\n",
    "root=TreeeNode(10)\n",
    "root.left=TreeeNode(12)\n",
    "root.right=TreeeNode(15)\n",
    "root.left.left=TreeeNode(25)\n",
    "root.left.right=TreeeNode(30)\n",
    "root.right.left=TreeeNode(36)\n",
    "btToDll(root)"
   ]
  },
  {
   "cell_type": "code",
   "execution_count": 5,
   "metadata": {},
   "outputs": [
    {
     "name": "stdout",
     "output_type": "stream",
     "text": [
      "<==10<=>15<=>36<=>"
     ]
    }
   ],
   "source": [
    "def btToDll(root,head,temp):\n",
    "    if root is None:\n",
    "        return\n",
    "    btToDll(root.left,head,temp)\n",
    "    if head is None:\n",
    "        head=temp=Node(root.val)\n",
    "    else:\n",
    "        ele=Node(root.val)\n",
    "        temp.next=ele\n",
    "        temp.next.prev=temp\n",
    "        temp=temp.next\n",
    "    btToDll(root.right,head,temp)\n",
    "    return temp\n",
    "root=TreeeNode(10)\n",
    "root.left=TreeeNode(12)\n",
    "root.right=TreeeNode(15)\n",
    "root.left.left=TreeeNode(25)\n",
    "root.left.right=TreeeNode(30)\n",
    "root.right.right=TreeeNode(36)\n",
    "head=None;temp=None\n",
    "headDll=btToDll(root,head,temp)\n",
    "printL(headDll)"
   ]
  },
  {
   "cell_type": "code",
   "execution_count": 6,
   "metadata": {},
   "outputs": [],
   "source": [
    "# // A C++ program for in-place conversion of Binary Tree to DLL \n",
    "# #include <iostream> \n",
    "# using namespace std; \n",
    "\n",
    "# /* A binary tree node has data, and left and right pointers */\n",
    "# struct node \n",
    "# { \n",
    "# \tint data; \n",
    "# \tnode* left; \n",
    "# \tnode* right; \n",
    "# }; \n",
    "\n",
    "# // A simple recursive function to convert a given Binary tree to Doubly \n",
    "# // Linked List \n",
    "# // root --> Root of Binary Tree \n",
    "# // head --> Pointer to head node of created doubly linked list \n",
    "# void BinaryTree2DoubleLinkedList(node *root, node **head) \n",
    "# { \n",
    "# \t// Base case \n",
    "# \tif (root == NULL) return; \n",
    "\n",
    "# \t// Initialize previously visited node as NULL. This is \n",
    "# \t// static so that the same value is accessible in all recursive \n",
    "# \t// calls \n",
    "# \tstatic node* prev = NULL; \n",
    "\n",
    "# \t// Recursively convert left subtree \n",
    "# \tBinaryTree2DoubleLinkedList(root->left, head); \n",
    "\n",
    "# \t// Now convert this node \n",
    "# \tif (prev == NULL) \n",
    "# \t\t*head = root; \n",
    "# \telse\n",
    "# \t{ \n",
    "# \t\troot->left = prev; \n",
    "# \t\tprev->right = root; \n",
    "# \t} \n",
    "# \tprev = root; \n",
    "\n",
    "# \t// Finally convert right subtree \n",
    "# \tBinaryTree2DoubleLinkedList(root->right, head); \n",
    "# } \n",
    "\n",
    "# /* Helper function that allocates a new node with the \n",
    "# given data and NULL left and right pointers. */\n",
    "# node* newNode(int data) \n",
    "# { \n",
    "# \tnode* new_node = new node; \n",
    "# \tnew_node->data = data; \n",
    "# \tnew_node->left = new_node->right = NULL; \n",
    "# \treturn (new_node); \n",
    "# } \n",
    "\n",
    "# /* Function to print nodes in a given doubly linked list */\n",
    "# void printList(node *node) \n",
    "# { \n",
    "# \twhile (node!=NULL) \n",
    "# \t{ \n",
    "# \t\tcout << node->data << \" \"; \n",
    "# \t\tnode = node->right; \n",
    "# \t} \n",
    "# } \n",
    "\n",
    "# /* Driver program to test above functions*/\n",
    "# int main() \n",
    "# { \n",
    "# \t// Let us create the tree shown in above diagram \n",
    "# \tnode *root\t = newNode(10); \n",
    "# \troot->left\t = newNode(12); \n",
    "# \troot->right\t = newNode(15); \n",
    "# \troot->left->left = newNode(25); \n",
    "# \troot->left->right = newNode(30); \n",
    "# \troot->right->left = newNode(36); \n",
    "\n",
    "# \t// Convert to DLL \n",
    "# \tnode *head = NULL; \n",
    "# \tBinaryTree2DoubleLinkedList(root, &head); \n",
    "\n",
    "# \t// Print the converted list \n",
    "# \tprintList(head); \n",
    "\n",
    "# \treturn 0; \n",
    "# } \n"
   ]
  },
  {
   "cell_type": "code",
   "execution_count": 7,
   "metadata": {},
   "outputs": [],
   "source": [
    "# flatten a BT"
   ]
  },
  {
   "cell_type": "code",
   "execution_count": 8,
   "metadata": {},
   "outputs": [],
   "source": [
    "# def flattenTree(node):\n",
    "#     if (node is None or(node.left is None and node.right is None)):\n",
    "#         return\n",
    "    \n",
    "#     if node.left is not None:\n",
    "#         flattenTree(node.left)\n",
    "#         temp=node.right\n",
    "#         node.right=node.left\n",
    "#         node.left=None\n",
    "#         curr=node.right\n",
    "#         while curr is not None:\n",
    "#             curr=curr.right\n",
    "#         curr.right=temp\n",
    "#     elif node.right:\n",
    "#         flattenTree(node.right)\n",
    "#     return node"
   ]
  },
  {
   "cell_type": "code",
   "execution_count": 18,
   "metadata": {
    "collapsed": true
   },
   "outputs": [
    {
     "ename": "NameError",
     "evalue": "name 'InOrder' is not defined",
     "output_type": "error",
     "traceback": [
      "\u001b[1;31m---------------------------------------------------------------------------\u001b[0m",
      "\u001b[1;31mNameError\u001b[0m                                 Traceback (most recent call last)",
      "\u001b[1;32m<ipython-input-18-a137f4bf3503>\u001b[0m in \u001b[0;36m<module>\u001b[1;34m\u001b[0m\n\u001b[0;32m     36\u001b[0m \u001b[0mroot\u001b[0m\u001b[1;33m.\u001b[0m\u001b[0mright\u001b[0m\u001b[1;33m.\u001b[0m\u001b[0mleft\u001b[0m\u001b[1;33m.\u001b[0m\u001b[0mright\u001b[0m\u001b[1;33m=\u001b[0m\u001b[0mNode\u001b[0m\u001b[1;33m(\u001b[0m\u001b[1;36m14\u001b[0m\u001b[1;33m)\u001b[0m\u001b[1;33m\u001b[0m\u001b[1;33m\u001b[0m\u001b[0m\n\u001b[0;32m     37\u001b[0m \u001b[1;31m# root.flatten()\u001b[0m\u001b[1;33m\u001b[0m\u001b[1;33m\u001b[0m\u001b[1;33m\u001b[0m\u001b[0m\n\u001b[1;32m---> 38\u001b[1;33m \u001b[0mroot\u001b[0m\u001b[1;33m.\u001b[0m\u001b[0mInOrder\u001b[0m\u001b[1;33m(\u001b[0m\u001b[1;33m)\u001b[0m\u001b[1;33m\u001b[0m\u001b[1;33m\u001b[0m\u001b[0m\n\u001b[0m",
      "\u001b[1;32m<ipython-input-18-a137f4bf3503>\u001b[0m in \u001b[0;36mInOrder\u001b[1;34m(root)\u001b[0m\n\u001b[0;32m     21\u001b[0m         \u001b[1;32mif\u001b[0m \u001b[0mroot\u001b[0m \u001b[1;32mis\u001b[0m \u001b[1;32mNone\u001b[0m\u001b[1;33m:\u001b[0m\u001b[1;33m\u001b[0m\u001b[1;33m\u001b[0m\u001b[0m\n\u001b[0;32m     22\u001b[0m             \u001b[1;32mreturn\u001b[0m\u001b[1;33m\u001b[0m\u001b[1;33m\u001b[0m\u001b[0m\n\u001b[1;32m---> 23\u001b[1;33m         \u001b[0mInOrder\u001b[0m\u001b[1;33m(\u001b[0m\u001b[0mroot\u001b[0m\u001b[1;33m.\u001b[0m\u001b[0mleft\u001b[0m\u001b[1;33m)\u001b[0m\u001b[1;33m\u001b[0m\u001b[1;33m\u001b[0m\u001b[0m\n\u001b[0m\u001b[0;32m     24\u001b[0m         \u001b[0mprint\u001b[0m\u001b[1;33m(\u001b[0m\u001b[0mroot\u001b[0m\u001b[1;33m.\u001b[0m\u001b[0mval\u001b[0m\u001b[1;33m,\u001b[0m\u001b[0mend\u001b[0m\u001b[1;33m=\u001b[0m\u001b[1;34m\" \"\u001b[0m\u001b[1;33m)\u001b[0m\u001b[1;33m\u001b[0m\u001b[1;33m\u001b[0m\u001b[0m\n\u001b[0;32m     25\u001b[0m         \u001b[0mInOrder\u001b[0m\u001b[1;33m(\u001b[0m\u001b[0mroot\u001b[0m\u001b[1;33m.\u001b[0m\u001b[0mright\u001b[0m\u001b[1;33m)\u001b[0m\u001b[1;33m\u001b[0m\u001b[1;33m\u001b[0m\u001b[0m\n",
      "\u001b[1;31mNameError\u001b[0m: name 'InOrder' is not defined"
     ]
    }
   ],
   "source": [
    "class Node:\n",
    "    def __init__(self,val):\n",
    "        self.left=None\n",
    "        self.right=None\n",
    "        self.val=val\n",
    "\n",
    "    def flatten(self):\n",
    "        if root is not None:\n",
    "            flatten(root.left)\n",
    "            flatten(root.right)\n",
    "            if root.left is not None:\n",
    "                current = root.left\n",
    "                while current.right is not None:\n",
    "                     current = current.right\n",
    "                current.right = root.right\n",
    "                root.right = root.left\n",
    "                root.left = None\n",
    "        \n",
    "    \n",
    "    def InOrder(root):\n",
    "        if root is None:\n",
    "            return\n",
    "        InOrder(root.left)\n",
    "        print(root.val,end=\" \")\n",
    "        InOrder(root.right)\n",
    "    \n",
    "root = Node(11) \n",
    "root.left = Node(5) \n",
    "root.right = Node(15) \n",
    "root.left.left = Node(2) \n",
    "root.right.right = Node(22)\n",
    "root.left.right=Node(5)\n",
    "root.right.left=Node(13)\n",
    "root.left.left.left=Node(1)\n",
    "root.left.left.right=Node(3)\n",
    "root.right.left.right=Node(14)\n",
    "# root.flatten()\n",
    "root.InOrder()"
   ]
  },
  {
   "cell_type": "code",
   "execution_count": 10,
   "metadata": {},
   "outputs": [],
   "source": [
    "# sum of leaf"
   ]
  },
  {
   "cell_type": "code",
   "execution_count": 14,
   "metadata": {},
   "outputs": [
    {
     "data": {
      "text/plain": [
       "45"
      ]
     },
     "execution_count": 14,
     "metadata": {},
     "output_type": "execute_result"
    }
   ],
   "source": [
    "def sumLeaf(root):\n",
    "#     if root is None\n",
    "    if root is None:\n",
    "        return 0\n",
    "    if root.left is None and root.right is None:\n",
    "        return root.val\n",
    "    l=sumLeaf(root.left)\n",
    "    r=sumLeaf(root.right)\n",
    "    return l+r\n",
    "sumLeaf(root)"
   ]
  },
  {
   "cell_type": "code",
   "execution_count": 23,
   "metadata": {},
   "outputs": [],
   "source": [
    "def LCA(root, n1, n2):\n",
    "    #code here.\n",
    "    while root:\n",
    "        if ((root.val<=n1 and root.val>=n2)or(root.val<=n2 and root.val>=n1)):\n",
    "            return root.val\n",
    "        elif root.val<n1:\n",
    "            root=root.right\n",
    "        elif root.val>n1:\n",
    "            root=root.left"
   ]
  },
  {
   "cell_type": "code",
   "execution_count": 24,
   "metadata": {},
   "outputs": [
    {
     "data": {
      "text/plain": [
       "11"
      ]
     },
     "execution_count": 24,
     "metadata": {},
     "output_type": "execute_result"
    }
   ],
   "source": [
    "LCA(root,2,22)"
   ]
  },
  {
   "cell_type": "code",
   "execution_count": 51,
   "metadata": {},
   "outputs": [],
   "source": [
    "def countPairs(root1, root2, x):\n",
    "    n1=[]\n",
    "    n2=[]\n",
    "    inorder(root1,n1)\n",
    "    inorder(root2,n2)\n",
    "    s=0\n",
    "    new=0\n",
    "    out=set()\n",
    "    e=len(n2)-1\n",
    "#     print(n1)\n",
    "#     print(n2)\n",
    "#     print(s)\n",
    "#     print(e)\n",
    "    while s<len(n1) and e>=0:\n",
    "        new=n1[s]+n2[e]\n",
    "        if new==x:\n",
    "            out.add((min(n1[s],n2[e]),max(n1[s],n2[e])))\n",
    "            s+=1\n",
    "            e-=1\n",
    "            print(out)\n",
    "        elif new>x:\n",
    "            e-=1\n",
    "        elif new<x:\n",
    "            s+=1\n",
    "    for a,b in out:\n",
    "        print((a,b),end=\" \")\n",
    "\n",
    "def inorder(root,n):\n",
    "    if root is None:\n",
    "        return \n",
    "    inorder(root.left,n)\n",
    "    n.append(root.data)\n",
    "    inorder(root.right,n)"
   ]
  },
  {
   "cell_type": "code",
   "execution_count": 52,
   "metadata": {},
   "outputs": [
    {
     "name": "stdout",
     "output_type": "stream",
     "text": [
      "{(5, 11)}\n",
      "{(6, 10), (5, 11)}\n",
      "{(8, 8), (6, 10), (5, 11)}\n",
      "(8, 8) (6, 10) (5, 11) "
     ]
    }
   ],
   "source": [
    "class Node: \n",
    "    def __init__(self,val): \n",
    "        self.data=val \n",
    "        self.left=None\n",
    "        self.right=None\n",
    "root1 = Node(5) \n",
    "root1.left = Node(3) \n",
    "root1.right = Node(7) \n",
    "root1.left.left = Node(2) \n",
    "root1.right.right = Node(8)\n",
    "root1.left.right=Node(4)\n",
    "root1.right.left=Node(6)\n",
    "# root.left.left.left=Node(1)\n",
    "# root.left.left.right=Node(3)\n",
    "# root.right.left.right=Node(14)\n",
    "root2 = Node(10) \n",
    "root2.left = Node(6) \n",
    "root2.right = Node(15) \n",
    "root2.left.left = Node(3) \n",
    "root2.right.right = Node(18)\n",
    "root2.left.right=Node(8)\n",
    "root2.right.left=Node(11)\n",
    "countPairs(root1,root2,16)"
   ]
  },
  {
   "cell_type": "code",
   "execution_count": null,
   "metadata": {},
   "outputs": [],
   "source": [
    "# class GfG\n",
    "# {\n",
    "#     public static boolean find(Node root,int key){\n",
    "#         if(root==null)\n",
    "#             return false;\n",
    "#         if(root.data==key)\n",
    "#             return true;\n",
    "#         if(root.data<key)\n",
    "#         return find(root.right,key);\n",
    "#         returnfind(root.left,key);\n",
    "#     }\n",
    "#     public static int countPairs(Node root1, Node root2, int x)\n",
    "#     {\n",
    "#         if(root1==null||root2==null)\n",
    "#             return 0;\n",
    "#         if(find(root2,x-root1.data))\n",
    "#             return 1+countPairs(root1.left,root2,x)+countPairs(root1.right,root2,x);\n",
    "#         return countPairs(root1.left,root2,x)+countPairs(root1.right,root2,x);\n",
    "#     }\n",
    "# }"
   ]
  },
  {
   "cell_type": "code",
   "execution_count": null,
   "metadata": {},
   "outputs": [],
   "source": []
  }
 ],
 "metadata": {
  "kernelspec": {
   "display_name": "Python 3",
   "language": "python",
   "name": "python3"
  },
  "language_info": {
   "codemirror_mode": {
    "name": "ipython",
    "version": 3
   },
   "file_extension": ".py",
   "mimetype": "text/x-python",
   "name": "python",
   "nbconvert_exporter": "python",
   "pygments_lexer": "ipython3",
   "version": "3.7.6"
  }
 },
 "nbformat": 4,
 "nbformat_minor": 4
}
