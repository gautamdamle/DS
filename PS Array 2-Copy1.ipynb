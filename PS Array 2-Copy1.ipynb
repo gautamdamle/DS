{
 "cells": [
  {
   "cell_type": "code",
   "execution_count": 1,
   "metadata": {},
   "outputs": [],
   "source": [
    "# greater to right or next largest ele "
   ]
  },
  {
   "cell_type": "code",
   "execution_count": 11,
   "metadata": {},
   "outputs": [
    {
     "data": {
      "text/plain": [
       "[2, 3, 4, -1]"
      ]
     },
     "execution_count": 11,
     "metadata": {},
     "output_type": "execute_result"
    }
   ],
   "source": [
    "def nle(a):\n",
    "    s=[]\n",
    "    out=[]\n",
    "    for i in reversed(range(len(a))):\n",
    "        if len(s)==0:\n",
    "            out.append(-1)\n",
    "        elif len(s)>0 and s[-1]>a[i]:\n",
    "            out.append(s[-1])\n",
    "        elif len(s)>0 and s[-1]<=a[i]:\n",
    "            while len(s)>0 and s[-1]<=a[i]:\n",
    "                s.pop()\n",
    "            if len(s)==0:\n",
    "                out.append(-1)\n",
    "            else:\n",
    "                out.appned(s[-1])\n",
    "        s.append(a[i])\n",
    "    return out[::-1]\n",
    "            \n",
    "a=[1,2,3,4]\n",
    "nle(a)"
   ]
  },
  {
   "cell_type": "code",
   "execution_count": 1,
   "metadata": {},
   "outputs": [],
   "source": [
    "# Stcok buy and sell"
   ]
  },
  {
   "cell_type": "code",
   "execution_count": 2,
   "metadata": {},
   "outputs": [
    {
     "data": {
      "text/plain": [
       "655"
      ]
     },
     "execution_count": 2,
     "metadata": {},
     "output_type": "execute_result"
    }
   ],
   "source": [
    "def stockBuySell(a):\n",
    "    mina=float('inf')\n",
    "    maxa=0\n",
    "    for i in a:\n",
    "        mina=min(mina,i)\n",
    "        maxa=max(maxa,i-mina)\n",
    "    return maxa\n",
    "# a=[7,1,5,3,6,4]\n",
    "# a=[7,6,5,4,3,2,1]\n",
    "a=[100, 180, 260, 310, 40, 535, 695]\n",
    "stockBuySell(a)"
   ]
  },
  {
   "cell_type": "code",
   "execution_count": 1,
   "metadata": {},
   "outputs": [],
   "source": [
    "# "
   ]
  },
  {
   "cell_type": "code",
   "execution_count": 3,
   "metadata": {},
   "outputs": [
    {
     "data": {
      "text/plain": [
       "'33455999'"
      ]
     },
     "execution_count": 3,
     "metadata": {},
     "output_type": "execute_result"
    }
   ],
   "source": [
    "def larg(l):\n",
    "    n=len(l)\n",
    "    s=''\n",
    "    for i in l:\n",
    "        for j in l[1:]:\n",
    "            if i%10>j%10:\n",
    "                s+=str(i)\n",
    "    return s\n",
    "larg([3,30,34,5,9])"
   ]
  },
  {
   "cell_type": "code",
   "execution_count": 1,
   "metadata": {},
   "outputs": [],
   "source": [
    "# freq"
   ]
  },
  {
   "cell_type": "code",
   "execution_count": 2,
   "metadata": {},
   "outputs": [
    {
     "name": "stdout",
     "output_type": "stream",
     "text": [
      "[(8, 3), (6, 1), (5, 2), (2, 1)]\n"
     ]
    }
   ],
   "source": [
    "def fre(arr):\n",
    "    for i in  range(len(arr)-1,0,-1):\n",
    "        maxi = i\n",
    "        for j in range(0,i+1):\n",
    "            if arr[j]>arr[maxi]:\n",
    "                maxi = j\n",
    "        t=arr[i]\n",
    "        arr[i]=arr[maxi]\n",
    "        arr[maxi]=t\n",
    "    d={}\n",
    "    l=[]\n",
    "    for j in range(len(arr)):\n",
    "        if arr[j] not in d:\n",
    "            d[arr[j]]=1\n",
    "        else:\n",
    "            d[arr[j]]+=1\n",
    "    for key,value in d.items():\n",
    "        l.append((key,value))\n",
    "    print(l[::-1])\n",
    "arr=[2,5,8,5,6,8,8]\n",
    "fre(arr)"
   ]
  },
  {
   "cell_type": "code",
   "execution_count": 4,
   "metadata": {},
   "outputs": [
    {
     "data": {
      "text/plain": [
       "4"
      ]
     },
     "execution_count": 4,
     "metadata": {},
     "output_type": "execute_result"
    }
   ],
   "source": [
    "def repeat(arr):\n",
    "    d={}\n",
    "    for i in arr:\n",
    "        if i in d:\n",
    "            d[i]+=1\n",
    "        else:\n",
    "            d[i]=1\n",
    "    return max(d, key=d.get)\n",
    "repeat([1,2,1,3,1,1,1,1,1,4,44,4,4,44,4,4,4,4,4,44,4,4,4])"
   ]
  },
  {
   "cell_type": "code",
   "execution_count": 5,
   "metadata": {},
   "outputs": [
    {
     "name": "stdout",
     "output_type": "stream",
     "text": [
      "1st  {3: 0}\n",
      "1st  {3: 0, 2: 1}\n",
      "1st  {3: 0, 2: -2}\n",
      "1st  {3: 0, 2: -2, 1: 3}\n",
      "1st  {3: -4, 2: -2, 1: 3}\n",
      "after for loop  {3: -4, 2: -2}\n"
     ]
    },
    {
     "data": {
      "text/plain": [
       "2"
      ]
     },
     "execution_count": 5,
     "metadata": {},
     "output_type": "execute_result"
    }
   ],
   "source": [
    "def fr(arr):\n",
    "    d={}\n",
    "    for i in range(0,len(arr)):\n",
    "        if arr[i] not in d:\n",
    "            d[arr[i]] = i\n",
    "        elif d[arr[i]]<-2:\n",
    "            pass\n",
    "        else:\n",
    "            d[arr[i]] = -i\n",
    "        print('1st ',d)\n",
    "    for i in list(d):\n",
    "        if d[i]>-1:\n",
    "            d.pop(i)\n",
    "    print('after for loop ',d)\n",
    "    return max(d,key=d.get)\n",
    "fr([3,2,2,1,3])"
   ]
  },
  {
   "cell_type": "code",
   "execution_count": 6,
   "metadata": {},
   "outputs": [
    {
     "name": "stdout",
     "output_type": "stream",
     "text": [
      "4\n",
      "[4]\n",
      "13\n",
      "[4, 13]\n",
      "5\n",
      "[4, 13, 5]\n",
      "/\n",
      "[4, 2]\n",
      "+\n",
      "[6]\n"
     ]
    },
    {
     "data": {
      "text/plain": [
       "6"
      ]
     },
     "execution_count": 6,
     "metadata": {},
     "output_type": "execute_result"
    }
   ],
   "source": [
    "def c(expr):\n",
    "    numStack=[]\n",
    "    for symb in expr:\n",
    "        print(symb)\n",
    "        numStack.append(int(eval(\"{2}{1}{0}\".format(numStack.pop(),symb,numStack.pop())) if symb in \"+-*/\" else symb))\n",
    "        print(numStack)\n",
    "    return numStack[0]\n",
    "A = [\"4\", \"13\", \"5\", \"/\", \"+\"]\n",
    "c(A)"
   ]
  },
  {
   "cell_type": "code",
   "execution_count": 7,
   "metadata": {},
   "outputs": [
    {
     "data": {
      "text/plain": [
       "3"
      ]
     },
     "execution_count": 7,
     "metadata": {},
     "output_type": "execute_result"
    }
   ],
   "source": [
    "def findMinXor(A):\n",
    "        A = sorted(A)\n",
    "        m = A[0]^A[1]\n",
    "        for i in range(len(A)-1,0,-1):\n",
    "            if(A[i]^A[i-1] < m):\n",
    "                m = A[i]^A[i-1]\n",
    "        \n",
    "        return m\n",
    "findMinXor([0,4,7,9])"
   ]
  },
  {
   "cell_type": "code",
   "execution_count": 8,
   "metadata": {},
   "outputs": [
    {
     "data": {
      "text/plain": [
       "True"
      ]
     },
     "execution_count": 8,
     "metadata": {},
     "output_type": "execute_result"
    }
   ],
   "source": [
    "def redundant(s):\n",
    "    stack=[]\n",
    "    \n",
    "    for p in s:\n",
    "        if p==')':\n",
    "            top=stack[-1]\n",
    "            stack.pop()\n",
    "            flag=True\n",
    "            while top!='(':\n",
    "                if top in '+-/*':\n",
    "                    flag=False\n",
    "                top=stack[-1]\n",
    "                top=stack.pop()\n",
    "            if flag==True:\n",
    "                return True\n",
    "        else:\n",
    "            stack.append(p)\n",
    "    return False\n",
    "redundant('(a+(a)+b))')"
   ]
  },
  {
   "cell_type": "code",
   "execution_count": 6,
   "metadata": {
    "collapsed": true
   },
   "outputs": [
    {
     "name": "stdout",
     "output_type": "stream",
     "text": [
      "buystock is  100\n",
      "sellstock  0\n",
      "100\n",
      "0\n",
      "buystock is  40\n",
      "sellstock  0\n",
      "buystock is  40\n",
      "sellstock  460\n",
      "buystock is  40\n",
      "sellstock  560\n"
     ]
    },
    {
     "data": {
      "text/plain": [
       "560"
      ]
     },
     "execution_count": 6,
     "metadata": {},
     "output_type": "execute_result"
    }
   ],
   "source": [
    "def bestTime(stocks):\n",
    "    buystock=float('inf')\n",
    "    sellstock=cumustock=0\n",
    "    for price in stocks:\n",
    "        if price<buystock and buystock!=float('inf'):\n",
    "            cumustock+=sellstock\n",
    "            print(buystock)\n",
    "            print(cumustock)\n",
    "        buystock=min(buystock,price)\n",
    "        sellstock=max(sellstock,price-buystock)\n",
    "        print('buystock is ',buystock)\n",
    "        print('sellstock ',sellstock)\n",
    "    return sellstock+cumustock\n",
    "# stocks=[100, 180, 260, 310, 40, 535, 695]\n",
    "stocks=[100,40,500,600]\n",
    "bestTime(stocks)"
   ]
  },
  {
   "cell_type": "code",
   "execution_count": null,
   "metadata": {},
   "outputs": [],
   "source": []
  }
 ],
 "metadata": {
  "kernelspec": {
   "display_name": "Python 3",
   "language": "python",
   "name": "python3"
  },
  "language_info": {
   "codemirror_mode": {
    "name": "ipython",
    "version": 3
   },
   "file_extension": ".py",
   "mimetype": "text/x-python",
   "name": "python",
   "nbconvert_exporter": "python",
   "pygments_lexer": "ipython3",
   "version": "3.7.6"
  }
 },
 "nbformat": 4,
 "nbformat_minor": 4
}
