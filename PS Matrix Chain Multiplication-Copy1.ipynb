{
 "cells": [
  {
   "cell_type": "code",
   "execution_count": 9,
   "metadata": {},
   "outputs": [],
   "source": [
    "# 1. Palindromic Partition with Memoization"
   ]
  },
  {
   "cell_type": "code",
   "execution_count": 13,
   "metadata": {},
   "outputs": [
    {
     "data": {
      "text/plain": [
       "3"
      ]
     },
     "execution_count": 13,
     "metadata": {},
     "output_type": "execute_result"
    }
   ],
   "source": [
    "def solve(s,i,j,mini):\n",
    "    if i>=j:\n",
    "        return 0\n",
    "    if t[i][j]!=-1:\n",
    "        return t[i][j]\n",
    "    if ispal(s,i,j)==True:\n",
    "        return 0\n",
    "    for k in range(i,j):\n",
    "        if t[i][k]!=-1:\n",
    "            left=t[i][k]\n",
    "        else:\n",
    "            left=solve(s,i,k,mini)\n",
    "        if t[k+1][j]!=-1:\n",
    "            right=t[k+1][j]\n",
    "        else:\n",
    "            right=solve(s,k+1,j,mini)\n",
    "        temp=left+right+1\n",
    "        if temp<mini:\n",
    "            mini=temp\n",
    "    t[i][j]=mini\n",
    "    return mini\n",
    "    \n",
    "\n",
    "def ispal(s,i,j):\n",
    "    while i<j:\n",
    "        if s[i]==s[j]:\n",
    "            i+=1\n",
    "            j-=1\n",
    "        else:\n",
    "            return False\n",
    "    return True\n",
    "s='naitin'\n",
    "global t\n",
    "t=[[-1 for _ in range(len(s)+1)]for _ in range(len(s)+1)]\n",
    "i=0\n",
    "j=len(s)-1\n",
    "solve(s,i,j,float('inf'))"
   ]
  },
  {
   "cell_type": "code",
   "execution_count": 14,
   "metadata": {},
   "outputs": [],
   "source": [
    "# 2. Evaluate Expr to True Boolean Parenthesization"
   ]
  },
  {
   "cell_type": "code",
   "execution_count": null,
   "metadata": {},
   "outputs": [],
   "source": []
  },
  {
   "cell_type": "code",
   "execution_count": 1,
   "metadata": {},
   "outputs": [],
   "source": [
    "# 3.Sparse matrix rep"
   ]
  },
  {
   "cell_type": "code",
   "execution_count": 9,
   "metadata": {},
   "outputs": [
    {
     "name": "stdout",
     "output_type": "stream",
     "text": [
      "[0, 0, 1, 1, 3, 3]\n",
      "[2, 4, 2, 3, 1, 2]\n",
      "[3, 4, 5, 7, 2, 6]\n"
     ]
    }
   ],
   "source": [
    "def compactMat(sparse):\n",
    "    m=len(sparse)\n",
    "    n=len(sparse[0])\n",
    "    size=0\n",
    "    for i in range(m):\n",
    "        for j in range(n):\n",
    "            if sparse[i][j]!=0:\n",
    "                size+=1\n",
    "    rows,cols=(3,size)\n",
    "#     print(size)\n",
    "    compact=[[0 for _ in range(cols)]for _ in range(3)]\n",
    "#     print(compact)\n",
    "    k=0\n",
    "    for i in range(m):\n",
    "        for j in range(n):\n",
    "            if sparse[i][j]!=0:\n",
    "                compact[0][k]=i\n",
    "                compact[1][k]=j\n",
    "                compact[2][k]=sparse[i][j]\n",
    "                k+=1\n",
    "    for i in compact:\n",
    "        print(i)\n",
    "sparse=[[0,0,3,0,4],[0,0,5,7,0],[0,0,0,0,0],[0,2,6,0,0]]\n",
    "compactMat(sparse)"
   ]
  },
  {
   "cell_type": "code",
   "execution_count": null,
   "metadata": {},
   "outputs": [],
   "source": []
  },
  {
   "cell_type": "code",
   "execution_count": null,
   "metadata": {},
   "outputs": [],
   "source": []
  }
 ],
 "metadata": {
  "kernelspec": {
   "display_name": "Python 3",
   "language": "python",
   "name": "python3"
  },
  "language_info": {
   "codemirror_mode": {
    "name": "ipython",
    "version": 3
   },
   "file_extension": ".py",
   "mimetype": "text/x-python",
   "name": "python",
   "nbconvert_exporter": "python",
   "pygments_lexer": "ipython3",
   "version": "3.7.6"
  }
 },
 "nbformat": 4,
 "nbformat_minor": 4
}
