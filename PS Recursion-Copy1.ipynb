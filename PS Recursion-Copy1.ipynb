{
 "cells": [
  {
   "cell_type": "code",
   "execution_count": 18,
   "metadata": {},
   "outputs": [],
   "source": [
    "## Recusion sort an array"
   ]
  },
  {
   "cell_type": "code",
   "execution_count": 17,
   "metadata": {},
   "outputs": [
    {
     "data": {
      "text/plain": [
       "[1, 2, 4, 5]"
      ]
     },
     "execution_count": 17,
     "metadata": {},
     "output_type": "execute_result"
    }
   ],
   "source": [
    "def sortr(a):\n",
    "    if len(a)==1:\n",
    "        return\n",
    "    t=a[-1]\n",
    "    a.pop()\n",
    "#     print(a)\n",
    "    sortr(a)\n",
    "    insert(a,t)\n",
    "    return a\n",
    "def insert(a,t):\n",
    "#     print('a in insert is ',a)\n",
    "#     print('t is ',t)\n",
    "    if len(a)==0 or a[-1]<=t:\n",
    "        a.append(t)\n",
    "#         print('final a is ',a)\n",
    "        return a\n",
    "    v=a[-1]\n",
    "    a.pop()\n",
    "    insert(a,t)\n",
    "    a.append(v)\n",
    "    return \n",
    "a=[2,1,4,5]\n",
    "sortr(a)"
   ]
  },
  {
   "cell_type": "code",
   "execution_count": 19,
   "metadata": {},
   "outputs": [],
   "source": [
    "#  delete Mid ele from stack"
   ]
  },
  {
   "cell_type": "code",
   "execution_count": 23,
   "metadata": {},
   "outputs": [
    {
     "name": "stdout",
     "output_type": "stream",
     "text": [
      "k is  3\n",
      "[1, 2, 4, 5, 6]\n"
     ]
    }
   ],
   "source": [
    "def mid_ele(s):\n",
    "    def solve(k):\n",
    "        if k==0:\n",
    "            s.pop()\n",
    "            return\n",
    "        c=s.pop()\n",
    "        solve(k-1)\n",
    "        s.append(c)\n",
    "    k=len(s)//2\n",
    "    print('k is ',k)\n",
    "    solve(k)\n",
    "s=[1,2,3,4,5,6]\n",
    "mid_ele(s)\n",
    "print(s)"
   ]
  },
  {
   "cell_type": "code",
   "execution_count": 1,
   "metadata": {},
   "outputs": [],
   "source": [
    "# rev stack using rec"
   ]
  },
  {
   "cell_type": "code",
   "execution_count": 4,
   "metadata": {},
   "outputs": [
    {
     "data": {
      "text/plain": [
       "[5, 4, 3, 2, 1]"
      ]
     },
     "execution_count": 4,
     "metadata": {},
     "output_type": "execute_result"
    }
   ],
   "source": [
    "def rev(s):\n",
    "    if len(s)==1:\n",
    "        return\n",
    "    t=s.pop()\n",
    "    rev(s)\n",
    "    ins(s,t)\n",
    "    return s\n",
    "def ins(s,t):\n",
    "    if len(s)==0:\n",
    "        s.append(t)\n",
    "        return\n",
    "    v=s.pop()\n",
    "    ins(s,t)\n",
    "    s.append(v)\n",
    "    return\n",
    "s=[1,2,3,4,5]\n",
    "rev(s)"
   ]
  },
  {
   "cell_type": "code",
   "execution_count": 5,
   "metadata": {},
   "outputs": [],
   "source": [
    "# Kth symbol in grammar "
   ]
  },
  {
   "cell_type": "code",
   "execution_count": 25,
   "metadata": {},
   "outputs": [
    {
     "data": {
      "text/plain": [
       "0"
      ]
     },
     "execution_count": 25,
     "metadata": {},
     "output_type": "execute_result"
    }
   ],
   "source": [
    "def sg(n,k):\n",
    "    if n==1 and k==1:\n",
    "        return 0\n",
    "    mid=(2**(n-1))//2\n",
    "    if k<=mid:\n",
    "        return sg(n-1,k)\n",
    "    else:\n",
    "        return int(not(sg(n-1,abs(k-mid))))\n",
    "sg(4,7)"
   ]
  },
  {
   "cell_type": "code",
   "execution_count": 26,
   "metadata": {},
   "outputs": [],
   "source": [
    "# power set"
   ]
  },
  {
   "cell_type": "code",
   "execution_count": 29,
   "metadata": {},
   "outputs": [
    {
     "name": "stdout",
     "output_type": "stream",
     "text": [
      "[[], [3], [2], [2, 3], [1], [1, 3], [1, 2], [1, 2, 3]]\n"
     ]
    }
   ],
   "source": [
    "def ps(ip,op,re):\n",
    "    if len(ip)==0:\n",
    "        op.append(re)\n",
    "        return\n",
    "    l=re[:]\n",
    "    r=re[:]\n",
    "    r.append(ip[0])\n",
    "    ip=ip[1:]\n",
    "    ps(ip,op,l)\n",
    "    ps(ip,op,r)\n",
    "a=[1,2,3]\n",
    "o=re=[]\n",
    "ps(a,o,re)\n",
    "print(o)"
   ]
  },
  {
   "cell_type": "code",
   "execution_count": 26,
   "metadata": {},
   "outputs": [],
   "source": [
    "#  unique string powerset"
   ]
  },
  {
   "cell_type": "code",
   "execution_count": 27,
   "metadata": {},
   "outputs": [
    {
     "name": "stdout",
     "output_type": "stream",
     "text": [
      " c b bc a ac ab abc "
     ]
    }
   ],
   "source": [
    "def sps(s,op):\n",
    "    if len(s)==0:\n",
    "        print(op,end=' ')\n",
    "        return\n",
    "    op1=op\n",
    "    op2=op\n",
    "    op2+=s[0]\n",
    "    s=s[1:]\n",
    "    sps(s,op1)\n",
    "    sps(s,op2)\n",
    "    return\n",
    "s='aabc'\n",
    "d={}\n",
    "for i in s:\n",
    "    if i not in d:\n",
    "        d[i]=1\n",
    "    else:\n",
    "        pass\n",
    "s=''.join(d.keys())\n",
    "a=sps(s,'')"
   ]
  },
  {
   "cell_type": "code",
   "execution_count": 28,
   "metadata": {},
   "outputs": [],
   "source": [
    "# permutation with strings"
   ]
  },
  {
   "cell_type": "code",
   "execution_count": 35,
   "metadata": {},
   "outputs": [
    {
     "name": "stdout",
     "output_type": "stream",
     "text": [
      "a b c\n",
      "a bc\n",
      "ab c\n",
      "abc\n"
     ]
    }
   ],
   "source": [
    "def pws(s,op):\n",
    "    if len(op)==0:\n",
    "        op+=s[0]\n",
    "        s=s[1:]\n",
    "    if len(s)==0:\n",
    "        print(op)\n",
    "        return\n",
    "    op1=op\n",
    "    op2=op\n",
    "    op1+=' '+s[0]\n",
    "    op2+=s[0]\n",
    "    s=s[1:]\n",
    "    pws(s,op1)\n",
    "    pws(s,op2)\n",
    "    return\n",
    "pws('abc','')"
   ]
  },
  {
   "cell_type": "code",
   "execution_count": 36,
   "metadata": {},
   "outputs": [],
   "source": [
    "# case change"
   ]
  },
  {
   "cell_type": "code",
   "execution_count": 52,
   "metadata": {},
   "outputs": [
    {
     "name": "stdout",
     "output_type": "stream",
     "text": [
      "ab\n",
      "aB\n",
      "Ab\n",
      "AB\n"
     ]
    }
   ],
   "source": [
    "def pwscc(s,op):\n",
    "    if len(s)==0:\n",
    "        print(op)\n",
    "        return\n",
    "    op1=op\n",
    "    op2=op\n",
    "    op1+=s[0]\n",
    "    op2+=s[0].upper()\n",
    "    s=s[1:]\n",
    "#     print('op1 ',op1)\n",
    "#     print('op2 ',op2)\n",
    "    pwscc(s,op1)\n",
    "    pwscc(s,op2)\n",
    "    return\n",
    "pwscc('ab','')"
   ]
  },
  {
   "cell_type": "code",
   "execution_count": 53,
   "metadata": {},
   "outputs": [],
   "source": [
    "# with digit"
   ]
  },
  {
   "cell_type": "code",
   "execution_count": 68,
   "metadata": {},
   "outputs": [
    {
     "data": {
      "text/plain": [
       "'a1b2 a1B2 A1b2 A1B2'"
      ]
     },
     "execution_count": 68,
     "metadata": {},
     "output_type": "execute_result"
    }
   ],
   "source": [
    "def pwswd(s,op,d):\n",
    "    if len(s)==0:\n",
    "        if op not in d:\n",
    "            d[op]=1\n",
    "        else:\n",
    "            pass\n",
    "        return \n",
    "    op1=op\n",
    "    op2=op\n",
    "    if op.isdigit():\n",
    "        op1=op\n",
    "        op1+=s[0]\n",
    "        s=s[1:]\n",
    "        pwswd(s,op1)\n",
    "    else:\n",
    "        op1+=s[0].lower()\n",
    "        op2+=s[0].upper()\n",
    "        s=s[1:]\n",
    "#     print('op1 ',op1)\n",
    "#     print('op2 ',op2)\n",
    "    pwswd(s,op1,d)\n",
    "    pwswd(s,op2,d)\n",
    "    return ' '.join(d.keys())\n",
    "d={}\n",
    "pwswd('a1B2','',d)"
   ]
  },
  {
   "cell_type": "code",
   "execution_count": 69,
   "metadata": {},
   "outputs": [],
   "source": [
    "# generate all balanced parenthesis"
   ]
  },
  {
   "cell_type": "code",
   "execution_count": 76,
   "metadata": {},
   "outputs": [
    {
     "name": "stdout",
     "output_type": "stream",
     "text": [
      "o1 is  (\n",
      "o1 is  ((\n",
      "o1 is  (((\n",
      "o2 is  ((()\n",
      "o2 is  ((())\n",
      "o2 is  ((()))\n",
      "o2 is  (()\n",
      "o1 is  (()(\n",
      "o2 is  (()()\n",
      "o2 is  (()())\n",
      "o2 is  (())\n",
      "o1 is  (())(\n",
      "o2 is  (())()\n",
      "o2 is  ()\n",
      "o1 is  ()(\n",
      "o1 is  ()((\n",
      "o2 is  ()(()\n",
      "o2 is  ()(())\n",
      "o2 is  ()()\n",
      "o1 is  ()()(\n",
      "o2 is  ()()()\n"
     ]
    },
    {
     "data": {
      "text/plain": [
       "['((()))', '(()())', '(())()', '()(())', '()()()']"
      ]
     },
     "execution_count": 76,
     "metadata": {},
     "output_type": "execute_result"
    }
   ],
   "source": [
    "def solve(op,cl,o,l):\n",
    "    if op==0 and cl==0:\n",
    "        l.append(o)\n",
    "        return\n",
    "    if op!=0:\n",
    "        o1=o\n",
    "        o1+='('\n",
    "        print('o1 is ',o1)\n",
    "        solve(op-1,cl,o1,l)\n",
    "    if cl>op:\n",
    "        o2=o\n",
    "        o2+=')'\n",
    "        print('o2 is ',o2)\n",
    "        solve(op,cl-1,o2,l)\n",
    "    return l\n",
    "op=3\n",
    "cl=3\n",
    "o=''\n",
    "l=[]\n",
    "solve(op,cl,o,l)"
   ]
  },
  {
   "cell_type": "code",
   "execution_count": 1,
   "metadata": {},
   "outputs": [],
   "source": [
    "# Josephus Problem"
   ]
  },
  {
   "cell_type": "code",
   "execution_count": 3,
   "metadata": {},
   "outputs": [
    {
     "data": {
      "text/plain": [
       "3"
      ]
     },
     "execution_count": 3,
     "metadata": {},
     "output_type": "execute_result"
    }
   ],
   "source": [
    "def j(n,k):\n",
    "    if n==1:\n",
    "        return 1\n",
    "    return (j(n-1,k)+k-1)%n+1\n",
    "j(5,2)"
   ]
  },
  {
   "cell_type": "code",
   "execution_count": null,
   "metadata": {},
   "outputs": [],
   "source": []
  }
 ],
 "metadata": {
  "kernelspec": {
   "display_name": "Python 3",
   "language": "python",
   "name": "python3"
  },
  "language_info": {
   "codemirror_mode": {
    "name": "ipython",
    "version": 3
   },
   "file_extension": ".py",
   "mimetype": "text/x-python",
   "name": "python",
   "nbconvert_exporter": "python",
   "pygments_lexer": "ipython3",
   "version": "3.7.6"
  }
 },
 "nbformat": 4,
 "nbformat_minor": 4
}
