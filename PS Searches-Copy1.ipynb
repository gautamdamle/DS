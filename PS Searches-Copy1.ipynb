{
 "cells": [
  {
   "cell_type": "code",
   "execution_count": 1,
   "metadata": {},
   "outputs": [],
   "source": [
    "# First Occurence"
   ]
  },
  {
   "cell_type": "code",
   "execution_count": 17,
   "metadata": {},
   "outputs": [
    {
     "data": {
      "text/plain": [
       "-1"
      ]
     },
     "execution_count": 17,
     "metadata": {},
     "output_type": "execute_result"
    }
   ],
   "source": [
    "def fo(a,key):\n",
    "    s=0\n",
    "    res=-1\n",
    "    e=len(a)-1\n",
    "    while s<=e:\n",
    "        mid=s+(e-s)//2\n",
    "        if a[mid]==key:\n",
    "            res=mid\n",
    "            e=mid-1\n",
    "        elif a[mid]>key:\n",
    "            e=mid-1\n",
    "        else:\n",
    "            s=mid+1\n",
    "    return res\n",
    "# a=[2,4,10,10,10,18,20]\n",
    "a=[2,3,4,5,7,9,11]\n",
    "fo(a,10)"
   ]
  },
  {
   "cell_type": "code",
   "execution_count": 5,
   "metadata": {},
   "outputs": [],
   "source": [
    "# last Occurence"
   ]
  },
  {
   "cell_type": "code",
   "execution_count": 9,
   "metadata": {},
   "outputs": [
    {
     "data": {
      "text/plain": [
       "-1"
      ]
     },
     "execution_count": 9,
     "metadata": {},
     "output_type": "execute_result"
    }
   ],
   "source": [
    "def lo(a,key):\n",
    "    s=0\n",
    "    res=-1\n",
    "    e=len(a)-1\n",
    "    while s<=e:\n",
    "        mid=s+(e-s)//2\n",
    "        if a[mid]==key:\n",
    "            res=mid\n",
    "            s=mid+1\n",
    "        elif a[mid]>key:\n",
    "            e=mid-1\n",
    "        else:\n",
    "            s=mid+1\n",
    "    return res\n",
    "a=[2,4,10,10,10,18,20]\n",
    "a=[2,3,4,5,7,9,11]\n",
    "lo(a,10)"
   ]
  },
  {
   "cell_type": "code",
   "execution_count": 15,
   "metadata": {},
   "outputs": [],
   "source": [
    "# Count number of ele in sorted array"
   ]
  },
  {
   "cell_type": "code",
   "execution_count": 19,
   "metadata": {},
   "outputs": [
    {
     "data": {
      "text/plain": [
       "3"
      ]
     },
     "execution_count": 19,
     "metadata": {},
     "output_type": "execute_result"
    }
   ],
   "source": [
    "def c(a,k):\n",
    "    fi=fo(a,k)\n",
    "    li=lo(a,k)\n",
    "#     print(li,fi)\n",
    "    return li-fi+1\n",
    "a=[2,4,10,10,10,18,20]\n",
    "c(a,10)"
   ]
  },
  {
   "cell_type": "code",
   "execution_count": 20,
   "metadata": {},
   "outputs": [],
   "source": [
    "# Num of times a sorted array is rotated(left)"
   ]
  },
  {
   "cell_type": "code",
   "execution_count": 21,
   "metadata": {},
   "outputs": [
    {
     "data": {
      "text/plain": [
       "4"
      ]
     },
     "execution_count": 21,
     "metadata": {},
     "output_type": "execute_result"
    }
   ],
   "source": [
    "def rotate(a):\n",
    "    s=0\n",
    "    e=len(a)-1\n",
    "    if a[s]<a[e]:\n",
    "        return 0\n",
    "    pivot=-1\n",
    "    n=len(a)\n",
    "    while s<=e:\n",
    "        if a[s]<=a[e]:\n",
    "            return s\n",
    "        mid=s+(e-s)//2\n",
    "        nextm=(mid+1)%n\n",
    "        prev=(mid-1+n)%n\n",
    "        if mid<=prev and mid<=nextm:\n",
    "            pivot=mid\n",
    "            break\n",
    "        if a[s]<=a[mid]:\n",
    "            s=mid+1\n",
    "        elif a[mid]<=a[e]:\n",
    "            e=mid-1\n",
    "    return pivot\n",
    "a=[11,12,15,18,2,5,6,7]\n",
    "rotate(a)"
   ]
  },
  {
   "cell_type": "code",
   "execution_count": 22,
   "metadata": {},
   "outputs": [],
   "source": [
    "# find an element in sorted rotated array"
   ]
  },
  {
   "cell_type": "code",
   "execution_count": 10,
   "metadata": {},
   "outputs": [
    {
     "data": {
      "text/plain": [
       "7"
      ]
     },
     "execution_count": 10,
     "metadata": {},
     "output_type": "execute_result"
    }
   ],
   "source": [
    "def s(a,k):\n",
    "    mini=find_min(a)\n",
    "#     print(mini)\n",
    "    l=bs(a,0,mini-1,k)\n",
    "#     print(l)\n",
    "    r=bs(a,mini,len(a)-1,k)\n",
    "#     print(r)\n",
    "    if l==-1 and r==-1:\n",
    "        return -1\n",
    "    elif l!=-1:\n",
    "        return l\n",
    "    else:\n",
    "        return r\n",
    "\n",
    "def find_min(a):\n",
    "    n=len(a)\n",
    "    if a[0]<a[n-1]:\n",
    "        return 0\n",
    "    pivot=-1\n",
    "    s=0\n",
    "    e=n-1\n",
    "    while s<=e:\n",
    "        if a[s]<=a[e]:\n",
    "            return s\n",
    "        mid=s+(e-s)//2\n",
    "        nextm=(mid+1)%n\n",
    "        prev=(mid+n-1)%n\n",
    "        if a[mid]<a[prev] and a[mid]<a[nextm]:\n",
    "            pivot=mid\n",
    "            break\n",
    "        elif a[s]<=a[mid]:\n",
    "            s=mid+1\n",
    "        elif a[mid]<=a[e]:\n",
    "            e=mid-1\n",
    "    return pivot\n",
    "\n",
    "def bs(a,s,e,key):\n",
    "    s=s\n",
    "    e=e\n",
    "    while s<=e:\n",
    "        mid=s+(e-s)//2\n",
    "        if a[mid]==key:\n",
    "            return mid\n",
    "        elif a[mid]>key:\n",
    "            e=mid-1\n",
    "        else:\n",
    "            s=mid+1\n",
    "    return -1\n",
    "\n",
    "a=[11,12,15,18,2,5,6,8]\n",
    "s(a,8)"
   ]
  },
  {
   "cell_type": "code",
   "execution_count": 28,
   "metadata": {},
   "outputs": [],
   "source": [
    "# Searching in nearly sorted array"
   ]
  },
  {
   "cell_type": "code",
   "execution_count": 30,
   "metadata": {},
   "outputs": [
    {
     "data": {
      "text/plain": [
       "1"
      ]
     },
     "execution_count": 30,
     "metadata": {},
     "output_type": "execute_result"
    }
   ],
   "source": [
    "def nsa(a,k):\n",
    "    n=len(a)-1\n",
    "    s=0\n",
    "    e=n\n",
    "    while s<=e:\n",
    "        m=s+(e-s)//2\n",
    "        if a[m]==k:\n",
    "            return m\n",
    "        elif s<=m and a[m-1]==k:\n",
    "            return m-1\n",
    "        elif m<=e and a[m+1]==k:\n",
    "            return m+1\n",
    "        if a[m]<k:\n",
    "            s=m+2\n",
    "        else:\n",
    "            e=m-2\n",
    "    return -1\n",
    "a=[5,10,30,20,40]\n",
    "nsa(a,10)"
   ]
  },
  {
   "cell_type": "code",
   "execution_count": 1,
   "metadata": {},
   "outputs": [],
   "source": [
    "# Floor element in sorted array"
   ]
  },
  {
   "cell_type": "code",
   "execution_count": 6,
   "metadata": {},
   "outputs": [
    {
     "data": {
      "text/plain": [
       "1"
      ]
     },
     "execution_count": 6,
     "metadata": {},
     "output_type": "execute_result"
    }
   ],
   "source": [
    "def floor_ele(a,k):\n",
    "    s=0\n",
    "    e=len(a)-1\n",
    "    res=-1\n",
    "    while s<=e:\n",
    "        m=s+(e-s)//2\n",
    "        if a[m]==k:\n",
    "            res=m\n",
    "            break\n",
    "        elif a[m]<k:\n",
    "            s=m+1\n",
    "            res=m\n",
    "        elif a[m]>k:\n",
    "            e=m-1\n",
    "            \n",
    "    return res\n",
    "# a=[2,4,5,6,7,8]\n",
    "a=[2,4,6,7,8]\n",
    "floor_ele(a,5)"
   ]
  },
  {
   "cell_type": "code",
   "execution_count": 10,
   "metadata": {},
   "outputs": [
    {
     "data": {
      "text/plain": [
       "1"
      ]
     },
     "execution_count": 10,
     "metadata": {},
     "output_type": "execute_result"
    }
   ],
   "source": [
    "def ceil_ele(a,k):\n",
    "    s=0\n",
    "    e=len(a)-1\n",
    "    res=-1\n",
    "    while s<=e:\n",
    "        m=s+(e-s)//2\n",
    "        if a[m]==k:\n",
    "            res=m\n",
    "            break\n",
    "        elif a[m]>k:\n",
    "            res=m\n",
    "            e=m-1\n",
    "        elif a[m]<k:\n",
    "            s=m+1\n",
    "    return res\n",
    "a=[2,4,5,7,8]\n",
    "ceil_ele(a,3)"
   ]
  },
  {
   "cell_type": "code",
   "execution_count": 11,
   "metadata": {},
   "outputs": [],
   "source": [
    "# Minimum difference element"
   ]
  },
  {
   "cell_type": "code",
   "execution_count": 16,
   "metadata": {},
   "outputs": [
    {
     "data": {
      "text/plain": [
       "7"
      ]
     },
     "execution_count": 16,
     "metadata": {},
     "output_type": "execute_result"
    }
   ],
   "source": [
    "def mde(a,key):\n",
    "    s=0\n",
    "    e=len(a)-1\n",
    "    while s<=e:\n",
    "        mid=s+(e-s)//2\n",
    "        if a[mid]==key:\n",
    "            res=mid\n",
    "            return a[res]\n",
    "        elif a[mid]<key:\n",
    "            s=mid+1\n",
    "        else:\n",
    "            e=mid-1\n",
    "    l=min(abs(e-key),abs(s-key))\n",
    "    return a[l]\n",
    "a=[2,4,5,7,8,9]\n",
    "mde(a,6)"
   ]
  },
  {
   "cell_type": "code",
   "execution_count": 18,
   "metadata": {},
   "outputs": [],
   "source": [
    "# Peak element"
   ]
  },
  {
   "cell_type": "code",
   "execution_count": 1,
   "metadata": {},
   "outputs": [
    {
     "data": {
      "text/plain": [
       "20"
      ]
     },
     "execution_count": 1,
     "metadata": {},
     "output_type": "execute_result"
    }
   ],
   "source": [
    "def peak(a):\n",
    "    s=0\n",
    "    e=len(a)-1\n",
    "    n=len(a)-1\n",
    "    while s<=e:\n",
    "        m=s+(e-s)//2\n",
    "        if m>0 and m<n:\n",
    "            if a[m]>a[m+1] and a[m]>a[m-1]:\n",
    "                return a[m]\n",
    "            elif a[m]<a[m-1]:\n",
    "                e=m-1\n",
    "            else:\n",
    "                s=m+1\n",
    "        else:\n",
    "#             print(m,n)\n",
    "#             print(a[n],a[m-1])\n",
    "            if m==0:\n",
    "                if a[0]>a[1]:\n",
    "                    return a[0]\n",
    "                else:\n",
    "                    return a[1]\n",
    "            \n",
    "            if m==n: \n",
    "                if a[n]>a[m-1]:\n",
    "                    return a[n]\n",
    "                else:\n",
    "                    return a[m-1]\n",
    "# simple case\n",
    "a=[5,10,20,15]\n",
    "# left corner case\n",
    "b=[15,5,10,20]\n",
    "#right corner case\n",
    "c=[5,10,15,20]\n",
    "# double peak\n",
    "d=[15,5,10,3,2]\n",
    "peak(a)"
   ]
  },
  {
   "cell_type": "code",
   "execution_count": 31,
   "metadata": {},
   "outputs": [],
   "source": [
    "# Search element in row or column"
   ]
  },
  {
   "cell_type": "code",
   "execution_count": 10,
   "metadata": {},
   "outputs": [
    {
     "data": {
      "text/plain": [
       "-1"
      ]
     },
     "execution_count": 10,
     "metadata": {},
     "output_type": "execute_result"
    }
   ],
   "source": [
    "def r_or_c(a,k):\n",
    "    i=0\n",
    "    n=len(a)-1\n",
    "    col=len(a[0])-1\n",
    "    j=col\n",
    "    while ((i>=0 and i<=n) and (j>=0 and j<=col)):\n",
    "        if a[i][j]==k:\n",
    "            return (i,j)\n",
    "        elif a[i][j]>k:\n",
    "            j-=1\n",
    "        elif a[i][j]<k:\n",
    "            i+=1\n",
    "    return -1\n",
    "a=[[10,20,30,40],[15,25,35,45],[27,29,37,48],[32,33,39,50],[52,54,56,58]]\n",
    "#basic case\n",
    "r_or_c(a,29)\n",
    "# right corner case\n",
    "r_or_c(a,50)\n",
    "#left corner case\n",
    "r_or_c(a,58)\n",
    "# not present\n",
    "r_or_c(a,21)"
   ]
  },
  {
   "cell_type": "code",
   "execution_count": 49,
   "metadata": {},
   "outputs": [],
   "source": [
    "# Allocating num of pages"
   ]
  },
  {
   "cell_type": "code",
   "execution_count": 4,
   "metadata": {},
   "outputs": [
    {
     "data": {
      "text/plain": [
       "60"
      ]
     },
     "execution_count": 4,
     "metadata": {},
     "output_type": "execute_result"
    }
   ],
   "source": [
    "def anp(a,k):\n",
    "    s=max(a)\n",
    "    n=len(a)-1\n",
    "    e=sum(a)\n",
    "    res=-1\n",
    "    while s<=e:\n",
    "        m=s+(e-s)//2\n",
    "#         print('m is ',m )\n",
    "        if(isvalid(a,n,k,m)==True):\n",
    "            res=m\n",
    "#             print('res is ',res)\n",
    "            e=m-1\n",
    "        else:\n",
    "            s=m+1\n",
    "    return res\n",
    "\n",
    "def isvalid(a,n,k,maxi):\n",
    "    s=0\n",
    "    st=1\n",
    "    for i in range(len(a)):\n",
    "        s+=a[i]\n",
    "        if s>maxi:\n",
    "            st+=1\n",
    "            s=a[i]\n",
    "#         print('s is ',s)\n",
    "#         print('st is ',st)\n",
    "        if st>k:\n",
    "            return False\n",
    "    return True\n",
    "a=[10,20,30,40]\n",
    "anp(a,2)"
   ]
  },
  {
   "cell_type": "code",
   "execution_count": 3,
   "metadata": {},
   "outputs": [
    {
     "name": "stdout",
     "output_type": "stream",
     "text": [
      "2 3\n",
      "2 3\n"
     ]
    }
   ],
   "source": [
    "k,n=list(map(int,input().split()))\n",
    "print(k,n)"
   ]
  },
  {
   "cell_type": "code",
   "execution_count": 5,
   "metadata": {},
   "outputs": [],
   "source": [
    "# Painter Partition Problem"
   ]
  },
  {
   "cell_type": "code",
   "execution_count": 6,
   "metadata": {},
   "outputs": [
    {
     "name": "stdout",
     "output_type": "stream",
     "text": [
      "1\n",
      "2 4\n",
      "10 20 30 40\n",
      "60\n"
     ]
    }
   ],
   "source": [
    "def isvalid(arr,m,k):\n",
    "    asum=0\n",
    "    st=1\n",
    "    for i in range(len(arr)):\n",
    "        asum+=arr[i]\n",
    "        if asum>mid:\n",
    "            st+=1\n",
    "            asum=arr[i]\n",
    "        if st>k:\n",
    "            return False\n",
    "    return True\n",
    "    \n",
    "T=int(input())\n",
    "for _ in range(T):\n",
    "    k,n=tuple(map(int,input().split()))\n",
    "    arr=list(map(int,input().split()))\n",
    "    start=max(arr)\n",
    "    end=sum(arr)\n",
    "    res=-1\n",
    "    while start<=end:\n",
    "        mid=(start+(end-start)//2)\n",
    "        if (isvalid(arr,mid,k)):\n",
    "            res=mid\n",
    "            end=mid-1\n",
    "        else:\n",
    "            start=mid+1\n",
    "    print(res)"
   ]
  },
  {
   "cell_type": "code",
   "execution_count": null,
   "metadata": {},
   "outputs": [],
   "source": []
  }
 ],
 "metadata": {
  "kernelspec": {
   "display_name": "Python 3",
   "language": "python",
   "name": "python3"
  },
  "language_info": {
   "codemirror_mode": {
    "name": "ipython",
    "version": 3
   },
   "file_extension": ".py",
   "mimetype": "text/x-python",
   "name": "python",
   "nbconvert_exporter": "python",
   "pygments_lexer": "ipython3",
   "version": "3.7.6"
  }
 },
 "nbformat": 4,
 "nbformat_minor": 4
}
