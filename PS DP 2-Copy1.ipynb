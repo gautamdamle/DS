{
 "cells": [
  {
   "cell_type": "code",
   "execution_count": 2,
   "metadata": {},
   "outputs": [],
   "source": [
    "# longest palindromic substring/string"
   ]
  },
  {
   "cell_type": "code",
   "execution_count": 13,
   "metadata": {},
   "outputs": [
    {
     "data": {
      "text/plain": [
       "'aabbaa'"
      ]
     },
     "execution_count": 13,
     "metadata": {},
     "output_type": "execute_result"
    }
   ],
   "source": [
    "def LongestPalinString(s):\n",
    "    l=len(s)\n",
    "    t=[[0 for _ in range(l+1)]for _ in range(l+1)]\n",
    "    r=s[::-1]\n",
    "#     print(r)\n",
    "    maxi=0\n",
    "    a=b=0\n",
    "    for i in range(1,len(r)+1):\n",
    "        for j in range(1,len(s)+1):\n",
    "            if s[j-1]==r[i-1]:\n",
    "                t[i][j]=1+t[i-1][j-1]\n",
    "                if t[i][j]>maxi:\n",
    "                    maxi=t[i][j]\n",
    "                    a,b=i,j\n",
    "            else:\n",
    "                t[i][j]=0\n",
    "#     print(t)\n",
    "#     print(a,b)\n",
    "    i=a\n",
    "    j=b\n",
    "    st=''\n",
    "#     print(i,j)\n",
    "    while i>0 and j>0:\n",
    "        if s[j-1]==r[i-1]:\n",
    "            st+=s[j-1]\n",
    "            i-=1\n",
    "            j-=1\n",
    "    \n",
    "    return st\n",
    "s='aaaabbaa'\n",
    "# s='gabcba'\n",
    "LongestPalinString(s)"
   ]
  },
  {
   "cell_type": "code",
   "execution_count": 3,
   "metadata": {},
   "outputs": [
    {
     "data": {
      "text/plain": [
       "'asd'"
      ]
     },
     "execution_count": 3,
     "metadata": {},
     "output_type": "execute_result"
    }
   ],
   "source": [
    "a='asd'\n",
    "b='a'\n",
    "r=max(a,b)\n",
    "r"
   ]
  },
  {
   "cell_type": "code",
   "execution_count": 23,
   "metadata": {},
   "outputs": [
    {
     "name": "stdout",
     "output_type": "stream",
     "text": [
      "v\n",
      "vz\n",
      "vzr\n",
      "3\n",
      "[[0, 0, 0, 0, 0, 0, 0, 0, 0, 0, 0, 0, 0, 0, 0, 0, 0, 0], [0, 1, 0, 0, 0, 0, 0, 0, 0, 0, 0, 0, 0, 0, 0, 0, 0, 1], [0, 0, 0, 0, 0, 0, 0, 1, 0, 0, 0, 0, 0, 0, 0, 0, 1, 0], [0, 0, 0, 0, 0, 0, 0, 0, 0, 0, 0, 0, 0, 0, 0, 1, 0, 0], [0, 0, 0, 0, 0, 1, 0, 0, 0, 0, 0, 0, 0, 0, 1, 0, 0, 0], [0, 0, 0, 0, 0, 0, 0, 0, 0, 0, 0, 0, 0, 1, 0, 0, 0, 0], [0, 0, 0, 0, 0, 0, 0, 0, 0, 1, 0, 0, 1, 0, 0, 0, 0, 0], [0, 0, 0, 0, 0, 0, 0, 0, 0, 0, 0, 1, 0, 0, 0, 0, 0, 0], [0, 0, 0, 1, 0, 0, 0, 0, 1, 0, 1, 0, 0, 0, 0, 0, 0, 0], [0, 0, 0, 0, 0, 0, 0, 0, 0, 2, 0, 0, 1, 0, 0, 0, 0, 0], [0, 0, 0, 1, 0, 0, 0, 0, 1, 0, 3, 0, 0, 0, 0, 0, 0, 0], [0, 0, 0, 0, 0, 0, 0, 1, 0, 0, 0, 0, 0, 0, 0, 0, 1, 0], [0, 0, 0, 0, 0, 0, 1, 0, 0, 0, 0, 0, 0, 0, 0, 0, 0, 0], [0, 0, 0, 0, 0, 1, 0, 0, 0, 0, 0, 0, 0, 0, 1, 0, 0, 0], [0, 0, 0, 0, 1, 0, 0, 0, 0, 0, 0, 0, 0, 0, 0, 0, 0, 0], [0, 0, 0, 1, 0, 0, 0, 0, 1, 0, 1, 0, 0, 0, 0, 0, 0, 0], [0, 0, 1, 0, 0, 0, 0, 0, 0, 0, 0, 0, 0, 0, 0, 0, 0, 0], [0, 1, 0, 0, 0, 0, 0, 0, 0, 0, 0, 0, 0, 0, 0, 0, 0, 1]]\n"
     ]
    },
    {
     "data": {
      "text/plain": [
       "'vzr'"
      ]
     },
     "execution_count": 23,
     "metadata": {},
     "output_type": "execute_result"
    }
   ],
   "source": [
    "def LongestPalinString(s):\n",
    "    l=len(s)\n",
    "    t=[[0 for _ in range(l+1)]for _ in range(l+1)]\n",
    "    r=s[::-1]\n",
    "    st=''\n",
    "    maxi=0\n",
    "    for i in range(1,len(r)+1):\n",
    "        for j in range(1,len(s)+1):\n",
    "            if s[j-1]==r[i-1]:\n",
    "                t[i][j]=1+t[i-1][j-1]\n",
    "                if t[i][j]>maxi:\n",
    "                    maxi=t[i][j]\n",
    "                    st+=s[j-1]\n",
    "                    print(st)\n",
    "            else:\n",
    "                t[i][j]=0\n",
    "    print(maxi)\n",
    "    print(t)\n",
    "    return st\n",
    "# s='aaaabbaa'\n",
    "# s='gabcba'\n",
    "s='vnrtysfrzrmzlygfv'\n",
    "LongestPalinString(s)"
   ]
  },
  {
   "cell_type": "code",
   "execution_count": 34,
   "metadata": {},
   "outputs": [
    {
     "name": "stdout",
     "output_type": "stream",
     "text": [
      "gabcba\n",
      "abcba\n"
     ]
    }
   ],
   "source": [
    "s=input()\n",
    "l=[]\n",
    "lastlen=0\n",
    "newlen=0\n",
    "for i in range(0,len(s)):\n",
    "    for j in range(i+1,len(s)+1):\n",
    "        p=s[i:j]\n",
    "#         print('p is ',p)\n",
    "        pp=p[::-1]\n",
    "#         print('pp is ',pp)\n",
    "        if(p==pp):\n",
    "            newlen=len(p)\n",
    "#             print('newlen is ',newlen)\n",
    "        if newlen>lastlen:\n",
    "            l.append(p)\n",
    "            lastlen=newlen\n",
    "#         print('l is ',l)\n",
    "print(l[-1])"
   ]
  },
  {
   "cell_type": "code",
   "execution_count": 1,
   "metadata": {},
   "outputs": [],
   "source": [
    "# fact"
   ]
  },
  {
   "cell_type": "code",
   "execution_count": 7,
   "metadata": {},
   "outputs": [
    {
     "data": {
      "text/plain": [
       "12146304367025329675766243241881295855454217088483382315328918161829235892362167668831156960612640202170735835221294047782591091570411651472186029519906261646730733907419814952960000000000000000000000000000"
      ]
     },
     "execution_count": 7,
     "metadata": {},
     "output_type": "execute_result"
    }
   ],
   "source": [
    "fib={}\n",
    "def factDP(n):\n",
    "    if n==1 or n==0:\n",
    "        return 1\n",
    "    if n in fib:\n",
    "        return fib[n]\n",
    "    else:\n",
    "        val=n*factDP(n-1)\n",
    "        fib[n]=val\n",
    "    return val\n",
    "factDP(123)"
   ]
  },
  {
   "cell_type": "code",
   "execution_count": 8,
   "metadata": {},
   "outputs": [],
   "source": [
    "# only recur for LCS"
   ]
  },
  {
   "cell_type": "code",
   "execution_count": 10,
   "metadata": {},
   "outputs": [
    {
     "data": {
      "text/plain": [
       "4"
      ]
     },
     "execution_count": 10,
     "metadata": {},
     "output_type": "execute_result"
    }
   ],
   "source": [
    "def LCS(X,Y,i,j,m,n):\n",
    "    if i==m or j==n:\n",
    "        return 0\n",
    "    elif X[i]==Y[j]:\n",
    "        return 1+LCS(X,Y,i+1,j+1,m,n)\n",
    "    else:\n",
    "        return max(LCS(X,Y,i,j+1,m,n),LCS(X,Y,i+1,j,m,n))\n",
    "X='ABCBDAB'\n",
    "Y='BDCABA'\n",
    "m=len(X)\n",
    "n=len(Y)\n",
    "LCS(X,Y,0,0,m,n)"
   ]
  },
  {
   "cell_type": "code",
   "execution_count": 4,
   "metadata": {},
   "outputs": [
    {
     "data": {
      "text/plain": [
       "20"
      ]
     },
     "execution_count": 4,
     "metadata": {},
     "output_type": "execute_result"
    }
   ],
   "source": [
    "# O(n^2) | O(1)\n",
    "def LongestContVal(arr):\n",
    "    current=0\n",
    "    maxsum=0\n",
    "    for i in range(len(arr)):\n",
    "        current=0\n",
    "        for j in range(i,len(arr)):\n",
    "            current+=arr[j]\n",
    "#             print('curr is ',current)\n",
    "            maxsum=max(maxsum,current)\n",
    "#             print('max is ',maxsum)\n",
    "    return maxsum\n",
    "arr=[-2, 11, -4, 13, -5, 2]\n",
    "LongestContVal(arr)"
   ]
  },
  {
   "cell_type": "code",
   "execution_count": 8,
   "metadata": {},
   "outputs": [
    {
     "name": "stdout",
     "output_type": "stream",
     "text": [
      "[0, 11, 0, 0, 0, 0]\n",
      "[0, 11, 7, 0, 0, 0]\n",
      "[0, 11, 7, 20, 0, 0]\n",
      "[0, 11, 7, 20, 15, 0]\n",
      "[0, 11, 7, 20, 15, 17]\n"
     ]
    },
    {
     "data": {
      "text/plain": [
       "20"
      ]
     },
     "execution_count": 8,
     "metadata": {},
     "output_type": "execute_result"
    }
   ],
   "source": [
    "#  O(n) | O(n)\n",
    "def LongestDP(l):\n",
    "    m=[0]*len(l)\n",
    "    m[0]=max(m[0],l[0])\n",
    "    for i in range(1,len(l)):\n",
    "        m[i]=max(m[i-1]+l[i],0)\n",
    "        print(m)\n",
    "    return max(m)\n",
    "l=[-2, 11, -4, 13, -5, 2]\n",
    "LongestDP(l)"
   ]
  },
  {
   "cell_type": "code",
   "execution_count": 9,
   "metadata": {},
   "outputs": [],
   "source": [
    "# min number of jumps"
   ]
  },
  {
   "cell_type": "code",
   "execution_count": 15,
   "metadata": {},
   "outputs": [
    {
     "name": "stdout",
     "output_type": "stream",
     "text": [
      "jumps begin  [0, inf, inf, inf, inf, inf, inf, inf, inf, inf, inf]\n",
      "jumps is  1\n",
      "jumps begin  [0, 1, inf, inf, inf, inf, inf, inf, inf, inf, inf]\n",
      "jumps is  1\n",
      "jumps begin  [0, 1, 1, inf, inf, inf, inf, inf, inf, inf, inf]\n",
      "jumps is  1\n",
      "jumps begin  [0, 1, 1, inf, inf, inf, inf, inf, inf, inf, inf]\n",
      "jumps is  1\n",
      "jumps begin  [0, 1, 1, 1, inf, inf, inf, inf, inf, inf, inf]\n",
      "jumps is  1\n",
      "jumps begin  [0, 1, 1, 1, inf, inf, inf, inf, inf, inf, inf]\n",
      "jumps is  1\n",
      "jumps begin  [0, 1, 1, 1, inf, inf, inf, inf, inf, inf, inf]\n",
      "jumps is  2\n",
      "jumps begin  [0, 1, 1, 1, 2, inf, inf, inf, inf, inf, inf]\n",
      "jumps is  2\n",
      "jumps begin  [0, 1, 1, 1, 2, inf, inf, inf, inf, inf, inf]\n",
      "jumps is  2\n",
      "jumps begin  [0, 1, 1, 1, 2, inf, inf, inf, inf, inf, inf]\n",
      "jumps is  2\n",
      "jumps begin  [0, 1, 1, 1, 2, 2, inf, inf, inf, inf, inf]\n",
      "jumps is  2\n",
      "jumps begin  [0, 1, 1, 1, 2, 2, inf, inf, inf, inf, inf]\n",
      "jumps is  3\n",
      "jumps begin  [0, 1, 1, 1, 2, 2, 3, inf, inf, inf, inf]\n",
      "jumps is  3\n",
      "jumps begin  [0, 1, 1, 1, 2, 2, 3, inf, inf, inf, inf]\n",
      "jumps is  3\n",
      "jumps begin  [0, 1, 1, 1, 2, 2, 3, 3, inf, inf, inf]\n",
      "jumps is  3\n",
      "jumps begin  [0, 1, 1, 1, 2, 2, 3, 3, inf, inf, inf]\n",
      "jumps is  3\n",
      "jumps begin  [0, 1, 1, 1, 2, 2, 3, 3, 3, inf, inf]\n",
      "jumps is  3\n",
      "jumps begin  [0, 1, 1, 1, 2, 2, 3, 3, 3, inf, inf]\n",
      "jumps is  3\n",
      "jumps begin  [0, 1, 1, 1, 2, 2, 3, 3, 3, inf, inf]\n",
      "jumps is  4\n",
      "jumps begin  [0, 1, 1, 1, 2, 2, 3, 3, 3, 4, inf]\n",
      "jumps is  4\n",
      "jumps begin  [0, 1, 1, 1, 2, 2, 3, 3, 3, 4, inf]\n",
      "jumps is  4\n",
      "jumps begin  [0, 1, 1, 1, 2, 2, 3, 3, 3, 4, 4]\n",
      "jumps is  4\n"
     ]
    },
    {
     "data": {
      "text/plain": [
       "4"
      ]
     },
     "execution_count": 15,
     "metadata": {},
     "output_type": "execute_result"
    }
   ],
   "source": [
    "def minNumOfJumps(a):\n",
    "    jumps = [float('inf') for _ in a]\n",
    "    jumps[0]=0\n",
    "    for i in range(1,len(a)):\n",
    "        for j in range(0,i):\n",
    "            if a[j]+j>=i:\n",
    "                print('jumps begin ',jumps)\n",
    "                jumps[i]=min(jumps[j]+1,jumps[i])\n",
    "                print('jumps is ',jumps[i])\n",
    "    return jumps[-1]\n",
    "minNumOfJumps([3,4,2,1,2,3,7,1,1,1,3])"
   ]
  },
  {
   "cell_type": "code",
   "execution_count": 16,
   "metadata": {},
   "outputs": [],
   "source": [
    "# DP "
   ]
  },
  {
   "cell_type": "code",
   "execution_count": 17,
   "metadata": {},
   "outputs": [
    {
     "data": {
      "text/plain": [
       "4"
      ]
     },
     "execution_count": 17,
     "metadata": {},
     "output_type": "execute_result"
    }
   ],
   "source": [
    "def minNumOfJumpsDP(a):\n",
    "    maxReach=a[0]\n",
    "    jumps=0\n",
    "    steps=a[0]\n",
    "    for i in range(1,len(a)):\n",
    "        maxReach=max(maxReach,i+a[i])\n",
    "        steps-=1\n",
    "        if steps==0:\n",
    "            jumps+=1\n",
    "            steps=maxReach-i\n",
    "    return jumps+1\n",
    "minNumOfJumpsDP([3,4,2,1,2,3,7,1,1,1,3])"
   ]
  },
  {
   "cell_type": "code",
   "execution_count": 1,
   "metadata": {},
   "outputs": [],
   "source": [
    "# apples "
   ]
  },
  {
   "cell_type": "code",
   "execution_count": 20,
   "metadata": {
    "collapsed": true
   },
   "outputs": [
    {
     "name": "stdout",
     "output_type": "stream",
     "text": [
      "[[0, 0, 0], [0, 0, 0], [0, 0, 0]]\n",
      "[[1, 0, 0], [0, 0, 0], [0, 0, 0]]\n",
      "[[1, 2, 0], [0, 0, 0], [0, 0, 0]]\n",
      "[[1, 3, 3], [0, 0, 0], [0, 0, 0]]\n"
     ]
    },
    {
     "ename": "IndexError",
     "evalue": "list index out of range",
     "output_type": "error",
     "traceback": [
      "\u001b[1;31m---------------------------------------------------------------------------\u001b[0m",
      "\u001b[1;31mIndexError\u001b[0m                                Traceback (most recent call last)",
      "\u001b[1;32m<ipython-input-20-fa5595d3ef67>\u001b[0m in \u001b[0;36m<module>\u001b[1;34m\u001b[0m\n\u001b[0;32m     16\u001b[0m \u001b[0mm\u001b[0m\u001b[1;33m=\u001b[0m\u001b[0mlen\u001b[0m\u001b[1;33m(\u001b[0m\u001b[0ma\u001b[0m\u001b[1;33m[\u001b[0m\u001b[1;36m0\u001b[0m\u001b[1;33m]\u001b[0m\u001b[1;33m)\u001b[0m\u001b[1;33m\u001b[0m\u001b[1;33m\u001b[0m\u001b[0m\n\u001b[0;32m     17\u001b[0m \u001b[0mn\u001b[0m\u001b[1;33m=\u001b[0m\u001b[0mlen\u001b[0m\u001b[1;33m(\u001b[0m\u001b[0ma\u001b[0m\u001b[1;33m)\u001b[0m\u001b[1;33m\u001b[0m\u001b[1;33m\u001b[0m\u001b[0m\n\u001b[1;32m---> 18\u001b[1;33m \u001b[0mappleDP\u001b[0m\u001b[1;33m(\u001b[0m\u001b[0ma\u001b[0m\u001b[1;33m,\u001b[0m\u001b[0mm\u001b[0m\u001b[1;33m,\u001b[0m\u001b[0mn\u001b[0m\u001b[1;33m)\u001b[0m\u001b[1;33m\u001b[0m\u001b[1;33m\u001b[0m\u001b[0m\n\u001b[0m",
      "\u001b[1;32m<ipython-input-20-fa5595d3ef67>\u001b[0m in \u001b[0;36mappleDP\u001b[1;34m(a, m, n)\u001b[0m\n\u001b[0;32m      4\u001b[0m     \u001b[1;32mfor\u001b[0m \u001b[0mi\u001b[0m \u001b[1;32min\u001b[0m \u001b[0mrange\u001b[0m\u001b[1;33m(\u001b[0m\u001b[0mn\u001b[0m\u001b[1;33m+\u001b[0m\u001b[1;36m1\u001b[0m\u001b[1;33m)\u001b[0m\u001b[1;33m:\u001b[0m\u001b[1;33m\u001b[0m\u001b[1;33m\u001b[0m\u001b[0m\n\u001b[0;32m      5\u001b[0m         \u001b[1;32mfor\u001b[0m \u001b[0mj\u001b[0m \u001b[1;32min\u001b[0m \u001b[0mrange\u001b[0m\u001b[1;33m(\u001b[0m\u001b[0mm\u001b[0m\u001b[1;33m+\u001b[0m\u001b[1;36m1\u001b[0m\u001b[1;33m)\u001b[0m\u001b[1;33m:\u001b[0m\u001b[1;33m\u001b[0m\u001b[1;33m\u001b[0m\u001b[0m\n\u001b[1;32m----> 6\u001b[1;33m             \u001b[0mt\u001b[0m\u001b[1;33m[\u001b[0m\u001b[0mi\u001b[0m\u001b[1;33m]\u001b[0m\u001b[1;33m[\u001b[0m\u001b[0mj\u001b[0m\u001b[1;33m]\u001b[0m\u001b[1;33m=\u001b[0m\u001b[0ma\u001b[0m\u001b[1;33m[\u001b[0m\u001b[0mi\u001b[0m\u001b[1;33m]\u001b[0m\u001b[1;33m[\u001b[0m\u001b[0mj\u001b[0m\u001b[1;33m]\u001b[0m\u001b[1;33m\u001b[0m\u001b[1;33m\u001b[0m\u001b[0m\n\u001b[0m\u001b[0;32m      7\u001b[0m             \u001b[0mprint\u001b[0m\u001b[1;33m(\u001b[0m\u001b[0mt\u001b[0m\u001b[1;33m)\u001b[0m\u001b[1;33m\u001b[0m\u001b[1;33m\u001b[0m\u001b[0m\n\u001b[0;32m      8\u001b[0m \u001b[1;31m#             if j>0 and i>0 and t[i][j]<a[i][j]+a[i-1][j-1]:\u001b[0m\u001b[1;33m\u001b[0m\u001b[1;33m\u001b[0m\u001b[1;33m\u001b[0m\u001b[0m\n",
      "\u001b[1;31mIndexError\u001b[0m: list index out of range"
     ]
    }
   ],
   "source": [
    "def appleDP(a,m,n):\n",
    "    t=[[0 for _ in range(m)]for _ in range(n)]\n",
    "    print(t)\n",
    "    for i in range(n+1):\n",
    "        for j in range(m+1):\n",
    "            t[i][j]=a[i][j]\n",
    "            print(t)\n",
    "#             if j>0 and i>0 and t[i][j]<a[i][j]+a[i-1][j-1]:\n",
    "#                 t[i][j]+=a[i-1][j-1]\n",
    "            if j>0 and t[i][j]<t[i][j]+t[i][j-1]:\n",
    "                t[i][j]+=t[i][j-1]\n",
    "            if i>0 and t[i][j]<t[i][j]+t[i-1][j]:\n",
    "                t[i][j]+=t[i-1][j]\n",
    "    return t[m][n]\n",
    "a=[[1,2,3],[1,2,3],[1,2,3]]\n",
    "m=len(a[0])\n",
    "n=len(a)\n",
    "appleDP(a,m,n)"
   ]
  },
  {
   "cell_type": "code",
   "execution_count": 1,
   "metadata": {},
   "outputs": [],
   "source": [
    "# fact"
   ]
  },
  {
   "cell_type": "code",
   "execution_count": 17,
   "metadata": {},
   "outputs": [
    {
     "data": {
      "text/plain": [
       "120"
      ]
     },
     "execution_count": 17,
     "metadata": {},
     "output_type": "execute_result"
    }
   ],
   "source": [
    "def nCr(n, r):  \n",
    "  \n",
    "    return (fact(n) // (fact(r)  \n",
    "                * fact(n - r))) \n",
    "  \n",
    "# Returns factorial of n \n",
    "def fact(n): \n",
    "  \n",
    "    res = 1 \n",
    "      \n",
    "    for i in range(2, n+1): \n",
    "        res = res * i \n",
    "          \n",
    "    return res \n",
    "  \n",
    "# Driver code \n",
    "# n = 5\n",
    "# r = 3\n",
    "# print(int(nCr(n, r))) \n",
    "nCr(10,7) "
   ]
  },
  {
   "cell_type": "code",
   "execution_count": 18,
   "metadata": {},
   "outputs": [
    {
     "data": {
      "text/plain": [
       "120"
      ]
     },
     "execution_count": 18,
     "metadata": {},
     "output_type": "execute_result"
    }
   ],
   "source": [
    "d={0:1,1:1}\n",
    "def ncr(n,r):\n",
    "    return (facto(n,d)//(facto(r,d)*facto(n-r,d)))\n",
    "def facto(n,d):\n",
    "    res=1\n",
    "    if n in d:\n",
    "        return d[n]\n",
    "    for i in range(2,n+1):\n",
    "        res*=i\n",
    "        d[n]=res\n",
    "    return res\n",
    "ncr(10,7)"
   ]
  },
  {
   "cell_type": "code",
   "execution_count": null,
   "metadata": {},
   "outputs": [],
   "source": []
  }
 ],
 "metadata": {
  "kernelspec": {
   "display_name": "Python 3",
   "language": "python",
   "name": "python3"
  },
  "language_info": {
   "codemirror_mode": {
    "name": "ipython",
    "version": 3
   },
   "file_extension": ".py",
   "mimetype": "text/x-python",
   "name": "python",
   "nbconvert_exporter": "python",
   "pygments_lexer": "ipython3",
   "version": "3.7.6"
  }
 },
 "nbformat": 4,
 "nbformat_minor": 4
}
