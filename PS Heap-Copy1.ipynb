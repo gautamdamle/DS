{
 "cells": [
  {
   "cell_type": "code",
   "execution_count": 2,
   "metadata": {},
   "outputs": [],
   "source": [
    "import heapq as hq"
   ]
  },
  {
   "cell_type": "code",
   "execution_count": 4,
   "metadata": {},
   "outputs": [],
   "source": [
    "l=[]\n",
    "hq.heappush(l,1)"
   ]
  },
  {
   "cell_type": "code",
   "execution_count": 6,
   "metadata": {},
   "outputs": [],
   "source": [
    "hq.heappush(l,4)"
   ]
  },
  {
   "cell_type": "code",
   "execution_count": 7,
   "metadata": {},
   "outputs": [],
   "source": [
    "hq.heappush(l,0)"
   ]
  },
  {
   "cell_type": "code",
   "execution_count": 8,
   "metadata": {},
   "outputs": [
    {
     "data": {
      "text/plain": [
       "[0, 4, 1]"
      ]
     },
     "execution_count": 8,
     "metadata": {},
     "output_type": "execute_result"
    }
   ],
   "source": [
    "l"
   ]
  },
  {
   "cell_type": "code",
   "execution_count": 9,
   "metadata": {},
   "outputs": [
    {
     "data": {
      "text/plain": [
       "0"
      ]
     },
     "execution_count": 9,
     "metadata": {},
     "output_type": "execute_result"
    }
   ],
   "source": [
    "hq.heappop(l)"
   ]
  },
  {
   "cell_type": "code",
   "execution_count": 10,
   "metadata": {},
   "outputs": [
    {
     "data": {
      "text/plain": [
       "1"
      ]
     },
     "execution_count": 10,
     "metadata": {},
     "output_type": "execute_result"
    }
   ],
   "source": [
    "hq.heappop(l)"
   ]
  },
  {
   "cell_type": "code",
   "execution_count": 16,
   "metadata": {},
   "outputs": [],
   "source": [
    "l=[3,1,5,4,2]\n",
    "hq._heapify_max(l)"
   ]
  },
  {
   "cell_type": "code",
   "execution_count": 17,
   "metadata": {},
   "outputs": [
    {
     "data": {
      "text/plain": [
       "[5, 4, 3, 1, 2]"
      ]
     },
     "execution_count": 17,
     "metadata": {},
     "output_type": "execute_result"
    }
   ],
   "source": [
    "l"
   ]
  },
  {
   "cell_type": "code",
   "execution_count": 18,
   "metadata": {},
   "outputs": [
    {
     "data": {
      "text/plain": [
       "5"
      ]
     },
     "execution_count": 18,
     "metadata": {},
     "output_type": "execute_result"
    }
   ],
   "source": [
    "hq._heappop_max(l)"
   ]
  },
  {
   "cell_type": "code",
   "execution_count": 26,
   "metadata": {},
   "outputs": [
    {
     "name": "stdout",
     "output_type": "stream",
     "text": [
      "[-1, -2, -3, -4, -5]\n"
     ]
    }
   ],
   "source": [
    "l=[1,2,3,4,5]\n",
    "l=[-1*x for x in l]\n",
    "e=[]\n",
    "for i in l:\n",
    "    hq.heappush(e,i)\n",
    "print(l)"
   ]
  },
  {
   "cell_type": "code",
   "execution_count": 8,
   "metadata": {},
   "outputs": [],
   "source": [
    "# kth smallest ...O(n*log(k))"
   ]
  },
  {
   "cell_type": "code",
   "execution_count": 27,
   "metadata": {},
   "outputs": [
    {
     "data": {
      "text/plain": [
       "7"
      ]
     },
     "execution_count": 27,
     "metadata": {},
     "output_type": "execute_result"
    }
   ],
   "source": [
    "maxh=[]\n",
    "def kth_smallest(l,k):\n",
    "    for i in l:\n",
    "        hq.heappush(maxh,-i)\n",
    "#         print(maxh)\n",
    "        if len(maxh)>k:\n",
    "            hq.heappop(maxh)\n",
    "#             print('after pop ',maxh)\n",
    "    return (-maxh[0])\n",
    "l=[7,10,4,3,20,15]\n",
    "# l=[-1*x for x in l]\n",
    "k=3\n",
    "# print(l)\n",
    "kth_smallest(l,k)"
   ]
  },
  {
   "cell_type": "code",
   "execution_count": 17,
   "metadata": {},
   "outputs": [],
   "source": [
    "#kth largest element"
   ]
  },
  {
   "cell_type": "code",
   "execution_count": 21,
   "metadata": {},
   "outputs": [
    {
     "data": {
      "text/plain": [
       "20"
      ]
     },
     "execution_count": 21,
     "metadata": {},
     "output_type": "execute_result"
    }
   ],
   "source": [
    "minh=[]\n",
    "def kth_lar(a,k):\n",
    "    for i in a:\n",
    "        hq.heappush(minh,i)\n",
    "        if len(minh)>k:\n",
    "            hq.heappop(minh)\n",
    "    return minh[0]\n",
    "a=[7,10,4,3,20,15];k=1\n",
    "kth_lar(a,k)"
   ]
  },
  {
   "cell_type": "code",
   "execution_count": 12,
   "metadata": {},
   "outputs": [],
   "source": [
    "# K largest elements of array"
   ]
  },
  {
   "cell_type": "code",
   "execution_count": 30,
   "metadata": {},
   "outputs": [
    {
     "name": "stdout",
     "output_type": "stream",
     "text": [
      "10\n",
      "20\n",
      "15\n"
     ]
    }
   ],
   "source": [
    "minh=[]\n",
    "def k_largest(l,k):\n",
    "    for i in l:\n",
    "        hq.heappush(minh,i)\n",
    "#         print(minh)\n",
    "        if len(minh)>k:\n",
    "            print(minh[-1])\n",
    "#             print('minh ',minh)\n",
    "            hq.heappop(minh)\n",
    "#     return minh\n",
    "l=[7,10,4,3,20,15]\n",
    "k=3\n",
    "# print(l)\n",
    "k_largest(l,k)"
   ]
  },
  {
   "cell_type": "markdown",
   "metadata": {},
   "source": [
    "## IMP ..Sort nearly sorted array or sort a k sorted array"
   ]
  },
  {
   "cell_type": "code",
   "execution_count": 20,
   "metadata": {},
   "outputs": [],
   "source": [
    "# O(nlogk)"
   ]
  },
  {
   "cell_type": "code",
   "execution_count": 21,
   "metadata": {},
   "outputs": [
    {
     "data": {
      "text/plain": [
       "[2, 3, 5, 6, 8, 9, 10]"
      ]
     },
     "execution_count": 21,
     "metadata": {},
     "output_type": "execute_result"
    }
   ],
   "source": [
    "minh=[]\n",
    "v=[]\n",
    "def sort_k_sorted(l,k):\n",
    "    for i in l:\n",
    "        hq.heappush(minh,i)\n",
    "        if len(minh)>k:\n",
    "            v.append(minh[0])\n",
    "            hq.heappop(minh)\n",
    "    for i in minh:\n",
    "        v.append(i)\n",
    "    return v\n",
    "l=[6,5,3,2,8,10,9]\n",
    "k=3\n",
    "sort_k_sorted(l,k)"
   ]
  },
  {
   "cell_type": "code",
   "execution_count": 22,
   "metadata": {},
   "outputs": [],
   "source": [
    "# k closest numbers"
   ]
  },
  {
   "cell_type": "code",
   "execution_count": 36,
   "metadata": {},
   "outputs": [
    {
     "name": "stdout",
     "output_type": "stream",
     "text": [
      "[(-1, 6), (-1, 8), (0, 7)]\n",
      "6 8 7 "
     ]
    }
   ],
   "source": [
    "def cl(a,x,k):\n",
    "    for i in a:\n",
    "        hq.heappush(m,(-abs(x-i),i))\n",
    "        if len(m)>k:\n",
    "            hq.heappop(m)\n",
    "#     print(m)\n",
    "    for k,v in m:\n",
    "        print(v,end=\" \")\n",
    "m=[]\n",
    "a=[5,6,7,8,9]\n",
    "x=7\n",
    "k=3\n",
    "cl(a,x,k)"
   ]
  },
  {
   "cell_type": "code",
   "execution_count": 37,
   "metadata": {},
   "outputs": [
    {
     "name": "stdout",
     "output_type": "stream",
     "text": [
      "6 8 7 "
     ]
    }
   ],
   "source": [
    "l=[(-1, 6), (-1, 8), (0, 7)]\n",
    "for k,v in l:\n",
    "    print(v,end=\" \")"
   ]
  },
  {
   "cell_type": "code",
   "execution_count": 39,
   "metadata": {},
   "outputs": [],
   "source": [
    "# Top K frequent Numbers"
   ]
  },
  {
   "cell_type": "code",
   "execution_count": 43,
   "metadata": {},
   "outputs": [
    {
     "name": "stdout",
     "output_type": "stream",
     "text": [
      "2 1 "
     ]
    }
   ],
   "source": [
    "d={}\n",
    "m=[]\n",
    "def freq(l,key):\n",
    "    for i in l:\n",
    "        if i in d:\n",
    "            d[i]+=1\n",
    "        else:\n",
    "            d[i]=1\n",
    "#     print(d)\n",
    "    for k,v in d.items():\n",
    "        hq.heappush(m,(v,k))\n",
    "#         print(m)\n",
    "        if len(m)>key:\n",
    "            hq.heappop(m)\n",
    "#             print('after popping ',m)\n",
    "    for k,v in m:\n",
    "        print(v,end=\" \")\n",
    "l=[1,1,1,3,2,2,4]\n",
    "key=2\n",
    "freq(l,key)"
   ]
  },
  {
   "cell_type": "code",
   "execution_count": 49,
   "metadata": {},
   "outputs": [],
   "source": [
    "# Frequency sort"
   ]
  },
  {
   "cell_type": "code",
   "execution_count": 51,
   "metadata": {},
   "outputs": [
    {
     "data": {
      "text/plain": [
       "[1, 1, 1, 2, 2, 3, 4]"
      ]
     },
     "execution_count": 51,
     "metadata": {},
     "output_type": "execute_result"
    }
   ],
   "source": [
    "d={}\n",
    "a=[]\n",
    "def frq_sort(l):\n",
    "    for i in l:\n",
    "            if i in d:\n",
    "                d[i]+=1\n",
    "            else:\n",
    "                d[i]=1\n",
    "    sortd=sorted(d.items(),key=lambda x:x[1],reverse=True)\n",
    "    for k,v in sortd:\n",
    "        for i in range(v):\n",
    "            a.append(k)\n",
    "    return a\n",
    "frq_sort(l)"
   ]
  },
  {
   "cell_type": "code",
   "execution_count": 52,
   "metadata": {},
   "outputs": [],
   "source": [
    "# K Closest Points To Origin"
   ]
  },
  {
   "cell_type": "code",
   "execution_count": 47,
   "metadata": {},
   "outputs": [
    {
     "name": "stdout",
     "output_type": "stream",
     "text": [
      "[(-8, [-2, 2]), (-1, [0, 1])]\n",
      "[-2, 2] [0, 1] "
     ]
    }
   ],
   "source": [
    "m=[]\n",
    "def k_cl_pts(x,k):\n",
    "    for i in x:\n",
    "        hq.heappush(m,(-(i[0]**2+i[1]**2),i))\n",
    "#         print(m)\n",
    "        if len(m)>k:\n",
    "            hq.heappop(m)\n",
    "#             print('after popping ',m )\n",
    "    print(m)\n",
    "    for k,v in m:\n",
    "        print(v,end=' ')\n",
    "x=[[1,3],[-2,2],[5,8],[0,1]]\n",
    "# x=[[1,3],[-2,2],[5,8],[0,1],[2,0]]\n",
    "k=2\n",
    "k_cl_pts(x,k)"
   ]
  },
  {
   "cell_type": "code",
   "execution_count": 48,
   "metadata": {},
   "outputs": [],
   "source": [
    "# Connect Ropes To minimize the Cost"
   ]
  },
  {
   "cell_type": "code",
   "execution_count": 49,
   "metadata": {},
   "outputs": [
    {
     "data": {
      "text/plain": [
       "33"
      ]
     },
     "execution_count": 49,
     "metadata": {},
     "output_type": "execute_result"
    }
   ],
   "source": [
    "m=[]\n",
    "def cro(l):\n",
    "    t=0\n",
    "    for i in l:\n",
    "        hq.heappush(m,i)\n",
    "#     print(m)\n",
    "    while m and len(m)>=2:\n",
    "        new=hq.heappop(m)+hq.heappop(m)\n",
    "        hq.heappush(m,new)\n",
    "        t+=new\n",
    "#         print('t is ',t)\n",
    "#         print('m is ',m)\n",
    "    return t\n",
    "l=[1,2,3,4,5]\n",
    "cro(l)"
   ]
  },
  {
   "cell_type": "code",
   "execution_count": 85,
   "metadata": {},
   "outputs": [],
   "source": [
    "# sum of elements btw k1 and k2"
   ]
  },
  {
   "cell_type": "code",
   "execution_count": 50,
   "metadata": {},
   "outputs": [
    {
     "data": {
      "text/plain": [
       "23"
      ]
     },
     "execution_count": 50,
     "metadata": {},
     "output_type": "execute_result"
    }
   ],
   "source": [
    "m1=[]\n",
    "def kth_smallest(l,k):\n",
    "    for i in l:\n",
    "        hq.heappush(m1,-i)\n",
    "        if len(m1)>k:\n",
    "            hq.heappop(m1)\n",
    "#         print(' m is ',m1)\n",
    "#     print(-m1[0])\n",
    "    return -m1[0]\n",
    "def soe(l,k1,k2):\n",
    "    sumk=0\n",
    "    f=kth_smallest(l,k1)\n",
    "    m1.clear()\n",
    "    s=kth_smallest(l,k2)\n",
    "#     print(f,s)\n",
    "#     print(l)\n",
    "    for j in l:\n",
    "        if j>f and j<s:\n",
    "            sumk+=j\n",
    "#             print('sumk is ',sumk)\n",
    "    return sumk\n",
    "l=[1,3,12,5,15,11]\n",
    "# l=[-1*x for x in l]\n",
    "k1=3\n",
    "k2=6\n",
    "soe(l,k1,k2)"
   ]
  },
  {
   "cell_type": "code",
   "execution_count": null,
   "metadata": {},
   "outputs": [],
   "source": []
  }
 ],
 "metadata": {
  "kernelspec": {
   "display_name": "Python 3",
   "language": "python",
   "name": "python3"
  },
  "language_info": {
   "codemirror_mode": {
    "name": "ipython",
    "version": 3
   },
   "file_extension": ".py",
   "mimetype": "text/x-python",
   "name": "python",
   "nbconvert_exporter": "python",
   "pygments_lexer": "ipython3",
   "version": "3.7.6"
  }
 },
 "nbformat": 4,
 "nbformat_minor": 4
}
