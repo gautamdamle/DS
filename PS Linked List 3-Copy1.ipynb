{
 "cells": [
  {
   "cell_type": "code",
   "execution_count": 1,
   "metadata": {},
   "outputs": [],
   "source": [
    "class Node:\n",
    "    def __init__(self,key=0):\n",
    "        self.key=key\n",
    "        self.next=None\n",
    "a=Node(1)\n",
    "b=Node(2)\n",
    "c=Node(3)\n",
    "d=Node(4)\n",
    "e=Node(5)\n",
    "f=Node(2)\n",
    "g=Node(2)\n",
    "a.next=b\n",
    "b.next=c\n",
    "c.next=d\n",
    "d.next=e\n",
    "e.next=f\n",
    "f.next=g"
   ]
  },
  {
   "cell_type": "code",
   "execution_count": 18,
   "metadata": {},
   "outputs": [],
   "source": [
    "a=set({1,2,3})"
   ]
  },
  {
   "cell_type": "code",
   "execution_count": 8,
   "metadata": {},
   "outputs": [
    {
     "name": "stdout",
     "output_type": "stream",
     "text": [
      "1\n",
      "2\n"
     ]
    }
   ],
   "source": [
    "l=[1,2]\n",
    "for i in l:\n",
    "    if i in a:\n",
    "        print(i)"
   ]
  },
  {
   "cell_type": "code",
   "execution_count": 19,
   "metadata": {},
   "outputs": [
    {
     "data": {
      "text/plain": [
       "1"
      ]
     },
     "execution_count": 19,
     "metadata": {},
     "output_type": "execute_result"
    }
   ],
   "source": [
    "a.pop()"
   ]
  },
  {
   "cell_type": "code",
   "execution_count": 27,
   "metadata": {},
   "outputs": [],
   "source": [
    "def removeDup(node):\n",
    "    seen=set()\n",
    "    while node:\n",
    "        if node not in seen:\n",
    "            seen.add(node.key)\n",
    "        node=node.next\n",
    "    head=temp=Node(seen.pop())\n",
    "    while seen:\n",
    "        temp.next=Node(seen.pop())\n",
    "        temp=temp.next\n",
    "    return head\n",
    "def printLL(node):\n",
    "    while node:\n",
    "        print(node.key,end=\"->\")\n",
    "        node=node.next\n",
    "    print('None')"
   ]
  },
  {
   "cell_type": "code",
   "execution_count": 30,
   "metadata": {},
   "outputs": [
    {
     "name": "stdout",
     "output_type": "stream",
     "text": [
      "1->2->3->5->None\n"
     ]
    }
   ],
   "source": [
    "a=Node(1)\n",
    "b=Node(2)\n",
    "c=Node(3)\n",
    "d=Node(3)\n",
    "e=Node(5)\n",
    "f=Node(2)\n",
    "g=Node(2)\n",
    "a.next=b\n",
    "b.next=c\n",
    "c.next=d\n",
    "d.next=e\n",
    "e.next=f\n",
    "f.next=g\n",
    "head=removeDup(a)\n",
    "printLL(head)"
   ]
  },
  {
   "cell_type": "code",
   "execution_count": 15,
   "metadata": {},
   "outputs": [],
   "source": [
    "def sort102(node):\n",
    "    if node is None:\n",
    "        return\n",
    "    d={}\n",
    "    while node:\n",
    "        if node.key in d:\n",
    "            d[node.key]+=1\n",
    "        else:\n",
    "            d[node.key]=1\n",
    "        node=node.next\n",
    "    new=temp=None\n",
    "    sortedD=sorted(d.items(),key=lambda x:x[0])\n",
    "    for k,v in sortedD:\n",
    "        for _ in range(v):\n",
    "            if new is None:\n",
    "                new=temp=Node(k)\n",
    "            else:\n",
    "                temp.next=Node(k)\n",
    "                temp=temp.next\n",
    "    return new\n",
    "\n",
    "def printLL(node):\n",
    "    while node:\n",
    "        print(node.key,end=\"->\")\n",
    "        node=node.next\n",
    "    print('None')"
   ]
  },
  {
   "cell_type": "code",
   "execution_count": 16,
   "metadata": {},
   "outputs": [
    {
     "name": "stdout",
     "output_type": "stream",
     "text": [
      "0->0->1->1->1->2->2->None\n"
     ]
    }
   ],
   "source": [
    "class Node:\n",
    "    def __init__(self,key=0):\n",
    "        self.key=key\n",
    "        self.next=None\n",
    "node=Node(1)\n",
    "node.next=Node(1)\n",
    "node.next.next=Node(2)\n",
    "node.next.next.next=Node(0)\n",
    "node.next.next.next.next=Node(2)\n",
    "node.next.next.next.next.next=Node(0)\n",
    "node.next.next.next.next.next.next=Node(1)\n",
    "sortedList=sort102(node)\n",
    "printLL(sortedList)\n",
    "# 1 -> 1 -> 2 -> 0 -> 2 -> 0 -> 1 -> NULL"
   ]
  },
  {
   "cell_type": "code",
   "execution_count": 23,
   "metadata": {},
   "outputs": [
    {
     "name": "stdout",
     "output_type": "stream",
     "text": [
      "Linked List before sorting\n",
      "2->1->2->1->1->2->0->1->0->\n",
      "[2, 4, 3]\n",
      "Linked List after sorting\n",
      "0->0->1->1->1->1->2->2->2->\n"
     ]
    }
   ],
   "source": [
    "# Python program to sort a linked list of 0, 1 and 2 \n",
    "class LinkedList(object): \n",
    "    def __init__(self): \n",
    "\n",
    "        # head of list \n",
    "        self.head = None\n",
    "\n",
    "    # Linked list Node \n",
    "    class Node(object): \n",
    "        def __init__(self, d): \n",
    "            self.data = d \n",
    "            self.next = None\n",
    "\n",
    "    def sortList(self): \n",
    "\n",
    "        # initialise count of 0 1 and 2 as 0 \n",
    "        count = [0, 0, 0] \n",
    "\n",
    "        ptr = self.head \n",
    "\n",
    "        # count total number of '0', '1' and '2' \n",
    "        # * count[0] will store total number of '0's \n",
    "        # * count[1] will store total number of '1's \n",
    "        # * count[2] will store total number of '2's \n",
    "        while ptr != None: \n",
    "            count[ptr.data]+=1\n",
    "            ptr = ptr.next\n",
    "\n",
    "        i = 0\n",
    "        ptr = self.head\n",
    "        print(count)\n",
    "\n",
    "        # Let say count[0] = n1, count[1] = n2 and count[2] = n3 \n",
    "        # * now start traversing list from head node, \n",
    "        # * 1) fill the list with 0, till n1 > 0 \n",
    "        # * 2) fill the list with 1, till n2 > 0 \n",
    "        # * 3) fill the list with 2, till n3 > 0 \n",
    "        while ptr != None: \n",
    "            if count[i] == 0: \n",
    "                i+=1\n",
    "            else: \n",
    "                ptr.data = i \n",
    "                count[i]-=1\n",
    "                ptr = ptr.next\n",
    "\n",
    "\n",
    "    # Utility functions \n",
    "    # Inserts a new Node at front of the list. \n",
    "    def push(self, new_data): \n",
    "\n",
    "        # 1 & 2: Allocate the Node & \n",
    "        # Put in the data \n",
    "        new_node = self.Node(new_data) \n",
    "\n",
    "        # 3. Make next of new Node as head \n",
    "        new_node.next = self.head \n",
    "\n",
    "        # 4. Move the head to point to new Node \n",
    "        self.head = new_node \n",
    "\n",
    "    # Function to print linked list \n",
    "    def printList(self): \n",
    "        temp = self.head \n",
    "        while temp != None: \n",
    "            print(str(temp.data),end=\"->\") \n",
    "            temp = temp.next\n",
    "        print('') \n",
    "\n",
    "# Driver program to test above functions \n",
    "llist = LinkedList() \n",
    "llist.push(0) \n",
    "llist.push(1) \n",
    "llist.push(0) \n",
    "llist.push(2) \n",
    "llist.push(1) \n",
    "llist.push(1) \n",
    "llist.push(2) \n",
    "llist.push(1) \n",
    "llist.push(2) \n",
    "\n",
    "print(\"Linked List before sorting\")\n",
    "llist.printList() \n",
    "\n",
    "llist.sortList() \n",
    "\n",
    "print(\"Linked List after sorting\")\n",
    "llist.printList() \n",
    "\n",
    "# This code is contributed by BHAVYA JAIN \n"
   ]
  },
  {
   "cell_type": "code",
   "execution_count": 3,
   "metadata": {},
   "outputs": [
    {
     "name": "stdout",
     "output_type": "stream",
     "text": [
      "1->2->4->"
     ]
    }
   ],
   "source": [
    "class LinkedList:\n",
    "    \n",
    "    def __init__(self):\n",
    "        self.head=None\n",
    "    \n",
    "    def push(self,val):\n",
    "        node=Node(val)\n",
    "        node.next=self.head\n",
    "        self.head=node\n",
    "    \n",
    "    def deleteMid(self):\n",
    "        s=self.head\n",
    "        f=self.head\n",
    "        p=self.head\n",
    "        while f and f.next:\n",
    "            p=s\n",
    "            s=s.next\n",
    "            f=f.next.next\n",
    "        p.next=s.next\n",
    "        s.next=None\n",
    "    \n",
    "    def printLL(self):\n",
    "        node=self.head\n",
    "        while node:\n",
    "            print(node.key,end=\"->\")\n",
    "            node=node.next\n",
    "            \n",
    "l1=LinkedList()\n",
    "# l1.push(5)\n",
    "l1.push(4)\n",
    "l1.push(3)\n",
    "l1.push(2)\n",
    "l1.push(1)\n",
    "l1.deleteMid()\n",
    "l1.printLL()"
   ]
  },
  {
   "cell_type": "code",
   "execution_count": null,
   "metadata": {},
   "outputs": [],
   "source": []
  }
 ],
 "metadata": {
  "kernelspec": {
   "display_name": "Python 3",
   "language": "python",
   "name": "python3"
  },
  "language_info": {
   "codemirror_mode": {
    "name": "ipython",
    "version": 3
   },
   "file_extension": ".py",
   "mimetype": "text/x-python",
   "name": "python",
   "nbconvert_exporter": "python",
   "pygments_lexer": "ipython3",
   "version": "3.7.6"
  }
 },
 "nbformat": 4,
 "nbformat_minor": 4
}
