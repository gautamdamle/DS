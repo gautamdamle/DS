{
 "cells": [
  {
   "cell_type": "code",
   "execution_count": 3,
   "metadata": {},
   "outputs": [],
   "source": [
    "#bubble sort.......O(n^2) | O(1)"
   ]
  },
  {
   "cell_type": "code",
   "execution_count": 4,
   "metadata": {},
   "outputs": [
    {
     "data": {
      "text/plain": [
       "[2, 3, 5, 5, 6, 8, 9]"
      ]
     },
     "execution_count": 4,
     "metadata": {},
     "output_type": "execute_result"
    }
   ],
   "source": [
    "def bubbleSort(a):\n",
    "    n=len(a)\n",
    "    isSorted=False\n",
    "    counter=0\n",
    "    while not isSorted:\n",
    "        isSorted=True\n",
    "        for i in range(n-1-counter):\n",
    "            if a[i]>a[i+1]:\n",
    "                a[i],a[i+1]=a[i+1],a[i]\n",
    "                isSorted=False\n",
    "        counter+=1\n",
    "    return a\n",
    "a=[8,5,2,9,5,6,3]\n",
    "bubbleSort(a)"
   ]
  },
  {
   "cell_type": "code",
   "execution_count": 6,
   "metadata": {},
   "outputs": [],
   "source": [
    "# Insertion sort....O(n^2) | O(1)"
   ]
  },
  {
   "cell_type": "code",
   "execution_count": 9,
   "metadata": {},
   "outputs": [
    {
     "data": {
      "text/plain": [
       "[2, 3, 5, 5, 6, 8, 9]"
      ]
     },
     "execution_count": 9,
     "metadata": {},
     "output_type": "execute_result"
    }
   ],
   "source": [
    "def InsertionSort(a):\n",
    "    n=len(a)\n",
    "    for i in range(1,n):\n",
    "        j=i\n",
    "        while j>0 and a[j]<a[j-1]:\n",
    "            a[j],a[j-1]=a[j-1],a[j]\n",
    "            j-=1\n",
    "    return a\n",
    "InsertionSort(a)"
   ]
  },
  {
   "cell_type": "code",
   "execution_count": 12,
   "metadata": {},
   "outputs": [],
   "source": [
    "# Selection Sort...O(n^2) | O(1)"
   ]
  },
  {
   "cell_type": "code",
   "execution_count": 13,
   "metadata": {},
   "outputs": [
    {
     "data": {
      "text/plain": [
       "[2, 3, 5, 5, 6, 8, 9]"
      ]
     },
     "execution_count": 13,
     "metadata": {},
     "output_type": "execute_result"
    }
   ],
   "source": [
    "def selectionSort(a):\n",
    "    c=0\n",
    "    n=len(a)\n",
    "    while c<n-1:\n",
    "        s=c\n",
    "        for i in range(c+1,n):\n",
    "            if a[i]<a[s]:\n",
    "                s=i\n",
    "        a[s],a[c]=a[c],a[s]\n",
    "        c+=1\n",
    "    return a\n",
    "selectionSort(a)"
   ]
  },
  {
   "cell_type": "code",
   "execution_count": 15,
   "metadata": {},
   "outputs": [],
   "source": [
    "#  Merge Sort ....O(nlogn) | O(nlogn)"
   ]
  },
  {
   "cell_type": "code",
   "execution_count": 4,
   "metadata": {},
   "outputs": [
    {
     "data": {
      "text/plain": [
       "[2, 3, 5, 5, 6, 8, 9]"
      ]
     },
     "execution_count": 4,
     "metadata": {},
     "output_type": "execute_result"
    }
   ],
   "source": [
    "def mergeSort(array):\n",
    "    if len(array)==1:\n",
    "        return array\n",
    "    mid=len(array)//2\n",
    "    lh=array[:mid]\n",
    "    rh=array[mid:]\n",
    "    return mergeSortArrays(mergeSort(lh),mergeSort(rh))\n",
    "\n",
    "def mergeSortArrays(lh,rh):\n",
    "    i=j=k=0\n",
    "    new_array=[None]*(len(lh)+len(rh))\n",
    "    while i<len(lh) and j<len(rh):\n",
    "        if lh[i]<rh[j]:\n",
    "            new_array[k]=lh[i]\n",
    "            i+=1\n",
    "        else:\n",
    "            new_array[k]=rh[j]\n",
    "            j+=1\n",
    "        k+=1\n",
    "    while i<len(lh):\n",
    "        new_array[k]=lh[i]\n",
    "        i+=1\n",
    "        k+=1\n",
    "    while j<len(rh):\n",
    "        new_array[k]=rh[j]\n",
    "        j+=1\n",
    "        k+=1\n",
    "    return new_array\n",
    "array=[8,5,2,9,5,6,3]\n",
    "mergeSort(array)"
   ]
  },
  {
   "cell_type": "code",
   "execution_count": 5,
   "metadata": {},
   "outputs": [],
   "source": [
    "#  Merge Sort ....O(nlogn) | O(n)"
   ]
  },
  {
   "cell_type": "code",
   "execution_count": null,
   "metadata": {},
   "outputs": [],
   "source": []
  },
  {
   "cell_type": "code",
   "execution_count": 6,
   "metadata": {},
   "outputs": [],
   "source": [
    "# Quick Sort..O(nlogn) | O(logn)"
   ]
  },
  {
   "cell_type": "code",
   "execution_count": 8,
   "metadata": {},
   "outputs": [
    {
     "data": {
      "text/plain": [
       "[2, 3, 5, 5, 6, 8, 9]"
      ]
     },
     "execution_count": 8,
     "metadata": {},
     "output_type": "execute_result"
    }
   ],
   "source": [
    "def quickSort(a):\n",
    "    return quickSortHelper(a,0,len(a)-1)\n",
    "def quickSortHelper(a,s,e):\n",
    "    if s>=e:\n",
    "        return\n",
    "    l=s+1\n",
    "    p=s\n",
    "    r=e\n",
    "    while l<=r:\n",
    "        if a[l]>a[p] and a[r]<a[p]:\n",
    "            swap(l,r,a)\n",
    "        if a[l]<=a[p]:\n",
    "            l+=1\n",
    "        if a[r]>a[p]:\n",
    "            r-=1\n",
    "    swap(p,r,a)\n",
    "    quickSortHelper(a,s,r-1)\n",
    "    quickSortHelper(a,r+1,e)\n",
    "    return a\n",
    "def swap(i,j,a):\n",
    "    a[i],a[j]=a[j],a[i]\n",
    "quickSort(array)"
   ]
  },
  {
   "cell_type": "code",
   "execution_count": null,
   "metadata": {},
   "outputs": [],
   "source": []
  }
 ],
 "metadata": {
  "kernelspec": {
   "display_name": "Python 3",
   "language": "python",
   "name": "python3"
  },
  "language_info": {
   "codemirror_mode": {
    "name": "ipython",
    "version": 3
   },
   "file_extension": ".py",
   "mimetype": "text/x-python",
   "name": "python",
   "nbconvert_exporter": "python",
   "pygments_lexer": "ipython3",
   "version": "3.7.6"
  }
 },
 "nbformat": 4,
 "nbformat_minor": 4
}
