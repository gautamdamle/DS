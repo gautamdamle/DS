{
 "cells": [
  {
   "cell_type": "code",
   "execution_count": 1,
   "metadata": {},
   "outputs": [],
   "source": [
    "#1 Anagram"
   ]
  },
  {
   "cell_type": "code",
   "execution_count": 2,
   "metadata": {},
   "outputs": [
    {
     "data": {
      "text/plain": [
       "False"
      ]
     },
     "execution_count": 2,
     "metadata": {},
     "output_type": "execute_result"
    }
   ],
   "source": [
    "def anagram(s1,s2):\n",
    "    d=dict()\n",
    "    s1=s1.replace(' ','').lower()\n",
    "    s2=s2.replace(' ','').lower()\n",
    "    if len(s1)!=len(s2):\n",
    "        return False\n",
    "    for l in s1:\n",
    "        if l not in d:\n",
    "            d[l]=1\n",
    "        else:\n",
    "            d[l]+=1\n",
    "    for l in s2:\n",
    "        if l not in d:\n",
    "            return False\n",
    "        else:\n",
    "            d[l]-=1\n",
    "    for k in d:\n",
    "        if d[k]!=0:\n",
    "            return False\n",
    "    \n",
    "    return True\n",
    "\n",
    "anagram('god','dogi')"
   ]
  },
  {
   "cell_type": "code",
   "execution_count": 3,
   "metadata": {},
   "outputs": [],
   "source": [
    "#2 Array Pair Sum"
   ]
  },
  {
   "cell_type": "code",
   "execution_count": 4,
   "metadata": {},
   "outputs": [
    {
     "data": {
      "text/plain": [
       "{(1, 3), (2, 2)}"
      ]
     },
     "execution_count": 4,
     "metadata": {},
     "output_type": "execute_result"
    }
   ],
   "source": [
    "def aps(a,n):\n",
    "    if len(a)==1:\n",
    "        return a\n",
    "    seen=set()\n",
    "    out=set()\n",
    "    for k in a:\n",
    "        t=n-k\n",
    "        if t not in seen:\n",
    "            seen.add(k)\n",
    "        else:\n",
    "            out.add((min(t,k),max(t,k)))\n",
    "    return out\n",
    "aps([1,2,3,2],4)"
   ]
  },
  {
   "cell_type": "code",
   "execution_count": 5,
   "metadata": {},
   "outputs": [],
   "source": [
    "#3 Find missing element from two arrays"
   ]
  },
  {
   "cell_type": "code",
   "execution_count": 6,
   "metadata": {},
   "outputs": [],
   "source": [
    "# a"
   ]
  },
  {
   "cell_type": "code",
   "execution_count": 7,
   "metadata": {},
   "outputs": [
    {
     "data": {
      "text/plain": [
       "3"
      ]
     },
     "execution_count": 7,
     "metadata": {},
     "output_type": "execute_result"
    }
   ],
   "source": [
    "def m(a1,a2):\n",
    "    d={}\n",
    "    for i in a2:\n",
    "        if i not in d:\n",
    "            d[i]=1\n",
    "        else:\n",
    "            d[i]+=1\n",
    "    for j in a1:\n",
    "        if j not in d:\n",
    "            return j\n",
    "        else:\n",
    "            d[j]-=1\n",
    "m([1,2,3,4,5],[1,2,4,5])"
   ]
  },
  {
   "cell_type": "code",
   "execution_count": 8,
   "metadata": {},
   "outputs": [],
   "source": [
    "# b"
   ]
  },
  {
   "cell_type": "code",
   "execution_count": 9,
   "metadata": {},
   "outputs": [
    {
     "data": {
      "text/plain": [
       "3"
      ]
     },
     "execution_count": 9,
     "metadata": {},
     "output_type": "execute_result"
    }
   ],
   "source": [
    "def mx(a1,a2):\n",
    "    r=0\n",
    "    for n in a1+a2:\n",
    "        r^=n\n",
    "    return r\n",
    "mx([1,2,3,4,5],[1,2,4,5])"
   ]
  },
  {
   "cell_type": "code",
   "execution_count": 10,
   "metadata": {},
   "outputs": [],
   "source": [
    "# 4 Sentence reversal"
   ]
  },
  {
   "cell_type": "code",
   "execution_count": 11,
   "metadata": {},
   "outputs": [
    {
     "data": {
      "text/plain": [
       "'here space  '"
      ]
     },
     "execution_count": 11,
     "metadata": {},
     "output_type": "execute_result"
    }
   ],
   "source": [
    "def sr(s):\n",
    "    n=len(s)\n",
    "    i=0\n",
    "    w_s=0\n",
    "    w=[]\n",
    "    spaces = [' ']\n",
    "    while i<n:\n",
    "        w_s=i\n",
    "        while i<n and s[i] not in spaces:\n",
    "            i+=1\n",
    "        w.append(s[w_s:i])\n",
    "        i+=1\n",
    "    return ' '.join(reversed(w))\n",
    "sr('This is the best')\n",
    "sr('  space here')"
   ]
  },
  {
   "cell_type": "code",
   "execution_count": 12,
   "metadata": {},
   "outputs": [],
   "source": [
    "# 5 Unique Characters in a string"
   ]
  },
  {
   "cell_type": "code",
   "execution_count": 13,
   "metadata": {},
   "outputs": [
    {
     "data": {
      "text/plain": [
       "False"
      ]
     },
     "execution_count": 13,
     "metadata": {},
     "output_type": "execute_result"
    }
   ],
   "source": [
    "def u(s):\n",
    "    d={}\n",
    "    for i in s:\n",
    "        if i in d:\n",
    "            return False\n",
    "        else:\n",
    "            d[i]=1\n",
    "    return True\n",
    "u('abcad')"
   ]
  },
  {
   "cell_type": "code",
   "execution_count": 14,
   "metadata": {},
   "outputs": [],
   "source": [
    "# 6 String Compression"
   ]
  },
  {
   "cell_type": "code",
   "execution_count": 15,
   "metadata": {},
   "outputs": [
    {
     "data": {
      "text/plain": [
       "'A2D2a2b1c3'"
      ]
     },
     "execution_count": 15,
     "metadata": {},
     "output_type": "execute_result"
    }
   ],
   "source": [
    "def sc(s):\n",
    "    l=len(s)\n",
    "    if l==0:\n",
    "        return ''\n",
    "    if l==1:\n",
    "        return s+'1'\n",
    "    c=1\n",
    "    i=1\n",
    "    r=''\n",
    "    while i<l:\n",
    "        if s[i-1]==s[i]:\n",
    "            c+=1\n",
    "        else:\n",
    "            r+=s[i-1]+str(c)\n",
    "            c=1\n",
    "        i+=1\n",
    "        \n",
    "    r+=s[i-1]+str(c)\n",
    "    return r\n",
    "sc('AADDaabccc')"
   ]
  },
  {
   "cell_type": "code",
   "execution_count": 16,
   "metadata": {},
   "outputs": [],
   "source": [
    "# 7 Longest Sum in array..Kadanes Algorithm ..T=O(n)..S=O(1)"
   ]
  },
  {
   "cell_type": "code",
   "execution_count": 17,
   "metadata": {},
   "outputs": [
    {
     "data": {
      "text/plain": [
       "29"
      ]
     },
     "execution_count": 17,
     "metadata": {},
     "output_type": "execute_result"
    }
   ],
   "source": [
    "def l(a):\n",
    "    c=m=a[0]\n",
    "    for n in a[1:]:\n",
    "        c=max(c+n,n)\n",
    "#         print('current is',c)\n",
    "        m=max(m,c)\n",
    "#         print('max is',m)\n",
    "    return m\n",
    "l([1,2,-1,3,4,10,10,-10,-1])"
   ]
  },
  {
   "cell_type": "code",
   "execution_count": 18,
   "metadata": {},
   "outputs": [],
   "source": [
    "# 8 reversing an array"
   ]
  },
  {
   "cell_type": "code",
   "execution_count": 19,
   "metadata": {},
   "outputs": [],
   "source": [
    "def reverseArray(a):\n",
    "    s=0\n",
    "    e=len(a)-1\n",
    "    while s<e:\n",
    "        a[s],a[e]=a[e],a[s]\n",
    "        s+=1\n",
    "        e-=1\n",
    "    return a\n"
   ]
  },
  {
   "cell_type": "code",
   "execution_count": 20,
   "metadata": {},
   "outputs": [],
   "source": [
    "# 9 Rotate an array right"
   ]
  },
  {
   "cell_type": "code",
   "execution_count": 21,
   "metadata": {},
   "outputs": [
    {
     "data": {
      "text/plain": [
       "[4, 5, 1, 2, 3]"
      ]
     },
     "execution_count": 21,
     "metadata": {},
     "output_type": "execute_result"
    }
   ],
   "source": [
    "def rot(a,n,r):\n",
    "    \"\"\"\n",
    "    a=array\n",
    "    n=size\n",
    "    r=shift\n",
    "    \"\"\"\n",
    "    A=a[:n-r]\n",
    "    B=a[n-r:]\n",
    "    A=reverseArray(A)\n",
    "    B=reverseArray(B)\n",
    "    C=A+B\n",
    "    C=reverseArray(C)\n",
    "    return C\n",
    "rot([1,2,3,4,5],5,2)"
   ]
  },
  {
   "cell_type": "code",
   "execution_count": 22,
   "metadata": {},
   "outputs": [],
   "source": [
    "# 10 Rotate an array left"
   ]
  },
  {
   "cell_type": "code",
   "execution_count": 23,
   "metadata": {},
   "outputs": [
    {
     "data": {
      "text/plain": [
       "[5, 1, 2, 3, 4]"
      ]
     },
     "execution_count": 23,
     "metadata": {},
     "output_type": "execute_result"
    }
   ],
   "source": [
    "def rot(a,n,r):\n",
    "    B=a[:r]\n",
    "#     print('B is arr',B)\n",
    "    A=a[r:]\n",
    "#     print('A is arr',A)\n",
    "    B=reverseArray(B)\n",
    "#     print('B is',B)\n",
    "    A=reverseArray(A)\n",
    "#     print('A is',A)\n",
    "    C=B+A\n",
    "    C=reverseArray(C)\n",
    "    return C\n",
    "rot([1,2,3,4,5],5,4)"
   ]
  },
  {
   "cell_type": "code",
   "execution_count": 25,
   "metadata": {},
   "outputs": [],
   "source": [
    "# 11. Product sum ..T=O(n) n-> all elements including list,..S=O(d)..largest depth of a list"
   ]
  },
  {
   "cell_type": "code",
   "execution_count": 26,
   "metadata": {},
   "outputs": [
    {
     "data": {
      "text/plain": [
       "12"
      ]
     },
     "execution_count": 26,
     "metadata": {},
     "output_type": "execute_result"
    }
   ],
   "source": [
    "def ps(arr,mul=1):\n",
    "    s=0\n",
    "    for e in arr:\n",
    "        if type(e) is list:\n",
    "            s+=ps(e,mul+1)\n",
    "        else:\n",
    "            s+=e\n",
    "    return s*mul\n",
    "arr=[5,2,[7,-1],3,[6,[-13,8],4]]\n",
    "ps(arr)"
   ]
  },
  {
   "cell_type": "code",
   "execution_count": 27,
   "metadata": {},
   "outputs": [],
   "source": [
    "# 12. Return 3 largest nums from an array ...T=O(n)..S=O(1)"
   ]
  },
  {
   "cell_type": "code",
   "execution_count": 28,
   "metadata": {},
   "outputs": [
    {
     "data": {
      "text/plain": [
       "[3, 4, 12]"
      ]
     },
     "execution_count": 28,
     "metadata": {},
     "output_type": "execute_result"
    }
   ],
   "source": [
    "def largest3(arr):\n",
    "    l=[None]*3\n",
    "    cal_lar(arr,l)\n",
    "    return l\n",
    "def cal_lar(arr,l):\n",
    "    for num in arr:\n",
    "        if l[2] is None or num>l[2]:\n",
    "            shiftandupdate(l,num,2)\n",
    "        elif l[1] is None or num>l[1]:\n",
    "            shiftandupdate(l,num,1)\n",
    "        elif l[0] is None or num>l[0]:\n",
    "            shiftandupdate(l,num,0)\n",
    "def shiftandupdate(l,num,idx):\n",
    "    for i in range(idx+1):\n",
    "        if i==idx:\n",
    "            l[i]=num\n",
    "        else:\n",
    "            l[i]=l[i+1]\n",
    "    return l\n",
    "largest3([12,-11,-13,1,2,3,4])"
   ]
  },
  {
   "cell_type": "code",
   "execution_count": 29,
   "metadata": {},
   "outputs": [],
   "source": [
    "#  13. Smallest difference .T=O(nlogn+mlogm)..S=O(1)"
   ]
  },
  {
   "cell_type": "code",
   "execution_count": 30,
   "metadata": {},
   "outputs": [
    {
     "data": {
      "text/plain": [
       "[-1, 0]"
      ]
     },
     "execution_count": 30,
     "metadata": {},
     "output_type": "execute_result"
    }
   ],
   "source": [
    "def sd(a,b):\n",
    "    \"\"\"\n",
    "    smallest=current=float('inf')\n",
    "    smallest_pair=[]\n",
    "    fn=firstnum\n",
    "    sn=secondnum\n",
    "    \"\"\"\n",
    "    a.sort()\n",
    "    b.sort()\n",
    "    s=c=float('inf')        \n",
    "    sp=[]                    \n",
    "    i=j=0\n",
    "    while i<len(a) and j<len(b):\n",
    "        fn=a[i]             \n",
    "        sn=b[j]\n",
    "        if fn<sn:\n",
    "            c=sn-fn\n",
    "            i+=1\n",
    "        elif sn<fn:\n",
    "            c=fn-sn\n",
    "            j+=1\n",
    "        else:\n",
    "            return [fn,sn]\n",
    "        if s>c:\n",
    "            s=c\n",
    "            sp=[fn,sn]\n",
    "    return sp\n",
    "sd([-1,3,5,7],[0,1,2,6,9])"
   ]
  },
  {
   "cell_type": "code",
   "execution_count": 31,
   "metadata": {},
   "outputs": [],
   "source": [
    "# 14. Move element to end.......T=O(n)..S=O(1)"
   ]
  },
  {
   "cell_type": "code",
   "execution_count": 33,
   "metadata": {},
   "outputs": [
    {
     "data": {
      "text/plain": [
       "[4, 1, 3, 2, 2, 2]"
      ]
     },
     "execution_count": 33,
     "metadata": {},
     "output_type": "execute_result"
    }
   ],
   "source": [
    "def mee(a,k):\n",
    "    i=0\n",
    "    j=len(a)-1\n",
    "    while i<j:\n",
    "        while i<j and a[j]==k:\n",
    "            j-=1\n",
    "        if a[i]==k:\n",
    "            a[i],a[j]=a[j],a[i]\n",
    "        i+=1        \n",
    "    return a\n",
    "mee([2,1,3,2,4,2],2)"
   ]
  },
  {
   "cell_type": "code",
   "execution_count": 1,
   "metadata": {},
   "outputs": [],
   "source": [
    "# 15. MaxSubset Sum ..dont cosider Adjacent"
   ]
  },
  {
   "cell_type": "code",
   "execution_count": 12,
   "metadata": {},
   "outputs": [
    {
     "data": {
      "text/plain": [
       "33"
      ]
     },
     "execution_count": 12,
     "metadata": {},
     "output_type": "execute_result"
    }
   ],
   "source": [
    "def mss(a):\n",
    "    \"\"\"\n",
    "    O(n),O(n)\n",
    "    ms=maxsubset(array)\n",
    "    \"\"\"\n",
    "    if not len(a):\n",
    "        return\n",
    "    if len(a)==1:\n",
    "        return a[0]\n",
    "    ms=a[:]\n",
    "    ms[1]=max(a[0],a[1])\n",
    "    for i in range(2,len(a)):\n",
    "        ms[i]=max(ms[i-1],ms[i-2]+a[i])\n",
    "    return ms[-1]\n",
    "mss([7,10,12,7,9,14])"
   ]
  },
  {
   "cell_type": "code",
   "execution_count": 11,
   "metadata": {},
   "outputs": [
    {
     "data": {
      "text/plain": [
       "43"
      ]
     },
     "execution_count": 11,
     "metadata": {},
     "output_type": "execute_result"
    }
   ],
   "source": [
    "def dmss(a):\n",
    "    \"\"\"\n",
    "    DP\n",
    "    O(n),O(1)\n",
    "    f=first=adjacent\n",
    "    s=second=before adjacent\n",
    "    c=current\n",
    "    \"\"\"\n",
    "    if not len(a):\n",
    "        return\n",
    "    if len(a)==1:\n",
    "        return a[0]\n",
    "    s=a[0]\n",
    "    f=max(a[0],a[1])\n",
    "    for i in range(2,len(a)):\n",
    "        c=max(f,s+a[i])\n",
    "        s=f\n",
    "        f=c\n",
    "    return f\n",
    "dmss([7,10,12,7,9,24])"
   ]
  },
  {
   "cell_type": "code",
   "execution_count": 1,
   "metadata": {},
   "outputs": [],
   "source": [
    "# 16.Number of ways to make change..T=O(nd)..S=O(n)"
   ]
  },
  {
   "cell_type": "code",
   "execution_count": 3,
   "metadata": {},
   "outputs": [
    {
     "data": {
      "text/plain": [
       "2"
      ]
     },
     "execution_count": 3,
     "metadata": {},
     "output_type": "execute_result"
    }
   ],
   "source": [
    "def mc(n,de):\n",
    "    \"\"\"\n",
    "    n=number\n",
    "    de=denominations\n",
    "    a=amount\n",
    "    \"\"\"\n",
    "    ways=[0 for _ in range(n+1)]\n",
    "    ways[0]=1\n",
    "    for d in de:\n",
    "        for a in range(n+1):\n",
    "            if d<=a:\n",
    "                ways[a]+=ways[a-d]\n",
    "    return ways[n]\n",
    "mc(9,[1,5,10,25])"
   ]
  },
  {
   "cell_type": "code",
   "execution_count": 4,
   "metadata": {},
   "outputs": [],
   "source": [
    "# 17. missing number from arrays"
   ]
  },
  {
   "cell_type": "code",
   "execution_count": 6,
   "metadata": {},
   "outputs": [
    {
     "data": {
      "text/plain": [
       "[4, 6]"
      ]
     },
     "execution_count": 6,
     "metadata": {},
     "output_type": "execute_result"
    }
   ],
   "source": [
    "def missingNumbers(arr, brr):\n",
    "    li=[]\n",
    "    d={}\n",
    "    for i in arr:\n",
    "        if i in d:\n",
    "            d[i]+=1\n",
    "        else:\n",
    "            d[i]=1\n",
    "    for i in brr:\n",
    "        if i in d:\n",
    "            d[i]-=1\n",
    "        elif i not in d: \n",
    "            li.append(i)\n",
    "    li.sort()\n",
    "    return li\n",
    "missingNumbers([7,2,5,3,5,3],[7,2,5,4,6,3,5,3])"
   ]
  },
  {
   "cell_type": "code",
   "execution_count": 10,
   "metadata": {},
   "outputs": [
    {
     "data": {
      "text/plain": [
       "3"
      ]
     },
     "execution_count": 10,
     "metadata": {},
     "output_type": "execute_result"
    }
   ],
   "source": [
    "from collections import defaultdict\n",
    "def find(arr1,arr2):\n",
    "    d=defaultdict(int)\n",
    "    for n in arr2:\n",
    "        d[n]+=1\n",
    "    for num in arr1:\n",
    "        if d[num]==0:\n",
    "            return num\n",
    "        else:\n",
    "            d[num]-=1\n",
    "find([1,2,3,4,5],[1,2,4,5])"
   ]
  },
  {
   "cell_type": "code",
   "execution_count": 1,
   "metadata": {},
   "outputs": [],
   "source": [
    "# 18. Min NUmber of coins to make the change"
   ]
  },
  {
   "cell_type": "code",
   "execution_count": 5,
   "metadata": {},
   "outputs": [
    {
     "data": {
      "text/plain": [
       "-1"
      ]
     },
     "execution_count": 5,
     "metadata": {},
     "output_type": "execute_result"
    }
   ],
   "source": [
    "def mcc(n,denom):\n",
    "    \"\"\"\n",
    "    T=O(n.d)\n",
    "    S=O(n+1)\n",
    "    \n",
    "    \"\"\"\n",
    "    numOfcoins=[float(\"inf\") for _ in range(n+1)]\n",
    "    numOfcoins[0]=0\n",
    "    for d in denom:\n",
    "        for amt in range(n+1):\n",
    "            if d<=amt:\n",
    "                numOfcoins[amt]=min(numOfcoins[amt],1+numOfcoins[amt-d])\n",
    "    return -1 if numOfcoins[n]==float(\"inf\") else numOfcoins[n]\n",
    "# mcc(6,[1,2,4])\n",
    "mcc(7,[6,2])"
   ]
  },
  {
   "cell_type": "code",
   "execution_count": 1,
   "metadata": {},
   "outputs": [],
   "source": [
    "# 19. Single Cycle Check...T=O(n)...S=O(1) "
   ]
  },
  {
   "cell_type": "code",
   "execution_count": 5,
   "metadata": {},
   "outputs": [
    {
     "data": {
      "text/plain": [
       "True"
      ]
     },
     "execution_count": 5,
     "metadata": {},
     "output_type": "execute_result"
    }
   ],
   "source": [
    "def scc(a):\n",
    "    \"\"\"\n",
    "    e=Number of element visited\n",
    "    i=current index\n",
    "    j=jump\n",
    "    ni=next index\n",
    "    \"\"\"\n",
    "    i=0\n",
    "    e=0\n",
    "    while e<len(a):\n",
    "        if e>0 and i==0:\n",
    "            return False\n",
    "        e+=1\n",
    "        i=geti(i,a)\n",
    "    return i==0\n",
    "def geti(i,a):\n",
    "    j=a[i]\n",
    "    ni=(j+i)%len(a)\n",
    "    return ni if ni>=0 else ni+len(a)\n",
    "scc([2,3,1,-4,-4,2])"
   ]
  },
  {
   "cell_type": "code",
   "execution_count": 1,
   "metadata": {},
   "outputs": [],
   "source": [
    "# 20 . Power set  ..T=O(N*2^n)..s=O(N*2^n)"
   ]
  },
  {
   "cell_type": "code",
   "execution_count": 4,
   "metadata": {},
   "outputs": [
    {
     "data": {
      "text/plain": [
       "[[], [1], [2], [1, 2], [3], [1, 3], [2, 3], [1, 2, 3]]"
      ]
     },
     "execution_count": 4,
     "metadata": {},
     "output_type": "execute_result"
    }
   ],
   "source": [
    "def powerset(a):\n",
    "    \"\"\"\n",
    "    s=subsets\n",
    "    \"\"\"\n",
    "    s=[[]]\n",
    "    for ele in a:\n",
    "        for i in range(len(s)):\n",
    "            c=s[i]\n",
    "            s.append(c+[ele])\n",
    "    return s\n",
    "powerset([1,2,3])"
   ]
  },
  {
   "cell_type": "code",
   "execution_count": 6,
   "metadata": {},
   "outputs": [],
   "source": [
    "# 21. Search in sorted matrix........T=O(n+m)..S=O(1)"
   ]
  },
  {
   "cell_type": "code",
   "execution_count": 7,
   "metadata": {},
   "outputs": [
    {
     "data": {
      "text/plain": [
       "[-1, -1]"
      ]
     },
     "execution_count": 7,
     "metadata": {},
     "output_type": "execute_result"
    }
   ],
   "source": [
    "def ssm(m,t):\n",
    "    \"\"\"\n",
    "    m=matrix\n",
    "    t=target\n",
    "    r=row\n",
    "    c=col\n",
    "    \"\"\"\n",
    "    r=0\n",
    "    c=len(m[0])-1\n",
    "    while r<len(m) and c>=0:\n",
    "        if m[r][c]>t:\n",
    "            c-=1\n",
    "        elif m[r][c]<t:\n",
    "            r+=1\n",
    "        else:\n",
    "            return [r,c]\n",
    "    return [-1,-1]\n",
    "m=[[1,5,9,13],[2,6,10,14],[3,7,11,15],[4,8,12,16]]\n",
    "t=17\n",
    "ssm(m,t)      "
   ]
  },
  {
   "cell_type": "code",
   "execution_count": null,
   "metadata": {},
   "outputs": [],
   "source": []
  }
 ],
 "metadata": {
  "kernelspec": {
   "display_name": "Python 3",
   "language": "python",
   "name": "python3"
  },
  "language_info": {
   "codemirror_mode": {
    "name": "ipython",
    "version": 3
   },
   "file_extension": ".py",
   "mimetype": "text/x-python",
   "name": "python",
   "nbconvert_exporter": "python",
   "pygments_lexer": "ipython3",
   "version": "3.7.6"
  }
 },
 "nbformat": 4,
 "nbformat_minor": 4
}
