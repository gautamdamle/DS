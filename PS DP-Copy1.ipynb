{
 "cells": [
  {
   "cell_type": "code",
   "execution_count": 39,
   "metadata": {},
   "outputs": [],
   "source": [
    "# 1. 0/1 Knapsack Problem"
   ]
  },
  {
   "cell_type": "code",
   "execution_count": 2,
   "metadata": {},
   "outputs": [
    {
     "data": {
      "text/plain": [
       "9"
      ]
     },
     "execution_count": 2,
     "metadata": {},
     "output_type": "execute_result"
    }
   ],
   "source": [
    "def knap(val,wt,w,n):\n",
    "    t=[[None for _ in range(w+1)]for _ in range(n+1)]\n",
    "    for i in range(n+1):\n",
    "        for j in range(w+1):\n",
    "            if i==0 or j==0:\n",
    "                t[i][j]=0\n",
    "            elif wt[i-1]<=j:\n",
    "                t[i][j]=max(val[i-1]+t[i-1][j-wt[i-1]],t[i-1][j])\n",
    "            else:\n",
    "                t[i][j]=t[i-1][j]\n",
    "#     print(t)\n",
    "    return t[-1][-1]\n",
    "knap([1,4,5,7],[1,3,4,5],7,4)"
   ]
  },
  {
   "cell_type": "code",
   "execution_count": null,
   "metadata": {},
   "outputs": [],
   "source": [
    "# 2.  Subset  Sum problem "
   ]
  },
  {
   "cell_type": "code",
   "execution_count": 4,
   "metadata": {},
   "outputs": [
    {
     "data": {
      "text/plain": [
       "True"
      ]
     },
     "execution_count": 4,
     "metadata": {},
     "output_type": "execute_result"
    }
   ],
   "source": [
    "def ssp(a,s):\n",
    "    \"\"\"a=array,s=sum\"\"\"\n",
    "    n=len(a)\n",
    "    t=[[False for _ in range(s+1)]for _ in range(n+1)]\n",
    "    for i in range(n+1):\n",
    "        for j in range(s+1):\n",
    "            if i==0:\n",
    "                t[i][j]=False\n",
    "            if j==0:\n",
    "                t[i][j]=True\n",
    "    for i in range(1,n+1):\n",
    "        for j in range(1,s+1):\n",
    "            if a[i-1]<=j:\n",
    "                t[i][j]=t[i-1][j-a[i-1]] | t[i-1][j]\n",
    "            if j<a[i-1]:\n",
    "                t[i][j]=t[i-1][j]\n",
    "    return t[n][s]\n",
    "ssp([2,4,8,9],11)"
   ]
  },
  {
   "cell_type": "code",
   "execution_count": 2,
   "metadata": {},
   "outputs": [],
   "source": [
    "# 3. Equal sum partition"
   ]
  },
  {
   "cell_type": "code",
   "execution_count": 6,
   "metadata": {},
   "outputs": [
    {
     "data": {
      "text/plain": [
       "True"
      ]
     },
     "execution_count": 6,
     "metadata": {},
     "output_type": "execute_result"
    }
   ],
   "source": [
    "def esp(a):\n",
    "    \"\"\"\n",
    "    1.Calculate sum of elements of array\n",
    "    2.First Check if sum is even\n",
    "    3.if Odd return False\n",
    "    4.if Even,call subset sum function on array and sum//2\n",
    "    because if one partition is found ,the other is automatically found..\n",
    "    so if it returns True => O/P is True\n",
    "    if false => O/P is False\n",
    "    \"\"\"\n",
    "    s=0 #sum\n",
    "    n=len(a)\n",
    "#     for i in range(len(a)):\n",
    "#         s+=a[i]\n",
    "    s=sum(a)\n",
    "    if s%2!=0:\n",
    "        return False\n",
    "    elif s%2==0:\n",
    "        return ssp1(a,s//2)\n",
    "    \n",
    "def ssp1(a,s):\n",
    "    n=len(a)\n",
    "    t=[[False for _ in range(s+1)]for _ in range(n+1)]\n",
    "    for i in range(n+1):\n",
    "        t[i][0]=True\n",
    "    for i in range(1,s+1):\n",
    "        t[0][i]=False\n",
    "    for i in range(1,n+1):\n",
    "        for j in range(1,s+1):\n",
    "            if a[i-1]<=j:\n",
    "                t[i][j]=t[i-1][j] or t[i-1][j-a[i-1]]\n",
    "            else:\n",
    "                t[i][j]=t[i-1][j]\n",
    "    return t[-1][-1]\n",
    "esp([2,5,13,6])"
   ]
  },
  {
   "cell_type": "code",
   "execution_count": 1,
   "metadata": {},
   "outputs": [],
   "source": [
    "# 4.  Count Subsets Sum with a given sum"
   ]
  },
  {
   "cell_type": "markdown",
   "metadata": {},
   "source": [
    "## The problem is, that initializing the entire column with 1 will work only if the input array has all non-zero elements. \n",
    "\n",
    "As me and a few others have pointed out, the method fails when the input array has any zeros. \n",
    "For eg: n=3, sum=0.\n",
    "We can have a set here as {0,1,2}, so there'll be subsets of {} and {0} possible hence count will be 2. This is true for multiple other input arrays where actually count >1 for sum=0, but we initialized count=1 for all input arrays when sum=0. \n",
    "\n",
    "Here's a small fix I found to the issue:\n",
    "\n",
    "We initialize the first column of the array acc to the formula: 2 ^ (no of zeros in the array at that size).\n",
    "\n",
    "Hence, for eg: arr={0,0,1,0}, sum=0\n",
    "For n=0, value will be 2^0 = 1, i.e {} \n",
    "For n=1, value will be 2^1 = 2, i.e. {} and {0}\n",
    "For n=2, value will be 2^2= 4, i.e. {}, {0}, {0} and {0,0} \n",
    "For n=3, value will be 2^2 = 4, i.e. {}, {0], {0}, and {0,0}\n",
    "For n=4, value will be 2^3 = 8 i.e. {}, .............., {0,0,0}\n",
    "\n",
    "Reason: \n",
    "In the sum of subset problem, we simply needed to return whether or not a set exists for sum=0, which was always True as empty set {} was always existing. Here, we need to return count of subsets for sum=0 (for first column), which will include all possible subsets in the array which add up to 0."
   ]
  },
  {
   "cell_type": "code",
   "execution_count": 3,
   "metadata": {},
   "outputs": [
    {
     "data": {
      "text/plain": [
       "3"
      ]
     },
     "execution_count": 3,
     "metadata": {},
     "output_type": "execute_result"
    }
   ],
   "source": [
    "def find_zeros(a):\n",
    "    return len([x for x in a if x==0])\n",
    "\n",
    "def countss(a,n,s):\n",
    "    t=[[0 for _ in range(s+1)]for _ in range(n+1)]\n",
    "    for i in range(n+1):\n",
    "        for j in range(s+1):\n",
    "            if i==0 or j==0:\n",
    "                if i==0: t[i][j]=0\n",
    "                if j==0: t[i][j]=2**find_zeros(a[:i])\n",
    "            \n",
    "            elif a[i-1]<=j:\n",
    "                t[i][j]=t[i-1][j]+t[i-1][j-a[i-1]]\n",
    "            else:\n",
    "                t[i][j]=t[i-1][j]\n",
    "    return t[-1][-1]\n",
    "countss([2,3,5,6,8,10],6,10)"
   ]
  },
  {
   "cell_type": "code",
   "execution_count": 1,
   "metadata": {},
   "outputs": [],
   "source": [
    "# 5. Count Subsets Sum with a given difference"
   ]
  },
  {
   "cell_type": "code",
   "execution_count": 11,
   "metadata": {},
   "outputs": [
    {
     "data": {
      "text/plain": [
       "3"
      ]
     },
     "execution_count": 11,
     "metadata": {},
     "output_type": "execute_result"
    }
   ],
   "source": [
    "def findzeros(a):\n",
    "    return len([x for x in a if x==0])\n",
    "\n",
    "def count_subset_sum(a,n,s):\n",
    "    t=[[0 for _ in range(s+1)]for _ in range(n+1)]\n",
    "    for i in range(n+1):\n",
    "        for j in range(s+1):\n",
    "            if i==0 or j==0:\n",
    "                if i==0: t[i][j]=0\n",
    "                if j==0: t[i][j]=2**findzeros(a[:i])\n",
    "            elif a[i-1]<=j:\n",
    "                t[i][j]=t[i-1][j]+t[i-1][j-a[i-1]]\n",
    "            else:\n",
    "                t[i][j]=t[i-1][j]\n",
    "    return t[-1][-1]\n",
    "\n",
    "def cssd(a,d):\n",
    "    s=(sum(a)+d)//2\n",
    "    n=len(a)\n",
    "    return count_subset_sum(a,n,s)\n",
    "cssd([1,1,2,3],1)"
   ]
  },
  {
   "cell_type": "code",
   "execution_count": 24,
   "metadata": {},
   "outputs": [],
   "source": [
    "# 6. Rod Cutting Problem \n",
    "# soln 1"
   ]
  },
  {
   "cell_type": "code",
   "execution_count": 33,
   "metadata": {},
   "outputs": [
    {
     "data": {
      "text/plain": [
       "24"
      ]
     },
     "execution_count": 33,
     "metadata": {},
     "output_type": "execute_result"
    }
   ],
   "source": [
    "def rc(l,p):\n",
    "    N=len(l)\n",
    "    t=[[0 for _ in range(N+1)]for _ in range(N+1)]\n",
    "    for i in range(N+1):\n",
    "        for j in range(N+1):\n",
    "            if i==0 or j==0:\n",
    "                t[i][j]=0\n",
    "            elif l[i-1]<=j:\n",
    "                t[i][j]=max(p[i-1]+t[i][j-l[i-1]],t[i-1][j])\n",
    "            else:\n",
    "                t[i][j]=t[i-1][j]\n",
    "    return t[-1][-1]\n",
    "l=[1,2,3,4,5,6,7,8]\n",
    "# p=[1,5,8,9,10,17,17,20]\n",
    "p=[3,5,8,9,10,17,17,20]\n",
    "rc(l,p)    "
   ]
  },
  {
   "cell_type": "code",
   "execution_count": 23,
   "metadata": {},
   "outputs": [],
   "source": [
    "#Soln 2"
   ]
  },
  {
   "cell_type": "code",
   "execution_count": 25,
   "metadata": {},
   "outputs": [
    {
     "data": {
      "text/plain": [
       "24"
      ]
     },
     "execution_count": 25,
     "metadata": {},
     "output_type": "execute_result"
    }
   ],
   "source": [
    "mini=-32767\n",
    "def rod(p,n):\n",
    "    val=[0 for _ in range(n+1)]\n",
    "    for i in range(1,n+1):\n",
    "        max_val=mini\n",
    "        for j in range(i):\n",
    "            max_val=max(max_val,p[j]+val[i-j-1])\n",
    "#             print('i and j ',(i,j))\n",
    "#             print('val[i-j-1] ',val[i-j-1])\n",
    "#             print('max_val is',max_val)\n",
    "        val[i]=max_val\n",
    "#         print('val is ',val)\n",
    "    return val[n]\n",
    "p=[3,5,8,9,10,17,17,20]\n",
    "n=len(p)\n",
    "rod(p,n)"
   ]
  },
  {
   "cell_type": "code",
   "execution_count": 26,
   "metadata": {},
   "outputs": [],
   "source": [
    "# 7. Num of ways of making changes"
   ]
  },
  {
   "cell_type": "code",
   "execution_count": 40,
   "metadata": {},
   "outputs": [
    {
     "data": {
      "text/plain": [
       "2"
      ]
     },
     "execution_count": 40,
     "metadata": {},
     "output_type": "execute_result"
    }
   ],
   "source": [
    "def nwmc(a,s):\n",
    "    n=len(a)\n",
    "    t=[[0 for _ in range(s+1)]for _ in range(n+1)]\n",
    "    for i in range(n+1):\n",
    "        for j in range(s+1):\n",
    "            if i==0 or j==0:\n",
    "                if i==0: t[i][j]=0\n",
    "                if j==0: t[i][j]=1\n",
    "            elif a[i-1]<=j:\n",
    "                t[i][j]=t[i-1][j]+t[i][j-a[i-1]]\n",
    "            else:\n",
    "                t[i][j]=t[i-1][j]\n",
    "#     print(t)\n",
    "    return t[-1][-1]\n",
    "    \n",
    "a=[5,10,25]\n",
    "s=10\n",
    "nwmc(a,s)"
   ]
  },
  {
   "cell_type": "code",
   "execution_count": 41,
   "metadata": {},
   "outputs": [],
   "source": [
    "# 8. Min num of coins"
   ]
  },
  {
   "cell_type": "code",
   "execution_count": 48,
   "metadata": {},
   "outputs": [
    {
     "name": "stdout",
     "output_type": "stream",
     "text": [
      "[[0, inf, inf, inf, inf, inf, inf, inf, inf, inf, inf], [0, 1, 2, 3, 4, 5, 6, 7, 8, 9, 10], [0, 1, 1, 2, 2, 3, 3, 4, 4, 5, 5], [0, 1, 1, 1, 2, 2, 2, 3, 3, 3, 4], [0, 1, 1, 1, 2, 1, 2, 2, 2, 3, 2]]\n"
     ]
    },
    {
     "data": {
      "text/plain": [
       "2"
      ]
     },
     "execution_count": 48,
     "metadata": {},
     "output_type": "execute_result"
    }
   ],
   "source": [
    "def mnc(a,s):\n",
    "    n=len(a)\n",
    "    t=[[0 for _ in range(s+1)]for _ in range(n+1)]\n",
    "    for i in range(n+1):\n",
    "        for j in range(s+1):\n",
    "            if j==0 or i==0:\n",
    "                if i==0: t[i][j]=float('inf')\n",
    "                if j==0: t[i][j]=0\n",
    "            elif a[i-1]<=j:\n",
    "                t[i][j]=min(t[i-1][j],1+t[i][j-a[i-1]])\n",
    "            else:\n",
    "                t[i][j]=t[i-1][j]\n",
    "    print(t)\n",
    "    return t[-1][-1]\n",
    "a=[1,2,3,5]\n",
    "s=10\n",
    "mnc(a,s)"
   ]
  },
  {
   "cell_type": "code",
   "execution_count": 24,
   "metadata": {},
   "outputs": [],
   "source": [
    "# 9. Longest Common Subsequence"
   ]
  },
  {
   "cell_type": "code",
   "execution_count": 2,
   "metadata": {
    "collapsed": true
   },
   "outputs": [
    {
     "name": "stdout",
     "output_type": "stream",
     "text": [
      "1  [[-1, -1, -1, -1, -1, -1, -1], [-1, -1, -1, -1, -1, -1, -1], [-1, -1, -1, -1, -1, -1, -1], [-1, -1, -1, -1, -1, -1, -1], [-1, -1, -1, -1, -1, -1, -1], [-1, -1, -1, -1, -1, -1, -1], [-1, -1, -1, -1, -1, -1, -1]]\n",
      "3  [[-1, -1, -1, -1, -1, -1, -1], [-1, -1, -1, -1, -1, -1, -1], [-1, -1, -1, -1, -1, -1, -1], [-1, -1, -1, -1, -1, -1, -1], [-1, -1, -1, -1, -1, -1, -1], [-1, -1, -1, -1, -1, -1, -1], [-1, -1, -1, -1, -1, -1, -1]]\n"
     ]
    },
    {
     "ename": "NameError",
     "evalue": "name 'lcs' is not defined",
     "output_type": "error",
     "traceback": [
      "\u001b[1;31m---------------------------------------------------------------------------\u001b[0m",
      "\u001b[1;31mNameError\u001b[0m                                 Traceback (most recent call last)",
      "\u001b[1;32m<ipython-input-2-caea3130f410>\u001b[0m in \u001b[0;36m<module>\u001b[1;34m\u001b[0m\n\u001b[0;32m     17\u001b[0m         \u001b[0mprint\u001b[0m\u001b[1;33m(\u001b[0m\u001b[1;34m'3 '\u001b[0m\u001b[1;33m,\u001b[0m\u001b[0mt\u001b[0m\u001b[1;33m)\u001b[0m\u001b[1;33m\u001b[0m\u001b[1;33m\u001b[0m\u001b[0m\n\u001b[0;32m     18\u001b[0m         \u001b[0mt\u001b[0m\u001b[1;33m[\u001b[0m\u001b[0mm\u001b[0m\u001b[1;33m]\u001b[0m\u001b[1;33m[\u001b[0m\u001b[0mn\u001b[0m\u001b[1;33m]\u001b[0m \u001b[1;33m=\u001b[0m \u001b[0mmax\u001b[0m\u001b[1;33m(\u001b[0m\u001b[0mlcs\u001b[0m\u001b[1;33m(\u001b[0m\u001b[0mx\u001b[0m\u001b[1;33m,\u001b[0m\u001b[0my\u001b[0m\u001b[1;33m,\u001b[0m\u001b[0mm\u001b[0m\u001b[1;33m-\u001b[0m\u001b[1;36m1\u001b[0m\u001b[1;33m,\u001b[0m\u001b[0mn\u001b[0m\u001b[1;33m,\u001b[0m\u001b[0mt\u001b[0m\u001b[1;33m)\u001b[0m\u001b[1;33m,\u001b[0m\u001b[0mlcs\u001b[0m\u001b[1;33m(\u001b[0m\u001b[0mx\u001b[0m\u001b[1;33m,\u001b[0m\u001b[0my\u001b[0m\u001b[1;33m,\u001b[0m\u001b[0mm\u001b[0m\u001b[1;33m,\u001b[0m\u001b[0mn\u001b[0m\u001b[1;33m-\u001b[0m\u001b[1;36m1\u001b[0m\u001b[1;33m,\u001b[0m\u001b[0mt\u001b[0m\u001b[1;33m)\u001b[0m\u001b[1;33m)\u001b[0m\u001b[1;33m\u001b[0m\u001b[1;33m\u001b[0m\u001b[0m\n\u001b[1;32m---> 19\u001b[1;33m \u001b[0mlcs1\u001b[0m\u001b[1;33m(\u001b[0m\u001b[0mx\u001b[0m\u001b[1;33m,\u001b[0m\u001b[0my\u001b[0m\u001b[1;33m,\u001b[0m\u001b[0mm\u001b[0m\u001b[1;33m,\u001b[0m\u001b[0mn\u001b[0m\u001b[1;33m,\u001b[0m\u001b[0mt\u001b[0m\u001b[1;33m)\u001b[0m\u001b[1;33m\u001b[0m\u001b[1;33m\u001b[0m\u001b[0m\n\u001b[0m",
      "\u001b[1;32m<ipython-input-2-caea3130f410>\u001b[0m in \u001b[0;36mlcs1\u001b[1;34m(x, y, m, n, t)\u001b[0m\n\u001b[0;32m     16\u001b[0m     \u001b[1;32melse\u001b[0m\u001b[1;33m:\u001b[0m\u001b[1;33m\u001b[0m\u001b[1;33m\u001b[0m\u001b[0m\n\u001b[0;32m     17\u001b[0m         \u001b[0mprint\u001b[0m\u001b[1;33m(\u001b[0m\u001b[1;34m'3 '\u001b[0m\u001b[1;33m,\u001b[0m\u001b[0mt\u001b[0m\u001b[1;33m)\u001b[0m\u001b[1;33m\u001b[0m\u001b[1;33m\u001b[0m\u001b[0m\n\u001b[1;32m---> 18\u001b[1;33m         \u001b[0mt\u001b[0m\u001b[1;33m[\u001b[0m\u001b[0mm\u001b[0m\u001b[1;33m]\u001b[0m\u001b[1;33m[\u001b[0m\u001b[0mn\u001b[0m\u001b[1;33m]\u001b[0m \u001b[1;33m=\u001b[0m \u001b[0mmax\u001b[0m\u001b[1;33m(\u001b[0m\u001b[0mlcs\u001b[0m\u001b[1;33m(\u001b[0m\u001b[0mx\u001b[0m\u001b[1;33m,\u001b[0m\u001b[0my\u001b[0m\u001b[1;33m,\u001b[0m\u001b[0mm\u001b[0m\u001b[1;33m-\u001b[0m\u001b[1;36m1\u001b[0m\u001b[1;33m,\u001b[0m\u001b[0mn\u001b[0m\u001b[1;33m,\u001b[0m\u001b[0mt\u001b[0m\u001b[1;33m)\u001b[0m\u001b[1;33m,\u001b[0m\u001b[0mlcs\u001b[0m\u001b[1;33m(\u001b[0m\u001b[0mx\u001b[0m\u001b[1;33m,\u001b[0m\u001b[0my\u001b[0m\u001b[1;33m,\u001b[0m\u001b[0mm\u001b[0m\u001b[1;33m,\u001b[0m\u001b[0mn\u001b[0m\u001b[1;33m-\u001b[0m\u001b[1;36m1\u001b[0m\u001b[1;33m,\u001b[0m\u001b[0mt\u001b[0m\u001b[1;33m)\u001b[0m\u001b[1;33m)\u001b[0m\u001b[1;33m\u001b[0m\u001b[1;33m\u001b[0m\u001b[0m\n\u001b[0m\u001b[0;32m     19\u001b[0m \u001b[0mlcs1\u001b[0m\u001b[1;33m(\u001b[0m\u001b[0mx\u001b[0m\u001b[1;33m,\u001b[0m\u001b[0my\u001b[0m\u001b[1;33m,\u001b[0m\u001b[0mm\u001b[0m\u001b[1;33m,\u001b[0m\u001b[0mn\u001b[0m\u001b[1;33m,\u001b[0m\u001b[0mt\u001b[0m\u001b[1;33m)\u001b[0m\u001b[1;33m\u001b[0m\u001b[1;33m\u001b[0m\u001b[0m\n",
      "\u001b[1;31mNameError\u001b[0m: name 'lcs' is not defined"
     ]
    }
   ],
   "source": [
    "\"\"\"Errorrrrrrrrrr\"\"\"\n",
    "# global t\n",
    "x='abcdgh'\n",
    "y='abedhr'\n",
    "m=len(x)\n",
    "n=len(y)\n",
    "t=[[-1 for _ in range(m+1)]for _ in range(n+1)]\n",
    "def lcs1(x,y,m,n,t):\n",
    "    if n==0 or m==0:\n",
    "        return 0\n",
    "    print('1 ',t)\n",
    "    if t[m][n]!=-1:\n",
    "        return t[m][n]\n",
    "    if  x[m-1]==y[n-1]:\n",
    "        print('2 ',t)\n",
    "        t[m][n]=1+lcs(x,y,m-1,n-1,t)\n",
    "    else:\n",
    "        print('3 ',t)\n",
    "        t[m][n] = max(lcs(x,y,m-1,n,t),lcs(x,y,m,n-1,t))\n",
    "lcs1(x,y,m,n,t)"
   ]
  },
  {
   "cell_type": "code",
   "execution_count": 2,
   "metadata": {},
   "outputs": [
    {
     "data": {
      "text/plain": [
       "2"
      ]
     },
     "execution_count": 2,
     "metadata": {},
     "output_type": "execute_result"
    }
   ],
   "source": [
    "def lcs(x,y,m,n):\n",
    "    t=[[-1 for _ in range(n+1)]for j in range(m+1)]\n",
    "    for i in range(n+1):\n",
    "        t[0][i]=0\n",
    "    for i in range(m+1):\n",
    "        t[i][0]=0\n",
    "    for i in range(1,m+1):\n",
    "        for j in range(1,n+1):\n",
    "            if x[i-1]==y[j-1]:\n",
    "                t[i][j]=1+t[i-1][j-1]\n",
    "            else:\n",
    "                t[i][j]=max(t[i-1][j],t[i][j-1])\n",
    "    return t[-1][-1]\n",
    "lcs('heap','ea',4,2)"
   ]
  },
  {
   "cell_type": "code",
   "execution_count": 25,
   "metadata": {},
   "outputs": [],
   "source": [
    "# 10. Longest Common Substring"
   ]
  },
  {
   "cell_type": "code",
   "execution_count": 1,
   "metadata": {},
   "outputs": [
    {
     "data": {
      "text/plain": [
       "2"
      ]
     },
     "execution_count": 1,
     "metadata": {},
     "output_type": "execute_result"
    }
   ],
   "source": [
    "def lcsubstr(x,y,m,n):\n",
    "    t=[[-1 for _ in range(n+1)]for j in range(m+1)]\n",
    "    for i in range(n+1):\n",
    "        t[0][i]=0\n",
    "    for i in range(m+1):\n",
    "        t[i][0]=0\n",
    "    maxi=float('-inf')\n",
    "    for i in range(1,m+1):\n",
    "        for j in range(1,n+1):\n",
    "            if x[i-1]==y[j-1]:\n",
    "                t[i][j]=1+t[i-1][j-1]\n",
    "                if t[i][j]>maxi:\n",
    "                    maxi=t[i][j]\n",
    "            else:\n",
    "                t[i][j]=0\n",
    "    return maxi\n",
    "lcsubstr('abbcd','abc',4,3)"
   ]
  },
  {
   "cell_type": "code",
   "execution_count": 39,
   "metadata": {},
   "outputs": [],
   "source": [
    "# 11. Print LCS"
   ]
  },
  {
   "cell_type": "code",
   "execution_count": 40,
   "metadata": {},
   "outputs": [
    {
     "data": {
      "text/plain": [
       "'abcf'"
      ]
     },
     "execution_count": 40,
     "metadata": {},
     "output_type": "execute_result"
    }
   ],
   "source": [
    "def print_Lcs(x,y,m,n):\n",
    "    s=''\n",
    "    t=[[0 for _ in range(n+1)]for j in range(m+1)]\n",
    "    for i in range(n+1):\n",
    "        t[0][i]=0\n",
    "    for i in range(m+1):\n",
    "        t[i][0]=0\n",
    "    for i in range(1,m+1):\n",
    "        for j in range(1,n+1):\n",
    "            if x[i-1]==y[j-1]:\n",
    "                t[i][j]=1+t[i-1][j-1]\n",
    "            else:\n",
    "                t[i][j]=max(t[i-1][j],t[i][j-1])\n",
    "    i=m\n",
    "    j=n\n",
    "    while i>0 and j>0:\n",
    "        if x[i-1]==y[j-1]:\n",
    "            s+=x[i-1]\n",
    "            i-=1\n",
    "            j-=1\n",
    "        else:\n",
    "            if t[i][j-1]>t[i-1][j]: \n",
    "                j-=1\n",
    "            else:\n",
    "                i-=1\n",
    "            \n",
    "        \n",
    "    return s[::-1]\n",
    "                \n",
    "    \n",
    "print_Lcs('acbcf','abcdaf',5,6)"
   ]
  },
  {
   "cell_type": "code",
   "execution_count": 2,
   "metadata": {},
   "outputs": [],
   "source": [
    "# 12. Shortest Common Supersequence"
   ]
  },
  {
   "cell_type": "code",
   "execution_count": 3,
   "metadata": {},
   "outputs": [
    {
     "data": {
      "text/plain": [
       "5"
      ]
     },
     "execution_count": 3,
     "metadata": {},
     "output_type": "execute_result"
    }
   ],
   "source": [
    "def scss(x,y):\n",
    "    m=len(x)\n",
    "    n=len(y)\n",
    "    return m+n-lcs(x,y,m,n)\n",
    "# x='AGGTAB'\n",
    "# y='GXTXAYB'\n",
    "x='geek'\n",
    "y='eke'\n",
    "scss(x,y)"
   ]
  },
  {
   "cell_type": "code",
   "execution_count": 1,
   "metadata": {},
   "outputs": [],
   "source": [
    "# 13. min number of insertion and deletion to convert "
   ]
  },
  {
   "cell_type": "code",
   "execution_count": 10,
   "metadata": {},
   "outputs": [
    {
     "data": {
      "text/plain": [
       "3"
      ]
     },
     "execution_count": 10,
     "metadata": {},
     "output_type": "execute_result"
    }
   ],
   "source": [
    "def lcs(a,b,m,n):\n",
    "    t=[[0 for _ in range(n+1)]for _ in range(m+1)]\n",
    "    for i in range(1,m+1):\n",
    "        for j in range(1,n+1):\n",
    "            if a[i-1]==b[j-1]:\n",
    "                t[i][j]=1+t[i-1][j-1]\n",
    "            else:\n",
    "                t[i][j]=max(t[i-1][j],t[i][j-1])\n",
    "    return t[-1][-1]\n",
    "def min_ins_del(a,b):\n",
    "    m=len(a)\n",
    "    n=len(b)\n",
    "    l=lcs(a,b,m,n)\n",
    "    ins=n-l\n",
    "    dele=m-l\n",
    "    return ins+dele\n",
    "a='heap'\n",
    "b='pea'\n",
    "min_ins_del(a,b)"
   ]
  },
  {
   "cell_type": "code",
   "execution_count": 14,
   "metadata": {},
   "outputs": [],
   "source": [
    "# 14. Longest Palindromic Subsequence"
   ]
  },
  {
   "cell_type": "code",
   "execution_count": 16,
   "metadata": {},
   "outputs": [
    {
     "data": {
      "text/plain": [
       "5"
      ]
     },
     "execution_count": 16,
     "metadata": {},
     "output_type": "execute_result"
    }
   ],
   "source": [
    "def lps(a):\n",
    "    \"\"\"b=rev(a) and then find LCS on a and b\"\"\"\n",
    "    b=a[::-1]\n",
    "    m=len(a)\n",
    "    t=[[0 for _ in range(m+1)]for _ in range(m+1)]\n",
    "    for i in range(1,m+1):\n",
    "        for j in range(1,m+1):\n",
    "            if a[i-1]==b[j-1]:\n",
    "                t[i][j]=1+t[i-1][j-1]\n",
    "            else:\n",
    "                t[i][j]=max(t[i-1][j],t[i][j-1])\n",
    "    return t[-1][-1]\n",
    "a='agbcba'\n",
    "lps(a)"
   ]
  },
  {
   "cell_type": "code",
   "execution_count": 19,
   "metadata": {},
   "outputs": [],
   "source": [
    "# 15. Minimum number of deletions to make string palindrome"
   ]
  },
  {
   "cell_type": "code",
   "execution_count": 21,
   "metadata": {},
   "outputs": [
    {
     "data": {
      "text/plain": [
       "1"
      ]
     },
     "execution_count": 21,
     "metadata": {},
     "output_type": "execute_result"
    }
   ],
   "source": [
    "def lps(a):\n",
    "    \"\"\"b=rev(a) and then find LCS on a and b\"\"\"\n",
    "    b=a[::-1]\n",
    "    m=len(a)\n",
    "    t=[[0 for _ in range(m+1)]for _ in range(m+1)]\n",
    "    for i in range(1,m+1):\n",
    "        for j in range(1,m+1):\n",
    "            if a[i-1]==b[j-1]:\n",
    "                t[i][j]=1+t[i-1][j-1]\n",
    "            else:\n",
    "                t[i][j]=max(t[i-1][j],t[i][j-1])\n",
    "    return t[-1][-1]\n",
    "def mlps(a):\n",
    "    n=len(a)\n",
    "    return n-lps(a)\n",
    "a='agbcba'\n",
    "mlps(a)"
   ]
  },
  {
   "cell_type": "code",
   "execution_count": 1,
   "metadata": {},
   "outputs": [],
   "source": [
    "# 16. print shortest common supersequence"
   ]
  },
  {
   "cell_type": "code",
   "execution_count": 5,
   "metadata": {},
   "outputs": [
    {
     "data": {
      "text/plain": [
       "'acbcdaf'"
      ]
     },
     "execution_count": 5,
     "metadata": {},
     "output_type": "execute_result"
    }
   ],
   "source": [
    "def plcs(x,y,m,n):\n",
    "    s=''\n",
    "    t=[[-1 for _ in range(n+1)]for j in range(m+1)]\n",
    "    for i in range(n+1):\n",
    "        t[0][i]=0\n",
    "    for i in range(m+1):\n",
    "        t[i][0]=0\n",
    "    for i in range(1,m+1):\n",
    "        for j in range(1,n+1):\n",
    "            if x[i-1]==y[j-1]:\n",
    "                t[i][j]=1+t[i-1][j-1]\n",
    "            else:\n",
    "                t[i][j]=max(t[i-1][j],t[i][j-1])\n",
    "    \n",
    "    i=m\n",
    "    j=n\n",
    "    while i>0 and j>0:\n",
    "        if x[i-1]==y[j-1]:\n",
    "            s+=x[i-1]\n",
    "            i-=1\n",
    "            j-=1\n",
    "        else:\n",
    "            if t[i][j-1]>t[i-1][j]:\n",
    "                s+=y[j-1]\n",
    "                j-=1\n",
    "            else:\n",
    "                s+=x[i-1]\n",
    "                i-=1\n",
    "    while i>0:\n",
    "        s+=x[i-1]\n",
    "        i-=1\n",
    "    while j>0:\n",
    "        s+=y[j-1]\n",
    "        j-=1\n",
    "    \n",
    "    return s[::-1]\n",
    "x='abcdaf'\n",
    "y='acbcf'\n",
    "m=len(x)\n",
    "n=len(y)\n",
    "plcs(x,y,m,n)"
   ]
  },
  {
   "cell_type": "code",
   "execution_count": 3,
   "metadata": {},
   "outputs": [],
   "source": [
    "# 17. Longest Repeating Subsequence ..........Doubt"
   ]
  },
  {
   "cell_type": "code",
   "execution_count": 3,
   "metadata": {},
   "outputs": [
    {
     "data": {
      "text/plain": [
       "2"
      ]
     },
     "execution_count": 3,
     "metadata": {},
     "output_type": "execute_result"
    }
   ],
   "source": [
    "def lrs(x):\n",
    "    y=x\n",
    "    m=len(x)\n",
    "    n=len(y)\n",
    "    t=[[-1 for _ in range(n+1)]for j in range(m+1)]\n",
    "    for i in range(n+1):\n",
    "        t[0][i]=0\n",
    "    for i in range(m+1):\n",
    "        t[i][0]=0\n",
    "    for i in range(1,m+1):\n",
    "        for j in range(1,n+1):\n",
    "            if x[i-1]==y[j-1] and i!=j:\n",
    "                t[i][j]=1+t[i-1][j-1]\n",
    "            else:\n",
    "                t[i][j]=max(t[i-1][j],t[i][j-1])\n",
    "    return t[-1][-1]\n",
    "# x='aabebcdd'\n",
    "x='axxxy'\n",
    "lrs(x)"
   ]
  },
  {
   "cell_type": "code",
   "execution_count": 4,
   "metadata": {},
   "outputs": [],
   "source": [
    "# 18.Sequence Pattern Matching"
   ]
  },
  {
   "cell_type": "code",
   "execution_count": 10,
   "metadata": {},
   "outputs": [
    {
     "data": {
      "text/plain": [
       "True"
      ]
     },
     "execution_count": 10,
     "metadata": {},
     "output_type": "execute_result"
    }
   ],
   "source": [
    "def spm(a,b):\n",
    "    m=len(a)\n",
    "    n=len(b)\n",
    "    t=[[0 for _ in range(n+1)]for _ in range(m+1)]\n",
    "    for i in range(1,m+1):\n",
    "        for j in range(1,n+1):\n",
    "            if a[i-1]==b[j-1]:\n",
    "                t[i][j]=1+t[i-1][j-1]\n",
    "            else:\n",
    "                t[i][j]=max(t[i-1][j],t[i][j-1])\n",
    "    if t[-1][-1]==len(a):\n",
    "        return True\n",
    "    else:\n",
    "        return False\n",
    "a='axy'\n",
    "b='adxcpy'\n",
    "spm(a,b)"
   ]
  },
  {
   "cell_type": "code",
   "execution_count": 11,
   "metadata": {},
   "outputs": [],
   "source": [
    "# 19. "
   ]
  },
  {
   "cell_type": "code",
   "execution_count": null,
   "metadata": {},
   "outputs": [],
   "source": []
  }
 ],
 "metadata": {
  "kernelspec": {
   "display_name": "Python 3",
   "language": "python",
   "name": "python3"
  },
  "language_info": {
   "codemirror_mode": {
    "name": "ipython",
    "version": 3
   },
   "file_extension": ".py",
   "mimetype": "text/x-python",
   "name": "python",
   "nbconvert_exporter": "python",
   "pygments_lexer": "ipython3",
   "version": "3.7.6"
  }
 },
 "nbformat": 4,
 "nbformat_minor": 4
}
